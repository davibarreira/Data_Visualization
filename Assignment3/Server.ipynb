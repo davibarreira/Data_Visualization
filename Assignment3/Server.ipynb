{
 "cells": [
  {
   "cell_type": "code",
   "execution_count": 19,
   "id": "060e3f70-a0b1-4bb7-8b5f-d91b7b0160d7",
   "metadata": {},
   "outputs": [],
   "source": [
    "%config Completer.use_jedi = False"
   ]
  },
  {
   "cell_type": "code",
   "execution_count": 20,
   "id": "96a43529-1be2-4830-84d7-9933deefe6ad",
   "metadata": {},
   "outputs": [],
   "source": [
    "import os\n",
    "import flask\n",
    "import numpy as np\n",
    "import time\n",
    "from PIL import Image\n",
    "from scipy.linalg import sqrtm\n",
    "\n",
    "from tqdm import tqdm\n",
    "\n",
    "import torch\n",
    "\n",
    "from sklearn.cluster import KMeans\n",
    "\n",
    "from flask import Flask\n",
    "from flask_cors import CORS\n",
    "import math\n",
    "\n",
    "from matplotlib import pyplot as plt\n",
    "\n",
    "import umap"
   ]
  },
  {
   "cell_type": "code",
   "execution_count": 21,
   "id": "31efc2e7-dcc8-4229-814e-d5b21ae2c51a",
   "metadata": {},
   "outputs": [],
   "source": [
    "# create Flask app\n",
    "app = Flask(__name__)\n",
    "app.config['SEND_FILE_MAX_AGE_DEFAULT'] = 0\n",
    "CORS(app)\n",
    "\n",
    "# TODO load all of the data generated from preprocessing\n",
    "qt = torch.load('./static/qt.pt')\n",
    "tensor2_3 = torch.load('./static/tensor2_3.pt')\n",
    "tensor2_3 = torch.nan_to_num(tensor2_3,nan=0.0) # Ajustando casos nan\n",
    "\n",
    "tensor3_4 = torch.load('./static/tensor3_4.pt')\n",
    "tensor3_4 = torch.nan_to_num(tensor3_4,nan=0.0) #  Ajustando casos nan\n",
    "\n",
    "s23 = tensor2_3.sum(dim=0)\n",
    "s34 = tensor3_4.sum(dim=0)\n",
    "\n",
    "images = []\n",
    "for i in range(0,20):\n",
    "    images.append(Image.open('./static/image'+str(i)+'.jpeg'))\n",
    "\n",
    "# number of clusters - feel free to adjust\n",
    "n_clusters = 9\n",
    "\n",
    "# these variables will contain the clustering of channels for the different layers\n",
    "a2_clustering,a3_clustering,a4_clustering = None,None,None"
   ]
  },
  {
   "cell_type": "code",
   "execution_count": 121,
   "id": "8dca3087-2eea-4710-8de6-0cce80abe512",
   "metadata": {},
   "outputs": [],
   "source": [
    "def correlations_activation(clustering1,clustering2, n_clusters):\n",
    "    corr = []\n",
    "    n      = 0\n",
    "    for i in range(0,n_clusters):\n",
    "        for h in list(itertools.combinations(range(n_clusters),2)):\n",
    "            c1_index = np.where(clustering1==h[0])[0]\n",
    "            c2_index = np.where(clustering2==h[1])[0]\n",
    "            corr.append(0)\n",
    "            Z = n_clusters * sum(clustering1==h[0]) * sum(clustering2==h[1])\n",
    "            for j in c1_index:\n",
    "                for k in c2_index:\n",
    "                    corr[n] += tensor2_3[i,j,k]\n",
    "            corr[n] = corr[n]/Z\n",
    "            n+=1\n",
    "    return corr"
   ]
  },
  {
   "cell_type": "code",
   "execution_count": null,
   "id": "784c1f03-6c26-4020-ae8b-150a2f579741",
   "metadata": {},
   "outputs": [],
   "source": [
    "clust_corr_23 = correlations_activation(a2_clustering,a3_clustering,n_clusters)"
   ]
  },
  {
   "cell_type": "code",
   "execution_count": null,
   "id": "ab853641-6bad-4719-8e29-33d9a66a3795",
   "metadata": {},
   "outputs": [],
   "source": []
  },
  {
   "cell_type": "code",
   "execution_count": 117,
   "id": "d81444af-56a5-42fc-a5f0-75b6990ad31d",
   "metadata": {},
   "outputs": [],
   "source": [
    "corr23 = []\n",
    "corr34 = []\n",
    "n      = 0\n",
    "for i in range(0,n_clusters):\n",
    "    for h in list(itertools.combinations(range(n_clusters),2)):\n",
    "        a2_index = np.where(a2_clustering==h[0])[0]\n",
    "        a3_index = np.where(a3_clustering==h[1])[0]\n",
    "        corr23.append(0)\n",
    "        Z = n_clusters * sum(a2_clustering==h[0]) * sum(a3_clustering==h[1])\n",
    "        for j in a2_index:\n",
    "            for k in a3_index:\n",
    "                corr23[n] += tensor2_3[i,j,k]\n",
    "        corr23[n] = corr23[n]/Z\n",
    "        n+=1\n",
    "        \n",
    "n      = 0\n",
    "for i in range(0,n_clusters):\n",
    "    for h in list(itertools.combinations(range(n_clusters),2)):\n",
    "        a3_index = np.where(a3_clustering==h[0])[0]\n",
    "        a4_index = np.where(a4_clustering==h[1])[0]\n",
    "        corr34.append(0)\n",
    "        Z = n_clusters * sum(a3_clustering==h[0]) * sum(a4_clustering==h[1])\n",
    "        for j in a3_index:\n",
    "            for k in a4_index:\n",
    "                corr34[n] += tensor3_4[i,j,k]\n",
    "        corr34[n] = corr34[n]/Z\n",
    "        n+=1"
   ]
  },
  {
   "cell_type": "code",
   "execution_count": 120,
   "id": "213d46da-218c-4589-b45c-0a66902c211e",
   "metadata": {},
   "outputs": [
    {
     "data": {
      "text/plain": [
       "324"
      ]
     },
     "execution_count": 120,
     "metadata": {},
     "output_type": "execute_result"
    }
   ],
   "source": [
    "len(corr23)"
   ]
  },
  {
   "cell_type": "code",
   "execution_count": 115,
   "id": "3340f09a-1ce3-4943-aa73-78912ba31b2a",
   "metadata": {},
   "outputs": [
    {
     "data": {
      "text/plain": [
       "array([  0,   5,  16,  17,  80,  89,  97, 110, 116, 133, 135, 138, 142,\n",
       "       144, 148, 163, 169, 174, 190, 195, 210, 216, 225, 229, 242, 246,\n",
       "       250, 254, 258, 265, 298, 299, 305, 309, 312, 313, 318, 325, 330,\n",
       "       348, 354, 358, 365, 366, 369, 378, 384, 391, 413, 424, 426, 427,\n",
       "       428, 429, 432, 437, 440, 442, 445, 446, 451, 458, 459, 463, 464,\n",
       "       468, 474, 476, 483, 486, 487, 490, 499, 502, 510])"
      ]
     },
     "execution_count": 115,
     "metadata": {},
     "output_type": "execute_result"
    }
   ],
   "source": []
  },
  {
   "cell_type": "code",
   "execution_count": 64,
   "id": "33216084-e5e1-46ed-a7fd-be6aa2517509",
   "metadata": {},
   "outputs": [],
   "source": [
    "Z = n_clusters * sum(a2_clustering==1) * sum(a3_clustering==1)"
   ]
  },
  {
   "cell_type": "code",
   "execution_count": 78,
   "id": "1a6afec1-9400-4225-b72c-cbec872fcaab",
   "metadata": {},
   "outputs": [],
   "source": [
    "corr23 = []\n",
    "corr23.append([])"
   ]
  },
  {
   "cell_type": "code",
   "execution_count": 80,
   "id": "64010e91-0025-4e07-8701-bd5e0e1c4bfd",
   "metadata": {},
   "outputs": [
    {
     "data": {
      "text/plain": [
       "[]"
      ]
     },
     "execution_count": 80,
     "metadata": {},
     "output_type": "execute_result"
    }
   ],
   "source": [
    "corr23[0]"
   ]
  },
  {
   "cell_type": "code",
   "execution_count": 52,
   "id": "7341f94e-f9f7-49f4-a71a-d3c137299699",
   "metadata": {},
   "outputs": [],
   "source": [
    "# tensor2_3[0,a2_clustering == 1,a3_clustering==1]\n",
    "for \n",
    "# tensor2_3[0,a2_index,a3_index]"
   ]
  },
  {
   "cell_type": "code",
   "execution_count": 22,
   "id": "703d2418-5030-4910-ac67-33b642038295",
   "metadata": {},
   "outputs": [],
   "source": [
    "a2_clustering,a3_clustering,a4_clustering = multiway_spectral_clustering(s23,s34,n_clusters)"
   ]
  },
  {
   "cell_type": "code",
   "execution_count": 14,
   "id": "f629dedb-2788-41ec-8026-8306cb353198",
   "metadata": {},
   "outputs": [
    {
     "data": {
      "text/plain": [
       "array([0, 7, 3, 6, 3, 0, 0, 4, 4, 5, 6, 1, 7, 7, 0, 0, 3, 2, 0, 0, 0, 4,\n",
       "       3, 0, 0, 3, 4, 0, 5, 3, 8, 6, 0, 1, 0, 4, 6, 8, 4, 6, 0, 7, 8, 7,\n",
       "       7, 4, 3, 5, 8, 2, 0, 2, 0, 6, 0, 5, 2, 5, 6, 5, 0, 3, 3, 3, 3, 1,\n",
       "       8, 7, 1, 3, 6, 0, 3, 7, 4, 6, 6, 4, 2, 0, 6, 8, 2, 5, 0, 7, 6, 0,\n",
       "       4, 0, 3, 0, 3, 6, 0, 3, 3, 1, 0, 3, 6, 0, 7, 0, 4, 0, 8, 0, 2, 3,\n",
       "       3, 5, 4, 6, 6, 6, 5, 4, 0, 0, 4, 1, 5, 0, 0, 1, 3, 7, 4, 0, 4, 8,\n",
       "       5, 2, 3, 6, 6, 3, 8, 4, 0, 1, 6, 7, 7, 6, 1, 0, 6, 4, 2, 7, 7, 2,\n",
       "       6, 5, 3, 0, 4, 6, 3, 5, 4, 6, 4, 8, 3, 3, 5, 0, 2, 4, 1, 8, 5, 4,\n",
       "       3, 0, 2, 3, 7, 6, 3, 1, 3, 3, 7, 3, 3, 1, 0, 8, 2, 6, 3, 0, 6, 7,\n",
       "       1, 1, 3, 0, 3, 1, 4, 5, 0, 3, 0, 3, 6, 0, 0, 8, 5, 0, 0, 6, 6, 4,\n",
       "       7, 3, 8, 2, 1, 0, 8, 5, 6, 4, 4, 6, 2, 3, 1, 5, 2, 4, 1, 5, 2, 0,\n",
       "       6, 2, 7, 1, 6, 4, 2, 1, 1, 0, 3, 3, 4, 1, 6, 3, 1, 3, 1, 7, 5, 3,\n",
       "       6, 2, 0, 4, 4, 7, 1, 5, 3, 4, 1, 8, 6, 3, 3, 6, 3, 5, 3, 4, 8, 7,\n",
       "       5, 2, 0, 5, 6, 3, 5, 0, 3, 3, 7, 3, 2, 2, 7, 3, 5, 5, 6, 6, 1, 0,\n",
       "       4, 6, 5, 3, 2, 1, 1, 5, 7, 8, 6, 3, 7, 4, 7, 0, 0, 0, 7, 3, 2, 3,\n",
       "       5, 5, 3, 8, 7, 8, 3, 0, 5, 4, 7, 3, 2, 8, 7, 7, 2, 0, 0, 0, 6, 6,\n",
       "       8, 8, 0, 2, 3, 6, 6, 8, 3, 4, 7, 7, 3, 4, 0, 3, 1, 0, 4, 7, 3, 2,\n",
       "       0, 0, 0, 7, 6, 7, 3, 2, 3, 1, 0, 8, 0, 1, 7, 7, 5, 0, 3, 5, 5, 4,\n",
       "       7, 7, 0, 4, 8, 3, 3, 6, 6, 3, 7, 0, 8, 5, 1, 4, 0, 0, 4, 4, 7, 5,\n",
       "       0, 2, 2, 3, 3, 7, 0, 3, 0, 0, 0, 6, 1, 3, 6, 1, 7, 7, 1, 0, 1, 1,\n",
       "       2, 1, 0, 7, 2, 4, 1, 3, 5, 0, 0, 0, 5, 0, 6, 6, 2, 6, 1, 6, 8, 1,\n",
       "       4, 6, 1, 3, 0, 3, 3, 0, 4, 3, 3, 1, 0, 0, 1, 7, 0, 3, 4, 3, 4, 6,\n",
       "       7, 4, 7, 6, 3, 2, 5, 1, 0, 7, 7, 3, 3, 4, 7, 0, 2, 4, 4, 3, 3, 0,\n",
       "       1, 0, 1, 0, 2, 1], dtype=int32)"
      ]
     },
     "execution_count": 14,
     "metadata": {},
     "output_type": "execute_result"
    }
   ],
   "source": [
    "a2_clustering"
   ]
  },
  {
   "cell_type": "code",
   "execution_count": 3,
   "id": "b973bfc1-0e2d-4732-b51e-d3fd436f9414",
   "metadata": {},
   "outputs": [],
   "source": [
    "'''\n",
    "TODO\n",
    "\n",
    "Implement spectral clustering, given an affinity matrix. You are required to implement this using standard matrix computation libraries, e.g. numpy, for computing a spectral embedding.\n",
    "You may use k-means once you've obtained the spectral embedding.\n",
    "\n",
    "NOTE: the affinity matrix should _not_ be symmetric! Nevertheless, eigenvectors will be real, up to numerical precision - so you should cast to real numbers (e.g. np.real).\n",
    "'''\n",
    "def spectral_clustering(affinity_mat, n_clusters):\n",
    "    # code based on https://towardsdatascience.com/spectral-clustering-aba2640c0d5b\n",
    "    # diagonal matrix\n",
    "    D = torch.diag(torch.sum(affinity_mat,dim=1))\n",
    "\n",
    "    # graph laplacian\n",
    "    L = torch.pow(torch.inverse(D),1/2) @ affinity_mat @ torch.pow(D,1/2)\n",
    "\n",
    "    # eigenvalues and eigenvectors\n",
    "    vals, vecs = torch.eig(L,eigenvectors=True)\n",
    "    vals = vals[:,0]\n",
    "    # sort these based on the eigenvalues\n",
    "    vals = vals[torch.argsort(vals,descending=True)]\n",
    "    vecs = vecs[:,torch.argsort(vals,descending=True)]\n",
    "    row_norms = torch.norm(vecs[:,0:2],dim=1).unsqueeze(1).repeat(1,2)\n",
    "\n",
    "    Y = vecs[:,0:2]/row_norms\n",
    "    \n",
    "    # kmeans on first three vectors with nonzero eigenvalues\n",
    "    kmeans = KMeans(n_clusters=n_clusters,random_state=7)\n",
    "    kmeans.fit(Y[:,1:n_clusters])\n",
    "    labels = kmeans.labels_\n",
    "    return labels"
   ]
  },
  {
   "cell_type": "code",
   "execution_count": 4,
   "id": "a48c68e3-f8ba-4b8c-a0b8-15fb758bdbe4",
   "metadata": {},
   "outputs": [],
   "source": [
    "'''\n",
    "TODO\n",
    "\n",
    "Cluster the channels within each layer.\n",
    "This should take, as arguments, the two similarity matrices derived from the IoU scores.\n",
    "Specifically, the first argument is the similarity matrix between channels at layer 2 and channels at layer 3.\n",
    "The second argument is the similarity matrix between channels at layer 3 and channels at layer 4.\n",
    "\n",
    "A generalization of spectral biclustering should be performed. More details given in the assignment notebook.\n",
    "'''\n",
    "def multiway_spectral_clustering(s23, s34, n_clusters):\n",
    "\n",
    "    c23 = torch.diag(s23.sum(dim=0))\n",
    "    r23 = torch.diag(s23.sum(dim=1))\n",
    "\n",
    "    c34 = torch.diag(s34.sum(dim=0))\n",
    "    r34 = torch.diag(s34.sum(dim=1))\n",
    "\n",
    "    s2  = torch.inverse(r23) @ s23 @ torch.transpose(s23 @ torch.inverse(c23),0,1)\n",
    "    s4  = torch.transpose(s34 @ torch.inverse(c34),0,1) @ torch.inverse(r34) @ s34 \n",
    "    s3  = torch.transpose(s23 @ torch.inverse(c23),0,1) @ torch.inverse(r23) @ s23 \\\n",
    "            + torch.inverse(r34) @ s34 @ torch.transpose(s34 @ torch.inverse(c34),0,1)\n",
    "    \n",
    "    c2 = spectral_clustering(s2,n_clusters)\n",
    "    c3 = spectral_clustering(s3,n_clusters)\n",
    "    c4 = spectral_clustering(s4,n_clusters)\n",
    "    \n",
    "    return c2, c3, c4\n"
   ]
  },
  {
   "cell_type": "code",
   "execution_count": 6,
   "id": "0b0effb2-09b2-4069-b924-724fa338f18b",
   "metadata": {},
   "outputs": [
    {
     "name": "stdout",
     "output_type": "stream",
     "text": [
      " * Serving Flask app \"__main__\" (lazy loading)\n",
      " * Environment: production\n",
      "\u001b[31m   WARNING: This is a development server. Do not use it in a production deployment.\u001b[0m\n",
      "\u001b[2m   Use a production WSGI server instead.\u001b[0m\n",
      " * Debug mode: off\n"
     ]
    },
    {
     "name": "stderr",
     "output_type": "stream",
     "text": [
      " * Running on http://127.0.0.1:5000/ (Press CTRL+C to quit)\n",
      "127.0.0.1 - - [17/May/2021 15:32:17] \"\u001b[33mGET / HTTP/1.1\u001b[0m\" 404 -\n"
     ]
    }
   ],
   "source": [
    "'''\n",
    "Do not cache images on browser, see: https://stackoverflow.com/questions/34066804/disabling-caching-in-flask\n",
    "'''\n",
    "@app.after_request\n",
    "def add_header(r):\n",
    "    r.headers['Cache-Control'] = 'no-cache, no-store, must-revalidate'\n",
    "    r.headers['Pragma'] = 'no-cache'\n",
    "    r.headers['Expires'] = '0'\n",
    "    r.headers['Cache-Control'] = 'public, max-age=0'\n",
    "    return r\n",
    "#\n",
    "\n",
    "'''\n",
    "TODO\n",
    "\n",
    "Given a link selected from the visualization, namely the layer and clusters at the individual layers, this route should compute the \n",
    "mean correlation from all channels in the source layer and all channels in the target layer, for each sample.\n",
    "'''\n",
    "@app.route('/link_score', methods=['GET','POST'])\n",
    "def link_score():\n",
    "    pass\n",
    "#\n",
    "\n",
    "'''\n",
    "TODO\n",
    "\n",
    "Given a layer (of your choosing), perform max-pooling over space, giving a vector of activations over channels for each sample. Perform UMAP to compute a 2D projection.\n",
    "'''\n",
    "@app.route('/channel_dr', methods=['GET','POST'])\n",
    "def channel_dr():\n",
    "    pass\n",
    "#\n",
    "\n",
    "'''\n",
    "TODO\n",
    "\n",
    "Compute correlation strength over selected instances, those brushed by the user.\n",
    "'''\n",
    "@app.route('/selected_correlation', methods=['GET','POST'])\n",
    "def selected_correlation():\n",
    "    pass\n",
    "#\n",
    "\n",
    "'''\n",
    "TODO\n",
    "\n",
    "Compute correlation strength over all instances.\n",
    "'''\n",
    "@app.route('/activation_correlation_clustering', methods=['GET'])\n",
    "def activation_correlation_clustering():\n",
    "    pass\n",
    "#\n",
    "\n",
    "'''\n",
    "TODO\n",
    "\n",
    "In the main, before running the server, run clustering, store results in variables a2_clustering, a3_clustering, a4_clustering\n",
    "'''\n",
    "if __name__=='__main__':\n",
    "    \n",
    "    a2_clustering,a3_clustering,a4_clustering = multiway_spectral_clustering(s23,s34,n_clusters)\n",
    "    \n",
    "    app.run()\n"
   ]
  },
  {
   "cell_type": "code",
   "execution_count": null,
   "id": "62a1c138-2376-4f19-a069-9fb6bca8d586",
   "metadata": {},
   "outputs": [],
   "source": []
  }
 ],
 "metadata": {
  "kernelspec": {
   "display_name": "ds",
   "language": "python",
   "name": "ds"
  },
  "language_info": {
   "codemirror_mode": {
    "name": "ipython",
    "version": 3
   },
   "file_extension": ".py",
   "mimetype": "text/x-python",
   "name": "python",
   "nbconvert_exporter": "python",
   "pygments_lexer": "ipython3",
   "version": "3.8.8"
  }
 },
 "nbformat": 4,
 "nbformat_minor": 5
}
