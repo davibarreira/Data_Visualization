{
 "cells": [
  {
   "cell_type": "code",
   "execution_count": 1,
   "id": "060e3f70-a0b1-4bb7-8b5f-d91b7b0160d7",
   "metadata": {},
   "outputs": [],
   "source": [
    "%config Completer.use_jedi = False"
   ]
  },
  {
   "cell_type": "code",
   "execution_count": 3,
   "id": "96a43529-1be2-4830-84d7-9933deefe6ad",
   "metadata": {},
   "outputs": [],
   "source": [
    "import os\n",
    "import flask\n",
    "import numpy as np\n",
    "import time\n",
    "from PIL import Image\n",
    "\n",
    "from tqdm import tqdm\n",
    "\n",
    "import torch\n",
    "\n",
    "from sklearn.cluster import KMeans\n",
    "\n",
    "from flask import Flask\n",
    "from flask_cors import CORS\n",
    "import math\n",
    "\n",
    "from matplotlib import pyplot as plt\n",
    "\n",
    "import umap"
   ]
  },
  {
   "cell_type": "code",
   "execution_count": 223,
   "id": "31efc2e7-dcc8-4229-814e-d5b21ae2c51a",
   "metadata": {},
   "outputs": [],
   "source": [
    "# create Flask app\n",
    "app = Flask(__name__)\n",
    "app.config['SEND_FILE_MAX_AGE_DEFAULT'] = 0\n",
    "CORS(app)\n",
    "\n",
    "# TODO load all of the data generated from preprocessing\n",
    "qt = torch.load('./static/qt.pt')\n",
    "tensor2_3 = torch.load('./static/tensor2_3.pt')\n",
    "tensor2_3 = torch.nan_to_num(tensor2_3,nan=0.0) # Ajustando casos nan\n",
    "\n",
    "tensor3_4 = torch.load('./static/tensor3_4.pt')\n",
    "tensor3_4 = torch.nan_to_num(tensor3_4,nan=0.0) #  Ajustando casos nan\n",
    "\n",
    "images = []\n",
    "for i in range(0,20):\n",
    "    images.append(Image.open('./static/image'+str(i)+'.jpeg'))\n",
    "\n",
    "# number of clusters - feel free to adjust\n",
    "n_clusters = 9\n",
    "\n",
    "# these variables will contain the clustering of channels for the different layers\n",
    "a2_clustering,a3_clustering,a4_clustering = None,None,None"
   ]
  },
  {
   "cell_type": "code",
   "execution_count": 202,
   "id": "6df696ae-41e1-47be-99fb-d719415cbc2d",
   "metadata": {},
   "outputs": [],
   "source": [
    "A =[[0.,1.,1.,0.,0.,1.,0.,0.,1.,1.],\n",
    "    [1.,0.,1.,0.,0.,0.,0.,0.,0.,0.],\n",
    "    [1.,1.,0.,0.,0.,0.,0.,0.,0.,0.],\n",
    "    [0.,0.,0.,0.,1.,1.,0.,0.,0.,0.],\n",
    "    [0.,0.,0.,1.,0.,1.,0.,0.,0.,0.],\n",
    "    [1.,0.,0.,1.,1.,0.,1.,1.,0.,0.],\n",
    "    [0.,0.,0.,0.,0.,1.,0.,1.,0.,0.],\n",
    "    [0.,0.,0.,0.,0.,1.,1.,0.,0.,0.],\n",
    "    [1.,0.,0.,0.,0.,0.,0.,0.,0.,1.],\n",
    "    [1.,0.,0.,0.,0.,0.,0.,0.,1.,0.]]\n",
    "A = np.array(A)"
   ]
  },
  {
   "cell_type": "code",
   "execution_count": 203,
   "id": "f36d9e69-ba65-40cf-a50c-00726a974422",
   "metadata": {},
   "outputs": [
    {
     "data": {
      "text/plain": [
       "array([2, 2, 2, 3, 3, 0, 0, 0, 1, 1], dtype=int32)"
      ]
     },
     "execution_count": 203,
     "metadata": {},
     "output_type": "execute_result"
    }
   ],
   "source": [
    "from sklearn.cluster import SpectralClustering\n",
    "# spectral_clustering(A,4)\n",
    "spec = SpectralClustering(n_clusters=4,affinity=\"precomputed\")\n",
    "spec.fit(A)\n",
    "spec.labels_"
   ]
  },
  {
   "cell_type": "code",
   "execution_count": null,
   "id": "cfd7fac3-719a-4c0d-92c4-791d1715fa7b",
   "metadata": {},
   "outputs": [],
   "source": []
  },
  {
   "cell_type": "code",
   "execution_count": 115,
   "id": "b973bfc1-0e2d-4732-b51e-d3fd436f9414",
   "metadata": {},
   "outputs": [],
   "source": [
    "'''\n",
    "TODO\n",
    "\n",
    "Implement spectral clustering, given an affinity matrix. You are required to implement this using standard matrix computation libraries, e.g. numpy, for computing a spectral embedding.\n",
    "You may use k-means once you've obtained the spectral embedding.\n",
    "\n",
    "NOTE: the affinity matrix should _not_ be symmetric! Nevertheless, eigenvectors will be real, up to numerical precision - so you should cast to real numbers (e.g. np.real).\n",
    "'''\n",
    "def spectral_clustering(affinity_mat, n_clusters):\n",
    "    # code based on https://towardsdatascience.com/spectral-clustering-aba2640c0d5b\n",
    "    # diagonal matrix\n",
    "    D = np.diag(affinity_mat.sum(axis=1))\n",
    "\n",
    "    # graph laplacian\n",
    "    L = D-A\n",
    "\n",
    "    # eigenvalues and eigenvectors\n",
    "    vals, vecs = np.linalg.eig(L)\n",
    "    # sort these based on the eigenvalues\n",
    "    vecs = vecs[:,np.argsort(vals)]\n",
    "    vals = vals[np.argsort(vals)]\n",
    "\n",
    "    # kmeans on first three vectors with nonzero eigenvalues\n",
    "    kmeans = KMeans(n_clusters=n_clusters)\n",
    "    kmeans.fit(vecs[:,1:4])\n",
    "    labels = kmeans.labels_\n",
    "    return labels"
   ]
  },
  {
   "cell_type": "code",
   "execution_count": 242,
   "id": "9c669221-806e-4255-b06d-ee4dd5c603f8",
   "metadata": {},
   "outputs": [],
   "source": [
    "s23 = tensor2_3.sum(dim=0)\n",
    "s34 = tensor2_3.sum(dim=0)\n",
    "\n",
    "r23 = torch.diag(s23.sum(dim=0))\n",
    "c23 = torch.diag(s23.sum(dim=1))\n",
    "\n",
    "r34 = torch.diag(s34.sum(dim=0))\n",
    "c34 = torch.diag(s34.sum(dim=1))\n",
    "\n",
    "s2  = torch.inverse(r23) @ s23 @ torch.transpose(s23 @ torch.inverse(c23),0,1)\n",
    "s4  = torch.transpose(s34 @ torch.inverse(c34),0,1) @ torch.inverse(r34) @ s34 \n",
    "s3  = torch.transpose(s23 @ torch.inverse(c23),0,1) @ torch.inverse(r23) @ s23 \\\n",
    "        + torch.inverse(r34) @ s34 @ torch.transpose(s34 @ torch.inverse(c34),0,1)"
   ]
  },
  {
   "cell_type": "code",
   "execution_count": 32,
   "id": "0b0effb2-09b2-4069-b924-724fa338f18b",
   "metadata": {},
   "outputs": [
    {
     "data": {
      "text/plain": [
       "'\\nTODO\\n\\nCluster the channels within each layer.\\nThis should take, as arguments, the two similarity matrices derived from the IoU scores.\\nSpecifically, the first argument is the similarity matrix between channels at layer 2 and channels at layer 3.\\nThe second argument is the similarity matrix between channels at layer 3 and channels at layer 4.\\n\\nA generalization of spectral biclustering should be performed. More details given in the assignment notebook.\\n'"
      ]
     },
     "execution_count": 32,
     "metadata": {},
     "output_type": "execute_result"
    }
   ],
   "source": [
    "'''\n",
    "Do not cache images on browser, see: https://stackoverflow.com/questions/34066804/disabling-caching-in-flask\n",
    "'''\n",
    "@app.after_request\n",
    "def add_header(r):\n",
    "    r.headers['Cache-Control'] = 'no-cache, no-store, must-revalidate'\n",
    "    r.headers['Pragma'] = 'no-cache'\n",
    "    r.headers['Expires'] = '0'\n",
    "    r.headers['Cache-Control'] = 'public, max-age=0'\n",
    "    return r\n",
    "#\n",
    "\n",
    "    \n",
    "\n",
    "'''\n",
    "TODO\n",
    "\n",
    "Cluster the channels within each layer.\n",
    "This should take, as arguments, the two similarity matrices derived from the IoU scores.\n",
    "Specifically, the first argument is the similarity matrix between channels at layer 2 and channels at layer 3.\n",
    "The second argument is the similarity matrix between channels at layer 3 and channels at layer 4.\n",
    "\n",
    "A generalization of spectral biclustering should be performed. More details given in the assignment notebook.\n",
    "'''\n",
    "def multiway_spectral_clustering(sim_a2_a3, sim_a3_a4, n_clusters):\n",
    "    pass\n",
    "#\n",
    "\n",
    "'''\n",
    "TODO\n",
    "\n",
    "Given a link selected from the visualization, namely the layer and clusters at the individual layers, this route should compute the mean correlation from all channels in the source layer and all channels in the target layer, for each sample.\n",
    "'''\n",
    "@app.route('/link_score', methods=['GET','POST'])\n",
    "def link_score():\n",
    "    pass\n",
    "#\n",
    "\n",
    "'''\n",
    "TODO\n",
    "\n",
    "Given a layer (of your choosing), perform max-pooling over space, giving a vector of activations over channels for each sample. Perform UMAP to compute a 2D projection.\n",
    "'''\n",
    "@app.route('/channel_dr', methods=['GET','POST'])\n",
    "def channel_dr():\n",
    "    pass\n",
    "#\n",
    "\n",
    "'''\n",
    "TODO\n",
    "\n",
    "Compute correlation strength over selected instances, those brushed by the user.\n",
    "'''\n",
    "@app.route('/selected_correlation', methods=['GET','POST'])\n",
    "def selected_correlation():\n",
    "    pass\n",
    "#\n",
    "\n",
    "'''\n",
    "TODO\n",
    "\n",
    "Compute correlation strength over all instances.\n",
    "'''\n",
    "@app.route('/activation_correlation_clustering', methods=['GET'])\n",
    "def activation_correlation_clustering():\n",
    "    pass\n",
    "#\n",
    "\n",
    "'''\n",
    "TODO\n",
    "\n",
    "In the main, before running the server, run clustering, store results in variables a2_clustering, a3_clustering, a4_clustering\n",
    "'''\n",
    "# if __name__=='__main__':\n",
    "#     app.run()\n",
    "#"
   ]
  }
 ],
 "metadata": {
  "kernelspec": {
   "display_name": "ds",
   "language": "python",
   "name": "ds"
  },
  "language_info": {
   "codemirror_mode": {
    "name": "ipython",
    "version": 3
   },
   "file_extension": ".py",
   "mimetype": "text/x-python",
   "name": "python",
   "nbconvert_exporter": "python",
   "pygments_lexer": "ipython3",
   "version": "3.8.8"
  }
 },
 "nbformat": 4,
 "nbformat_minor": 5
}
