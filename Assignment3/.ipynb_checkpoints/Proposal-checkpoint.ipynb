{
 "cells": [
  {
   "cell_type": "markdown",
   "id": "c28b92bf-24f9-4e85-aeb0-159c7da40a1e",
   "metadata": {},
   "source": [
    "# **Optimal Transport for Dataset Distances**\n",
    "### *Using dataset distances to aid Transfer Learning*\n"
   ]
  },
  {
   "cell_type": "markdown",
   "id": "8f0a371e-7430-47f4-a6b4-eb4ffbbf4215",
   "metadata": {},
   "source": [
    "### 1) Description and Background Motivation\n",
    "This project is mainly based on the paper \"Geometric Dataset Distances via Optimal Transport\" by Alvarez and Fusi (2020).\n",
    "In this article, the authors proposed a way of measuring the distance between datasets and showed that this distance\n",
    "was correlated to performance in terms of transfer learning. This distance, which used Optimal Transport, could be used\n",
    "as a parameter to evaluate how well a model trained on a dataset could be used in another dataset.\n",
    "The farther the dataset were, the worst in terms of transfer learning the model would be.\n",
    "\n",
    "Besides the work of Alvarez and Fusi (2020), many other works have been developed using Optimal Transport (OT) for Transfer Learning.\n",
    "Hence, the idea is to create a set of visualizations exploring how the datasets compare in terms of OT metrics, thus,\n",
    "aiding modelers when deciding on how to perform transfer learning between datasets.\n",
    "These visualizations should, for example, help modelers identify possible types of data augmentation that could\n",
    "perhaps improve the transfer of  knowledge (e.g. should one normalize the dataset, should one add cropping, etc).\n",
    "\n",
    "The authors of this papers also wrote a blog post\n",
    "[https://www.microsoft.com/en-us/research/blog/measuring-dataset-similarity-using-optimal-transport/] which explored this idea.\n",
    "The goal is to sistemitize some of the visualizations produced in this blog post, and increment with some other OT metrics and\n",
    "new visualizations. Therefore, by the end of this project, a set of standard visualizations shall be proposed\n",
    "in order to evaluate datasets in terms of their transfer capabilities."
   ]
  },
  {
   "cell_type": "markdown",
   "id": "386605e6-4331-4854-a286-5b357805a1fd",
   "metadata": {},
   "source": [
    "### 2) Tasks\n",
    "\n",
    "The initial task is to calculate the distance between the datasets using the different OT metrics.\n",
    "While Alverez and Fusi (2020) focused only on their new Geomtric Dataset Distance, we would use other metrics\n",
    "which are also proposed in the literature to perform Transfer Learning. This would give more robustness in terms\n",
    "of transfer capabilities.\n",
    "\n",
    "Once this is done, we want to somehow visualize the data in a\n",
    "lower dimension, using PCA or other method. This would allow use to see how the dataset is been transported into the other.\n",
    "Next, we'd like to visualize a heatmap in terms of the OT plans, in order to understand how categorical data is been transported.\n",
    "This helps us understand which categories might be ambiguous between datasets, and could be perhaps removed all together.\n",
    "\n",
    "Next, we would propose some standard data augmentations and visualize it's impact in terms of the OT plan.\n",
    "\n",
    "Finally, we would implement some interactive components, such as showing the actual image when the user hover over the datapoint."
   ]
  },
  {
   "cell_type": "markdown",
   "id": "e0f539cb-6057-4552-ae63-4bef3bc1f656",
   "metadata": {},
   "source": [
    "### 3) Data\n",
    "In terms of dataset, we'll be using standard Machine Learning datasets focusing on image classification,\n",
    "such as MNIST, FashionMNIST, USPS, etc. Hence, the collection and cleaning is not necessery. The only transformation\n",
    "necessary will be in terms of augmenting the datasets, performing image manipulation such as centering, cropping, etc."
   ]
  },
  {
   "cell_type": "markdown",
   "id": "4ce9877e-334f-4a5b-955e-fffaf2127908",
   "metadata": {},
   "source": [
    "## 4) Models \n",
    "\n",
    "The visualizations are proposed to aid Transfer Learning tasks, but it actually focuses on preprocessing. Optimal Transport metrics\n",
    "help evaluate the tranfer capability of the dataset, before actually performing the Machine Learning tranining and tranfering.\n",
    "The models that will be implemeted are actually the Optimal Transport algorithms for calculating the distances between the\n",
    "datasets and the OT plans.\n",
    "\n",
    "Below we show an schematic image of how OT is used for Transfer Learning."
   ]
  },
  {
   "cell_type": "markdown",
   "id": "f1a954e5-d6b6-406c-9a10-2b8615643e20",
   "metadata": {},
   "source": [
    "![transfer_learning](./otda.png)"
   ]
  },
  {
   "cell_type": "markdown",
   "id": "fb32791f-d3e1-410e-9acf-02d311c84b92",
   "metadata": {},
   "source": [
    "### 5) Design\n",
    "\n",
    "Here are some examples of visualizations which were taken from Alvarez and Fusi (2020), and\n",
    "https://www.microsoft.com/en-us/research/blog/measuring-dataset-similarity-using-optimal-transport/.\n",
    "![transfer_learning](./otddpaper1.png)"
   ]
  },
  {
   "cell_type": "markdown",
   "id": "467ade9f-492e-4341-9b06-86372f6bfb64",
   "metadata": {},
   "source": [
    "![transfer_learning](./geometricdataset.png)\n",
    "![transfer_learning](./geoview.png)"
   ]
  },
  {
   "cell_type": "code",
   "execution_count": null,
   "id": "c22afaa8-c0da-4a62-9e2e-1ff4e2621dc3",
   "metadata": {},
   "outputs": [],
   "source": []
  }
 ],
 "metadata": {
  "kernelspec": {
   "display_name": "Julia 1.6.1",
   "language": "julia",
   "name": "julia-1.6"
  },
  "language_info": {
   "file_extension": ".jl",
   "mimetype": "application/julia",
   "name": "julia",
   "version": "1.6.1"
  }
 },
 "nbformat": 4,
 "nbformat_minor": 5
}
