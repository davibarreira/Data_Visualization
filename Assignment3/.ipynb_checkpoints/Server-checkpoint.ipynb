{
 "cells": [
  {
   "cell_type": "code",
   "execution_count": 1,
   "id": "060e3f70-a0b1-4bb7-8b5f-d91b7b0160d7",
   "metadata": {},
   "outputs": [],
   "source": [
    "%config Completer.use_jedi = False"
   ]
  },
  {
   "cell_type": "code",
   "execution_count": 268,
   "id": "96a43529-1be2-4830-84d7-9933deefe6ad",
   "metadata": {},
   "outputs": [],
   "source": [
    "import os\n",
    "import flask\n",
    "import numpy as np\n",
    "import time\n",
    "from PIL import Image\n",
    "from scipy.linalg import sqrtm\n",
    "\n",
    "from tqdm import tqdm\n",
    "\n",
    "import torch\n",
    "\n",
    "from sklearn.cluster import KMeans\n",
    "\n",
    "from flask import Flask\n",
    "from flask_cors import CORS\n",
    "import math\n",
    "\n",
    "from matplotlib import pyplot as plt\n",
    "\n",
    "import umap"
   ]
  },
  {
   "cell_type": "code",
   "execution_count": 223,
   "id": "31efc2e7-dcc8-4229-814e-d5b21ae2c51a",
   "metadata": {},
   "outputs": [],
   "source": [
    "# create Flask app\n",
    "app = Flask(__name__)\n",
    "app.config['SEND_FILE_MAX_AGE_DEFAULT'] = 0\n",
    "CORS(app)\n",
    "\n",
    "# TODO load all of the data generated from preprocessing\n",
    "qt = torch.load('./static/qt.pt')\n",
    "tensor2_3 = torch.load('./static/tensor2_3.pt')\n",
    "tensor2_3 = torch.nan_to_num(tensor2_3,nan=0.0) # Ajustando casos nan\n",
    "\n",
    "tensor3_4 = torch.load('./static/tensor3_4.pt')\n",
    "tensor3_4 = torch.nan_to_num(tensor3_4,nan=0.0) #  Ajustando casos nan\n",
    "\n",
    "images = []\n",
    "for i in range(0,20):\n",
    "    images.append(Image.open('./static/image'+str(i)+'.jpeg'))\n",
    "\n",
    "# number of clusters - feel free to adjust\n",
    "n_clusters = 9\n",
    "\n",
    "# these variables will contain the clustering of channels for the different layers\n",
    "a2_clustering,a3_clustering,a4_clustering = None,None,None"
   ]
  },
  {
   "cell_type": "code",
   "execution_count": 349,
   "id": "6df696ae-41e1-47be-99fb-d719415cbc2d",
   "metadata": {},
   "outputs": [],
   "source": [
    "A =[[0.,1.,1.,0.,0.,1.,0.,0.,1.,1.],\n",
    "    [1.,0.,1.,0.,0.,0.,0.,0.,0.,0.],\n",
    "    [1.,1.,0.,0.,0.,0.,0.,0.,0.,0.],\n",
    "    [0.,0.,0.,0.,1.,1.,0.,0.,0.,0.],\n",
    "    [0.,0.,0.,1.,0.,1.,0.,0.,0.,0.],\n",
    "    [1.,0.,0.,1.,1.,0.,1.,1.,0.,0.],\n",
    "    [0.,0.,0.,0.,0.,1.,0.,1.,0.,0.],\n",
    "    [0.,0.,0.,0.,0.,1.,1.,0.,0.,0.],\n",
    "    [1.,0.,0.,0.,0.,0.,0.,0.,0.,1.],\n",
    "    [1.,0.,0.,0.,0.,0.,0.,0.,1.,0.]]\n",
    "A = np.array(A)"
   ]
  },
  {
   "cell_type": "code",
   "execution_count": 366,
   "id": "087feaac-fca4-48fc-9d7a-91cc29a7fad7",
   "metadata": {},
   "outputs": [],
   "source": [
    "eg = np.linalg.eig(A)[0]"
   ]
  },
  {
   "cell_type": "code",
   "execution_count": 378,
   "id": "7fe24746-c7c4-4683-8ad3-eb70bc296710",
   "metadata": {},
   "outputs": [
    {
     "data": {
      "text/plain": [
       "array([-2.23606798, -1.        , -1.        , -1.        , -1.        ,\n",
       "       -1.        ,  1.        ,  1.        ,  2.23606798,  3.        ])"
      ]
     },
     "execution_count": 378,
     "metadata": {},
     "output_type": "execute_result"
    }
   ],
   "source": []
  },
  {
   "cell_type": "code",
   "execution_count": 360,
   "id": "98de128c-6ae7-4be6-a336-b500c86c7f79",
   "metadata": {},
   "outputs": [],
   "source": [
    "At=torch.FloatTensor(A)\n",
    "vals, vecs = torch.eig(At,eigenvectors=True)"
   ]
  },
  {
   "cell_type": "code",
   "execution_count": 203,
   "id": "f36d9e69-ba65-40cf-a50c-00726a974422",
   "metadata": {},
   "outputs": [
    {
     "data": {
      "text/plain": [
       "array([2, 2, 2, 3, 3, 0, 0, 0, 1, 1], dtype=int32)"
      ]
     },
     "execution_count": 203,
     "metadata": {},
     "output_type": "execute_result"
    }
   ],
   "source": [
    "from sklearn.cluster import SpectralClustering\n",
    "# spectral_clustering(A,4)\n",
    "spec = SpectralClustering(n_clusters=4,affinity=\"precomputed\")\n",
    "spec.fit(A)\n",
    "spec.labels_"
   ]
  },
  {
   "cell_type": "code",
   "execution_count": 383,
   "id": "32da1cea-f036-471a-8175-97df79ee2fa6",
   "metadata": {},
   "outputs": [
    {
     "data": {
      "text/plain": [
       "tensor([ 3.0000,  2.2361,  1.0000,  1.0000, -1.0000, -1.0000, -1.0000, -1.0000,\n",
       "        -1.0000, -2.2361])"
      ]
     },
     "execution_count": 383,
     "metadata": {},
     "output_type": "execute_result"
    }
   ],
   "source": [
    "vals[torch.argsort(vals[:,0],descending=True),0]"
   ]
  },
  {
   "cell_type": "code",
   "execution_count": 385,
   "id": "8de77c73-1374-4582-8520-b793bbfa7770",
   "metadata": {},
   "outputs": [
    {
     "data": {
      "text/plain": [
       "torch.Size([10, 10])"
      ]
     },
     "execution_count": 385,
     "metadata": {},
     "output_type": "execute_result"
    }
   ],
   "source": [
    "vecs.shape[]"
   ]
  },
  {
   "cell_type": "code",
   "execution_count": 467,
   "id": "cfd7fac3-719a-4c0d-92c4-791d1715fa7b",
   "metadata": {},
   "outputs": [
    {
     "data": {
      "text/plain": [
       "tensor([[-0.7136, -0.7006],\n",
       "        [-0.7839,  0.6209],\n",
       "        [-0.5493,  0.8356],\n",
       "        ...,\n",
       "        [-0.6636, -0.7481],\n",
       "        [-0.9717, -0.2362],\n",
       "        [-0.8714,  0.4905]])"
      ]
     },
     "execution_count": 467,
     "metadata": {},
     "output_type": "execute_result"
    }
   ],
   "source": [
    "row_norms = torch.norm(vecs[:,0:2],dim=1).unsqueeze(1).repeat(1,2)\n",
    "\n",
    "vecs[:,0:2]/row_norms"
   ]
  },
  {
   "cell_type": "code",
   "execution_count": 475,
   "id": "b973bfc1-0e2d-4732-b51e-d3fd436f9414",
   "metadata": {},
   "outputs": [],
   "source": [
    "'''\n",
    "TODO\n",
    "\n",
    "Implement spectral clustering, given an affinity matrix. You are required to implement this using standard matrix computation libraries, e.g. numpy, for computing a spectral embedding.\n",
    "You may use k-means once you've obtained the spectral embedding.\n",
    "\n",
    "NOTE: the affinity matrix should _not_ be symmetric! Nevertheless, eigenvectors will be real, up to numerical precision - so you should cast to real numbers (e.g. np.real).\n",
    "'''\n",
    "def spectral_clustering(affinity_mat, n_clusters):\n",
    "    # code based on https://towardsdatascience.com/spectral-clustering-aba2640c0d5b\n",
    "    # diagonal matrix\n",
    "    D = torch.diag(torch.sum(affinity_mat,dim=1))\n",
    "\n",
    "    # graph laplacian\n",
    "    L = torch.pow(torch.inverse(D),1/2) @ affinity_mat @ torch.pow(D,1/2)\n",
    "\n",
    "    # eigenvalues and eigenvectors\n",
    "    vals, vecs = torch.eig(L,eigenvectors=True)\n",
    "    vals = vals[:,0]\n",
    "    # sort these based on the eigenvalues\n",
    "    vals = vals[torch.argsort(vals,descending=True)]\n",
    "    vecs = vecs[:,torch.argsort(vals,descending=True)]\n",
    "    row_norms = torch.norm(vecs[:,0:2],dim=1).unsqueeze(1).repeat(1,2)\n",
    "\n",
    "    Y = vecs[:,0:2]/row_norms\n",
    "    \n",
    "    # kmeans on first three vectors with nonzero eigenvalues\n",
    "    kmeans = KMeans(n_clusters=n_clusters,random_state=7)\n",
    "    kmeans.fit(Y[:,1:n_clusters])\n",
    "    labels = kmeans.labels_\n",
    "    return labels"
   ]
  },
  {
   "cell_type": "code",
   "execution_count": 478,
   "id": "0ce2e70f-16b9-43e7-8d89-1221cb3342f9",
   "metadata": {},
   "outputs": [
    {
     "data": {
      "text/plain": [
       "array([0, 7, 3, 6, 3, 0, 0, 4, 4, 5, 6, 1, 7, 7, 0, 0, 3, 2, 0, 0, 0, 4,\n",
       "       3, 0, 0, 3, 4, 0, 5, 3, 8, 6, 0, 1, 0, 4, 6, 8, 4, 6, 0, 7, 8, 7,\n",
       "       7, 4, 3, 5, 8, 2, 0, 2, 0, 6, 0, 5, 2, 5, 6, 5, 0, 3, 3, 3, 3, 1,\n",
       "       8, 7, 1, 3, 6, 0, 3, 7, 4, 6, 6, 4, 2, 0, 6, 8, 2, 5, 0, 7, 6, 0,\n",
       "       4, 0, 3, 0, 3, 6, 0, 3, 3, 1, 0, 3, 6, 0, 7, 0, 4, 0, 8, 0, 2, 3,\n",
       "       3, 5, 4, 6, 6, 6, 5, 4, 0, 0, 4, 1, 5, 0, 0, 1, 3, 7, 4, 0, 4, 8,\n",
       "       5, 2, 3, 6, 6, 3, 8, 4, 0, 1, 6, 7, 7, 6, 1, 0, 6, 4, 2, 7, 7, 2,\n",
       "       6, 5, 3, 0, 4, 6, 3, 5, 4, 6, 4, 8, 3, 3, 5, 0, 2, 4, 1, 8, 5, 4,\n",
       "       3, 0, 2, 3, 7, 6, 3, 1, 3, 3, 7, 3, 3, 1, 0, 8, 2, 6, 3, 0, 6, 7,\n",
       "       1, 1, 3, 0, 3, 1, 4, 5, 0, 3, 0, 3, 6, 0, 0, 8, 5, 0, 0, 6, 6, 4,\n",
       "       7, 3, 8, 2, 1, 0, 8, 5, 6, 4, 4, 6, 2, 3, 1, 5, 2, 4, 1, 5, 2, 0,\n",
       "       6, 2, 7, 1, 6, 4, 2, 1, 1, 0, 3, 3, 4, 1, 6, 3, 1, 3, 1, 7, 5, 3,\n",
       "       6, 2, 0, 4, 4, 7, 1, 5, 3, 4, 1, 8, 6, 3, 3, 6, 3, 5, 3, 4, 8, 7,\n",
       "       5, 2, 0, 5, 6, 3, 5, 0, 3, 3, 7, 3, 2, 2, 7, 3, 5, 5, 6, 6, 1, 0,\n",
       "       4, 6, 5, 3, 2, 1, 1, 5, 7, 8, 6, 3, 7, 4, 7, 0, 0, 0, 7, 3, 2, 3,\n",
       "       5, 5, 3, 8, 7, 8, 3, 0, 5, 4, 7, 3, 2, 8, 7, 7, 2, 0, 0, 0, 6, 6,\n",
       "       8, 8, 0, 2, 3, 6, 6, 8, 3, 4, 7, 7, 3, 4, 0, 3, 1, 0, 4, 7, 3, 2,\n",
       "       0, 0, 0, 7, 6, 7, 3, 2, 3, 1, 0, 8, 0, 1, 7, 7, 5, 0, 3, 5, 5, 4,\n",
       "       7, 7, 0, 4, 8, 3, 3, 6, 6, 3, 7, 0, 8, 5, 1, 4, 0, 0, 4, 4, 7, 5,\n",
       "       0, 2, 2, 3, 3, 7, 0, 3, 0, 0, 0, 6, 1, 3, 6, 1, 7, 7, 1, 0, 1, 1,\n",
       "       2, 1, 0, 7, 2, 4, 1, 3, 5, 0, 0, 0, 5, 0, 6, 6, 2, 6, 1, 6, 8, 1,\n",
       "       4, 6, 1, 3, 0, 3, 3, 0, 4, 3, 3, 1, 0, 0, 1, 7, 0, 3, 4, 3, 4, 6,\n",
       "       7, 4, 7, 6, 3, 2, 5, 1, 0, 7, 7, 3, 3, 4, 7, 0, 2, 4, 4, 3, 3, 0,\n",
       "       1, 0, 1, 0, 2, 1], dtype=int32)"
      ]
     },
     "execution_count": 478,
     "metadata": {},
     "output_type": "execute_result"
    }
   ],
   "source": [
    "spectral_clustering(s2,9)"
   ]
  },
  {
   "cell_type": "code",
   "execution_count": 432,
   "id": "c2960bae-d6d8-4d14-a758-9c2e08b15e40",
   "metadata": {},
   "outputs": [
    {
     "data": {
      "text/plain": [
       "tensor([[-0.0442, -0.0434],\n",
       "        [-0.0442,  0.0350],\n",
       "        [-0.0442,  0.0672],\n",
       "        ...,\n",
       "        [-0.0442, -0.0498],\n",
       "        [-0.0442, -0.0107],\n",
       "        [-0.0442,  0.0249]])"
      ]
     },
     "execution_count": 432,
     "metadata": {},
     "output_type": "execute_result"
    }
   ],
   "source": []
  },
  {
   "cell_type": "code",
   "execution_count": 312,
   "id": "90a36bf5-2175-4b0b-9551-c0d56922b3fe",
   "metadata": {},
   "outputs": [],
   "source": [
    "v = torch.eig(r23)"
   ]
  },
  {
   "cell_type": "code",
   "execution_count": 329,
   "id": "37ba9bce-1bf5-4130-8fc9-f68d042e8165",
   "metadata": {},
   "outputs": [],
   "source": [
    "D = torch.diag(torch.sum(s2,dim=1))\n",
    "L = torch.pow(torch.inverse(D),1/2) @ s2 @ torch.pow(D,1/2)"
   ]
  },
  {
   "cell_type": "code",
   "execution_count": 346,
   "id": "432d1e33-075a-4f3c-80ea-d47671fadb88",
   "metadata": {},
   "outputs": [],
   "source": [
    "L = torch.pow(torch.inverse(D),1/2) @ s2 @ torch.pow(D,1/2)\n",
    "A = torch.FloatTensor(A)"
   ]
  },
  {
   "cell_type": "code",
   "execution_count": null,
   "id": "11730293-df19-45f7-b318-4181fb6b8151",
   "metadata": {},
   "outputs": [],
   "source": [
    "np"
   ]
  },
  {
   "cell_type": "code",
   "execution_count": 348,
   "id": "5179eda1-8cf0-46ae-93cf-cc61794c53a9",
   "metadata": {},
   "outputs": [
    {
     "data": {
      "text/plain": [
       "torch.return_types.eig(\n",
       "eigenvalues=tensor([[-2.2361,  0.0000],\n",
       "        [ 3.0000,  0.0000],\n",
       "        [ 2.2361,  0.0000],\n",
       "        [-1.0000,  0.0000],\n",
       "        [-1.0000,  0.0000],\n",
       "        [ 1.0000,  0.0000],\n",
       "        [-1.0000,  0.0000],\n",
       "        [ 1.0000,  0.0000],\n",
       "        [-1.0000,  0.0000],\n",
       "        [-1.0000,  0.0000]]),\n",
       "eigenvectors=tensor([]))"
      ]
     },
     "execution_count": 348,
     "metadata": {},
     "output_type": "execute_result"
    }
   ],
   "source": [
    "torch.eig(A)"
   ]
  },
  {
   "cell_type": "code",
   "execution_count": 284,
   "id": "9c669221-806e-4255-b06d-ee4dd5c603f8",
   "metadata": {},
   "outputs": [],
   "source": [
    "s23 = tensor2_3.sum(dim=0)\n",
    "s34 = tensor2_3.sum(dim=0)\n",
    "\n",
    "c23 = torch.diag(s23.sum(dim=0))\n",
    "r23 = torch.diag(s23.sum(dim=1))\n",
    "\n",
    "c34 = torch.diag(s34.sum(dim=0))\n",
    "r34 = torch.diag(s34.sum(dim=1))\n",
    "\n",
    "s2  = torch.inverse(r23) @ s23 @ torch.transpose(s23 @ torch.inverse(c23),0,1)\n",
    "s4  = torch.transpose(s34 @ torch.inverse(c34),0,1) @ torch.inverse(r34) @ s34 \n",
    "s3  = torch.transpose(s23 @ torch.inverse(c23),0,1) @ torch.inverse(r23) @ s23 \\\n",
    "        + torch.inverse(r34) @ s34 @ torch.transpose(s34 @ torch.inverse(c34),0,1)"
   ]
  },
  {
   "cell_type": "code",
   "execution_count": 321,
   "id": "ab848a57-cc60-4be9-9f21-90a571e91526",
   "metadata": {},
   "outputs": [],
   "source": [
    "torch.pow(torch.inverse(r34),1/2) - sqrtm(R)\n",
    "R = r34.numpy()\n",
    "# R = np.linalg.inv(R)\n",
    "# sqrtm(R)"
   ]
  },
  {
   "cell_type": "code",
   "execution_count": null,
   "id": "07a27d5b-76af-4494-88a6-1683449cdf92",
   "metadata": {},
   "outputs": [],
   "source": []
  },
  {
   "cell_type": "code",
   "execution_count": 32,
   "id": "0b0effb2-09b2-4069-b924-724fa338f18b",
   "metadata": {},
   "outputs": [
    {
     "data": {
      "text/plain": [
       "'\\nTODO\\n\\nCluster the channels within each layer.\\nThis should take, as arguments, the two similarity matrices derived from the IoU scores.\\nSpecifically, the first argument is the similarity matrix between channels at layer 2 and channels at layer 3.\\nThe second argument is the similarity matrix between channels at layer 3 and channels at layer 4.\\n\\nA generalization of spectral biclustering should be performed. More details given in the assignment notebook.\\n'"
      ]
     },
     "execution_count": 32,
     "metadata": {},
     "output_type": "execute_result"
    }
   ],
   "source": [
    "'''\n",
    "Do not cache images on browser, see: https://stackoverflow.com/questions/34066804/disabling-caching-in-flask\n",
    "'''\n",
    "@app.after_request\n",
    "def add_header(r):\n",
    "    r.headers['Cache-Control'] = 'no-cache, no-store, must-revalidate'\n",
    "    r.headers['Pragma'] = 'no-cache'\n",
    "    r.headers['Expires'] = '0'\n",
    "    r.headers['Cache-Control'] = 'public, max-age=0'\n",
    "    return r\n",
    "#\n",
    "\n",
    "    \n",
    "\n",
    "'''\n",
    "TODO\n",
    "\n",
    "Cluster the channels within each layer.\n",
    "This should take, as arguments, the two similarity matrices derived from the IoU scores.\n",
    "Specifically, the first argument is the similarity matrix between channels at layer 2 and channels at layer 3.\n",
    "The second argument is the similarity matrix between channels at layer 3 and channels at layer 4.\n",
    "\n",
    "A generalization of spectral biclustering should be performed. More details given in the assignment notebook.\n",
    "'''\n",
    "def multiway_spectral_clustering(sim_a2_a3, sim_a3_a4, n_clusters):\n",
    "    pass\n",
    "#\n",
    "\n",
    "'''\n",
    "TODO\n",
    "\n",
    "Given a link selected from the visualization, namely the layer and clusters at the individual layers, this route should compute the mean correlation from all channels in the source layer and all channels in the target layer, for each sample.\n",
    "'''\n",
    "@app.route('/link_score', methods=['GET','POST'])\n",
    "def link_score():\n",
    "    pass\n",
    "#\n",
    "\n",
    "'''\n",
    "TODO\n",
    "\n",
    "Given a layer (of your choosing), perform max-pooling over space, giving a vector of activations over channels for each sample. Perform UMAP to compute a 2D projection.\n",
    "'''\n",
    "@app.route('/channel_dr', methods=['GET','POST'])\n",
    "def channel_dr():\n",
    "    pass\n",
    "#\n",
    "\n",
    "'''\n",
    "TODO\n",
    "\n",
    "Compute correlation strength over selected instances, those brushed by the user.\n",
    "'''\n",
    "@app.route('/selected_correlation', methods=['GET','POST'])\n",
    "def selected_correlation():\n",
    "    pass\n",
    "#\n",
    "\n",
    "'''\n",
    "TODO\n",
    "\n",
    "Compute correlation strength over all instances.\n",
    "'''\n",
    "@app.route('/activation_correlation_clustering', methods=['GET'])\n",
    "def activation_correlation_clustering():\n",
    "    pass\n",
    "#\n",
    "\n",
    "'''\n",
    "TODO\n",
    "\n",
    "In the main, before running the server, run clustering, store results in variables a2_clustering, a3_clustering, a4_clustering\n",
    "'''\n",
    "# if __name__=='__main__':\n",
    "#     app.run()\n",
    "#"
   ]
  }
 ],
 "metadata": {
  "kernelspec": {
   "display_name": "ds",
   "language": "python",
   "name": "ds"
  },
  "language_info": {
   "codemirror_mode": {
    "name": "ipython",
    "version": 3
   },
   "file_extension": ".py",
   "mimetype": "text/x-python",
   "name": "python",
   "nbconvert_exporter": "python",
   "pygments_lexer": "ipython3",
   "version": "3.8.8"
  }
 },
 "nbformat": 4,
 "nbformat_minor": 5
}
