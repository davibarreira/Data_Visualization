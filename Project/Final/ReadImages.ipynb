{
 "cells": [
  {
   "cell_type": "code",
   "execution_count": 1,
   "id": "tamil-pacific",
   "metadata": {},
   "outputs": [
    {
     "data": {
      "text/plain": [
       "2000"
      ]
     },
     "execution_count": 1,
     "metadata": {},
     "output_type": "execute_result"
    }
   ],
   "source": [
    "using Base.Iterators: partition\n",
    "using Random\n",
    "using DataFrames, VegaLite, CSV, Images, ImageTransformations, MLDatasets\n",
    "ENV[\"COLUMNS\"] = 2000"
   ]
  },
  {
   "cell_type": "code",
   "execution_count": 2,
   "id": "adopted-whale",
   "metadata": {},
   "outputs": [],
   "source": [
    "df = CSV.read(\"./dataset/archive/main_dataset.csv\", DataFrame);\n",
    "f(x) = x[9:end]\n",
    "df[!,:img_correct_path] = \"./dataset/archive/book-covers/\".*f.(df[!,:img_paths]);\n",
    "\n",
    "Random.seed!(7)\n",
    "index_perm = Random.shuffle(collect(1:size(df)[1]))\n",
    "df = df[index_perm,:];"
   ]
  },
  {
   "cell_type": "code",
   "execution_count": 68,
   "id": "30af76ad-a9c8-489b-af31-70fdc7c9831c",
   "metadata": {},
   "outputs": [],
   "source": [
    "n = 5000 # number of images\n",
    "images = @. float(channelview(imresize(load(df[!,:img_correct_path][1:n]),ratio=0.3)));"
   ]
  },
  {
   "cell_type": "code",
   "execution_count": 60,
   "id": "5080ba14-5826-4a91-9121-13c4d5709f09",
   "metadata": {},
   "outputs": [],
   "source": [
    "# Load MNIST dataset\n",
    "imgs, _ = MLDatasets.MNIST.traindata(Float32)\n",
    "# Normalize to [-1, 1]\n",
    "image_tensor = reshape(@.(2f0 * imgs - 1f0),28*28,:)\n",
    "# Partition into batches\n",
    "data = [image_tensor[:,r] for r in partition(1:60000, 128)];"
   ]
  },
  {
   "cell_type": "code",
   "execution_count": 96,
   "id": "6ebf4009-243f-43fe-b104-ca9824dffa72",
   "metadata": {},
   "outputs": [
    {
     "data": {
      "text/html": [
       "<table class=\"data-frame\"><thead><tr><th></th><th>image</th><th>name</th><th>author</th><th>format</th><th>book_depository_stars</th><th>price</th><th>currency</th><th>old_price</th><th>isbn</th><th>category</th><th>img_paths</th><th>img_correct_path</th></tr><tr><th></th><th>String</th><th>String</th><th>String?</th><th>String?</th><th>Float64</th><th>String</th><th>String</th><th>Float64?</th><th>Int64</th><th>String</th><th>String</th><th>String</th></tr></thead><tbody><p>32,581 rows × 12 columns</p><tr><th>1</th><td>https://d1w7fb2mkkr3kw.cloudfront.net/assets/images/book/mid/9781/4197/9781419722158.jpg</td><td>Capture Your Style:Transform Your Instagram Photos, Showcase Your</td><td>Aimee Song</td><td>Paperback</td><td>3.5</td><td>14.38</td><td>$</td><td>19.1</td><td>9781419722158</td><td>Personal-Development</td><td>dataset/Personal-Development/0000704.jpg</td><td>./dataset/archive/book-covers/Personal-Development/0000704.jpg</td></tr><tr><th>2</th><td>https://d1w7fb2mkkr3kw.cloudfront.net/assets/images/book/mid/9780/0081/9780008157906.jpg</td><td>The Official A Game of Thrones Colouring Book</td><td>George R. R. Martin</td><td>Paperback</td><td>4.5</td><td>11.81</td><td>$</td><td>12.9</td><td>9780008157906</td><td>Crafts-Hobbies</td><td>dataset/Crafts-Hobbies/0000115.jpg</td><td>./dataset/archive/book-covers/Crafts-Hobbies/0000115.jpg</td></tr><tr><th>3</th><td>https://d1w7fb2mkkr3kw.cloudfront.net/assets/images/book/mid/9780/5533/9780553376050.jpg</td><td>How I Live Now</td><td>Meg Rosoff</td><td>Paperback</td><td>3.5</td><td>9.53</td><td>$</td><td>10.3</td><td>9780553376050</td><td>Poetry-Drama</td><td>dataset/Poetry-Drama/0000513.jpg</td><td>./dataset/archive/book-covers/Poetry-Drama/0000513.jpg</td></tr><tr><th>4</th><td>https://d1w7fb2mkkr3kw.cloudfront.net/assets/images/book/mid/9781/7821/9781782112235.jpg</td><td>Letters of Note</td><td>Shaun Usher</td><td>Hardback</td><td>4.5</td><td>30.98</td><td>$</td><td>37.6</td><td>9781782112235</td><td>Dictionaries-Languages</td><td>dataset/Dictionaries-Languages/0000034.jpg</td><td>./dataset/archive/book-covers/Dictionaries-Languages/0000034.jpg</td></tr><tr><th>5</th><td>https://d1w7fb2mkkr3kw.cloudfront.net/assets/images/book/mid/9780/0083/9780008313166.jpg</td><td>Perform Under Pressure</td><td>Ceri Evans</td><td>Paperback</td><td>4.5</td><td>15.1</td><td>$</td><td>19.1</td><td>9780008313166</td><td>Sport</td><td>dataset/Sport/0000036.jpg</td><td>./dataset/archive/book-covers/Sport/0000036.jpg</td></tr><tr><th>6</th><td>https://d1w7fb2mkkr3kw.cloudfront.net/assets/images/book/mid/9781/4736/9781473646483.jpg</td><td>Gino's Hidden Italy</td><td>Gino D'Acampo</td><td>Hardback</td><td>4.0</td><td>19.48</td><td>$</td><td>24.0</td><td>9781473646483</td><td>Food-Drink</td><td>dataset/Food-Drink/0000902.jpg</td><td>./dataset/archive/book-covers/Food-Drink/0000902.jpg</td></tr><tr><th>7</th><td>https://d1w7fb2mkkr3kw.cloudfront.net/assets/images/book/mid/9780/0617/9780061767593.jpg</td><td>L.A. Candy</td><td>Lauren Conrad</td><td>Paperback</td><td>3.5</td><td>7.87</td><td>$</td><td>10.3</td><td>9780061767593</td><td>Teen-Young-Adult</td><td>dataset/Teen-Young-Adult/0000417.jpg</td><td>./dataset/archive/book-covers/Teen-Young-Adult/0000417.jpg</td></tr><tr><th>8</th><td>https://d1w7fb2mkkr3kw.cloudfront.net/assets/images/book/mid/9780/1411/9780141198965.jpg</td><td>Frankenstein</td><td>Mary Shelley</td><td>Paperback</td><td>4.0</td><td>6.47</td><td>$</td><td>7.8</td><td>9780141198965</td><td>Science-Fiction-Fantasy-Horror</td><td>dataset/Science-Fiction-Fantasy-Horror/0000129.jpg</td><td>./dataset/archive/book-covers/Science-Fiction-Fantasy-Horror/0000129.jpg</td></tr><tr><th>9</th><td>https://d1w7fb2mkkr3kw.cloudfront.net/assets/images/book/mid/9781/7811/9781781164259.jpg</td><td>The Art of Assassin's Creed III</td><td>Andy McVittie</td><td>Hardback</td><td>4.5</td><td>19.74</td><td>$</td><td>30.9</td><td>9781781164259</td><td>Computing</td><td>dataset/Computing/0000516.jpg</td><td>./dataset/archive/book-covers/Computing/0000516.jpg</td></tr><tr><th>10</th><td>https://d1w7fb2mkkr3kw.cloudfront.net/assets/images/book/mid/9781/4736/9781473616127.jpg</td><td>The Moon is a Harsh Mistress</td><td>Robert A. Heinlein</td><td>Paperback</td><td>4.0</td><td>7.5</td><td>$</td><td>12.9</td><td>9781473616127</td><td>Science-Fiction-Fantasy-Horror</td><td>dataset/Science-Fiction-Fantasy-Horror/0000975.jpg</td><td>./dataset/archive/book-covers/Science-Fiction-Fantasy-Horror/0000975.jpg</td></tr><tr><th>11</th><td>https://d1w7fb2mkkr3kw.cloudfront.net/assets/images/book/mid/9780/4252/9780425259856.jpg</td><td>Dark Witch</td><td>Nora Roberts</td><td>Paperback</td><td>4.0</td><td>14.83</td><td>$</td><td>16.0</td><td>9780425259856</td><td>Romance</td><td>dataset/Romance/0000367.jpg</td><td>./dataset/archive/book-covers/Romance/0000367.jpg</td></tr><tr><th>12</th><td>https://d1w7fb2mkkr3kw.cloudfront.net/assets/images/book/mid/9780/3072/9780307277244.jpg</td><td>The Architecture of Happiness</td><td>Alain de Botton</td><td>Paperback</td><td>4.0</td><td>16.04</td><td>$</td><td>19.1</td><td>9780307277244</td><td>Society-Social-Sciences</td><td>dataset/Society-Social-Sciences/0000694.jpg</td><td>./dataset/archive/book-covers/Society-Social-Sciences/0000694.jpg</td></tr><tr><th>13</th><td>https://d1w7fb2mkkr3kw.cloudfront.net/assets/images/book/mid/9781/7876/9781787631151.jpg</td><td>Harry Potter: A Pop-Up Guide to Hogwarts</td><td>Matthew Reinhart</td><td>Hardback</td><td>5.0</td><td>47.84</td><td>$</td><td>60.0</td><td>9781787631151</td><td>Science-Fiction-Fantasy-Horror</td><td>dataset/Science-Fiction-Fantasy-Horror/0000342.jpg</td><td>./dataset/archive/book-covers/Science-Fiction-Fantasy-Horror/0000342.jpg</td></tr><tr><th>14</th><td>https://d1w7fb2mkkr3kw.cloudfront.net/assets/images/book/mid/9781/4447/9781444798234.jpg</td><td>Plants: From Roots to Riches</td><td>Kathy Willis</td><td>Hardback</td><td>4.0</td><td>18.39</td><td>$</td><td>24.2</td><td>9781444798234</td><td>Natural-History</td><td>dataset/Natural-History/0000942.jpg</td><td>./dataset/archive/book-covers/Natural-History/0000942.jpg</td></tr><tr><th>15</th><td>https://d1w7fb2mkkr3kw.cloudfront.net/assets/images/book/mid/9781/5098/9781509884742.jpg</td><td>The Secret Barrister</td><td>The Secret Barrister</td><td>Paperback</td><td>4.0</td><td>13.71</td><td>$</td><td>18.0</td><td>9781509884742</td><td>Biography</td><td>dataset/Biography/0000868.jpg</td><td>./dataset/archive/book-covers/Biography/0000868.jpg</td></tr><tr><th>16</th><td>https://d1w7fb2mkkr3kw.cloudfront.net/assets/images/book/mid/9781/9064/9781906427795.jpg</td><td>The Scorch Trials</td><td>James Dashner</td><td>Paperback</td><td>4.0</td><td>5.13</td><td>$</td><td>10.5</td><td>9781906427795</td><td>Childrens-Books</td><td>dataset/Childrens-Books/0000578.jpg</td><td>./dataset/archive/book-covers/Childrens-Books/0000578.jpg</td></tr><tr><th>17</th><td>https://d1w7fb2mkkr3kw.cloudfront.net/assets/images/book/mid/9780/1133/9780113310593.jpg</td><td>Managing successful projects with PRINCE2</td><td>Office of Government Commerce</td><td>Paperback</td><td>3.5</td><td>79.25</td><td>$</td><td>104.67</td><td>9780113310593</td><td>Business-Finance-Law</td><td>dataset/Business-Finance-Law/0000318.jpg</td><td>./dataset/archive/book-covers/Business-Finance-Law/0000318.jpg</td></tr><tr><th>18</th><td>https://d1w7fb2mkkr3kw.cloudfront.net/assets/images/book/mid/9781/8483/9781848373617.jpg</td><td>Culpepers Herbal</td><td>Nicholas Culpeper</td><td>Paperback</td><td>4.0</td><td>17.15</td><td>$</td><td><em>missing</em></td><td>9781848373617</td><td>Reference</td><td>dataset/Reference/0000410.jpg</td><td>./dataset/archive/book-covers/Reference/0000410.jpg</td></tr><tr><th>19</th><td>https://d1w7fb2mkkr3kw.cloudfront.net/assets/images/book/mid/9780/3352/9780335243327.jpg</td><td>How to Fix Your Academic Writing Trouble: A Practical Guide</td><td>Inger Mewburn</td><td>Paperback</td><td>4.5</td><td>28.74</td><td>$</td><td>30.9</td><td>9780335243327</td><td>Teaching-Resources-Education</td><td>dataset/Teaching-Resources-Education/0000337.jpg</td><td>./dataset/archive/book-covers/Teaching-Resources-Education/0000337.jpg</td></tr><tr><th>20</th><td>https://d1w7fb2mkkr3kw.cloudfront.net/assets/images/book/mid/9780/5712/9780571238330.jpg</td><td>The Animator's Survival Kit</td><td>Richard E. Williams</td><td>Hardback</td><td>4.5</td><td>84.37</td><td>$</td><td><em>missing</em></td><td>9780571238330</td><td>Computing</td><td>dataset/Computing/0000825.jpg</td><td>./dataset/archive/book-covers/Computing/0000825.jpg</td></tr><tr><th>21</th><td>https://d1w7fb2mkkr3kw.cloudfront.net/assets/images/book/mid/9781/7802/9781780227825.jpg</td><td>The Well-Tempered Garden</td><td>Christopher Lloyd</td><td>Paperback</td><td>4.5</td><td>15.75</td><td>$</td><td>21.1</td><td>9781780227825</td><td>Home-Garden</td><td>dataset/Home-Garden/0000872.jpg</td><td>./dataset/archive/book-covers/Home-Garden/0000872.jpg</td></tr><tr><th>22</th><td>https://d1w7fb2mkkr3kw.cloudfront.net/assets/images/book/mid/9781/5722/9781572246034.jpg</td><td>The Anxiety Workbook For Teens</td><td>Lisa M. Schab</td><td>Paperback</td><td>4.0</td><td>16.26</td><td>$</td><td><em>missing</em></td><td>9781572246034</td><td>Personal-Development</td><td>dataset/Personal-Development/0000643.jpg</td><td>./dataset/archive/book-covers/Personal-Development/0000643.jpg</td></tr><tr><th>23</th><td>https://d1w7fb2mkkr3kw.cloudfront.net/assets/images/book/mid/9780/7303/9780730368410.jpg</td><td>The Lean Dairy Farm</td><td>Jana Hocken</td><td>Paperback</td><td>5.0</td><td>16.69</td><td>$</td><td>19.2</td><td>9780730368410</td><td>Business-Finance-Law</td><td>dataset/Business-Finance-Law/0000722.jpg</td><td>./dataset/archive/book-covers/Business-Finance-Law/0000722.jpg</td></tr><tr><th>24</th><td>https://d1w7fb2mkkr3kw.cloudfront.net/assets/images/book/mid/9781/6267/9781626723634.jpg</td><td>The Prince and the Dressmaker</td><td>Jen Wang</td><td>Paperback</td><td>4.5</td><td>12.59</td><td>$</td><td>17.0</td><td>9781626723634</td><td>Graphic-Novels-Anime-Manga</td><td>dataset/Graphic-Novels-Anime-Manga/0000243.jpg</td><td>./dataset/archive/book-covers/Graphic-Novels-Anime-Manga/0000243.jpg</td></tr><tr><th>25</th><td>https://d1w7fb2mkkr3kw.cloudfront.net/assets/images/book/mid/9781/8461/9781846149061.jpg</td><td>Dear Data</td><td>Stefanie Posavec</td><td>Paperback</td><td>4.0</td><td>27.47</td><td>$</td><td>30.9</td><td>9781846149061</td><td>Reference</td><td>dataset/Reference/0000467.jpg</td><td>./dataset/archive/book-covers/Reference/0000467.jpg</td></tr><tr><th>26</th><td>https://d1w7fb2mkkr3kw.cloudfront.net/assets/images/book/mid/9780/3305/9780330533447.jpg</td><td>The Immortal Life of Henrietta Lacks</td><td>Rebecca Skloot</td><td>Paperback</td><td>4.0</td><td>8.48</td><td>$</td><td>12.9</td><td>9780330533447</td><td>Medical</td><td>dataset/Medical/0000029.jpg</td><td>./dataset/archive/book-covers/Medical/0000029.jpg</td></tr><tr><th>27</th><td>https://d1w7fb2mkkr3kw.cloudfront.net/assets/images/book/mid/9780/2413/9780241349649.jpg</td><td>The Salt Path</td><td>Raynor Winn</td><td>Hardback</td><td>4.0</td><td>17.58</td><td>$</td><td>18.0</td><td>9780241349649</td><td>Natural-History</td><td>dataset/Natural-History/0000210.jpg</td><td>./dataset/archive/book-covers/Natural-History/0000210.jpg</td></tr><tr><th>28</th><td>https://d1w7fb2mkkr3kw.cloudfront.net/assets/images/book/mid/9781/1076/9781107622708.jpg</td><td>Chemistry for the IB Diploma Coursebook</td><td>Steve Owen</td><td>Paperback</td><td>4.0</td><td>57.45</td><td>$</td><td><em>missing</em></td><td>9781107622708</td><td>Teaching-Resources-Education</td><td>dataset/Teaching-Resources-Education/0000749.jpg</td><td>./dataset/archive/book-covers/Teaching-Resources-Education/0000749.jpg</td></tr><tr><th>29</th><td>https://d1w7fb2mkkr3kw.cloudfront.net/assets/images/book/mid/9781/4736/9781473648630.jpg</td><td>Love Warrior (Oprah's Book Club)</td><td>Glennon Doyle Melton</td><td>Paperback</td><td>4.0</td><td>8.35</td><td>$</td><td>12.9</td><td>9781473648630</td><td>Health</td><td>dataset/Health/0000969.jpg</td><td>./dataset/archive/book-covers/Health/0000969.jpg</td></tr><tr><th>30</th><td>https://d1w7fb2mkkr3kw.cloudfront.net/assets/images/book/mid/9781/2500/9781250016324.jpg</td><td>Modern Calligraphy</td><td>Molly Suber Thorpe</td><td>Paperback</td><td>4.5</td><td>16.52</td><td>$</td><td>21.5</td><td>9781250016324</td><td>Crafts-Hobbies</td><td>dataset/Crafts-Hobbies/0000138.jpg</td><td>./dataset/archive/book-covers/Crafts-Hobbies/0000138.jpg</td></tr><tr><th>&vellip;</th><td>&vellip;</td><td>&vellip;</td><td>&vellip;</td><td>&vellip;</td><td>&vellip;</td><td>&vellip;</td><td>&vellip;</td><td>&vellip;</td><td>&vellip;</td><td>&vellip;</td><td>&vellip;</td><td>&vellip;</td></tr></tbody></table>"
      ],
      "text/latex": [
       "\\begin{tabular}{r|cccccccccccc}\n",
       "\t& image & name & author & format & book\\_depository\\_stars & price & currency & old\\_price & isbn & category & img\\_paths & img\\_correct\\_path\\\\\n",
       "\t\\hline\n",
       "\t& String & String & String? & String? & Float64 & String & String & Float64? & Int64 & String & String & String\\\\\n",
       "\t\\hline\n",
       "\t1 & https://d1w7fb2mkkr3kw.cloudfront.net/assets/images/book/mid/9781/4197/9781419722158.jpg & Capture Your Style:Transform Your Instagram Photos, Showcase Your & Aimee Song & Paperback & 3.5 & 14.38 & \\$ & 19.1 & 9781419722158 & Personal-Development & dataset/Personal-Development/0000704.jpg & ./dataset/archive/book-covers/Personal-Development/0000704.jpg \\\\\n",
       "\t2 & https://d1w7fb2mkkr3kw.cloudfront.net/assets/images/book/mid/9780/0081/9780008157906.jpg & The Official A Game of Thrones Colouring Book & George R. R. Martin & Paperback & 4.5 & 11.81 & \\$ & 12.9 & 9780008157906 & Crafts-Hobbies & dataset/Crafts-Hobbies/0000115.jpg & ./dataset/archive/book-covers/Crafts-Hobbies/0000115.jpg \\\\\n",
       "\t3 & https://d1w7fb2mkkr3kw.cloudfront.net/assets/images/book/mid/9780/5533/9780553376050.jpg & How I Live Now & Meg Rosoff & Paperback & 3.5 & 9.53 & \\$ & 10.3 & 9780553376050 & Poetry-Drama & dataset/Poetry-Drama/0000513.jpg & ./dataset/archive/book-covers/Poetry-Drama/0000513.jpg \\\\\n",
       "\t4 & https://d1w7fb2mkkr3kw.cloudfront.net/assets/images/book/mid/9781/7821/9781782112235.jpg & Letters of Note & Shaun Usher & Hardback & 4.5 & 30.98 & \\$ & 37.6 & 9781782112235 & Dictionaries-Languages & dataset/Dictionaries-Languages/0000034.jpg & ./dataset/archive/book-covers/Dictionaries-Languages/0000034.jpg \\\\\n",
       "\t5 & https://d1w7fb2mkkr3kw.cloudfront.net/assets/images/book/mid/9780/0083/9780008313166.jpg & Perform Under Pressure & Ceri Evans & Paperback & 4.5 & 15.1 & \\$ & 19.1 & 9780008313166 & Sport & dataset/Sport/0000036.jpg & ./dataset/archive/book-covers/Sport/0000036.jpg \\\\\n",
       "\t6 & https://d1w7fb2mkkr3kw.cloudfront.net/assets/images/book/mid/9781/4736/9781473646483.jpg & Gino's Hidden Italy & Gino D'Acampo & Hardback & 4.0 & 19.48 & \\$ & 24.0 & 9781473646483 & Food-Drink & dataset/Food-Drink/0000902.jpg & ./dataset/archive/book-covers/Food-Drink/0000902.jpg \\\\\n",
       "\t7 & https://d1w7fb2mkkr3kw.cloudfront.net/assets/images/book/mid/9780/0617/9780061767593.jpg & L.A. Candy & Lauren Conrad & Paperback & 3.5 & 7.87 & \\$ & 10.3 & 9780061767593 & Teen-Young-Adult & dataset/Teen-Young-Adult/0000417.jpg & ./dataset/archive/book-covers/Teen-Young-Adult/0000417.jpg \\\\\n",
       "\t8 & https://d1w7fb2mkkr3kw.cloudfront.net/assets/images/book/mid/9780/1411/9780141198965.jpg & Frankenstein & Mary Shelley & Paperback & 4.0 & 6.47 & \\$ & 7.8 & 9780141198965 & Science-Fiction-Fantasy-Horror & dataset/Science-Fiction-Fantasy-Horror/0000129.jpg & ./dataset/archive/book-covers/Science-Fiction-Fantasy-Horror/0000129.jpg \\\\\n",
       "\t9 & https://d1w7fb2mkkr3kw.cloudfront.net/assets/images/book/mid/9781/7811/9781781164259.jpg & The Art of Assassin's Creed III & Andy McVittie & Hardback & 4.5 & 19.74 & \\$ & 30.9 & 9781781164259 & Computing & dataset/Computing/0000516.jpg & ./dataset/archive/book-covers/Computing/0000516.jpg \\\\\n",
       "\t10 & https://d1w7fb2mkkr3kw.cloudfront.net/assets/images/book/mid/9781/4736/9781473616127.jpg & The Moon is a Harsh Mistress & Robert A. Heinlein & Paperback & 4.0 & 7.5 & \\$ & 12.9 & 9781473616127 & Science-Fiction-Fantasy-Horror & dataset/Science-Fiction-Fantasy-Horror/0000975.jpg & ./dataset/archive/book-covers/Science-Fiction-Fantasy-Horror/0000975.jpg \\\\\n",
       "\t11 & https://d1w7fb2mkkr3kw.cloudfront.net/assets/images/book/mid/9780/4252/9780425259856.jpg & Dark Witch & Nora Roberts & Paperback & 4.0 & 14.83 & \\$ & 16.0 & 9780425259856 & Romance & dataset/Romance/0000367.jpg & ./dataset/archive/book-covers/Romance/0000367.jpg \\\\\n",
       "\t12 & https://d1w7fb2mkkr3kw.cloudfront.net/assets/images/book/mid/9780/3072/9780307277244.jpg & The Architecture of Happiness & Alain de Botton & Paperback & 4.0 & 16.04 & \\$ & 19.1 & 9780307277244 & Society-Social-Sciences & dataset/Society-Social-Sciences/0000694.jpg & ./dataset/archive/book-covers/Society-Social-Sciences/0000694.jpg \\\\\n",
       "\t13 & https://d1w7fb2mkkr3kw.cloudfront.net/assets/images/book/mid/9781/7876/9781787631151.jpg & Harry Potter: A Pop-Up Guide to Hogwarts & Matthew Reinhart & Hardback & 5.0 & 47.84 & \\$ & 60.0 & 9781787631151 & Science-Fiction-Fantasy-Horror & dataset/Science-Fiction-Fantasy-Horror/0000342.jpg & ./dataset/archive/book-covers/Science-Fiction-Fantasy-Horror/0000342.jpg \\\\\n",
       "\t14 & https://d1w7fb2mkkr3kw.cloudfront.net/assets/images/book/mid/9781/4447/9781444798234.jpg & Plants: From Roots to Riches & Kathy Willis & Hardback & 4.0 & 18.39 & \\$ & 24.2 & 9781444798234 & Natural-History & dataset/Natural-History/0000942.jpg & ./dataset/archive/book-covers/Natural-History/0000942.jpg \\\\\n",
       "\t15 & https://d1w7fb2mkkr3kw.cloudfront.net/assets/images/book/mid/9781/5098/9781509884742.jpg & The Secret Barrister & The Secret Barrister & Paperback & 4.0 & 13.71 & \\$ & 18.0 & 9781509884742 & Biography & dataset/Biography/0000868.jpg & ./dataset/archive/book-covers/Biography/0000868.jpg \\\\\n",
       "\t16 & https://d1w7fb2mkkr3kw.cloudfront.net/assets/images/book/mid/9781/9064/9781906427795.jpg & The Scorch Trials & James Dashner & Paperback & 4.0 & 5.13 & \\$ & 10.5 & 9781906427795 & Childrens-Books & dataset/Childrens-Books/0000578.jpg & ./dataset/archive/book-covers/Childrens-Books/0000578.jpg \\\\\n",
       "\t17 & https://d1w7fb2mkkr3kw.cloudfront.net/assets/images/book/mid/9780/1133/9780113310593.jpg & Managing successful projects with PRINCE2 & Office of Government Commerce & Paperback & 3.5 & 79.25 & \\$ & 104.67 & 9780113310593 & Business-Finance-Law & dataset/Business-Finance-Law/0000318.jpg & ./dataset/archive/book-covers/Business-Finance-Law/0000318.jpg \\\\\n",
       "\t18 & https://d1w7fb2mkkr3kw.cloudfront.net/assets/images/book/mid/9781/8483/9781848373617.jpg & Culpepers Herbal & Nicholas Culpeper & Paperback & 4.0 & 17.15 & \\$ & \\emph{missing} & 9781848373617 & Reference & dataset/Reference/0000410.jpg & ./dataset/archive/book-covers/Reference/0000410.jpg \\\\\n",
       "\t19 & https://d1w7fb2mkkr3kw.cloudfront.net/assets/images/book/mid/9780/3352/9780335243327.jpg & How to Fix Your Academic Writing Trouble: A Practical Guide & Inger Mewburn & Paperback & 4.5 & 28.74 & \\$ & 30.9 & 9780335243327 & Teaching-Resources-Education & dataset/Teaching-Resources-Education/0000337.jpg & ./dataset/archive/book-covers/Teaching-Resources-Education/0000337.jpg \\\\\n",
       "\t20 & https://d1w7fb2mkkr3kw.cloudfront.net/assets/images/book/mid/9780/5712/9780571238330.jpg & The Animator's Survival Kit & Richard E. Williams & Hardback & 4.5 & 84.37 & \\$ & \\emph{missing} & 9780571238330 & Computing & dataset/Computing/0000825.jpg & ./dataset/archive/book-covers/Computing/0000825.jpg \\\\\n",
       "\t21 & https://d1w7fb2mkkr3kw.cloudfront.net/assets/images/book/mid/9781/7802/9781780227825.jpg & The Well-Tempered Garden & Christopher Lloyd & Paperback & 4.5 & 15.75 & \\$ & 21.1 & 9781780227825 & Home-Garden & dataset/Home-Garden/0000872.jpg & ./dataset/archive/book-covers/Home-Garden/0000872.jpg \\\\\n",
       "\t22 & https://d1w7fb2mkkr3kw.cloudfront.net/assets/images/book/mid/9781/5722/9781572246034.jpg & The Anxiety Workbook For Teens & Lisa M. Schab & Paperback & 4.0 & 16.26 & \\$ & \\emph{missing} & 9781572246034 & Personal-Development & dataset/Personal-Development/0000643.jpg & ./dataset/archive/book-covers/Personal-Development/0000643.jpg \\\\\n",
       "\t23 & https://d1w7fb2mkkr3kw.cloudfront.net/assets/images/book/mid/9780/7303/9780730368410.jpg & The Lean Dairy Farm & Jana Hocken & Paperback & 5.0 & 16.69 & \\$ & 19.2 & 9780730368410 & Business-Finance-Law & dataset/Business-Finance-Law/0000722.jpg & ./dataset/archive/book-covers/Business-Finance-Law/0000722.jpg \\\\\n",
       "\t24 & https://d1w7fb2mkkr3kw.cloudfront.net/assets/images/book/mid/9781/6267/9781626723634.jpg & The Prince and the Dressmaker & Jen Wang & Paperback & 4.5 & 12.59 & \\$ & 17.0 & 9781626723634 & Graphic-Novels-Anime-Manga & dataset/Graphic-Novels-Anime-Manga/0000243.jpg & ./dataset/archive/book-covers/Graphic-Novels-Anime-Manga/0000243.jpg \\\\\n",
       "\t25 & https://d1w7fb2mkkr3kw.cloudfront.net/assets/images/book/mid/9781/8461/9781846149061.jpg & Dear Data & Stefanie Posavec & Paperback & 4.0 & 27.47 & \\$ & 30.9 & 9781846149061 & Reference & dataset/Reference/0000467.jpg & ./dataset/archive/book-covers/Reference/0000467.jpg \\\\\n",
       "\t26 & https://d1w7fb2mkkr3kw.cloudfront.net/assets/images/book/mid/9780/3305/9780330533447.jpg & The Immortal Life of Henrietta Lacks & Rebecca Skloot & Paperback & 4.0 & 8.48 & \\$ & 12.9 & 9780330533447 & Medical & dataset/Medical/0000029.jpg & ./dataset/archive/book-covers/Medical/0000029.jpg \\\\\n",
       "\t27 & https://d1w7fb2mkkr3kw.cloudfront.net/assets/images/book/mid/9780/2413/9780241349649.jpg & The Salt Path & Raynor Winn & Hardback & 4.0 & 17.58 & \\$ & 18.0 & 9780241349649 & Natural-History & dataset/Natural-History/0000210.jpg & ./dataset/archive/book-covers/Natural-History/0000210.jpg \\\\\n",
       "\t28 & https://d1w7fb2mkkr3kw.cloudfront.net/assets/images/book/mid/9781/1076/9781107622708.jpg & Chemistry for the IB Diploma Coursebook & Steve Owen & Paperback & 4.0 & 57.45 & \\$ & \\emph{missing} & 9781107622708 & Teaching-Resources-Education & dataset/Teaching-Resources-Education/0000749.jpg & ./dataset/archive/book-covers/Teaching-Resources-Education/0000749.jpg \\\\\n",
       "\t29 & https://d1w7fb2mkkr3kw.cloudfront.net/assets/images/book/mid/9781/4736/9781473648630.jpg & Love Warrior (Oprah's Book Club) & Glennon Doyle Melton & Paperback & 4.0 & 8.35 & \\$ & 12.9 & 9781473648630 & Health & dataset/Health/0000969.jpg & ./dataset/archive/book-covers/Health/0000969.jpg \\\\\n",
       "\t30 & https://d1w7fb2mkkr3kw.cloudfront.net/assets/images/book/mid/9781/2500/9781250016324.jpg & Modern Calligraphy & Molly Suber Thorpe & Paperback & 4.5 & 16.52 & \\$ & 21.5 & 9781250016324 & Crafts-Hobbies & dataset/Crafts-Hobbies/0000138.jpg & ./dataset/archive/book-covers/Crafts-Hobbies/0000138.jpg \\\\\n",
       "\t$\\dots$ & $\\dots$ & $\\dots$ & $\\dots$ & $\\dots$ & $\\dots$ & $\\dots$ & $\\dots$ & $\\dots$ & $\\dots$ & $\\dots$ & $\\dots$ & $\\dots$ \\\\\n",
       "\\end{tabular}\n"
      ],
      "text/plain": [
       "\u001b[1m32581×12 DataFrame\u001b[0m\n",
       "\u001b[1m   Row \u001b[0m│\u001b[1m image                             \u001b[0m\u001b[1m name                              \u001b[0m\u001b[1m author                 \u001b[0m\u001b[1m format    \u001b[0m\u001b[1m book_depository_stars \u001b[0m\u001b[1m price    \u001b[0m\u001b[1m currency \u001b[0m\u001b[1m old_price  \u001b[0m\u001b[1m isbn          \u001b[0m\u001b[1m category                       \u001b[0m\u001b[1m img_paths                         \u001b[0m\u001b[1m img_correct_path                  \u001b[0m\n",
       "\u001b[1m       \u001b[0m│\u001b[90m String                            \u001b[0m\u001b[90m String                            \u001b[0m\u001b[90m String?                \u001b[0m\u001b[90m String?   \u001b[0m\u001b[90m Float64               \u001b[0m\u001b[90m String   \u001b[0m\u001b[90m String   \u001b[0m\u001b[90m Float64?   \u001b[0m\u001b[90m Int64         \u001b[0m\u001b[90m String                         \u001b[0m\u001b[90m String                            \u001b[0m\u001b[90m String                            \u001b[0m\n",
       "───────┼─────────────────────────────────────────────────────────────────────────────────────────────────────────────────────────────────────────────────────────────────────────────────────────────────────────────────────────────────────────────────────────────────────────────────────\n",
       "     1 │ https://d1w7fb2mkkr3kw.cloudfron…  Capture Your Style:Transform You…  Aimee Song              Paperback                    3.5  14.38     $              19.1   9781419722158  Personal-Development            dataset/Personal-Development/000…  ./dataset/archive/book-covers/Pe…\n",
       "     2 │ https://d1w7fb2mkkr3kw.cloudfron…  The Official A Game of Thrones C…  George R. R. Martin     Paperback                    4.5  11.81     $              12.9   9780008157906  Crafts-Hobbies                  dataset/Crafts-Hobbies/0000115.j…  ./dataset/archive/book-covers/Cr…\n",
       "     3 │ https://d1w7fb2mkkr3kw.cloudfron…  How I Live Now                     Meg Rosoff              Paperback                    3.5  9.53      $              10.3   9780553376050  Poetry-Drama                    dataset/Poetry-Drama/0000513.jpg   ./dataset/archive/book-covers/Po…\n",
       "     4 │ https://d1w7fb2mkkr3kw.cloudfron…  Letters of Note                    Shaun Usher             Hardback                     4.5  30.98     $              37.6   9781782112235  Dictionaries-Languages          dataset/Dictionaries-Languages/0…  ./dataset/archive/book-covers/Di…\n",
       "     5 │ https://d1w7fb2mkkr3kw.cloudfron…  Perform Under Pressure             Ceri Evans              Paperback                    4.5  15.1      $              19.1   9780008313166  Sport                           dataset/Sport/0000036.jpg          ./dataset/archive/book-covers/Sp…\n",
       "     6 │ https://d1w7fb2mkkr3kw.cloudfron…  Gino's Hidden Italy                Gino D'Acampo           Hardback                     4.0  19.48     $              24.0   9781473646483  Food-Drink                      dataset/Food-Drink/0000902.jpg     ./dataset/archive/book-covers/Fo…\n",
       "     7 │ https://d1w7fb2mkkr3kw.cloudfron…  L.A. Candy                         Lauren Conrad           Paperback                    3.5  7.87      $              10.3   9780061767593  Teen-Young-Adult                dataset/Teen-Young-Adult/0000417…  ./dataset/archive/book-covers/Te…\n",
       "     8 │ https://d1w7fb2mkkr3kw.cloudfron…  Frankenstein                       Mary Shelley            Paperback                    4.0  6.47      $               7.8   9780141198965  Science-Fiction-Fantasy-Horror  dataset/Science-Fiction-Fantasy-…  ./dataset/archive/book-covers/Sc…\n",
       "     9 │ https://d1w7fb2mkkr3kw.cloudfron…  The Art of Assassin's Creed III    Andy McVittie           Hardback                     4.5  19.74     $              30.9   9781781164259  Computing                       dataset/Computing/0000516.jpg      ./dataset/archive/book-covers/Co…\n",
       "    10 │ https://d1w7fb2mkkr3kw.cloudfron…  The Moon is a Harsh Mistress       Robert A. Heinlein      Paperback                    4.0  7.5       $              12.9   9781473616127  Science-Fiction-Fantasy-Horror  dataset/Science-Fiction-Fantasy-…  ./dataset/archive/book-covers/Sc…\n",
       "    11 │ https://d1w7fb2mkkr3kw.cloudfron…  Dark Witch                         Nora Roberts            Paperback                    4.0  14.83     $              16.0   9780425259856  Romance                         dataset/Romance/0000367.jpg        ./dataset/archive/book-covers/Ro…\n",
       "   ⋮   │                 ⋮                                  ⋮                            ⋮                 ⋮                ⋮               ⋮         ⋮          ⋮             ⋮                      ⋮                                 ⋮                                  ⋮\n",
       " 32572 │ https://d1w7fb2mkkr3kw.cloudfron…  Image Transfer Workshop            Darlene Olivia McElroy  Paperback                    4.0  20.15     $              20.39  9781600611605  Crafts-Hobbies                  dataset/Crafts-Hobbies/0000874.j…  ./dataset/archive/book-covers/Cr…\n",
       " 32573 │ https://d1w7fb2mkkr3kw.cloudfron…  Modern Engineering Mathematics     Glyn James              Paperback                    4.5  66.59     $        \u001b[90m missing    \u001b[0m 9781292080734  Technology-Engineering          dataset/Technology-Engineering/0…  ./dataset/archive/book-covers/Te…\n",
       " 32574 │ https://d1w7fb2mkkr3kw.cloudfron…  Fever                              Maya Banks              Paperback                    4.0  US$12.17  $        \u001b[90m missing    \u001b[0m 9780425267066  Romance                         dataset/Romance/0000697.jpg        ./dataset/archive/book-covers/Ro…\n",
       " 32575 │ https://d1w7fb2mkkr3kw.cloudfron…  SAS Survival Handbook, Third Edi…  John 'Lofty' Wiseman    Paperback                    4.5  18.02     $              21.5   9780062378071  Sport                           dataset/Sport/0000117.jpg          ./dataset/archive/book-covers/Sp…\n",
       " 32576 │ https://d1w7fb2mkkr3kw.cloudfron…  Underland                          Robert Macfarlane       Hardback                     4.5  20.58     $              24.0   9780241143803  Technology-Engineering          dataset/Technology-Engineering/0…  ./dataset/archive/book-covers/Te…\n",
       " 32577 │ https://d1w7fb2mkkr3kw.cloudfron…  Paris in Color                     Nichole Robertson       Hardback                     4.0  12.84     $              18.0   9781452105949  Travel-Holiday-Guides           dataset/Travel-Holiday-Guides/00…  ./dataset/archive/book-covers/Tr…\n",
       " 32578 │ https://d1w7fb2mkkr3kw.cloudfron…  Facing Codependence                Pia Mellody             Paperback                    4.0  11.22     $              16.0   9780062505897  Mind-Body-Spirit                dataset/Mind-Body-Spirit/0000483…  ./dataset/archive/book-covers/Mi…\n",
       " 32579 │ https://d1w7fb2mkkr3kw.cloudfron…  Porsche 944 (83 - 89)              Larry Warren            Paperback                    3.5  24.42     $              27.5   9781850106579  Technology-Engineering          dataset/Technology-Engineering/0…  ./dataset/archive/book-covers/Te…\n",
       " 32580 │ https://d1w7fb2mkkr3kw.cloudfron…  The Gene                           Siddhartha Mukherjee    Paperback                    4.5  12.59     $        \u001b[90m missing    \u001b[0m 9780099584575  Medical                         dataset/Medical/0000102.jpg        ./dataset/archive/book-covers/Me…\n",
       " 32581 │ https://d1w7fb2mkkr3kw.cloudfron…  The Fiberglass Boat Repair Manual  Allan H. Vaitses        Hardback                     4.0  22.85     $              29.9   9780071569149  Transport                       dataset/Transport/0000426.jpg      ./dataset/archive/book-covers/Tr…\n",
       "\u001b[36m                                                                                                                                                                                                                                                                           32560 rows omitted\u001b[0m"
      ]
     },
     "execution_count": 96,
     "metadata": {},
     "output_type": "execute_result"
    }
   ],
   "source": []
  },
  {
   "cell_type": "code",
   "execution_count": null,
   "id": "bf576899-cd15-41ac-835a-ea22a8abc00a",
   "metadata": {},
   "outputs": [],
   "source": []
  }
 ],
 "metadata": {
  "kernelspec": {
   "display_name": "Julia 1.6.1",
   "language": "julia",
   "name": "julia-1.6"
  },
  "language_info": {
   "file_extension": ".jl",
   "mimetype": "application/julia",
   "name": "julia",
   "version": "1.6.1"
  }
 },
 "nbformat": 4,
 "nbformat_minor": 5
}
