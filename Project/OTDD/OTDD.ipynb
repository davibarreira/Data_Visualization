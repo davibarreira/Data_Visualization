{
 "cells": [
  {
   "cell_type": "code",
   "execution_count": 2,
   "id": "1eae6090-caa2-45ef-818d-f211378973c4",
   "metadata": {},
   "outputs": [],
   "source": [
    "using OptimalTransport\n",
    "using VegaLite\n",
    "using MLDatasets\n",
    "using Distances\n",
    "using Distributions\n",
    "using Images\n",
    "using DataFrames\n",
    "using LinearAlgebra\n",
    "using SparseArrays\n",
    "using Tulip\n",
    "using UMAP"
   ]
  },
  {
   "cell_type": "markdown",
   "id": "4881ca93-6bdd-473a-88d0-7a138564053d",
   "metadata": {},
   "source": [
    "# 1. Importing and reshaping datasets"
   ]
  },
  {
   "cell_type": "code",
   "execution_count": 183,
   "id": "326d2d9e-4828-4609-926f-157f3187e09d",
   "metadata": {},
   "outputs": [],
   "source": [
    "mnist_x = reshape(MNIST.traintensor(Float64),28*28,:);\n",
    "mnist_y = MNIST.trainlabels(1:size(mnist_x, 2));\n",
    "fmnist_x = reshape(FashionMNIST.traintensor(Float64),28*28,:);\n",
    "fmnist_y = FashionMNIST.trainlabels(1:size(fmnist_x, 2));\n",
    "\n",
    "N = 100\n",
    "mnist_x  = mnist_x'[1:N,:]\n",
    "mnist_y  = mnist_y[1:N]\n",
    "fmnist_x = fmnist_x'[1:N,:]\n",
    "fmnist_y = fmnist_y[1:N];"
   ]
  },
  {
   "cell_type": "code",
   "execution_count": 184,
   "id": "6578a855-645c-407a-8177-c759c2319810",
   "metadata": {},
   "outputs": [],
   "source": [
    "img_url = vcat(\n",
    "    [\"./images/mnist_\"*string(i)*\".png\" for i in 1:N],\n",
    "    [\"./images/fmnist_\"*string(i)*\".png\" for i in 1:N]);"
   ]
  },
  {
   "cell_type": "markdown",
   "id": "aac0ec2b-98e8-4e17-b231-b3b058986cb9",
   "metadata": {},
   "source": [
    "# 2. Calculating the Optimal Transport Dataset Distance2. Calculating the Optimal Transport Dataset Distance"
   ]
  },
  {
   "cell_type": "code",
   "execution_count": 185,
   "id": "f1b08c39-acc2-4ec8-a64a-bf48a27c8321",
   "metadata": {},
   "outputs": [
    {
     "data": {
      "text/plain": [
       "otdd"
      ]
     },
     "execution_count": 185,
     "metadata": {},
     "output_type": "execute_result"
    }
   ],
   "source": [
    "\"\"\"\n",
    "    _fit_MvNormals(X,y)\n",
    "`X` is the feature dataset, where rows are the samples and the columns\n",
    "are feateus. Vector `y` is the label vector.\n",
    "\"\"\"\n",
    "function _fit_MvNormals(X,y)\n",
    "    labels = sort(unique(y))\n",
    "    α = []\n",
    "    for i in labels\n",
    "        Σ = cov(X[y .== i,:]);\n",
    "        Σ += max(0,-2*eigmin(Σ))*I\n",
    "        m = vec(mean(X[y .== i, :],dims=1))\n",
    "        push!(α, MvNormal(m,Σ))\n",
    "    end\n",
    "    return α\n",
    "end\n",
    "\n",
    "function _getW(X1, y1, X2, y2)\n",
    "    α1 = _fit_MvNormals(X1, y1)\n",
    "    α2 = _fit_MvNormals(X2, y2)\n",
    "    \n",
    "    Wα = zeros(length(α1),length(α2))\n",
    "    for (i,j) in Iterators.product(1:length(α1),1:length(α2))\n",
    "        Wα[i,j] = ot_cost(SqEuclidean(), α1[i],α2[j])\n",
    "    end\n",
    "    return Wα\n",
    "end\n",
    "\n",
    "\"\"\"\n",
    "    otdd(dx, D1, D2, ε = 0.1)\n",
    "Calculates the Optimal Transport Dataset Distance between\n",
    "datasets D1 and D2, using metric dx between features\n",
    "distance. Note that `dx` must be a `PreMetric` from `Distances.jl`.\n",
    "\"\"\"\n",
    "function otdd(X1, y1, X2, y2; ε = 1, dx=SqEuclidean(), W = nothing)\n",
    "    if W == nothing\n",
    "        α1 = _fit_MvNormals(X1, y1)\n",
    "        α2 = _fit_MvNormals(X2, y2)\n",
    "\n",
    "        # store the 2-Wasserstein distance\n",
    "        # between P(X1 | y1 = i) and P(X2 | y2 = j)\n",
    "        W = zeros(length(α1),length(α2))\n",
    "        for (i,j) in Iterators.product(1:length(α1),1:length(α2))\n",
    "            W[i,j] = ot_cost(SqEuclidean(), α1[i],α2[j])\n",
    "        end\n",
    "    end\n",
    "    \n",
    "    C = pairwise(dx, X1, X2, dims=1);\n",
    "    for (i,j) in Iterators.product(1:N,1:N)\n",
    "        C[i,j] = sqrt(C[i,j] + W[y1[i]+1,y2[j]+1])\n",
    "    end\n",
    "    \n",
    "    n1 = length(y1)\n",
    "    n2 = length(y2)\n",
    "    γ = sinkhorn_stabilized(ones(n1)./n1, ones(n2)./n2, C, ε, maxiter=10_000);\n",
    "    \n",
    "    return C, γ, dot(C,γ)\n",
    "end"
   ]
  },
  {
   "cell_type": "code",
   "execution_count": 177,
   "id": "4ba3c5d6-0292-4d3e-89da-11bea6fd98bd",
   "metadata": {},
   "outputs": [],
   "source": [
    "Wα = _getW(mnist_x, mnist_y, fmnist_x, fmnist_y);"
   ]
  },
  {
   "cell_type": "code",
   "execution_count": 187,
   "id": "2fff9a21-379b-48f4-a93d-3fa3a16a8f4f",
   "metadata": {},
   "outputs": [],
   "source": [
    "C, γ, cost = otdd(mnist_x, mnist_y, fmnist_x, fmnist_y, ε=0.05,W = Wα);"
   ]
  },
  {
   "cell_type": "markdown",
   "id": "9124d9b9-ed46-4f0c-ab60-de7b0ef72dbb",
   "metadata": {},
   "source": [
    "# 3. Visulizing the Optimal Transport Plan"
   ]
  },
  {
   "cell_type": "markdown",
   "id": "0500888e-eb9d-4826-b8ec-c9ce155433d9",
   "metadata": {},
   "source": [
    "Auxiliary Visualization Functions "
   ]
  },
  {
   "cell_type": "code",
   "execution_count": 238,
   "id": "28295e31-6544-42cb-9161-d2bd42d586e6",
   "metadata": {},
   "outputs": [],
   "source": [
    "\"\"\"\n",
    "    CreateEdges(μ,ν,γ)\n",
    "Creates the edges for plotting.\n",
    "μ and ν correspond to the positions of the mass\n",
    "of the distributions.\n",
    "\"\"\"\n",
    "function CreateEdges(μ, ν, γ; ewfilter=0)\n",
    "    edges = Array{Float64}(undef, 0, 2)\n",
    "    pe    = []\n",
    "    source    = []\n",
    "    target    = []\n",
    "    for i in 1:size(μ)[1], j in 1:size(ν)[1]\n",
    "        edges  = vcat(edges,[μ[i,1],μ[i,2]]')\n",
    "        edges  = vcat(edges,[ν[j,1],ν[j,2]]')\n",
    "        pe     = vcat(pe,string([i,j]))\n",
    "        pe     = vcat(pe,string([i,j]))\n",
    "        source = vcat(source,i)\n",
    "        source = vcat(source,i)\n",
    "        target = vcat(target,j)\n",
    "        target = vcat(target,j)\n",
    "    end\n",
    "    df = DataFrame(edges_x=edges[:,1],edges_y = edges[:,2],pe=pe, source=source, target=target);\n",
    "    edge_w = []\n",
    "    for i in 1:size(γ)[1], j in 1:size(γ)[1]\n",
    "        edge_w = vcat(edge_w,γ[i,j])\n",
    "        edge_w = vcat(edge_w,γ[i,j])\n",
    "    end\n",
    "    df[!,\"ew\"] = edge_w./maximum(edge_w);\n",
    "    \n",
    "    filter = ewfilter\n",
    "    df = df[df[:,:ew] .>= filter,:];\n",
    "    df[!,:id] .= 1:size(df)[1];\n",
    "    return df\n",
    "end\n",
    "\n",
    "\"\"\"\n",
    "    PlotOT(μ,ν,γ;title=\"\",width=200,height=200)\n",
    "VegaLite.jl specification for creating visulizations\n",
    "of Optimal Transport plan.\n",
    "\"\"\"\n",
    "function PlotOT(μ,ν,γ;filter=0.0,title=\"\",width=300,height=300, ewfilter=0.5)\n",
    "    df = CreateEdges(μ,ν,γ, ewfilter=ewfilter)\n",
    "    \n",
    "#     df = df[df[:,:ew] .>= filter,:]\n",
    "    v1 = @vlplot(\n",
    "        mark={:circle,opacity=1},\n",
    "        x={μ[:,1],type=\"quantitative\",axis=nothing},\n",
    "        y={μ[:,2],type=\"quantitative\",axis=nothing},\n",
    "        width=width,\n",
    "        height=height)\n",
    "    v2 = @vlplot(\n",
    "        mark={\"type\"=:circle,color=\"red\",opacity=1},\n",
    "        x={ν[:,1],type=\"quantitative\",axis=nothing},\n",
    "        y={ν[:,2],type=\"quantitative\",axis=nothing},\n",
    "        width=width,\n",
    "        height=height)\n",
    "\n",
    "    v3 = @vlplot(\n",
    "        mark={\"type\"=:line,color=\"black\",clip=false},\n",
    "        data = df,\n",
    "        encoding={\n",
    "        x={\"edges_x:q\",axis=nothing},\n",
    "        y={\"edges_y:q\",axis=nothing},\n",
    "        opacity={\"ew:q\",legend=nothing},\n",
    "        size={\"ew:o\",scale={range=[0,2]},legend=nothing},\n",
    "        detail={\"pe:o\"}},\n",
    "        width=width,\n",
    "        height=height\n",
    "    )\n",
    "    v = @vlplot(view={stroke=nothing},title={text=title, dy=-25, fontSize=14})+v3+v2+v1\n",
    "    return v\n",
    "end;"
   ]
  },
  {
   "cell_type": "code",
   "execution_count": 239,
   "id": "e4be73ec-ecf6-418d-abb2-88ac1f205a67",
   "metadata": {},
   "outputs": [],
   "source": [
    "res_jl = umap(hcat(mnist_x',fmnist_x'); n_neighbors=10, min_dist=0.001, n_epochs=200)'\n",
    "df = DataFrame(\n",
    "    x1     = res_jl[:,1],\n",
    "    x2     = res_jl[:,2],\n",
    "    label  = vcat(mnist_y,fmnist_y),\n",
    "    dataset= vcat([\"mnist\" for i in 1:N],[\"fmnist\" for i in 1:N]));"
   ]
  },
  {
   "cell_type": "code",
   "execution_count": null,
   "id": "d2f33f1c-3ddf-4877-bbff-631091e4ac8d",
   "metadata": {},
   "outputs": [],
   "source": []
  },
  {
   "cell_type": "code",
   "execution_count": 240,
   "id": "0366f9c9-4c46-44cc-aab0-c6e30cbd5331",
   "metadata": {},
   "outputs": [],
   "source": [
    "d_mnist  = Matrix(df[df[:,:dataset].==\"mnist\",[:x1,:x2]])\n",
    "d_fmnist = Matrix(df[df[:,:dataset].==\"fmnist\",[:x1,:x2]]);"
   ]
  },
  {
   "cell_type": "code",
   "execution_count": 241,
   "id": "e3a25f87-ff4c-47af-b2fb-d356f4d19d74",
   "metadata": {},
   "outputs": [],
   "source": [
    "edges = CreateEdges(d_mnist, d_fmnist, γ, ewfilter=0.1);"
   ]
  },
  {
   "cell_type": "code",
   "execution_count": 242,
   "id": "0658e63c-018d-4259-847e-409aa014a76b",
   "metadata": {},
   "outputs": [
    {
     "data": {
      "text/plain": [
       "getlargerew (generic function with 1 method)"
      ]
     },
     "execution_count": 242,
     "metadata": {},
     "output_type": "execute_result"
    }
   ],
   "source": [
    "function getlargerew(edges)\n",
    "    l_edgesid = unique(sort(edges,:ew, rev=true),:source)[!,:id]\n",
    "    l_edges   = edges[sort(vcat(l_edgesid,l_edgesid .+1)),:]\n",
    "    return l_edges\n",
    "end"
   ]
  },
  {
   "cell_type": "code",
   "execution_count": 247,
   "id": "5e08df31-206d-4641-9bd6-d4c25988a41b",
   "metadata": {},
   "outputs": [
    {
     "data": {
      "text/plain": [
       "getlargerew (generic function with 2 methods)"
      ]
     },
     "execution_count": 247,
     "metadata": {},
     "output_type": "execute_result"
    }
   ],
   "source": [
    "function getlargerew(edges, n=1)\n",
    "    return combine(groupby(edges, :source)) do sdf\n",
    "        first(sort(sdf,:ew; rev=true),n)\n",
    "    end\n",
    "end"
   ]
  },
  {
   "cell_type": "code",
   "execution_count": 248,
   "id": "e1547b6b-fafe-49dd-b85c-0e8a6cb017d3",
   "metadata": {},
   "outputs": [
    {
     "data": {
      "text/html": [
       "<table class=\"data-frame\"><thead><tr><th></th><th>source</th><th>edges_x</th><th>edges_y</th><th>pe</th><th>target</th><th>ew</th><th>id</th></tr><tr><th></th><th>Any</th><th>Float64</th><th>Float64</th><th>Any</th><th>Any</th><th>Float64</th><th>Int64</th></tr></thead><tbody><p>200 rows × 7 columns</p><tr><th>1</th><td>1</td><td>0.428608</td><td>0.385411</td><td>[1, 61]</td><td>61</td><td>0.9729</td><td>1</td></tr><tr><th>2</th><td>1</td><td>2.18922</td><td>-0.438729</td><td>[1, 61]</td><td>61</td><td>0.9729</td><td>2</td></tr><tr><th>3</th><td>2</td><td>0.306254</td><td>2.83574</td><td>[2, 96]</td><td>96</td><td>0.409002</td><td>7</td></tr><tr><th>4</th><td>2</td><td>4.77988</td><td>-1.19144</td><td>[2, 96]</td><td>96</td><td>0.409002</td><td>8</td></tr><tr><th>5</th><td>3</td><td>1.2561</td><td>-0.80477</td><td>[3, 38]</td><td>38</td><td>0.448414</td><td>9</td></tr><tr><th>6</th><td>3</td><td>2.22061</td><td>0.0789145</td><td>[3, 38]</td><td>38</td><td>0.448414</td><td>10</td></tr><tr><th>7</th><td>4</td><td>-2.10502</td><td>0.236841</td><td>[4, 37]</td><td>37</td><td>0.480233</td><td>17</td></tr><tr><th>8</th><td>4</td><td>2.3745</td><td>0.199953</td><td>[4, 37]</td><td>37</td><td>0.480233</td><td>18</td></tr><tr><th>9</th><td>5</td><td>-1.60202</td><td>-1.35617</td><td>[5, 68]</td><td>68</td><td>0.341336</td><td>23</td></tr><tr><th>10</th><td>5</td><td>3.13338</td><td>0.788158</td><td>[5, 68]</td><td>68</td><td>0.341336</td><td>24</td></tr><tr><th>11</th><td>6</td><td>-2.04856</td><td>-1.09227</td><td>[6, 43]</td><td>43</td><td>0.968167</td><td>29</td></tr><tr><th>12</th><td>6</td><td>3.38375</td><td>-2.98923</td><td>[6, 43]</td><td>43</td><td>0.968167</td><td>30</td></tr><tr><th>13</th><td>7</td><td>-0.473425</td><td>-0.335441</td><td>[7, 60]</td><td>60</td><td>0.834359</td><td>33</td></tr><tr><th>14</th><td>7</td><td>3.64065</td><td>2.02406</td><td>[7, 60]</td><td>60</td><td>0.834359</td><td>34</td></tr><tr><th>15</th><td>8</td><td>0.24658</td><td>0.621136</td><td>[8, 71]</td><td>71</td><td>0.499783</td><td>37</td></tr><tr><th>16</th><td>8</td><td>4.44957</td><td>0.596243</td><td>[8, 71]</td><td>71</td><td>0.499783</td><td>38</td></tr><tr><th>17</th><td>9</td><td>-0.538199</td><td>-0.365875</td><td>[9, 9]</td><td>9</td><td>0.408326</td><td>39</td></tr><tr><th>18</th><td>9</td><td>1.68946</td><td>-0.359724</td><td>[9, 9]</td><td>9</td><td>0.408326</td><td>40</td></tr><tr><th>19</th><td>10</td><td>-2.19893</td><td>-1.18601</td><td>[10, 7]</td><td>7</td><td>0.849958</td><td>45</td></tr><tr><th>20</th><td>10</td><td>2.08821</td><td>-3.18221</td><td>[10, 7]</td><td>7</td><td>0.849958</td><td>46</td></tr><tr><th>21</th><td>11</td><td>0.526671</td><td>0.311557</td><td>[11, 74]</td><td>74</td><td>0.597891</td><td>51</td></tr><tr><th>22</th><td>11</td><td>4.57671</td><td>1.48781</td><td>[11, 74]</td><td>74</td><td>0.597891</td><td>52</td></tr><tr><th>23</th><td>12</td><td>-1.46313</td><td>0.106406</td><td>[12, 90]</td><td>90</td><td>0.582753</td><td>57</td></tr><tr><th>24</th><td>12</td><td>3.14941</td><td>-3.03973</td><td>[12, 90]</td><td>90</td><td>0.582753</td><td>58</td></tr><tr><th>25</th><td>13</td><td>0.730122</td><td>0.0860829</td><td>[13, 67]</td><td>67</td><td>0.529369</td><td>61</td></tr><tr><th>26</th><td>13</td><td>4.44158</td><td>0.616937</td><td>[13, 67]</td><td>67</td><td>0.529369</td><td>62</td></tr><tr><th>27</th><td>14</td><td>1.37916</td><td>3.45608</td><td>[14, 22]</td><td>22</td><td>0.393746</td><td>65</td></tr><tr><th>28</th><td>14</td><td>4.43366</td><td>2.5993</td><td>[14, 22]</td><td>22</td><td>0.393746</td><td>66</td></tr><tr><th>29</th><td>15</td><td>-0.539777</td><td>-0.265993</td><td>[15, 31]</td><td>31</td><td>0.378102</td><td>71</td></tr><tr><th>30</th><td>15</td><td>1.49927</td><td>-1.70733</td><td>[15, 31]</td><td>31</td><td>0.378102</td><td>72</td></tr><tr><th>&vellip;</th><td>&vellip;</td><td>&vellip;</td><td>&vellip;</td><td>&vellip;</td><td>&vellip;</td><td>&vellip;</td><td>&vellip;</td></tr></tbody></table>"
      ],
      "text/latex": [
       "\\begin{tabular}{r|ccccccc}\n",
       "\t& source & edges\\_x & edges\\_y & pe & target & ew & id\\\\\n",
       "\t\\hline\n",
       "\t& Any & Float64 & Float64 & Any & Any & Float64 & Int64\\\\\n",
       "\t\\hline\n",
       "\t1 & 1 & 0.428608 & 0.385411 & [1, 61] & 61 & 0.9729 & 1 \\\\\n",
       "\t2 & 1 & 2.18922 & -0.438729 & [1, 61] & 61 & 0.9729 & 2 \\\\\n",
       "\t3 & 2 & 0.306254 & 2.83574 & [2, 96] & 96 & 0.409002 & 7 \\\\\n",
       "\t4 & 2 & 4.77988 & -1.19144 & [2, 96] & 96 & 0.409002 & 8 \\\\\n",
       "\t5 & 3 & 1.2561 & -0.80477 & [3, 38] & 38 & 0.448414 & 9 \\\\\n",
       "\t6 & 3 & 2.22061 & 0.0789145 & [3, 38] & 38 & 0.448414 & 10 \\\\\n",
       "\t7 & 4 & -2.10502 & 0.236841 & [4, 37] & 37 & 0.480233 & 17 \\\\\n",
       "\t8 & 4 & 2.3745 & 0.199953 & [4, 37] & 37 & 0.480233 & 18 \\\\\n",
       "\t9 & 5 & -1.60202 & -1.35617 & [5, 68] & 68 & 0.341336 & 23 \\\\\n",
       "\t10 & 5 & 3.13338 & 0.788158 & [5, 68] & 68 & 0.341336 & 24 \\\\\n",
       "\t11 & 6 & -2.04856 & -1.09227 & [6, 43] & 43 & 0.968167 & 29 \\\\\n",
       "\t12 & 6 & 3.38375 & -2.98923 & [6, 43] & 43 & 0.968167 & 30 \\\\\n",
       "\t13 & 7 & -0.473425 & -0.335441 & [7, 60] & 60 & 0.834359 & 33 \\\\\n",
       "\t14 & 7 & 3.64065 & 2.02406 & [7, 60] & 60 & 0.834359 & 34 \\\\\n",
       "\t15 & 8 & 0.24658 & 0.621136 & [8, 71] & 71 & 0.499783 & 37 \\\\\n",
       "\t16 & 8 & 4.44957 & 0.596243 & [8, 71] & 71 & 0.499783 & 38 \\\\\n",
       "\t17 & 9 & -0.538199 & -0.365875 & [9, 9] & 9 & 0.408326 & 39 \\\\\n",
       "\t18 & 9 & 1.68946 & -0.359724 & [9, 9] & 9 & 0.408326 & 40 \\\\\n",
       "\t19 & 10 & -2.19893 & -1.18601 & [10, 7] & 7 & 0.849958 & 45 \\\\\n",
       "\t20 & 10 & 2.08821 & -3.18221 & [10, 7] & 7 & 0.849958 & 46 \\\\\n",
       "\t21 & 11 & 0.526671 & 0.311557 & [11, 74] & 74 & 0.597891 & 51 \\\\\n",
       "\t22 & 11 & 4.57671 & 1.48781 & [11, 74] & 74 & 0.597891 & 52 \\\\\n",
       "\t23 & 12 & -1.46313 & 0.106406 & [12, 90] & 90 & 0.582753 & 57 \\\\\n",
       "\t24 & 12 & 3.14941 & -3.03973 & [12, 90] & 90 & 0.582753 & 58 \\\\\n",
       "\t25 & 13 & 0.730122 & 0.0860829 & [13, 67] & 67 & 0.529369 & 61 \\\\\n",
       "\t26 & 13 & 4.44158 & 0.616937 & [13, 67] & 67 & 0.529369 & 62 \\\\\n",
       "\t27 & 14 & 1.37916 & 3.45608 & [14, 22] & 22 & 0.393746 & 65 \\\\\n",
       "\t28 & 14 & 4.43366 & 2.5993 & [14, 22] & 22 & 0.393746 & 66 \\\\\n",
       "\t29 & 15 & -0.539777 & -0.265993 & [15, 31] & 31 & 0.378102 & 71 \\\\\n",
       "\t30 & 15 & 1.49927 & -1.70733 & [15, 31] & 31 & 0.378102 & 72 \\\\\n",
       "\t$\\dots$ & $\\dots$ & $\\dots$ & $\\dots$ & $\\dots$ & $\\dots$ & $\\dots$ & $\\dots$ \\\\\n",
       "\\end{tabular}\n"
      ],
      "text/plain": [
       "\u001b[1m200×7 DataFrame\u001b[0m\n",
       "\u001b[1m Row \u001b[0m│\u001b[1m source \u001b[0m\u001b[1m edges_x   \u001b[0m\u001b[1m edges_y    \u001b[0m\u001b[1m pe        \u001b[0m\u001b[1m target \u001b[0m\u001b[1m ew       \u001b[0m\u001b[1m id    \u001b[0m\n",
       "\u001b[1m     \u001b[0m│\u001b[90m Any    \u001b[0m\u001b[90m Float64   \u001b[0m\u001b[90m Float64    \u001b[0m\u001b[90m Any       \u001b[0m\u001b[90m Any    \u001b[0m\u001b[90m Float64  \u001b[0m\u001b[90m Int64 \u001b[0m\n",
       "─────┼───────────────────────────────────────────────────────────────────\n",
       "   1 │ 1        0.428608   0.385411   [1, 61]    61      0.9729        1\n",
       "   2 │ 1        2.18922   -0.438729   [1, 61]    61      0.9729        2\n",
       "   3 │ 2        0.306254   2.83574    [2, 96]    96      0.409002      7\n",
       "   4 │ 2        4.77988   -1.19144    [2, 96]    96      0.409002      8\n",
       "   5 │ 3        1.2561    -0.80477    [3, 38]    38      0.448414      9\n",
       "   6 │ 3        2.22061    0.0789145  [3, 38]    38      0.448414     10\n",
       "   7 │ 4       -2.10502    0.236841   [4, 37]    37      0.480233     17\n",
       "   8 │ 4        2.3745     0.199953   [4, 37]    37      0.480233     18\n",
       "   9 │ 5       -1.60202   -1.35617    [5, 68]    68      0.341336     23\n",
       "  10 │ 5        3.13338    0.788158   [5, 68]    68      0.341336     24\n",
       "  11 │ 6       -2.04856   -1.09227    [6, 43]    43      0.968167     29\n",
       "  ⋮  │   ⋮         ⋮          ⋮           ⋮        ⋮        ⋮        ⋮\n",
       " 191 │ 96       0.411574   2.98688    [96, 56]   56      0.251755    535\n",
       " 192 │ 96       4.51985    0.520226   [96, 56]   56      0.251755    536\n",
       " 193 │ 97      -1.26932   -1.16907    [97, 73]   73      0.253954    545\n",
       " 194 │ 97       2.60888    0.638441   [97, 73]   73      0.253954    546\n",
       " 195 │ 98      -3.27312   -0.505554   [98, 80]   80      0.392221    553\n",
       " 196 │ 98       3.63134   -2.88028    [98, 80]   80      0.392221    554\n",
       " 197 │ 99       0.637517   0.164418   [99, 95]   95      0.287163    559\n",
       " 198 │ 99       4.83395    1.68567    [99, 95]   95      0.287163    560\n",
       " 199 │ 100     -2.37306    0.102694   [100, 63]  63      0.397796    565\n",
       " 200 │ 100      1.82452   -2.53862    [100, 63]  63      0.397796    566\n",
       "\u001b[36m                                                         179 rows omitted\u001b[0m"
      ]
     },
     "execution_count": 248,
     "metadata": {},
     "output_type": "execute_result"
    }
   ],
   "source": [
    "getlargerew(edges,2)"
   ]
  },
  {
   "cell_type": "code",
   "execution_count": 246,
   "id": "f83a0204-ba30-4573-b88f-fa6288cc1994",
   "metadata": {},
   "outputs": [
    {
     "data": {
      "text/html": [
       "<table class=\"data-frame\"><thead><tr><th></th><th>source</th><th>edges_x</th><th>edges_y</th><th>pe</th><th>target</th><th>ew</th><th>id</th></tr><tr><th></th><th>Any</th><th>Float64</th><th>Float64</th><th>Any</th><th>Any</th><th>Float64</th><th>Int64</th></tr></thead><tbody><p>200 rows × 7 columns</p><tr><th>1</th><td>1</td><td>0.428608</td><td>0.385411</td><td>[1, 61]</td><td>61</td><td>0.9729</td><td>1</td></tr><tr><th>2</th><td>1</td><td>2.18922</td><td>-0.438729</td><td>[1, 61]</td><td>61</td><td>0.9729</td><td>2</td></tr><tr><th>3</th><td>2</td><td>0.306254</td><td>2.83574</td><td>[2, 96]</td><td>96</td><td>0.409002</td><td>7</td></tr><tr><th>4</th><td>2</td><td>4.77988</td><td>-1.19144</td><td>[2, 96]</td><td>96</td><td>0.409002</td><td>8</td></tr><tr><th>5</th><td>3</td><td>1.2561</td><td>-0.80477</td><td>[3, 38]</td><td>38</td><td>0.448414</td><td>9</td></tr><tr><th>6</th><td>3</td><td>2.22061</td><td>0.0789145</td><td>[3, 38]</td><td>38</td><td>0.448414</td><td>10</td></tr><tr><th>7</th><td>4</td><td>-2.10502</td><td>0.236841</td><td>[4, 37]</td><td>37</td><td>0.480233</td><td>17</td></tr><tr><th>8</th><td>4</td><td>2.3745</td><td>0.199953</td><td>[4, 37]</td><td>37</td><td>0.480233</td><td>18</td></tr><tr><th>9</th><td>5</td><td>-1.60202</td><td>-1.35617</td><td>[5, 68]</td><td>68</td><td>0.341336</td><td>23</td></tr><tr><th>10</th><td>5</td><td>3.13338</td><td>0.788158</td><td>[5, 68]</td><td>68</td><td>0.341336</td><td>24</td></tr><tr><th>11</th><td>6</td><td>-2.04856</td><td>-1.09227</td><td>[6, 43]</td><td>43</td><td>0.968167</td><td>29</td></tr><tr><th>12</th><td>6</td><td>3.38375</td><td>-2.98923</td><td>[6, 43]</td><td>43</td><td>0.968167</td><td>30</td></tr><tr><th>13</th><td>7</td><td>-0.473425</td><td>-0.335441</td><td>[7, 60]</td><td>60</td><td>0.834359</td><td>33</td></tr><tr><th>14</th><td>7</td><td>3.64065</td><td>2.02406</td><td>[7, 60]</td><td>60</td><td>0.834359</td><td>34</td></tr><tr><th>15</th><td>8</td><td>0.24658</td><td>0.621136</td><td>[8, 71]</td><td>71</td><td>0.499783</td><td>37</td></tr><tr><th>16</th><td>8</td><td>4.44957</td><td>0.596243</td><td>[8, 71]</td><td>71</td><td>0.499783</td><td>38</td></tr><tr><th>17</th><td>9</td><td>-0.538199</td><td>-0.365875</td><td>[9, 9]</td><td>9</td><td>0.408326</td><td>39</td></tr><tr><th>18</th><td>9</td><td>1.68946</td><td>-0.359724</td><td>[9, 9]</td><td>9</td><td>0.408326</td><td>40</td></tr><tr><th>19</th><td>10</td><td>-2.19893</td><td>-1.18601</td><td>[10, 7]</td><td>7</td><td>0.849958</td><td>45</td></tr><tr><th>20</th><td>10</td><td>2.08821</td><td>-3.18221</td><td>[10, 7]</td><td>7</td><td>0.849958</td><td>46</td></tr><tr><th>21</th><td>11</td><td>0.526671</td><td>0.311557</td><td>[11, 74]</td><td>74</td><td>0.597891</td><td>51</td></tr><tr><th>22</th><td>11</td><td>4.57671</td><td>1.48781</td><td>[11, 74]</td><td>74</td><td>0.597891</td><td>52</td></tr><tr><th>23</th><td>12</td><td>-1.46313</td><td>0.106406</td><td>[12, 90]</td><td>90</td><td>0.582753</td><td>57</td></tr><tr><th>24</th><td>12</td><td>3.14941</td><td>-3.03973</td><td>[12, 90]</td><td>90</td><td>0.582753</td><td>58</td></tr><tr><th>25</th><td>13</td><td>0.730122</td><td>0.0860829</td><td>[13, 67]</td><td>67</td><td>0.529369</td><td>61</td></tr><tr><th>26</th><td>13</td><td>4.44158</td><td>0.616937</td><td>[13, 67]</td><td>67</td><td>0.529369</td><td>62</td></tr><tr><th>27</th><td>14</td><td>1.37916</td><td>3.45608</td><td>[14, 22]</td><td>22</td><td>0.393746</td><td>65</td></tr><tr><th>28</th><td>14</td><td>4.43366</td><td>2.5993</td><td>[14, 22]</td><td>22</td><td>0.393746</td><td>66</td></tr><tr><th>29</th><td>15</td><td>-0.539777</td><td>-0.265993</td><td>[15, 31]</td><td>31</td><td>0.378102</td><td>71</td></tr><tr><th>30</th><td>15</td><td>1.49927</td><td>-1.70733</td><td>[15, 31]</td><td>31</td><td>0.378102</td><td>72</td></tr><tr><th>&vellip;</th><td>&vellip;</td><td>&vellip;</td><td>&vellip;</td><td>&vellip;</td><td>&vellip;</td><td>&vellip;</td><td>&vellip;</td></tr></tbody></table>"
      ],
      "text/latex": [
       "\\begin{tabular}{r|ccccccc}\n",
       "\t& source & edges\\_x & edges\\_y & pe & target & ew & id\\\\\n",
       "\t\\hline\n",
       "\t& Any & Float64 & Float64 & Any & Any & Float64 & Int64\\\\\n",
       "\t\\hline\n",
       "\t1 & 1 & 0.428608 & 0.385411 & [1, 61] & 61 & 0.9729 & 1 \\\\\n",
       "\t2 & 1 & 2.18922 & -0.438729 & [1, 61] & 61 & 0.9729 & 2 \\\\\n",
       "\t3 & 2 & 0.306254 & 2.83574 & [2, 96] & 96 & 0.409002 & 7 \\\\\n",
       "\t4 & 2 & 4.77988 & -1.19144 & [2, 96] & 96 & 0.409002 & 8 \\\\\n",
       "\t5 & 3 & 1.2561 & -0.80477 & [3, 38] & 38 & 0.448414 & 9 \\\\\n",
       "\t6 & 3 & 2.22061 & 0.0789145 & [3, 38] & 38 & 0.448414 & 10 \\\\\n",
       "\t7 & 4 & -2.10502 & 0.236841 & [4, 37] & 37 & 0.480233 & 17 \\\\\n",
       "\t8 & 4 & 2.3745 & 0.199953 & [4, 37] & 37 & 0.480233 & 18 \\\\\n",
       "\t9 & 5 & -1.60202 & -1.35617 & [5, 68] & 68 & 0.341336 & 23 \\\\\n",
       "\t10 & 5 & 3.13338 & 0.788158 & [5, 68] & 68 & 0.341336 & 24 \\\\\n",
       "\t11 & 6 & -2.04856 & -1.09227 & [6, 43] & 43 & 0.968167 & 29 \\\\\n",
       "\t12 & 6 & 3.38375 & -2.98923 & [6, 43] & 43 & 0.968167 & 30 \\\\\n",
       "\t13 & 7 & -0.473425 & -0.335441 & [7, 60] & 60 & 0.834359 & 33 \\\\\n",
       "\t14 & 7 & 3.64065 & 2.02406 & [7, 60] & 60 & 0.834359 & 34 \\\\\n",
       "\t15 & 8 & 0.24658 & 0.621136 & [8, 71] & 71 & 0.499783 & 37 \\\\\n",
       "\t16 & 8 & 4.44957 & 0.596243 & [8, 71] & 71 & 0.499783 & 38 \\\\\n",
       "\t17 & 9 & -0.538199 & -0.365875 & [9, 9] & 9 & 0.408326 & 39 \\\\\n",
       "\t18 & 9 & 1.68946 & -0.359724 & [9, 9] & 9 & 0.408326 & 40 \\\\\n",
       "\t19 & 10 & -2.19893 & -1.18601 & [10, 7] & 7 & 0.849958 & 45 \\\\\n",
       "\t20 & 10 & 2.08821 & -3.18221 & [10, 7] & 7 & 0.849958 & 46 \\\\\n",
       "\t21 & 11 & 0.526671 & 0.311557 & [11, 74] & 74 & 0.597891 & 51 \\\\\n",
       "\t22 & 11 & 4.57671 & 1.48781 & [11, 74] & 74 & 0.597891 & 52 \\\\\n",
       "\t23 & 12 & -1.46313 & 0.106406 & [12, 90] & 90 & 0.582753 & 57 \\\\\n",
       "\t24 & 12 & 3.14941 & -3.03973 & [12, 90] & 90 & 0.582753 & 58 \\\\\n",
       "\t25 & 13 & 0.730122 & 0.0860829 & [13, 67] & 67 & 0.529369 & 61 \\\\\n",
       "\t26 & 13 & 4.44158 & 0.616937 & [13, 67] & 67 & 0.529369 & 62 \\\\\n",
       "\t27 & 14 & 1.37916 & 3.45608 & [14, 22] & 22 & 0.393746 & 65 \\\\\n",
       "\t28 & 14 & 4.43366 & 2.5993 & [14, 22] & 22 & 0.393746 & 66 \\\\\n",
       "\t29 & 15 & -0.539777 & -0.265993 & [15, 31] & 31 & 0.378102 & 71 \\\\\n",
       "\t30 & 15 & 1.49927 & -1.70733 & [15, 31] & 31 & 0.378102 & 72 \\\\\n",
       "\t$\\dots$ & $\\dots$ & $\\dots$ & $\\dots$ & $\\dots$ & $\\dots$ & $\\dots$ & $\\dots$ \\\\\n",
       "\\end{tabular}\n"
      ],
      "text/plain": [
       "\u001b[1m200×7 DataFrame\u001b[0m\n",
       "\u001b[1m Row \u001b[0m│\u001b[1m source \u001b[0m\u001b[1m edges_x   \u001b[0m\u001b[1m edges_y    \u001b[0m\u001b[1m pe        \u001b[0m\u001b[1m target \u001b[0m\u001b[1m ew       \u001b[0m\u001b[1m id    \u001b[0m\n",
       "\u001b[1m     \u001b[0m│\u001b[90m Any    \u001b[0m\u001b[90m Float64   \u001b[0m\u001b[90m Float64    \u001b[0m\u001b[90m Any       \u001b[0m\u001b[90m Any    \u001b[0m\u001b[90m Float64  \u001b[0m\u001b[90m Int64 \u001b[0m\n",
       "─────┼───────────────────────────────────────────────────────────────────\n",
       "   1 │ 1        0.428608   0.385411   [1, 61]    61      0.9729        1\n",
       "   2 │ 1        2.18922   -0.438729   [1, 61]    61      0.9729        2\n",
       "   3 │ 2        0.306254   2.83574    [2, 96]    96      0.409002      7\n",
       "   4 │ 2        4.77988   -1.19144    [2, 96]    96      0.409002      8\n",
       "   5 │ 3        1.2561    -0.80477    [3, 38]    38      0.448414      9\n",
       "   6 │ 3        2.22061    0.0789145  [3, 38]    38      0.448414     10\n",
       "   7 │ 4       -2.10502    0.236841   [4, 37]    37      0.480233     17\n",
       "   8 │ 4        2.3745     0.199953   [4, 37]    37      0.480233     18\n",
       "   9 │ 5       -1.60202   -1.35617    [5, 68]    68      0.341336     23\n",
       "  10 │ 5        3.13338    0.788158   [5, 68]    68      0.341336     24\n",
       "  11 │ 6       -2.04856   -1.09227    [6, 43]    43      0.968167     29\n",
       "  ⋮  │   ⋮         ⋮          ⋮           ⋮        ⋮        ⋮        ⋮\n",
       " 191 │ 96       0.411574   2.98688    [96, 56]   56      0.251755    535\n",
       " 192 │ 96       4.51985    0.520226   [96, 56]   56      0.251755    536\n",
       " 193 │ 97      -1.26932   -1.16907    [97, 73]   73      0.253954    545\n",
       " 194 │ 97       2.60888    0.638441   [97, 73]   73      0.253954    546\n",
       " 195 │ 98      -3.27312   -0.505554   [98, 80]   80      0.392221    553\n",
       " 196 │ 98       3.63134   -2.88028    [98, 80]   80      0.392221    554\n",
       " 197 │ 99       0.637517   0.164418   [99, 95]   95      0.287163    559\n",
       " 198 │ 99       4.83395    1.68567    [99, 95]   95      0.287163    560\n",
       " 199 │ 100     -2.37306    0.102694   [100, 63]  63      0.397796    565\n",
       " 200 │ 100      1.82452   -2.53862    [100, 63]  63      0.397796    566\n",
       "\u001b[36m                                                         179 rows omitted\u001b[0m"
      ]
     },
     "execution_count": 246,
     "metadata": {},
     "output_type": "execute_result"
    }
   ],
   "source": [
    "combine(groupby(edges, :source)) do sdf\n",
    "    first(sort(sdf,:ew; rev=true),2)\n",
    "end"
   ]
  },
  {
   "cell_type": "code",
   "execution_count": 243,
   "id": "e204f56e-7b34-469d-9d0e-497c08311f6f",
   "metadata": {},
   "outputs": [
    {
     "data": {
      "text/html": [
       "<table class=\"data-frame\"><thead><tr><th></th><th>edges_x</th><th>edges_y</th><th>pe</th><th>source</th><th>target</th><th>ew</th><th>id</th></tr><tr><th></th><th>Float64</th><th>Float64</th><th>Any</th><th>Any</th><th>Any</th><th>Float64</th><th>Int64</th></tr></thead><tbody><p>200 rows × 7 columns</p><tr><th>1</th><td>0.428608</td><td>0.385411</td><td>[1, 61]</td><td>1</td><td>61</td><td>0.9729</td><td>1</td></tr><tr><th>2</th><td>2.18922</td><td>-0.438729</td><td>[1, 61]</td><td>1</td><td>61</td><td>0.9729</td><td>2</td></tr><tr><th>3</th><td>0.306254</td><td>2.83574</td><td>[2, 96]</td><td>2</td><td>96</td><td>0.409002</td><td>7</td></tr><tr><th>4</th><td>4.77988</td><td>-1.19144</td><td>[2, 96]</td><td>2</td><td>96</td><td>0.409002</td><td>8</td></tr><tr><th>5</th><td>1.2561</td><td>-0.80477</td><td>[3, 38]</td><td>3</td><td>38</td><td>0.448414</td><td>9</td></tr><tr><th>6</th><td>2.22061</td><td>0.0789145</td><td>[3, 38]</td><td>3</td><td>38</td><td>0.448414</td><td>10</td></tr><tr><th>7</th><td>-2.10502</td><td>0.236841</td><td>[4, 37]</td><td>4</td><td>37</td><td>0.480233</td><td>17</td></tr><tr><th>8</th><td>2.3745</td><td>0.199953</td><td>[4, 37]</td><td>4</td><td>37</td><td>0.480233</td><td>18</td></tr><tr><th>9</th><td>-1.60202</td><td>-1.35617</td><td>[5, 68]</td><td>5</td><td>68</td><td>0.341336</td><td>23</td></tr><tr><th>10</th><td>3.13338</td><td>0.788158</td><td>[5, 68]</td><td>5</td><td>68</td><td>0.341336</td><td>24</td></tr><tr><th>11</th><td>-2.04856</td><td>-1.09227</td><td>[6, 43]</td><td>6</td><td>43</td><td>0.968167</td><td>29</td></tr><tr><th>12</th><td>3.38375</td><td>-2.98923</td><td>[6, 43]</td><td>6</td><td>43</td><td>0.968167</td><td>30</td></tr><tr><th>13</th><td>-0.473425</td><td>-0.335441</td><td>[7, 60]</td><td>7</td><td>60</td><td>0.834359</td><td>33</td></tr><tr><th>14</th><td>3.64065</td><td>2.02406</td><td>[7, 60]</td><td>7</td><td>60</td><td>0.834359</td><td>34</td></tr><tr><th>15</th><td>0.24658</td><td>0.621136</td><td>[8, 71]</td><td>8</td><td>71</td><td>0.499783</td><td>37</td></tr><tr><th>16</th><td>4.44957</td><td>0.596243</td><td>[8, 71]</td><td>8</td><td>71</td><td>0.499783</td><td>38</td></tr><tr><th>17</th><td>-0.538199</td><td>-0.365875</td><td>[9, 9]</td><td>9</td><td>9</td><td>0.408326</td><td>39</td></tr><tr><th>18</th><td>1.68946</td><td>-0.359724</td><td>[9, 9]</td><td>9</td><td>9</td><td>0.408326</td><td>40</td></tr><tr><th>19</th><td>-2.19893</td><td>-1.18601</td><td>[10, 7]</td><td>10</td><td>7</td><td>0.849958</td><td>45</td></tr><tr><th>20</th><td>2.08821</td><td>-3.18221</td><td>[10, 7]</td><td>10</td><td>7</td><td>0.849958</td><td>46</td></tr><tr><th>21</th><td>0.526671</td><td>0.311557</td><td>[11, 74]</td><td>11</td><td>74</td><td>0.597891</td><td>51</td></tr><tr><th>22</th><td>4.57671</td><td>1.48781</td><td>[11, 74]</td><td>11</td><td>74</td><td>0.597891</td><td>52</td></tr><tr><th>23</th><td>-1.46313</td><td>0.106406</td><td>[12, 90]</td><td>12</td><td>90</td><td>0.582753</td><td>57</td></tr><tr><th>24</th><td>3.14941</td><td>-3.03973</td><td>[12, 90]</td><td>12</td><td>90</td><td>0.582753</td><td>58</td></tr><tr><th>25</th><td>0.730122</td><td>0.0860829</td><td>[13, 67]</td><td>13</td><td>67</td><td>0.529369</td><td>61</td></tr><tr><th>26</th><td>4.44158</td><td>0.616937</td><td>[13, 67]</td><td>13</td><td>67</td><td>0.529369</td><td>62</td></tr><tr><th>27</th><td>1.37916</td><td>3.45608</td><td>[14, 22]</td><td>14</td><td>22</td><td>0.393746</td><td>65</td></tr><tr><th>28</th><td>4.43366</td><td>2.5993</td><td>[14, 22]</td><td>14</td><td>22</td><td>0.393746</td><td>66</td></tr><tr><th>29</th><td>-0.539777</td><td>-0.265993</td><td>[15, 31]</td><td>15</td><td>31</td><td>0.378102</td><td>71</td></tr><tr><th>30</th><td>1.49927</td><td>-1.70733</td><td>[15, 31]</td><td>15</td><td>31</td><td>0.378102</td><td>72</td></tr><tr><th>&vellip;</th><td>&vellip;</td><td>&vellip;</td><td>&vellip;</td><td>&vellip;</td><td>&vellip;</td><td>&vellip;</td><td>&vellip;</td></tr></tbody></table>"
      ],
      "text/latex": [
       "\\begin{tabular}{r|ccccccc}\n",
       "\t& edges\\_x & edges\\_y & pe & source & target & ew & id\\\\\n",
       "\t\\hline\n",
       "\t& Float64 & Float64 & Any & Any & Any & Float64 & Int64\\\\\n",
       "\t\\hline\n",
       "\t1 & 0.428608 & 0.385411 & [1, 61] & 1 & 61 & 0.9729 & 1 \\\\\n",
       "\t2 & 2.18922 & -0.438729 & [1, 61] & 1 & 61 & 0.9729 & 2 \\\\\n",
       "\t3 & 0.306254 & 2.83574 & [2, 96] & 2 & 96 & 0.409002 & 7 \\\\\n",
       "\t4 & 4.77988 & -1.19144 & [2, 96] & 2 & 96 & 0.409002 & 8 \\\\\n",
       "\t5 & 1.2561 & -0.80477 & [3, 38] & 3 & 38 & 0.448414 & 9 \\\\\n",
       "\t6 & 2.22061 & 0.0789145 & [3, 38] & 3 & 38 & 0.448414 & 10 \\\\\n",
       "\t7 & -2.10502 & 0.236841 & [4, 37] & 4 & 37 & 0.480233 & 17 \\\\\n",
       "\t8 & 2.3745 & 0.199953 & [4, 37] & 4 & 37 & 0.480233 & 18 \\\\\n",
       "\t9 & -1.60202 & -1.35617 & [5, 68] & 5 & 68 & 0.341336 & 23 \\\\\n",
       "\t10 & 3.13338 & 0.788158 & [5, 68] & 5 & 68 & 0.341336 & 24 \\\\\n",
       "\t11 & -2.04856 & -1.09227 & [6, 43] & 6 & 43 & 0.968167 & 29 \\\\\n",
       "\t12 & 3.38375 & -2.98923 & [6, 43] & 6 & 43 & 0.968167 & 30 \\\\\n",
       "\t13 & -0.473425 & -0.335441 & [7, 60] & 7 & 60 & 0.834359 & 33 \\\\\n",
       "\t14 & 3.64065 & 2.02406 & [7, 60] & 7 & 60 & 0.834359 & 34 \\\\\n",
       "\t15 & 0.24658 & 0.621136 & [8, 71] & 8 & 71 & 0.499783 & 37 \\\\\n",
       "\t16 & 4.44957 & 0.596243 & [8, 71] & 8 & 71 & 0.499783 & 38 \\\\\n",
       "\t17 & -0.538199 & -0.365875 & [9, 9] & 9 & 9 & 0.408326 & 39 \\\\\n",
       "\t18 & 1.68946 & -0.359724 & [9, 9] & 9 & 9 & 0.408326 & 40 \\\\\n",
       "\t19 & -2.19893 & -1.18601 & [10, 7] & 10 & 7 & 0.849958 & 45 \\\\\n",
       "\t20 & 2.08821 & -3.18221 & [10, 7] & 10 & 7 & 0.849958 & 46 \\\\\n",
       "\t21 & 0.526671 & 0.311557 & [11, 74] & 11 & 74 & 0.597891 & 51 \\\\\n",
       "\t22 & 4.57671 & 1.48781 & [11, 74] & 11 & 74 & 0.597891 & 52 \\\\\n",
       "\t23 & -1.46313 & 0.106406 & [12, 90] & 12 & 90 & 0.582753 & 57 \\\\\n",
       "\t24 & 3.14941 & -3.03973 & [12, 90] & 12 & 90 & 0.582753 & 58 \\\\\n",
       "\t25 & 0.730122 & 0.0860829 & [13, 67] & 13 & 67 & 0.529369 & 61 \\\\\n",
       "\t26 & 4.44158 & 0.616937 & [13, 67] & 13 & 67 & 0.529369 & 62 \\\\\n",
       "\t27 & 1.37916 & 3.45608 & [14, 22] & 14 & 22 & 0.393746 & 65 \\\\\n",
       "\t28 & 4.43366 & 2.5993 & [14, 22] & 14 & 22 & 0.393746 & 66 \\\\\n",
       "\t29 & -0.539777 & -0.265993 & [15, 31] & 15 & 31 & 0.378102 & 71 \\\\\n",
       "\t30 & 1.49927 & -1.70733 & [15, 31] & 15 & 31 & 0.378102 & 72 \\\\\n",
       "\t$\\dots$ & $\\dots$ & $\\dots$ & $\\dots$ & $\\dots$ & $\\dots$ & $\\dots$ & $\\dots$ \\\\\n",
       "\\end{tabular}\n"
      ],
      "text/plain": [
       "\u001b[1m200×7 DataFrame\u001b[0m\n",
       "\u001b[1m Row \u001b[0m│\u001b[1m edges_x   \u001b[0m\u001b[1m edges_y    \u001b[0m\u001b[1m pe        \u001b[0m\u001b[1m source \u001b[0m\u001b[1m target \u001b[0m\u001b[1m ew       \u001b[0m\u001b[1m id    \u001b[0m\n",
       "\u001b[1m     \u001b[0m│\u001b[90m Float64   \u001b[0m\u001b[90m Float64    \u001b[0m\u001b[90m Any       \u001b[0m\u001b[90m Any    \u001b[0m\u001b[90m Any    \u001b[0m\u001b[90m Float64  \u001b[0m\u001b[90m Int64 \u001b[0m\n",
       "─────┼───────────────────────────────────────────────────────────────────\n",
       "   1 │  0.428608   0.385411   [1, 61]    1       61      0.9729        1\n",
       "   2 │  2.18922   -0.438729   [1, 61]    1       61      0.9729        2\n",
       "   3 │  0.306254   2.83574    [2, 96]    2       96      0.409002      7\n",
       "   4 │  4.77988   -1.19144    [2, 96]    2       96      0.409002      8\n",
       "   5 │  1.2561    -0.80477    [3, 38]    3       38      0.448414      9\n",
       "   6 │  2.22061    0.0789145  [3, 38]    3       38      0.448414     10\n",
       "   7 │ -2.10502    0.236841   [4, 37]    4       37      0.480233     17\n",
       "   8 │  2.3745     0.199953   [4, 37]    4       37      0.480233     18\n",
       "   9 │ -1.60202   -1.35617    [5, 68]    5       68      0.341336     23\n",
       "  10 │  3.13338    0.788158   [5, 68]    5       68      0.341336     24\n",
       "  11 │ -2.04856   -1.09227    [6, 43]    6       43      0.968167     29\n",
       "  ⋮  │     ⋮          ⋮           ⋮        ⋮       ⋮        ⋮        ⋮\n",
       " 191 │  0.411574   2.98688    [96, 56]   96      56      0.251755    535\n",
       " 192 │  4.51985    0.520226   [96, 56]   96      56      0.251755    536\n",
       " 193 │ -1.26932   -1.16907    [97, 73]   97      73      0.253954    545\n",
       " 194 │  2.60888    0.638441   [97, 73]   97      73      0.253954    546\n",
       " 195 │ -3.27312   -0.505554   [98, 80]   98      80      0.392221    553\n",
       " 196 │  3.63134   -2.88028    [98, 80]   98      80      0.392221    554\n",
       " 197 │  0.637517   0.164418   [99, 95]   99      95      0.287163    559\n",
       " 198 │  4.83395    1.68567    [99, 95]   99      95      0.287163    560\n",
       " 199 │ -2.37306    0.102694   [100, 63]  100     63      0.397796    565\n",
       " 200 │  1.82452   -2.53862    [100, 63]  100     63      0.397796    566\n",
       "\u001b[36m                                                         179 rows omitted\u001b[0m"
      ]
     },
     "execution_count": 243,
     "metadata": {},
     "output_type": "execute_result"
    }
   ],
   "source": [
    "getlargerew(edges)"
   ]
  },
  {
   "cell_type": "code",
   "execution_count": 236,
   "id": "5b96c967-e436-47f3-98fd-7ce48d73a1e4",
   "metadata": {},
   "outputs": [
    {
     "data": {
      "text/html": [
       "<table class=\"data-frame\"><thead><tr><th></th><th>edges_x</th><th>edges_y</th><th>pe</th><th>source</th><th>target</th><th>ew</th><th>id</th></tr><tr><th></th><th>Float64</th><th>Float64</th><th>Any</th><th>Any</th><th>Any</th><th>Float64</th><th>Int64</th></tr></thead><tbody><p>200 rows × 7 columns</p><tr><th>1</th><td>-3.03986</td><td>0.364502</td><td>[1, 61]</td><td>1</td><td>61</td><td>0.9729</td><td>1</td></tr><tr><th>2</th><td>-0.393842</td><td>0.340963</td><td>[1, 61]</td><td>1</td><td>61</td><td>0.9729</td><td>2</td></tr><tr><th>3</th><td>-3.60915</td><td>2.53752</td><td>[2, 96]</td><td>2</td><td>96</td><td>0.409002</td><td>7</td></tr><tr><th>4</th><td>2.03605</td><td>1.14038</td><td>[2, 96]</td><td>2</td><td>96</td><td>0.409002</td><td>8</td></tr><tr><th>5</th><td>-1.09239</td><td>-0.354345</td><td>[3, 38]</td><td>3</td><td>38</td><td>0.448414</td><td>9</td></tr><tr><th>6</th><td>-0.492298</td><td>0.829767</td><td>[3, 38]</td><td>3</td><td>38</td><td>0.448414</td><td>10</td></tr><tr><th>7</th><td>-4.68851</td><td>-2.67132</td><td>[4, 37]</td><td>4</td><td>37</td><td>0.480233</td><td>17</td></tr><tr><th>8</th><td>-0.402099</td><td>1.01653</td><td>[4, 37]</td><td>4</td><td>37</td><td>0.480233</td><td>18</td></tr><tr><th>9</th><td>-2.64498</td><td>-2.09941</td><td>[5, 68]</td><td>5</td><td>68</td><td>0.341336</td><td>23</td></tr><tr><th>10</th><td>0.40547</td><td>1.78405</td><td>[5, 68]</td><td>5</td><td>68</td><td>0.341336</td><td>24</td></tr><tr><th>11</th><td>-3.26237</td><td>-2.36558</td><td>[6, 43]</td><td>6</td><td>43</td><td>0.968167</td><td>29</td></tr><tr><th>12</th><td>0.881576</td><td>-1.97066</td><td>[6, 43]</td><td>6</td><td>43</td><td>0.968167</td><td>30</td></tr><tr><th>13</th><td>-2.65849</td><td>-0.55115</td><td>[7, 60]</td><td>7</td><td>60</td><td>0.834359</td><td>33</td></tr><tr><th>14</th><td>0.210808</td><td>2.61039</td><td>[7, 60]</td><td>7</td><td>60</td><td>0.834359</td><td>34</td></tr><tr><th>15</th><td>-3.08665</td><td>0.497182</td><td>[8, 71]</td><td>8</td><td>71</td><td>0.499783</td><td>37</td></tr><tr><th>16</th><td>2.34741</td><td>2.45264</td><td>[8, 71]</td><td>8</td><td>71</td><td>0.499783</td><td>38</td></tr><tr><th>17</th><td>-2.64608</td><td>-0.598835</td><td>[9, 9]</td><td>9</td><td>9</td><td>0.408326</td><td>39</td></tr><tr><th>18</th><td>-0.825033</td><td>0.214348</td><td>[9, 9]</td><td>9</td><td>9</td><td>0.408326</td><td>40</td></tr><tr><th>19</th><td>-3.24809</td><td>-2.48325</td><td>[10, 7]</td><td>10</td><td>7</td><td>0.849958</td><td>45</td></tr><tr><th>20</th><td>0.0696446</td><td>-1.57455</td><td>[10, 7]</td><td>10</td><td>7</td><td>0.849958</td><td>46</td></tr><tr><th>21</th><td>-2.75442</td><td>0.510743</td><td>[11, 74]</td><td>11</td><td>74</td><td>0.597891</td><td>51</td></tr><tr><th>22</th><td>2.00394</td><td>3.61406</td><td>[11, 74]</td><td>11</td><td>74</td><td>0.597891</td><td>52</td></tr><tr><th>23</th><td>-4.51273</td><td>-2.08269</td><td>[12, 90]</td><td>12</td><td>90</td><td>0.582753</td><td>57</td></tr><tr><th>24</th><td>0.740949</td><td>-1.85382</td><td>[12, 90]</td><td>12</td><td>90</td><td>0.582753</td><td>58</td></tr><tr><th>25</th><td>-2.6072</td><td>0.366886</td><td>[13, 67]</td><td>13</td><td>67</td><td>0.529369</td><td>61</td></tr><tr><th>26</th><td>2.44148</td><td>2.33188</td><td>[13, 67]</td><td>13</td><td>67</td><td>0.529369</td><td>62</td></tr><tr><th>27</th><td>-2.58681</td><td>4.2464</td><td>[14, 22]</td><td>14</td><td>22</td><td>0.393746</td><td>65</td></tr><tr><th>28</th><td>1.087</td><td>3.60708</td><td>[14, 22]</td><td>14</td><td>22</td><td>0.393746</td><td>66</td></tr><tr><th>29</th><td>-2.78974</td><td>-0.676673</td><td>[15, 31]</td><td>15</td><td>31</td><td>0.378102</td><td>71</td></tr><tr><th>30</th><td>-0.64559</td><td>-0.864559</td><td>[15, 31]</td><td>15</td><td>31</td><td>0.378102</td><td>72</td></tr><tr><th>&vellip;</th><td>&vellip;</td><td>&vellip;</td><td>&vellip;</td><td>&vellip;</td><td>&vellip;</td><td>&vellip;</td><td>&vellip;</td></tr></tbody></table>"
      ],
      "text/latex": [
       "\\begin{tabular}{r|ccccccc}\n",
       "\t& edges\\_x & edges\\_y & pe & source & target & ew & id\\\\\n",
       "\t\\hline\n",
       "\t& Float64 & Float64 & Any & Any & Any & Float64 & Int64\\\\\n",
       "\t\\hline\n",
       "\t1 & -3.03986 & 0.364502 & [1, 61] & 1 & 61 & 0.9729 & 1 \\\\\n",
       "\t2 & -0.393842 & 0.340963 & [1, 61] & 1 & 61 & 0.9729 & 2 \\\\\n",
       "\t3 & -3.60915 & 2.53752 & [2, 96] & 2 & 96 & 0.409002 & 7 \\\\\n",
       "\t4 & 2.03605 & 1.14038 & [2, 96] & 2 & 96 & 0.409002 & 8 \\\\\n",
       "\t5 & -1.09239 & -0.354345 & [3, 38] & 3 & 38 & 0.448414 & 9 \\\\\n",
       "\t6 & -0.492298 & 0.829767 & [3, 38] & 3 & 38 & 0.448414 & 10 \\\\\n",
       "\t7 & -4.68851 & -2.67132 & [4, 37] & 4 & 37 & 0.480233 & 17 \\\\\n",
       "\t8 & -0.402099 & 1.01653 & [4, 37] & 4 & 37 & 0.480233 & 18 \\\\\n",
       "\t9 & -2.64498 & -2.09941 & [5, 68] & 5 & 68 & 0.341336 & 23 \\\\\n",
       "\t10 & 0.40547 & 1.78405 & [5, 68] & 5 & 68 & 0.341336 & 24 \\\\\n",
       "\t11 & -3.26237 & -2.36558 & [6, 43] & 6 & 43 & 0.968167 & 29 \\\\\n",
       "\t12 & 0.881576 & -1.97066 & [6, 43] & 6 & 43 & 0.968167 & 30 \\\\\n",
       "\t13 & -2.65849 & -0.55115 & [7, 60] & 7 & 60 & 0.834359 & 33 \\\\\n",
       "\t14 & 0.210808 & 2.61039 & [7, 60] & 7 & 60 & 0.834359 & 34 \\\\\n",
       "\t15 & -3.08665 & 0.497182 & [8, 71] & 8 & 71 & 0.499783 & 37 \\\\\n",
       "\t16 & 2.34741 & 2.45264 & [8, 71] & 8 & 71 & 0.499783 & 38 \\\\\n",
       "\t17 & -2.64608 & -0.598835 & [9, 9] & 9 & 9 & 0.408326 & 39 \\\\\n",
       "\t18 & -0.825033 & 0.214348 & [9, 9] & 9 & 9 & 0.408326 & 40 \\\\\n",
       "\t19 & -3.24809 & -2.48325 & [10, 7] & 10 & 7 & 0.849958 & 45 \\\\\n",
       "\t20 & 0.0696446 & -1.57455 & [10, 7] & 10 & 7 & 0.849958 & 46 \\\\\n",
       "\t21 & -2.75442 & 0.510743 & [11, 74] & 11 & 74 & 0.597891 & 51 \\\\\n",
       "\t22 & 2.00394 & 3.61406 & [11, 74] & 11 & 74 & 0.597891 & 52 \\\\\n",
       "\t23 & -4.51273 & -2.08269 & [12, 90] & 12 & 90 & 0.582753 & 57 \\\\\n",
       "\t24 & 0.740949 & -1.85382 & [12, 90] & 12 & 90 & 0.582753 & 58 \\\\\n",
       "\t25 & -2.6072 & 0.366886 & [13, 67] & 13 & 67 & 0.529369 & 61 \\\\\n",
       "\t26 & 2.44148 & 2.33188 & [13, 67] & 13 & 67 & 0.529369 & 62 \\\\\n",
       "\t27 & -2.58681 & 4.2464 & [14, 22] & 14 & 22 & 0.393746 & 65 \\\\\n",
       "\t28 & 1.087 & 3.60708 & [14, 22] & 14 & 22 & 0.393746 & 66 \\\\\n",
       "\t29 & -2.78974 & -0.676673 & [15, 31] & 15 & 31 & 0.378102 & 71 \\\\\n",
       "\t30 & -0.64559 & -0.864559 & [15, 31] & 15 & 31 & 0.378102 & 72 \\\\\n",
       "\t$\\dots$ & $\\dots$ & $\\dots$ & $\\dots$ & $\\dots$ & $\\dots$ & $\\dots$ & $\\dots$ \\\\\n",
       "\\end{tabular}\n"
      ],
      "text/plain": [
       "\u001b[1m200×7 DataFrame\u001b[0m\n",
       "\u001b[1m Row \u001b[0m│\u001b[1m edges_x    \u001b[0m\u001b[1m edges_y   \u001b[0m\u001b[1m pe        \u001b[0m\u001b[1m source \u001b[0m\u001b[1m target \u001b[0m\u001b[1m ew       \u001b[0m\u001b[1m id    \u001b[0m\n",
       "\u001b[1m     \u001b[0m│\u001b[90m Float64    \u001b[0m\u001b[90m Float64   \u001b[0m\u001b[90m Any       \u001b[0m\u001b[90m Any    \u001b[0m\u001b[90m Any    \u001b[0m\u001b[90m Float64  \u001b[0m\u001b[90m Int64 \u001b[0m\n",
       "─────┼───────────────────────────────────────────────────────────────────\n",
       "   1 │ -3.03986     0.364502  [1, 61]    1       61      0.9729        1\n",
       "   2 │ -0.393842    0.340963  [1, 61]    1       61      0.9729        2\n",
       "   3 │ -3.60915     2.53752   [2, 96]    2       96      0.409002      7\n",
       "   4 │  2.03605     1.14038   [2, 96]    2       96      0.409002      8\n",
       "   5 │ -1.09239    -0.354345  [3, 38]    3       38      0.448414      9\n",
       "   6 │ -0.492298    0.829767  [3, 38]    3       38      0.448414     10\n",
       "   7 │ -4.68851    -2.67132   [4, 37]    4       37      0.480233     17\n",
       "   8 │ -0.402099    1.01653   [4, 37]    4       37      0.480233     18\n",
       "   9 │ -2.64498    -2.09941   [5, 68]    5       68      0.341336     23\n",
       "  10 │  0.40547     1.78405   [5, 68]    5       68      0.341336     24\n",
       "  11 │ -3.26237    -2.36558   [6, 43]    6       43      0.968167     29\n",
       "  ⋮  │     ⋮           ⋮          ⋮        ⋮       ⋮        ⋮        ⋮\n",
       " 191 │ -3.43285     2.7629    [96, 56]   96      56      0.251755    535\n",
       " 192 │  2.38886     2.41112   [96, 56]   96      56      0.251755    536\n",
       " 193 │ -2.6126     -2.03714   [97, 73]   97      73      0.253954    545\n",
       " 194 │  0.0569136   1.45085   [97, 73]   97      73      0.253954    546\n",
       " 195 │ -3.71868    -1.31448   [98, 80]   98      80      0.392221    553\n",
       " 196 │  1.1691     -1.89715   [98, 80]   98      80      0.392221    554\n",
       " 197 │ -2.51032     0.326416  [99, 95]   99      95      0.287163    559\n",
       " 198 │  2.15775     3.17318   [99, 95]   99      95      0.287163    560\n",
       " 199 │ -4.66212    -2.51591   [100, 63]  100     63      0.397796    565\n",
       " 200 │ -0.38677    -1.12763   [100, 63]  100     63      0.397796    566\n",
       "\u001b[36m                                                         179 rows omitted\u001b[0m"
      ]
     },
     "execution_count": 236,
     "metadata": {},
     "output_type": "execute_result"
    }
   ],
   "source": []
  },
  {
   "cell_type": "code",
   "execution_count": 175,
   "id": "b2149335-6313-4bd5-853b-3b6326e102fe",
   "metadata": {},
   "outputs": [
    {
     "data": {
      "application/vnd.vegalite.v4+json": {
       "layer": [
        {
         "data": {
          "values": []
         },
         "encoding": {
          "detail": {
           "field": "pe",
           "type": "ordinal"
          },
          "opacity": {
           "field": "ew",
           "legend": null,
           "type": "quantitative"
          },
          "size": {
           "field": "ew",
           "legend": null,
           "scale": {
            "range": [
             0,
             2
            ]
           },
           "type": "ordinal"
          },
          "x": {
           "axis": null,
           "field": "edges_x",
           "type": "quantitative"
          },
          "y": {
           "axis": null,
           "field": "edges_y",
           "type": "quantitative"
          }
         },
         "height": 300,
         "mark": {
          "clip": false,
          "color": "black",
          "type": "line"
         },
         "width": 300
        },
        {
         "data": {
          "values": [
           {
            "x": 0.8542931760201404,
            "y": -0.45070404443117434
           },
           {
            "x": 3.5636328829031036,
            "y": 1.4547914731794256
           },
           {
            "x": -0.8354917860292255,
            "y": 2.586400630640704
           },
           {
            "x": -0.5279234764554065,
            "y": 2.6163983149267955
           },
           {
            "x": 3.726368819129325,
            "y": 2.8907859910786247
           },
           {
            "x": 2.8280375700293057,
            "y": -0.3175521832530321
           },
           {
            "x": -0.5055419067553927,
            "y": -0.32538885215724955
           },
           {
            "x": 2.6706608092744535,
            "y": -0.26015352658965896
           },
           {
            "x": -1.4426703059147705,
            "y": 1.7837952846353369
           },
           {
            "x": -1.1564328532311534,
            "y": 1.821469628382712
           },
           {
            "x": 3.519582598718799,
            "y": 1.4892491445163916
           },
           {
            "x": 1.915261155293534,
            "y": -0.33368947033574176
           },
           {
            "x": -0.6689282441185622,
            "y": 0.00981056935790688
           },
           {
            "x": -0.7407252001760425,
            "y": 0.05828529593511358
           },
           {
            "x": -0.7448520874653161,
            "y": -0.032090290789995
           },
           {
            "x": 0.6614130730368452,
            "y": -0.44062724423678007
           },
           {
            "x": 2.458025334048896,
            "y": 3.7825363090119906
           },
           {
            "x": 3.5715930037460613,
            "y": 1.5899015665656677
           },
           {
            "x": 2.6600159598767044,
            "y": -0.30505073609206135
           },
           {
            "x": -1.4207066574729323,
            "y": 2.248540352762932
           },
           {
            "x": 3.726030247192845,
            "y": 2.867961957450497
           },
           {
            "x": 2.749665735435839,
            "y": 3.550888395384044
           },
           {
            "x": 0.0017647399297816664,
            "y": 2.2857024779313764
           },
           {
            "x": 0.7239752869692122,
            "y": -0.437693901645528
           },
           {
            "x": 2.766248139635588,
            "y": -0.3860258114589949
           },
           {
            "x": 3.580824466807499,
            "y": 2.5981582346433836
           },
           {
            "x": 3.4152439570967297,
            "y": 1.2429309010298675
           },
           {
            "x": 2.8415474157351257,
            "y": -0.30119864698156834
           },
           {
            "x": 2.1076568761472707,
            "y": 0.27326611396911527
           },
           {
            "x": 2.66823392031374,
            "y": -0.352950327900624
           },
           {
            "x": -1.4048544297330503,
            "y": 0.7329954616706934
           },
           {
            "x": -0.4634009940215091,
            "y": 2.6670843288287536
           },
           {
            "x": 2.4365719880526995,
            "y": -0.11052128580226138
           },
           {
            "x": -1.4498340534152292,
            "y": 1.9060655642136939
           },
           {
            "x": -1.5483354921931372,
            "y": 1.901457789868646
           },
           {
            "x": -0.8992721000066098,
            "y": 2.2880162863432294
           },
           {
            "x": -0.9257957900806029,
            "y": 2.317650294905027
           },
           {
            "x": -1.2763744057223696,
            "y": 2.1991563637522082
           },
           {
            "x": 2.3370653620444077,
            "y": 3.8934157870966706
           },
           {
            "x": 2.7527311754415593,
            "y": -0.5366393205529256
           },
           {
            "x": 2.444724596627859,
            "y": -0.23969523351561448
           },
           {
            "x": -0.4902658068998221,
            "y": -0.27483308239282916
           },
           {
            "x": 0.6922061086911766,
            "y": -0.49728443732161054
           },
           {
            "x": -0.6566981142367814,
            "y": 0.008915239954305935
           },
           {
            "x": 1.4698129932537567,
            "y": -0.4774388565977955
           },
           {
            "x": 2.4900136729755196,
            "y": -0.08084358561931103
           },
           {
            "x": -0.510017385114313,
            "y": -0.25916687801450544
           },
           {
            "x": 3.596299677596568,
            "y": 2.7139732653003796
           },
           {
            "x": 3.528793708401672,
            "y": 1.4196971803756036
           },
           {
            "x": 3.6638477560534737,
            "y": 2.500886097004323
           },
           {
            "x": 3.789211273923923,
            "y": 2.9271349608326136
           },
           {
            "x": 3.8549218741535762,
            "y": 3.0197558792419246
           },
           {
            "x": -0.47871576445034597,
            "y": -0.2163912916305661
           },
           {
            "x": 2.6885103666822205,
            "y": -0.5177268804018703
           },
           {
            "x": -1.2691628675353306,
            "y": 2.3623166135348623
           },
           {
            "x": 3.5384305282266673,
            "y": 1.4457981324963798
           },
           {
            "x": 2.8020610086795723,
            "y": 3.174847692770812
           },
           {
            "x": -0.33641177854472887,
            "y": 2.4782851577810234
           },
           {
            "x": 3.8067486968903888,
            "y": 2.9378973728838704
           },
           {
            "x": -0.07272439948176725,
            "y": 2.971304008921696
           },
           {
            "x": -1.1245611364244597,
            "y": 1.9172430419641189
           },
           {
            "x": 2.1116121573241613,
            "y": 0.4545360087015998
           },
           {
            "x": -0.8348545462968576,
            "y": 0.13205774890008862
           },
           {
            "x": -1.9475845985416627,
            "y": 1.3701439188371987
           },
           {
            "x": 0.2255483125691947,
            "y": 2.4271846974222866
           },
           {
            "x": 2.818006901894668,
            "y": -0.18231917236601147
           },
           {
            "x": 3.5631964296633547,
            "y": 1.4509138355422333
           },
           {
            "x": -0.02599255240651719,
            "y": 2.47770719726122
           },
           {
            "x": 2.3127092846957855,
            "y": 0.04010645830173327
           },
           {
            "x": 2.246768503012377,
            "y": 3.8796551973811417
           },
           {
            "x": 3.4904369071993306,
            "y": 1.3562898293587922
           },
           {
            "x": 2.4371725960007886,
            "y": 3.8154288922743125
           },
           {
            "x": -0.5900768612533516,
            "y": 2.62717251446737
           },
           {
            "x": 3.674618907125929,
            "y": 2.7810293453502144
           },
           {
            "x": 2.5324491265363167,
            "y": 3.745024943945553
           },
           {
            "x": 3.698027975915482,
            "y": 2.4657059141597846
           },
           {
            "x": 2.799903694898552,
            "y": 3.412168489600158
           },
           {
            "x": 3.346436024149667,
            "y": 1.1316148660795715
           },
           {
            "x": 2.276649894676372,
            "y": 3.932254736157669
           },
           {
            "x": 0.9092631397492238,
            "y": -0.4807970476301006
           },
           {
            "x": 2.6205769368236402,
            "y": 3.6636454887982173
           },
           {
            "x": -0.5905976976792163,
            "y": 2.7770355652381067
           },
           {
            "x": -1.2988732668941807,
            "y": 1.8142227348422164
           },
           {
            "x": -0.4213392501637988,
            "y": -0.2740685265415919
           },
           {
            "x": 1.3049785712738309,
            "y": -0.4416952814895285
           },
           {
            "x": -0.5592926634965358,
            "y": -0.06014597205169073
           },
           {
            "x": 2.4789753444416136,
            "y": 3.790234900622549
           },
           {
            "x": -0.5870926303018101,
            "y": -0.2916874383229103
           },
           {
            "x": 1.6504358880488303,
            "y": -0.4490005488794106
           },
           {
            "x": 0.41323333292016634,
            "y": -0.33775055629729467
           },
           {
            "x": 0.3687070032993711,
            "y": -0.2511495652703553
           },
           {
            "x": -0.18416524009924432,
            "y": 2.6539404443772874
           },
           {
            "x": -1.2880438615824932,
            "y": 2.2714656162099347
           },
           {
            "x": 0.43072948101743874,
            "y": -0.4038460415800355
           },
           {
            "x": 3.4889133383378548,
            "y": 2.735202091818767
           },
           {
            "x": 2.2241998068341378,
            "y": 0.11247238330103963
           },
           {
            "x": -1.4917238012750822,
            "y": 2.3563243401909397
           },
           {
            "x": 2.2815460281767064,
            "y": 3.9499795725117153
           },
           {
            "x": 2.7755482232167967,
            "y": 3.515880806011314
           },
           {
            "x": 0.5431999570320087,
            "y": -0.40460776936577947
           }
          ]
         },
         "encoding": {
          "x": {
           "axis": null,
           "field": "x",
           "title": null,
           "type": "quantitative"
          },
          "y": {
           "axis": null,
           "field": "y",
           "title": null,
           "type": "quantitative"
          }
         },
         "height": 300,
         "mark": {
          "color": "red",
          "opacity": 1,
          "type": "circle"
         },
         "width": 300
        },
        {
         "data": {
          "values": [
           {
            "x": -3.746745586506543,
            "y": 2.5421434750245924
           },
           {
            "x": -2.769483971128389,
            "y": 4.548663674147472
           },
           {
            "x": -1.7595464338554776,
            "y": 1.2487571417588685
           },
           {
            "x": -5.388436530949081,
            "y": -0.8741273859758735
           },
           {
            "x": -3.7830394390904294,
            "y": 0.474710185818223
           },
           {
            "x": -4.126953894264499,
            "y": 0.29414773668039573
           },
           {
            "x": -3.8596607910907865,
            "y": 1.7280973148923493
           },
           {
            "x": -3.6896645889984874,
            "y": 2.742257513618187
           },
           {
            "x": -3.827277299572415,
            "y": 1.7386939432807629
           },
           {
            "x": -4.314144448608627,
            "y": -0.03517423405644049
           },
           {
            "x": -3.5109065445927876,
            "y": 2.642820874350137
           },
           {
            "x": -5.377297285901952,
            "y": -0.5832640594469776
           },
           {
            "x": -3.247389453225623,
            "y": 2.5118020403824795
           },
           {
            "x": -1.2702561777922907,
            "y": 5.0103544359724275
           },
           {
            "x": -3.875318426280452,
            "y": 1.7210711357337807
           },
           {
            "x": -4.3800521217504205,
            "y": -0.053275783540065264
           },
           {
            "x": -2.293594411250482,
            "y": 1.3886280051752409
           },
           {
            "x": -4.798446698169999,
            "y": 0.8155543189259432
           },
           {
            "x": -1.7638406999843181,
            "y": 1.6341793741422401
           },
           {
            "x": -4.465990638668907,
            "y": 0.051625310424620416
           },
           {
            "x": -1.6781388484222195,
            "y": 1.1181533907445553
           },
           {
            "x": -2.7930968061250154,
            "y": 4.465487330196603
           },
           {
            "x": -4.504883656217912,
            "y": 0.06622230695468989
           },
           {
            "x": -5.521123155903637,
            "y": -0.9751199420627266
           },
           {
            "x": -4.902646752880852,
            "y": -0.8250313707690153
           },
           {
            "x": -3.4827900772532727,
            "y": 2.821373571869694
           },
           {
            "x": -2.980257876154643,
            "y": 0.8215957998994565
           },
           {
            "x": -3.6643241725472433,
            "y": 2.8307252621593437
           },
           {
            "x": -3.2123879245832665,
            "y": 0.6564930230327063
           },
           {
            "x": -4.805773216618699,
            "y": -0.4489487982816424
           },
           {
            "x": -3.2656223178047594,
            "y": 1.9686524421364735
           },
           {
            "x": -4.636750982755299,
            "y": 1.0472024391619426
           },
           {
            "x": -1.2366695368449796,
            "y": 4.670366286085917
           },
           {
            "x": -4.510552145444048,
            "y": -0.08930764725404597
           },
           {
            "x": -2.911587104028167,
            "y": 4.841801811015997
           },
           {
            "x": -5.2376837238588,
            "y": -0.5020819624600701
           },
           {
            "x": -1.3896484787947327,
            "y": 4.646357954359609
           },
           {
            "x": -2.8705865073296195,
            "y": 4.837350584232563
           },
           {
            "x": -2.731860110524872,
            "y": 1.0262801440481248
           },
           {
            "x": -1.4223213961220458,
            "y": 4.754646116198962
           },
           {
            "x": -3.9901645945817505,
            "y": 1.5675910091874594
           },
           {
            "x": -5.010137781864073,
            "y": 0.9274655600559071
           },
           {
            "x": -3.27691927165091,
            "y": 0.8506028275037986
           },
           {
            "x": -4.247121162001523,
            "y": 0.31792440773979996
           },
           {
            "x": -3.18395364363138,
            "y": 2.174393903159801
           },
           {
            "x": -3.737737948811676,
            "y": 0.48109375401012566
           },
           {
            "x": -5.3266628057593355,
            "y": -1.1957165702266113
           },
           {
            "x": -5.061100615087753,
            "y": -0.44544496124117977
           },
           {
            "x": -3.1645163246195387,
            "y": 2.354724761773849
           },
           {
            "x": -3.6185643136972208,
            "y": 2.6457493984224865
           },
           {
            "x": -2.9070276656715426,
            "y": 2.5334669590470544
           },
           {
            "x": -2.8099344099962833,
            "y": 4.487977756929202
           },
           {
            "x": -3.2701798309548784,
            "y": 0.6442430006532341
           },
           {
            "x": -5.171548401768723,
            "y": -0.9307635830902516
           },
           {
            "x": -3.4086796417028173,
            "y": 0.558400790681594
           },
           {
            "x": -5.000561465936803,
            "y": 0.9151749285506071
           },
           {
            "x": -2.7604708398135145,
            "y": 4.2970343435603295
           },
           {
            "x": -4.062461790085973,
            "y": 0.263396766130441
           },
           {
            "x": -1.8787321918661894,
            "y": 1.0062473736939337
           },
           {
            "x": -5.527080140364132,
            "y": -0.9346632104204742
           },
           {
            "x": -1.1322233882619093,
            "y": 0.4193687596096504
           },
           {
            "x": -5.43159467285531,
            "y": -0.9307606316153347
           },
           {
            "x": -1.463072545945691,
            "y": 4.554396331896992
           },
           {
            "x": -2.9537781943139985,
            "y": 4.69644874477747
           },
           {
            "x": -1.7453967981128022,
            "y": 2.0575371797229596
           },
           {
            "x": -5.3070971357166705,
            "y": -0.6138196216786013
           },
           {
            "x": -1.4645338504127337,
            "y": 4.755649718273794
           },
           {
            "x": -5.258657062227496,
            "y": -0.622003993075051
           },
           {
            "x": -1.5775696549920915,
            "y": 2.0378183904581424
           },
           {
            "x": -2.916657111716303,
            "y": 4.784484178024898
           },
           {
            "x": -3.8448654639026847,
            "y": 1.7688162023654888
           },
           {
            "x": -4.5401348619244954,
            "y": -0.18029884252810527
           },
           {
            "x": -3.8945072642473644,
            "y": 1.6948997969083692
           },
           {
            "x": -1.4291249382900353,
            "y": 4.820319986823658
           },
           {
            "x": -3.1904784931544667,
            "y": 2.4633333109622115
           },
           {
            "x": -2.9718694002716384,
            "y": 4.833094037933421
           },
           {
            "x": -5.543978220031645,
            "y": -0.6816000608517648
           },
           {
            "x": -5.397893555390283,
            "y": -0.7494591879648766
           },
           {
            "x": -5.141933317308202,
            "y": -0.8575247540675606
           },
           {
            "x": -4.516913424172234,
            "y": -0.2774560751487611
           },
           {
            "x": -2.632190080674603,
            "y": 2.7105452827106067
           },
           {
            "x": -2.898575190951145,
            "y": 4.777546212297302
           },
           {
            "x": -2.9975744931952875,
            "y": 2.9131063955086707
           },
           {
            "x": -1.4069886968745442,
            "y": 4.86974846154972
           },
           {
            "x": -3.276039762353683,
            "y": 0.6325506407132031
           },
           {
            "x": -4.984480969551031,
            "y": 0.9967506898453182
           },
           {
            "x": -2.099575314904241,
            "y": 1.6118363372360522
           },
           {
            "x": -4.164251964400525,
            "y": 0.11502018339984359
           },
           {
            "x": -2.7381221867543446,
            "y": 4.215946680135696
           },
           {
            "x": -4.008519988411809,
            "y": 0.05788234890482183
           },
           {
            "x": -1.2780445075016158,
            "y": 4.9528965084180445
           },
           {
            "x": -4.473246334770135,
            "y": -0.15047123913575197
           },
           {
            "x": -1.892921496620915,
            "y": 1.0358547700420935
           },
           {
            "x": -1.4128234935588744,
            "y": 4.851948209636519
           },
           {
            "x": -5.015012256621529,
            "y": 0.9257479283166186
           },
           {
            "x": -2.928313884221285,
            "y": 4.7715627542332575
           },
           {
            "x": -3.785996436945409,
            "y": 0.46921772327058436
           },
           {
            "x": -5.015463290774808,
            "y": 0.9482219994470318
           },
           {
            "x": -3.1150840143458955,
            "y": 2.4107929276401032
           },
           {
            "x": -5.323270468337915,
            "y": -0.7701676191000475
           }
          ]
         },
         "encoding": {
          "x": {
           "axis": null,
           "field": "x",
           "title": null,
           "type": "quantitative"
          },
          "y": {
           "axis": null,
           "field": "y",
           "title": null,
           "type": "quantitative"
          }
         },
         "height": 300,
         "mark": {
          "opacity": 1,
          "type": "circle"
         },
         "width": 300
        }
       ],
       "title": {
        "dy": -25,
        "fontSize": 14,
        "text": ""
       },
       "view": {
        "stroke": null
       }
      },
      "image/png": "[encoded data removed]",
      "image/svg+xml": [
       "<?xml version=\"1.0\" encoding=\"utf-8\"?>\n",
       "<!DOCTYPE svg PUBLIC \"-//W3C//DTD SVG 1.1//EN\" \"http://www.w3.org/Graphics/SVG/1.1/DTD/svg11.dtd\">\n",
       "<svg xmlns=\"http://www.w3.org/2000/svg\" xmlns:xlink=\"http://www.w3.org/1999/xlink\" version=\"1.1\" class=\"marks\" width=\"310\" height=\"310\" viewBox=\"0 0 310 310\"><rect width=\"310\" height=\"310\" fill=\"white\"/><g fill=\"none\" stroke-miterlimit=\"10\" transform=\"translate(5,5)\"><g class=\"mark-group role-frame root\" role=\"graphics-object\" aria-roledescription=\"group mark container\"><g transform=\"translate(0,0)\"><path class=\"background\" aria-hidden=\"true\" d=\"M0,0h300v300h-300Z\"/><g><g class=\"mark-group role-scope layer_0_pathgroup\" role=\"graphics-object\" aria-roledescription=\"group mark container\"/><g class=\"mark-symbol role-mark layer_1_marks\" role=\"graphics-object\" aria-roledescription=\"symbol mark container\"><path aria-label=\"x: 0.85429317602; y: −0.450704044431\" role=\"graphics-symbol\" aria-roledescription=\"circle\" transform=\"translate(205.62879528060424,255.03017333276463)\" d=\"M2.7386127875258306,0A2.7386127875258306,2.7386127875258306,0,1,1,-2.7386127875258306,0A2.7386127875258306,2.7386127875258306,0,1,1,2.7386127875258306,0\" fill=\"red\" stroke-width=\"2\" opacity=\"1\"/><path aria-label=\"x: 3.5636328829; y: 1.45479147318\" role=\"graphics-symbol\" aria-roledescription=\"circle\" transform=\"translate(286.9089864870931,173.36607972088177)\" d=\"M2.7386127875258306,0A2.7386127875258306,2.7386127875258306,0,1,1,-2.7386127875258306,0A2.7386127875258306,2.7386127875258306,0,1,1,2.7386127875258306,0\" fill=\"red\" stroke-width=\"2\" opacity=\"1\"/><path aria-label=\"x: −0.835491786029; y: 2.58640063064\" role=\"graphics-symbol\" aria-roledescription=\"circle\" transform=\"translate(154.93524641912327,124.86854440111271)\" d=\"M2.7386127875258306,0A2.7386127875258306,2.7386127875258306,0,1,1,-2.7386127875258306,0A2.7386127875258306,2.7386127875258306,0,1,1,2.7386127875258306,0\" fill=\"red\" stroke-width=\"2\" opacity=\"1\"/><path aria-label=\"x: −0.527923476455; y: 2.61639831493\" role=\"graphics-symbol\" aria-roledescription=\"circle\" transform=\"translate(164.1622957063378,123.58292936028016)\" d=\"M2.7386127875258306,0A2.7386127875258306,2.7386127875258306,0,1,1,-2.7386127875258306,0A2.7386127875258306,2.7386127875258306,0,1,1,2.7386127875258306,0\" fill=\"red\" stroke-width=\"2\" opacity=\"1\"/><path aria-label=\"x: 3.72636881913; y: 2.89078599108\" role=\"graphics-symbol\" aria-roledescription=\"circle\" transform=\"translate(291.79106457387974,111.82345752520179)\" d=\"M2.7386127875258306,0A2.7386127875258306,2.7386127875258306,0,1,1,-2.7386127875258306,0A2.7386127875258306,2.7386127875258306,0,1,1,2.7386127875258306,0\" fill=\"red\" stroke-width=\"2\" opacity=\"1\"/><path aria-label=\"x: 2.82803757003; y: −0.317552183253\" role=\"graphics-symbol\" aria-roledescription=\"circle\" transform=\"translate(264.8411271008792,249.32366499655853)\" d=\"M2.7386127875258306,0A2.7386127875258306,2.7386127875258306,0,1,1,-2.7386127875258306,0A2.7386127875258306,2.7386127875258306,0,1,1,2.7386127875258306,0\" fill=\"red\" stroke-width=\"2\" opacity=\"1\"/><path aria-label=\"x: −0.505541906755; y: −0.325388852157\" role=\"graphics-symbol\" aria-roledescription=\"circle\" transform=\"translate(164.83374279733823,249.65952223531067)\" d=\"M2.7386127875258306,0A2.7386127875258306,2.7386127875258306,0,1,1,-2.7386127875258306,0A2.7386127875258306,2.7386127875258306,0,1,1,2.7386127875258306,0\" fill=\"red\" stroke-width=\"2\" opacity=\"1\"/><path aria-label=\"x: 2.67066080927; y: −0.26015352659\" role=\"graphics-symbol\" aria-roledescription=\"circle\" transform=\"translate(260.1198242782336,246.86372256812825)\" d=\"M2.7386127875258306,0A2.7386127875258306,2.7386127875258306,0,1,1,-2.7386127875258306,0A2.7386127875258306,2.7386127875258306,0,1,1,2.7386127875258306,0\" fill=\"red\" stroke-width=\"2\" opacity=\"1\"/><path aria-label=\"x: −1.44267030591; y: 1.78379528464\" role=\"graphics-symbol\" aria-roledescription=\"circle\" transform=\"translate(136.7198908225569,159.26591637277127)\" d=\"M2.7386127875258306,0A2.7386127875258306,2.7386127875258306,0,1,1,-2.7386127875258306,0A2.7386127875258306,2.7386127875258306,0,1,1,2.7386127875258306,0\" fill=\"red\" stroke-width=\"2\" opacity=\"1\"/><path aria-label=\"x: −1.15643285323; y: 1.82146962838\" role=\"graphics-symbol\" aria-roledescription=\"circle\" transform=\"translate(145.30701440306538,157.6513016407409)\" d=\"M2.7386127875258306,0A2.7386127875258306,2.7386127875258306,0,1,1,-2.7386127875258306,0A2.7386127875258306,2.7386127875258306,0,1,1,2.7386127875258306,0\" fill=\"red\" stroke-width=\"2\" opacity=\"1\"/><path aria-label=\"x: 3.51958259872; y: 1.48924914452\" role=\"graphics-symbol\" aria-roledescription=\"circle\" transform=\"translate(285.587477961564,171.88932237786892)\" d=\"M2.7386127875258306,0A2.7386127875258306,2.7386127875258306,0,1,1,-2.7386127875258306,0A2.7386127875258306,2.7386127875258306,0,1,1,2.7386127875258306,0\" fill=\"red\" stroke-width=\"2\" opacity=\"1\"/><path aria-label=\"x: 1.91526115529; y: −0.333689470336\" role=\"graphics-symbol\" aria-roledescription=\"circle\" transform=\"translate(237.457834658806,250.01526301438895)\" d=\"M2.7386127875258306,0A2.7386127875258306,2.7386127875258306,0,1,1,-2.7386127875258306,0A2.7386127875258306,2.7386127875258306,0,1,1,2.7386127875258306,0\" fill=\"red\" stroke-width=\"2\" opacity=\"1\"/><path aria-label=\"x: −0.668928244119; y: 0.00981056935791\" role=\"graphics-symbol\" aria-roledescription=\"circle\" transform=\"translate(159.93215267644314,235.293832741804)\" d=\"M2.7386127875258306,0A2.7386127875258306,2.7386127875258306,0,1,1,-2.7386127875258306,0A2.7386127875258306,2.7386127875258306,0,1,1,2.7386127875258306,0\" fill=\"red\" stroke-width=\"2\" opacity=\"1\"/><path aria-label=\"x: −0.740725200176; y: 0.0582852959351\" role=\"graphics-symbol\" aria-roledescription=\"circle\" transform=\"translate(157.77824399471874,233.21634445992373)\" d=\"M2.7386127875258306,0A2.7386127875258306,2.7386127875258306,0,1,1,-2.7386127875258306,0A2.7386127875258306,2.7386127875258306,0,1,1,2.7386127875258306,0\" fill=\"red\" stroke-width=\"2\" opacity=\"1\"/><path aria-label=\"x: −0.744852087465; y: −0.03209029079\" role=\"graphics-symbol\" aria-roledescription=\"circle\" transform=\"translate(157.65443737604053,237.0895838909998)\" d=\"M2.7386127875258306,0A2.7386127875258306,2.7386127875258306,0,1,1,-2.7386127875258306,0A2.7386127875258306,2.7386127875258306,0,1,1,2.7386127875258306,0\" fill=\"red\" stroke-width=\"2\" opacity=\"1\"/><path aria-label=\"x: 0.661413073037; y: −0.440627244237\" role=\"graphics-symbol\" aria-roledescription=\"circle\" transform=\"translate(199.84239219110538,254.59831046729056)\" d=\"M2.7386127875258306,0A2.7386127875258306,2.7386127875258306,0,1,1,-2.7386127875258306,0A2.7386127875258306,2.7386127875258306,0,1,1,2.7386127875258306,0\" fill=\"red\" stroke-width=\"2\" opacity=\"1\"/><path aria-label=\"x: 2.45802533405; y: 3.78253630901\" role=\"graphics-symbol\" aria-roledescription=\"circle\" transform=\"translate(253.74076002146688,73.60558675662897)\" d=\"M2.7386127875258306,0A2.7386127875258306,2.7386127875258306,0,1,1,-2.7386127875258306,0A2.7386127875258306,2.7386127875258306,0,1,1,2.7386127875258306,0\" fill=\"red\" stroke-width=\"2\" opacity=\"1\"/><path aria-label=\"x: 3.57159300375; y: 1.58990156657\" role=\"graphics-symbol\" aria-roledescription=\"circle\" transform=\"translate(287.14779011238187,167.57564714718566)\" d=\"M2.7386127875258306,0A2.7386127875258306,2.7386127875258306,0,1,1,-2.7386127875258306,0A2.7386127875258306,2.7386127875258306,0,1,1,2.7386127875258306,0\" fill=\"red\" stroke-width=\"2\" opacity=\"1\"/><path aria-label=\"x: 2.66001595988; y: −0.305050736092\" role=\"graphics-symbol\" aria-roledescription=\"circle\" transform=\"translate(259.8004787963011,248.78788868965975)\" d=\"M2.7386127875258306,0A2.7386127875258306,2.7386127875258306,0,1,1,-2.7386127875258306,0A2.7386127875258306,2.7386127875258306,0,1,1,2.7386127875258306,0\" fill=\"red\" stroke-width=\"2\" opacity=\"1\"/><path aria-label=\"x: −1.42070665747; y: 2.24854035276\" role=\"graphics-symbol\" aria-roledescription=\"circle\" transform=\"translate(137.37880027581204,139.34827059587434)\" d=\"M2.7386127875258306,0A2.7386127875258306,2.7386127875258306,0,1,1,-2.7386127875258306,0A2.7386127875258306,2.7386127875258306,0,1,1,2.7386127875258306,0\" fill=\"red\" stroke-width=\"2\" opacity=\"1\"/><path aria-label=\"x: 3.72603024719; y: 2.86796195745\" role=\"graphics-symbol\" aria-roledescription=\"circle\" transform=\"translate(291.78090741578535,112.80163039497869)\" d=\"M2.7386127875258306,0A2.7386127875258306,2.7386127875258306,0,1,1,-2.7386127875258306,0A2.7386127875258306,2.7386127875258306,0,1,1,2.7386127875258306,0\" fill=\"red\" stroke-width=\"2\" opacity=\"1\"/><path aria-label=\"x: 2.74966573544; y: 3.55088839538\" role=\"graphics-symbol\" aria-roledescription=\"circle\" transform=\"translate(262.4899720630752,83.53335448354096)\" d=\"M2.7386127875258306,0A2.7386127875258306,2.7386127875258306,0,1,1,-2.7386127875258306,0A2.7386127875258306,2.7386127875258306,0,1,1,2.7386127875258306,0\" fill=\"red\" stroke-width=\"2\" opacity=\"1\"/><path aria-label=\"x: 0.00176473992978; y: 2.28570247793\" role=\"graphics-symbol\" aria-roledescription=\"circle\" transform=\"translate(180.0529421978935,137.75560808865532)\" d=\"M2.7386127875258306,0A2.7386127875258306,2.7386127875258306,0,1,1,-2.7386127875258306,0A2.7386127875258306,2.7386127875258306,0,1,1,2.7386127875258306,0\" fill=\"red\" stroke-width=\"2\" opacity=\"1\"/><path aria-label=\"x: 0.723975286969; y: −0.437693901646\" role=\"graphics-symbol\" aria-roledescription=\"circle\" transform=\"translate(201.71925860907638,254.47259578480833)\" d=\"M2.7386127875258306,0A2.7386127875258306,2.7386127875258306,0,1,1,-2.7386127875258306,0A2.7386127875258306,2.7386127875258306,0,1,1,2.7386127875258306,0\" fill=\"red\" stroke-width=\"2\" opacity=\"1\"/><path aria-label=\"x: 2.76624813964; y: −0.386025811459\" role=\"graphics-symbol\" aria-roledescription=\"circle\" transform=\"translate(262.9874441890676,252.25824906252836)\" d=\"M2.7386127875258306,0A2.7386127875258306,2.7386127875258306,0,1,1,-2.7386127875258306,0A2.7386127875258306,2.7386127875258306,0,1,1,2.7386127875258306,0\" fill=\"red\" stroke-width=\"2\" opacity=\"1\"/><path aria-label=\"x: 3.58082446681; y: 2.59815823464\" role=\"graphics-symbol\" aria-roledescription=\"circle\" transform=\"translate(287.424734004225,124.36464708671213)\" d=\"M2.7386127875258306,0A2.7386127875258306,2.7386127875258306,0,1,1,-2.7386127875258306,0A2.7386127875258306,2.7386127875258306,0,1,1,2.7386127875258306,0\" fill=\"red\" stroke-width=\"2\" opacity=\"1\"/><path aria-label=\"x: 3.4152439571; y: 1.24293090103\" role=\"graphics-symbol\" aria-roledescription=\"circle\" transform=\"translate(282.4573187129019,182.4458185272914)\" d=\"M2.7386127875258306,0A2.7386127875258306,2.7386127875258306,0,1,1,-2.7386127875258306,0A2.7386127875258306,2.7386127875258306,0,1,1,2.7386127875258306,0\" fill=\"red\" stroke-width=\"2\" opacity=\"1\"/><path aria-label=\"x: 2.84154741574; y: −0.301198646982\" role=\"graphics-symbol\" aria-roledescription=\"circle\" transform=\"translate(265.2464224720537,248.62279915635293)\" d=\"M2.7386127875258306,0A2.7386127875258306,2.7386127875258306,0,1,1,-2.7386127875258306,0A2.7386127875258306,2.7386127875258306,0,1,1,2.7386127875258306,0\" fill=\"red\" stroke-width=\"2\" opacity=\"1\"/><path aria-label=\"x: 2.10765687615; y: 0.273266113969\" role=\"graphics-symbol\" aria-roledescription=\"circle\" transform=\"translate(243.22970628441814,224.00288082989508)\" d=\"M2.7386127875258306,0A2.7386127875258306,2.7386127875258306,0,1,1,-2.7386127875258306,0A2.7386127875258306,2.7386127875258306,0,1,1,2.7386127875258306,0\" fill=\"red\" stroke-width=\"2\" opacity=\"1\"/><path aria-label=\"x: 2.66823392031; y: −0.352950327901\" role=\"graphics-symbol\" aria-roledescription=\"circle\" transform=\"translate(260.0470176094122,250.84072833859818)\" d=\"M2.7386127875258306,0A2.7386127875258306,2.7386127875258306,0,1,1,-2.7386127875258306,0A2.7386127875258306,2.7386127875258306,0,1,1,2.7386127875258306,0\" fill=\"red\" stroke-width=\"2\" opacity=\"1\"/><path aria-label=\"x: −1.40485442973; y: 0.732995461671\" role=\"graphics-symbol\" aria-roledescription=\"circle\" transform=\"translate(137.8543671080085,204.30019449982743)\" d=\"M2.7386127875258306,0A2.7386127875258306,2.7386127875258306,0,1,1,-2.7386127875258306,0A2.7386127875258306,2.7386127875258306,0,1,1,2.7386127875258306,0\" fill=\"red\" stroke-width=\"2\" opacity=\"1\"/><path aria-label=\"x: −0.463400994022; y: 2.66708432883\" role=\"graphics-symbol\" aria-roledescription=\"circle\" transform=\"translate(166.09797017935472,121.41067162162483)\" d=\"M2.7386127875258306,0A2.7386127875258306,2.7386127875258306,0,1,1,-2.7386127875258306,0A2.7386127875258306,2.7386127875258306,0,1,1,2.7386127875258306,0\" fill=\"red\" stroke-width=\"2\" opacity=\"1\"/><path aria-label=\"x: 2.43657198805; y: −0.110521285802\" role=\"graphics-symbol\" aria-roledescription=\"circle\" transform=\"translate(253.09715964158102,240.45091224866835)\" d=\"M2.7386127875258306,0A2.7386127875258306,2.7386127875258306,0,1,1,-2.7386127875258306,0A2.7386127875258306,2.7386127875258306,0,1,1,2.7386127875258306,0\" fill=\"red\" stroke-width=\"2\" opacity=\"1\"/><path aria-label=\"x: −1.44983405342; y: 1.90606556421\" role=\"graphics-symbol\" aria-roledescription=\"circle\" transform=\"translate(136.50497839754314,154.0257615336988)\" d=\"M2.7386127875258306,0A2.7386127875258306,2.7386127875258306,0,1,1,-2.7386127875258306,0A2.7386127875258306,2.7386127875258306,0,1,1,2.7386127875258306,0\" fill=\"red\" stroke-width=\"2\" opacity=\"1\"/><path aria-label=\"x: −1.54833549219; y: 1.90145778987\" role=\"graphics-symbol\" aria-roledescription=\"circle\" transform=\"translate(133.54993523420586,154.22323757705806)\" d=\"M2.7386127875258306,0A2.7386127875258306,2.7386127875258306,0,1,1,-2.7386127875258306,0A2.7386127875258306,2.7386127875258306,0,1,1,2.7386127875258306,0\" fill=\"red\" stroke-width=\"2\" opacity=\"1\"/><path aria-label=\"x: −0.899272100007; y: 2.28801628634\" role=\"graphics-symbol\" aria-roledescription=\"circle\" transform=\"translate(153.0218369998017,137.65644487100448)\" d=\"M2.7386127875258306,0A2.7386127875258306,2.7386127875258306,0,1,1,-2.7386127875258306,0A2.7386127875258306,2.7386127875258306,0,1,1,2.7386127875258306,0\" fill=\"red\" stroke-width=\"2\" opacity=\"1\"/><path aria-label=\"x: −0.925795790081; y: 2.31765029491\" role=\"graphics-symbol\" aria-roledescription=\"circle\" transform=\"translate(152.2261262975819,136.3864159326417)\" d=\"M2.7386127875258306,0A2.7386127875258306,2.7386127875258306,0,1,1,-2.7386127875258306,0A2.7386127875258306,2.7386127875258306,0,1,1,2.7386127875258306,0\" fill=\"red\" stroke-width=\"2\" opacity=\"1\"/><path aria-label=\"x: −1.27637440572; y: 2.19915636375\" role=\"graphics-symbol\" aria-roledescription=\"circle\" transform=\"translate(141.7087678283289,141.46472726776253)\" d=\"M2.7386127875258306,0A2.7386127875258306,2.7386127875258306,0,1,1,-2.7386127875258306,0A2.7386127875258306,2.7386127875258306,0,1,1,2.7386127875258306,0\" fill=\"red\" stroke-width=\"2\" opacity=\"1\"/><path aria-label=\"x: 2.33706536204; y: 3.8934157871\" role=\"graphics-symbol\" aria-roledescription=\"circle\" transform=\"translate(250.11196086133225,68.85360912442839)\" d=\"M2.7386127875258306,0A2.7386127875258306,2.7386127875258306,0,1,1,-2.7386127875258306,0A2.7386127875258306,2.7386127875258306,0,1,1,2.7386127875258306,0\" fill=\"red\" stroke-width=\"2\" opacity=\"1\"/><path aria-label=\"x: 2.75273117544; y: −0.536639320553\" role=\"graphics-symbol\" aria-roledescription=\"circle\" transform=\"translate(262.5819352632468,258.71311373798255)\" d=\"M2.7386127875258306,0A2.7386127875258306,2.7386127875258306,0,1,1,-2.7386127875258306,0A2.7386127875258306,2.7386127875258306,0,1,1,2.7386127875258306,0\" fill=\"red\" stroke-width=\"2\" opacity=\"1\"/><path aria-label=\"x: 2.44472459663; y: −0.239695233516\" role=\"graphics-symbol\" aria-roledescription=\"circle\" transform=\"translate(253.3417378988358,245.98693857924061)\" d=\"M2.7386127875258306,0A2.7386127875258306,2.7386127875258306,0,1,1,-2.7386127875258306,0A2.7386127875258306,2.7386127875258306,0,1,1,2.7386127875258306,0\" fill=\"red\" stroke-width=\"2\" opacity=\"1\"/><path aria-label=\"x: −0.4902658069; y: −0.274833082393\" role=\"graphics-symbol\" aria-roledescription=\"circle\" transform=\"translate(165.29202579300534,247.4928463882641)\" d=\"M2.7386127875258306,0A2.7386127875258306,2.7386127875258306,0,1,1,-2.7386127875258306,0A2.7386127875258306,2.7386127875258306,0,1,1,2.7386127875258306,0\" fill=\"red\" stroke-width=\"2\" opacity=\"1\"/><path aria-label=\"x: 0.692206108691; y: −0.497284437322\" role=\"graphics-symbol\" aria-roledescription=\"circle\" transform=\"translate(200.7661832607353,257.0264758852119)\" d=\"M2.7386127875258306,0A2.7386127875258306,2.7386127875258306,0,1,1,-2.7386127875258306,0A2.7386127875258306,2.7386127875258306,0,1,1,2.7386127875258306,0\" fill=\"red\" stroke-width=\"2\" opacity=\"1\"/><path aria-label=\"x: −0.656698114237; y: 0.00891523995431\" role=\"graphics-symbol\" aria-roledescription=\"circle\" transform=\"translate(160.29905657289655,235.33220400195833)\" d=\"M2.7386127875258306,0A2.7386127875258306,2.7386127875258306,0,1,1,-2.7386127875258306,0A2.7386127875258306,2.7386127875258306,0,1,1,2.7386127875258306,0\" fill=\"red\" stroke-width=\"2\" opacity=\"1\"/><path aria-label=\"x: 1.46981299325; y: −0.477438856598\" role=\"graphics-symbol\" aria-roledescription=\"circle\" transform=\"translate(224.0943897976127,256.17595099704835)\" d=\"M2.7386127875258306,0A2.7386127875258306,2.7386127875258306,0,1,1,-2.7386127875258306,0A2.7386127875258306,2.7386127875258306,0,1,1,2.7386127875258306,0\" fill=\"red\" stroke-width=\"2\" opacity=\"1\"/><path aria-label=\"x: 2.49001367298; y: −0.0808435856193\" role=\"graphics-symbol\" aria-roledescription=\"circle\" transform=\"translate(254.70041018926563,239.1790108122562)\" d=\"M2.7386127875258306,0A2.7386127875258306,2.7386127875258306,0,1,1,-2.7386127875258306,0A2.7386127875258306,2.7386127875258306,0,1,1,2.7386127875258306,0\" fill=\"red\" stroke-width=\"2\" opacity=\"1\"/><path aria-label=\"x: −0.510017385114; y: −0.259166878015\" role=\"graphics-symbol\" aria-roledescription=\"circle\" transform=\"translate(164.6994784465706,246.8214376291931)\" d=\"M2.7386127875258306,0A2.7386127875258306,2.7386127875258306,0,1,1,-2.7386127875258306,0A2.7386127875258306,2.7386127875258306,0,1,1,2.7386127875258306,0\" fill=\"red\" stroke-width=\"2\" opacity=\"1\"/><path aria-label=\"x: 3.5962996776; y: 2.7139732653\" role=\"graphics-symbol\" aria-roledescription=\"circle\" transform=\"translate(287.88899032789703,119.40114577284085)\" d=\"M2.7386127875258306,0A2.7386127875258306,2.7386127875258306,0,1,1,-2.7386127875258306,0A2.7386127875258306,2.7386127875258306,0,1,1,2.7386127875258306,0\" fill=\"red\" stroke-width=\"2\" opacity=\"1\"/><path aria-label=\"x: 3.5287937084; y: 1.41969718038\" role=\"graphics-symbol\" aria-roledescription=\"circle\" transform=\"translate(285.86381125205014,174.87012084104555)\" d=\"M2.7386127875258306,0A2.7386127875258306,2.7386127875258306,0,1,1,-2.7386127875258306,0A2.7386127875258306,2.7386127875258306,0,1,1,2.7386127875258306,0\" fill=\"red\" stroke-width=\"2\" opacity=\"1\"/><path aria-label=\"x: 3.66384775605; y: 2.500886097\" role=\"graphics-symbol\" aria-roledescription=\"circle\" transform=\"translate(289.9154326816042,128.533452985529)\" d=\"M2.7386127875258306,0A2.7386127875258306,2.7386127875258306,0,1,1,-2.7386127875258306,0A2.7386127875258306,2.7386127875258306,0,1,1,2.7386127875258306,0\" fill=\"red\" stroke-width=\"2\" opacity=\"1\"/><path aria-label=\"x: 3.78921127392; y: 2.92713496083\" role=\"graphics-symbol\" aria-roledescription=\"circle\" transform=\"translate(293.6763382177177,110.26564453574512)\" d=\"M2.7386127875258306,0A2.7386127875258306,2.7386127875258306,0,1,1,-2.7386127875258306,0A2.7386127875258306,2.7386127875258306,0,1,1,2.7386127875258306,0\" fill=\"red\" stroke-width=\"2\" opacity=\"1\"/><path aria-label=\"x: 3.85492187415; y: 3.01975587924\" role=\"graphics-symbol\" aria-roledescription=\"circle\" transform=\"translate(295.64765622460726,106.29617660391752)\" d=\"M2.7386127875258306,0A2.7386127875258306,2.7386127875258306,0,1,1,-2.7386127875258306,0A2.7386127875258306,2.7386127875258306,0,1,1,2.7386127875258306,0\" fill=\"red\" stroke-width=\"2\" opacity=\"1\"/><path aria-label=\"x: −0.47871576445; y: −0.216391291631\" role=\"graphics-symbol\" aria-roledescription=\"circle\" transform=\"translate(165.63852706648962,244.98819821273855)\" d=\"M2.7386127875258306,0A2.7386127875258306,2.7386127875258306,0,1,1,-2.7386127875258306,0A2.7386127875258306,2.7386127875258306,0,1,1,2.7386127875258306,0\" fill=\"red\" stroke-width=\"2\" opacity=\"1\"/><path aria-label=\"x: 2.68851036668; y: −0.517726880402\" role=\"graphics-symbol\" aria-roledescription=\"circle\" transform=\"translate(260.6553110004666,257.9025805886516)\" d=\"M2.7386127875258306,0A2.7386127875258306,2.7386127875258306,0,1,1,-2.7386127875258306,0A2.7386127875258306,2.7386127875258306,0,1,1,2.7386127875258306,0\" fill=\"red\" stroke-width=\"2\" opacity=\"1\"/><path aria-label=\"x: −1.26916286754; y: 2.36231661353\" role=\"graphics-symbol\" aria-roledescription=\"circle\" transform=\"translate(141.92511397394009,134.4721451342202)\" d=\"M2.7386127875258306,0A2.7386127875258306,2.7386127875258306,0,1,1,-2.7386127875258306,0A2.7386127875258306,2.7386127875258306,0,1,1,2.7386127875258306,0\" fill=\"red\" stroke-width=\"2\" opacity=\"1\"/><path aria-label=\"x: 3.53843052823; y: 1.4457981325\" role=\"graphics-symbol\" aria-roledescription=\"circle\" transform=\"translate(286.15291584680006,173.751508607298)\" d=\"M2.7386127875258306,0A2.7386127875258306,2.7386127875258306,0,1,1,-2.7386127875258306,0A2.7386127875258306,2.7386127875258306,0,1,1,2.7386127875258306,0\" fill=\"red\" stroke-width=\"2\" opacity=\"1\"/><path aria-label=\"x: 2.80206100868; y: 3.17484769277\" role=\"graphics-symbol\" aria-roledescription=\"circle\" transform=\"translate(264.0618302603872,99.64938459553663)\" d=\"M2.7386127875258306,0A2.7386127875258306,2.7386127875258306,0,1,1,-2.7386127875258306,0A2.7386127875258306,2.7386127875258306,0,1,1,2.7386127875258306,0\" fill=\"red\" stroke-width=\"2\" opacity=\"1\"/><path aria-label=\"x: −0.336411778545; y: 2.47828515778\" role=\"graphics-symbol\" aria-roledescription=\"circle\" transform=\"translate(169.90764664365813,129.50206466652756)\" d=\"M2.7386127875258306,0A2.7386127875258306,2.7386127875258306,0,1,1,-2.7386127875258306,0A2.7386127875258306,2.7386127875258306,0,1,1,2.7386127875258306,0\" fill=\"red\" stroke-width=\"2\" opacity=\"1\"/><path aria-label=\"x: 3.80674869689; y: 2.93789737288\" role=\"graphics-symbol\" aria-roledescription=\"circle\" transform=\"translate(294.2024609067116,109.80439830497696)\" d=\"M2.7386127875258306,0A2.7386127875258306,2.7386127875258306,0,1,1,-2.7386127875258306,0A2.7386127875258306,2.7386127875258306,0,1,1,2.7386127875258306,0\" fill=\"red\" stroke-width=\"2\" opacity=\"1\"/><path aria-label=\"x: −0.0727243994818; y: 2.97130400892\" role=\"graphics-symbol\" aria-roledescription=\"circle\" transform=\"translate(177.81826801554698,108.37268533192731)\" d=\"M2.7386127875258306,0A2.7386127875258306,2.7386127875258306,0,1,1,-2.7386127875258306,0A2.7386127875258306,2.7386127875258306,0,1,1,2.7386127875258306,0\" fill=\"red\" stroke-width=\"2\" opacity=\"1\"/><path aria-label=\"x: −1.12456113642; y: 1.91724304196\" role=\"graphics-symbol\" aria-roledescription=\"circle\" transform=\"translate(146.26316590726623,153.54672677296634)\" d=\"M2.7386127875258306,0A2.7386127875258306,2.7386127875258306,0,1,1,-2.7386127875258306,0A2.7386127875258306,2.7386127875258306,0,1,1,2.7386127875258306,0\" fill=\"red\" stroke-width=\"2\" opacity=\"1\"/><path aria-label=\"x: 2.11161215732; y: 0.454536008702\" role=\"graphics-symbol\" aria-roledescription=\"circle\" transform=\"translate(243.34836471972486,216.2341710556457)\" d=\"M2.7386127875258306,0A2.7386127875258306,2.7386127875258306,0,1,1,-2.7386127875258306,0A2.7386127875258306,2.7386127875258306,0,1,1,2.7386127875258306,0\" fill=\"red\" stroke-width=\"2\" opacity=\"1\"/><path aria-label=\"x: −0.834854546297; y: 0.1320577489\" role=\"graphics-symbol\" aria-roledescription=\"circle\" transform=\"translate(154.9543636110943,230.05466790428193)\" d=\"M2.7386127875258306,0A2.7386127875258306,2.7386127875258306,0,1,1,-2.7386127875258306,0A2.7386127875258306,2.7386127875258306,0,1,1,2.7386127875258306,0\" fill=\"red\" stroke-width=\"2\" opacity=\"1\"/><path aria-label=\"x: −1.94758459854; y: 1.37014391884\" role=\"graphics-symbol\" aria-roledescription=\"circle\" transform=\"translate(121.57246204375012,176.99383204983434)\" d=\"M2.7386127875258306,0A2.7386127875258306,2.7386127875258306,0,1,1,-2.7386127875258306,0A2.7386127875258306,2.7386127875258306,0,1,1,2.7386127875258306,0\" fill=\"red\" stroke-width=\"2\" opacity=\"1\"/><path aria-label=\"x: 0.225548312569; y: 2.42718469742\" role=\"graphics-symbol\" aria-roledescription=\"circle\" transform=\"translate(186.76644937707584,131.6920843961877)\" d=\"M2.7386127875258306,0A2.7386127875258306,2.7386127875258306,0,1,1,-2.7386127875258306,0A2.7386127875258306,2.7386127875258306,0,1,1,2.7386127875258306,0\" fill=\"red\" stroke-width=\"2\" opacity=\"1\"/><path aria-label=\"x: 2.81800690189; y: −0.182319172366\" role=\"graphics-symbol\" aria-roledescription=\"circle\" transform=\"translate(264.5402070568401,243.52796452997188)\" d=\"M2.7386127875258306,0A2.7386127875258306,2.7386127875258306,0,1,1,-2.7386127875258306,0A2.7386127875258306,2.7386127875258306,0,1,1,2.7386127875258306,0\" fill=\"red\" stroke-width=\"2\" opacity=\"1\"/><path aria-label=\"x: 3.56319642966; y: 1.45091383554\" role=\"graphics-symbol\" aria-roledescription=\"circle\" transform=\"translate(286.89589288990067,173.53226419104712)\" d=\"M2.7386127875258306,0A2.7386127875258306,2.7386127875258306,0,1,1,-2.7386127875258306,0A2.7386127875258306,2.7386127875258306,0,1,1,2.7386127875258306,0\" fill=\"red\" stroke-width=\"2\" opacity=\"1\"/><path aria-label=\"x: −0.0259925524065; y: 2.47770719726\" role=\"graphics-symbol\" aria-roledescription=\"circle\" transform=\"translate(179.22022342780448,129.5268344030906)\" d=\"M2.7386127875258306,0A2.7386127875258306,2.7386127875258306,0,1,1,-2.7386127875258306,0A2.7386127875258306,2.7386127875258306,0,1,1,2.7386127875258306,0\" fill=\"red\" stroke-width=\"2\" opacity=\"1\"/><path aria-label=\"x: 2.3127092847; y: 0.0401064583017\" role=\"graphics-symbol\" aria-roledescription=\"circle\" transform=\"translate(249.38127854087355,233.99543750135427)\" d=\"M2.7386127875258306,0A2.7386127875258306,2.7386127875258306,0,1,1,-2.7386127875258306,0A2.7386127875258306,2.7386127875258306,0,1,1,2.7386127875258306,0\" fill=\"red\" stroke-width=\"2\" opacity=\"1\"/><path aria-label=\"x: 2.24676850301; y: 3.87965519738\" role=\"graphics-symbol\" aria-roledescription=\"circle\" transform=\"translate(247.40305509037128,69.44334868366533)\" d=\"M2.7386127875258306,0A2.7386127875258306,2.7386127875258306,0,1,1,-2.7386127875258306,0A2.7386127875258306,2.7386127875258306,0,1,1,2.7386127875258306,0\" fill=\"red\" stroke-width=\"2\" opacity=\"1\"/><path aria-label=\"x: 3.4904369072; y: 1.35628982936\" role=\"graphics-symbol\" aria-roledescription=\"circle\" transform=\"translate(284.71310721597996,177.58757874176604)\" d=\"M2.7386127875258306,0A2.7386127875258306,2.7386127875258306,0,1,1,-2.7386127875258306,0A2.7386127875258306,2.7386127875258306,0,1,1,2.7386127875258306,0\" fill=\"red\" stroke-width=\"2\" opacity=\"1\"/><path aria-label=\"x: 2.437172596; y: 3.81542889227\" role=\"graphics-symbol\" aria-roledescription=\"circle\" transform=\"translate(253.11517788002365,72.1959046168152)\" d=\"M2.7386127875258306,0A2.7386127875258306,2.7386127875258306,0,1,1,-2.7386127875258306,0A2.7386127875258306,2.7386127875258306,0,1,1,2.7386127875258306,0\" fill=\"red\" stroke-width=\"2\" opacity=\"1\"/><path aria-label=\"x: −0.590076861253; y: 2.62717251447\" role=\"graphics-symbol\" aria-roledescription=\"circle\" transform=\"translate(162.29769416239947,123.12117795139842)\" d=\"M2.7386127875258306,0A2.7386127875258306,2.7386127875258306,0,1,1,-2.7386127875258306,0A2.7386127875258306,2.7386127875258306,0,1,1,2.7386127875258306,0\" fill=\"red\" stroke-width=\"2\" opacity=\"1\"/><path aria-label=\"x: 3.67461890713; y: 2.78102934535\" role=\"graphics-symbol\" aria-roledescription=\"circle\" transform=\"translate(290.23856721377786,116.52731377070509)\" d=\"M2.7386127875258306,0A2.7386127875258306,2.7386127875258306,0,1,1,-2.7386127875258306,0A2.7386127875258306,2.7386127875258306,0,1,1,2.7386127875258306,0\" fill=\"red\" stroke-width=\"2\" opacity=\"1\"/><path aria-label=\"x: 2.53244912654; y: 3.74502494395\" role=\"graphics-symbol\" aria-roledescription=\"circle\" transform=\"translate(255.9734737960895,75.21321668804771)\" d=\"M2.7386127875258306,0A2.7386127875258306,2.7386127875258306,0,1,1,-2.7386127875258306,0A2.7386127875258306,2.7386127875258306,0,1,1,2.7386127875258306,0\" fill=\"red\" stroke-width=\"2\" opacity=\"1\"/><path aria-label=\"x: 3.69802797592; y: 2.46570591416\" role=\"graphics-symbol\" aria-roledescription=\"circle\" transform=\"translate(290.9408392774645,130.0411751074378)\" d=\"M2.7386127875258306,0A2.7386127875258306,2.7386127875258306,0,1,1,-2.7386127875258306,0A2.7386127875258306,2.7386127875258306,0,1,1,2.7386127875258306,0\" fill=\"red\" stroke-width=\"2\" opacity=\"1\"/><path aria-label=\"x: 2.7999036949; y: 3.4121684896\" role=\"graphics-symbol\" aria-roledescription=\"circle\" transform=\"translate(263.99711084695656,89.47849330285035)\" d=\"M2.7386127875258306,0A2.7386127875258306,2.7386127875258306,0,1,1,-2.7386127875258306,0A2.7386127875258306,2.7386127875258306,0,1,1,2.7386127875258306,0\" fill=\"red\" stroke-width=\"2\" opacity=\"1\"/><path aria-label=\"x: 3.34643602415; y: 1.13161486608\" role=\"graphics-symbol\" aria-roledescription=\"circle\" transform=\"translate(280.39308072449006,187.21650573944692)\" d=\"M2.7386127875258306,0A2.7386127875258306,2.7386127875258306,0,1,1,-2.7386127875258306,0A2.7386127875258306,2.7386127875258306,0,1,1,2.7386127875258306,0\" fill=\"red\" stroke-width=\"2\" opacity=\"1\"/><path aria-label=\"x: 2.27664989468; y: 3.93225473616\" role=\"graphics-symbol\" aria-roledescription=\"circle\" transform=\"translate(248.29949684029114,67.18908273609992)\" d=\"M2.7386127875258306,0A2.7386127875258306,2.7386127875258306,0,1,1,-2.7386127875258306,0A2.7386127875258306,2.7386127875258306,0,1,1,2.7386127875258306,0\" fill=\"red\" stroke-width=\"2\" opacity=\"1\"/><path aria-label=\"x: 0.909263139749; y: −0.48079704763\" role=\"graphics-symbol\" aria-roledescription=\"circle\" transform=\"translate(207.27789419247674,256.3198734698614)\" d=\"M2.7386127875258306,0A2.7386127875258306,2.7386127875258306,0,1,1,-2.7386127875258306,0A2.7386127875258306,2.7386127875258306,0,1,1,2.7386127875258306,0\" fill=\"red\" stroke-width=\"2\" opacity=\"1\"/><path aria-label=\"x: 2.62057693682; y: 3.6636454888\" role=\"graphics-symbol\" aria-roledescription=\"circle\" transform=\"translate(258.6173081047092,78.70090762293357)\" d=\"M2.7386127875258306,0A2.7386127875258306,2.7386127875258306,0,1,1,-2.7386127875258306,0A2.7386127875258306,2.7386127875258306,0,1,1,2.7386127875258306,0\" fill=\"red\" stroke-width=\"2\" opacity=\"1\"/><path aria-label=\"x: −0.590597697679; y: 2.77703556524\" role=\"graphics-symbol\" aria-roledescription=\"circle\" transform=\"translate(162.2820690696235,116.6984757755097)\" d=\"M2.7386127875258306,0A2.7386127875258306,2.7386127875258306,0,1,1,-2.7386127875258306,0A2.7386127875258306,2.7386127875258306,0,1,1,2.7386127875258306,0\" fill=\"red\" stroke-width=\"2\" opacity=\"1\"/><path aria-label=\"x: −1.29887326689; y: 1.81422273484\" role=\"graphics-symbol\" aria-roledescription=\"circle\" transform=\"translate(141.0338019931746,157.96188279247644)\" d=\"M2.7386127875258306,0A2.7386127875258306,2.7386127875258306,0,1,1,-2.7386127875258306,0A2.7386127875258306,2.7386127875258306,0,1,1,2.7386127875258306,0\" fill=\"red\" stroke-width=\"2\" opacity=\"1\"/><path aria-label=\"x: −0.421339250164; y: −0.274068526542\" role=\"graphics-symbol\" aria-roledescription=\"circle\" transform=\"translate(167.35982249508606,247.46007970892538)\" d=\"M2.7386127875258306,0A2.7386127875258306,2.7386127875258306,0,1,1,-2.7386127875258306,0A2.7386127875258306,2.7386127875258306,0,1,1,2.7386127875258306,0\" fill=\"red\" stroke-width=\"2\" opacity=\"1\"/><path aria-label=\"x: 1.30497857127; y: −0.44169528149\" role=\"graphics-symbol\" aria-roledescription=\"circle\" transform=\"translate(219.14935713821495,254.64408349240836)\" d=\"M2.7386127875258306,0A2.7386127875258306,2.7386127875258306,0,1,1,-2.7386127875258306,0A2.7386127875258306,2.7386127875258306,0,1,1,2.7386127875258306,0\" fill=\"red\" stroke-width=\"2\" opacity=\"1\"/><path aria-label=\"x: −0.559292663497; y: −0.0601459720517\" role=\"graphics-symbol\" aria-roledescription=\"circle\" transform=\"translate(163.22122009510392,238.29197023078675)\" d=\"M2.7386127875258306,0A2.7386127875258306,2.7386127875258306,0,1,1,-2.7386127875258306,0A2.7386127875258306,2.7386127875258306,0,1,1,2.7386127875258306,0\" fill=\"red\" stroke-width=\"2\" opacity=\"1\"/><path aria-label=\"x: 2.47897534444; y: 3.79023490062\" role=\"graphics-symbol\" aria-roledescription=\"circle\" transform=\"translate(254.36926033324838,73.27564711617647)\" d=\"M2.7386127875258306,0A2.7386127875258306,2.7386127875258306,0,1,1,-2.7386127875258306,0A2.7386127875258306,2.7386127875258306,0,1,1,2.7386127875258306,0\" fill=\"red\" stroke-width=\"2\" opacity=\"1\"/><path aria-label=\"x: −0.587092630302; y: −0.291687438323\" role=\"graphics-symbol\" aria-roledescription=\"circle\" transform=\"translate(162.3872210909457,248.21517592812475)\" d=\"M2.7386127875258306,0A2.7386127875258306,2.7386127875258306,0,1,1,-2.7386127875258306,0A2.7386127875258306,2.7386127875258306,0,1,1,2.7386127875258306,0\" fill=\"red\" stroke-width=\"2\" opacity=\"1\"/><path aria-label=\"x: 1.65043588805; y: −0.449000548879\" role=\"graphics-symbol\" aria-roledescription=\"circle\" transform=\"translate(229.51307664146492,254.95716638054614)\" d=\"M2.7386127875258306,0A2.7386127875258306,2.7386127875258306,0,1,1,-2.7386127875258306,0A2.7386127875258306,2.7386127875258306,0,1,1,2.7386127875258306,0\" fill=\"red\" stroke-width=\"2\" opacity=\"1\"/><path aria-label=\"x: 0.41323333292; y: −0.337750556297\" role=\"graphics-symbol\" aria-roledescription=\"circle\" transform=\"translate(192.396999987605,250.18930955559833)\" d=\"M2.7386127875258306,0A2.7386127875258306,2.7386127875258306,0,1,1,-2.7386127875258306,0A2.7386127875258306,2.7386127875258306,0,1,1,2.7386127875258306,0\" fill=\"red\" stroke-width=\"2\" opacity=\"1\"/><path aria-label=\"x: 0.368707003299; y: −0.25114956527\" role=\"graphics-symbol\" aria-roledescription=\"circle\" transform=\"translate(191.06121009898112,246.47783851158664)\" d=\"M2.7386127875258306,0A2.7386127875258306,2.7386127875258306,0,1,1,-2.7386127875258306,0A2.7386127875258306,2.7386127875258306,0,1,1,2.7386127875258306,0\" fill=\"red\" stroke-width=\"2\" opacity=\"1\"/><path aria-label=\"x: −0.184165240099; y: 2.65394044438\" role=\"graphics-symbol\" aria-roledescription=\"circle\" transform=\"translate(174.47504279702267,121.9739809552591)\" d=\"M2.7386127875258306,0A2.7386127875258306,2.7386127875258306,0,1,1,-2.7386127875258306,0A2.7386127875258306,2.7386127875258306,0,1,1,2.7386127875258306,0\" fill=\"red\" stroke-width=\"2\" opacity=\"1\"/><path aria-label=\"x: −1.28804386158; y: 2.27146561621\" role=\"graphics-symbol\" aria-roledescription=\"circle\" transform=\"translate(141.3586841525252,138.36575930528852)\" d=\"M2.7386127875258306,0A2.7386127875258306,2.7386127875258306,0,1,1,-2.7386127875258306,0A2.7386127875258306,2.7386127875258306,0,1,1,2.7386127875258306,0\" fill=\"red\" stroke-width=\"2\" opacity=\"1\"/><path aria-label=\"x: 0.430729481017; y: −0.40384604158\" role=\"graphics-symbol\" aria-roledescription=\"circle\" transform=\"translate(192.92188443052316,253.02197321057295)\" d=\"M2.7386127875258306,0A2.7386127875258306,2.7386127875258306,0,1,1,-2.7386127875258306,0A2.7386127875258306,2.7386127875258306,0,1,1,2.7386127875258306,0\" fill=\"red\" stroke-width=\"2\" opacity=\"1\"/><path aria-label=\"x: 3.48891333834; y: 2.73520209182\" role=\"graphics-symbol\" aria-roledescription=\"circle\" transform=\"translate(284.6674001501357,118.49133892205283)\" d=\"M2.7386127875258306,0A2.7386127875258306,2.7386127875258306,0,1,1,-2.7386127875258306,0A2.7386127875258306,2.7386127875258306,0,1,1,2.7386127875258306,0\" fill=\"red\" stroke-width=\"2\" opacity=\"1\"/><path aria-label=\"x: 2.22419980683; y: 0.112472383301\" role=\"graphics-symbol\" aria-roledescription=\"circle\" transform=\"translate(246.72599420502414,230.89404071566975)\" d=\"M2.7386127875258306,0A2.7386127875258306,2.7386127875258306,0,1,1,-2.7386127875258306,0A2.7386127875258306,2.7386127875258306,0,1,1,2.7386127875258306,0\" fill=\"red\" stroke-width=\"2\" opacity=\"1\"/><path aria-label=\"x: −1.49172380128; y: 2.35632434019\" role=\"graphics-symbol\" aria-roledescription=\"circle\" transform=\"translate(135.24828596174754,134.72895684895974)\" d=\"M2.7386127875258306,0A2.7386127875258306,2.7386127875258306,0,1,1,-2.7386127875258306,0A2.7386127875258306,2.7386127875258306,0,1,1,2.7386127875258306,0\" fill=\"red\" stroke-width=\"2\" opacity=\"1\"/><path aria-label=\"x: 2.28154602818; y: 3.94997957251\" role=\"graphics-symbol\" aria-roledescription=\"circle\" transform=\"translate(248.44638084530118,66.42944689235506)\" d=\"M2.7386127875258306,0A2.7386127875258306,2.7386127875258306,0,1,1,-2.7386127875258306,0A2.7386127875258306,2.7386127875258306,0,1,1,2.7386127875258306,0\" fill=\"red\" stroke-width=\"2\" opacity=\"1\"/><path aria-label=\"x: 2.77554822322; y: 3.51588080601\" role=\"graphics-symbol\" aria-roledescription=\"circle\" transform=\"translate(263.2664466965039,85.03367974237227)\" d=\"M2.7386127875258306,0A2.7386127875258306,2.7386127875258306,0,1,1,-2.7386127875258306,0A2.7386127875258306,2.7386127875258306,0,1,1,2.7386127875258306,0\" fill=\"red\" stroke-width=\"2\" opacity=\"1\"/><path aria-label=\"x: 0.543199957032; y: −0.404607769366\" role=\"graphics-symbol\" aria-roledescription=\"circle\" transform=\"translate(196.29599871096025,253.0546186871048)\" d=\"M2.7386127875258306,0A2.7386127875258306,2.7386127875258306,0,1,1,-2.7386127875258306,0A2.7386127875258306,2.7386127875258306,0,1,1,2.7386127875258306,0\" fill=\"red\" stroke-width=\"2\" opacity=\"1\"/></g><g class=\"mark-symbol role-mark layer_2_marks\" role=\"graphics-object\" aria-roledescription=\"symbol mark container\"><path aria-label=\"x: −3.74674558651; y: 2.54214347502\" role=\"graphics-symbol\" aria-roledescription=\"circle\" transform=\"translate(67.5976324048037,126.76527964180318)\" d=\"M2.7386127875258306,0A2.7386127875258306,2.7386127875258306,0,1,1,-2.7386127875258306,0A2.7386127875258306,2.7386127875258306,0,1,1,2.7386127875258306,0\" fill=\"#4c78a8\" stroke-width=\"2\" opacity=\"1\"/><path aria-label=\"x: −2.76948397113; y: 4.54866367415\" role=\"graphics-symbol\" aria-roledescription=\"circle\" transform=\"translate(96.91548086614833,40.771556822251185)\" d=\"M2.7386127875258306,0A2.7386127875258306,2.7386127875258306,0,1,1,-2.7386127875258306,0A2.7386127875258306,2.7386127875258306,0,1,1,2.7386127875258306,0\" fill=\"#4c78a8\" stroke-width=\"2\" opacity=\"1\"/><path aria-label=\"x: −1.75954643386; y: 1.24875714176\" role=\"graphics-symbol\" aria-roledescription=\"circle\" transform=\"translate(127.21360698433566,182.1961224960485)\" d=\"M2.7386127875258306,0A2.7386127875258306,2.7386127875258306,0,1,1,-2.7386127875258306,0A2.7386127875258306,2.7386127875258306,0,1,1,2.7386127875258306,0\" fill=\"#4c78a8\" stroke-width=\"2\" opacity=\"1\"/><path aria-label=\"x: −5.38843653095; y: −0.874127385976\" role=\"graphics-symbol\" aria-roledescription=\"circle\" transform=\"translate(18.34690407152758,273.1768879703946)\" d=\"M2.7386127875258306,0A2.7386127875258306,2.7386127875258306,0,1,1,-2.7386127875258306,0A2.7386127875258306,2.7386127875258306,0,1,1,2.7386127875258306,0\" fill=\"#4c78a8\" stroke-width=\"2\" opacity=\"1\"/><path aria-label=\"x: −3.78303943909; y: 0.474710185818\" role=\"graphics-symbol\" aria-roledescription=\"circle\" transform=\"translate(66.50881682728712,215.3695634649333)\" d=\"M2.7386127875258306,0A2.7386127875258306,2.7386127875258306,0,1,1,-2.7386127875258306,0A2.7386127875258306,2.7386127875258306,0,1,1,2.7386127875258306,0\" fill=\"#4c78a8\" stroke-width=\"2\" opacity=\"1\"/><path aria-label=\"x: −4.12695389426; y: 0.29414773668\" role=\"graphics-symbol\" aria-roledescription=\"circle\" transform=\"translate(56.191383172065024,223.10795414226874)\" d=\"M2.7386127875258306,0A2.7386127875258306,2.7386127875258306,0,1,1,-2.7386127875258306,0A2.7386127875258306,2.7386127875258306,0,1,1,2.7386127875258306,0\" fill=\"#4c78a8\" stroke-width=\"2\" opacity=\"1\"/><path aria-label=\"x: −3.85966079109; y: 1.72809731489\" role=\"graphics-symbol\" aria-roledescription=\"circle\" transform=\"translate(64.21017626727641,161.65297221889932)\" d=\"M2.7386127875258306,0A2.7386127875258306,2.7386127875258306,0,1,1,-2.7386127875258306,0A2.7386127875258306,2.7386127875258306,0,1,1,2.7386127875258306,0\" fill=\"#4c78a8\" stroke-width=\"2\" opacity=\"1\"/><path aria-label=\"x: −3.689664589; y: 2.74225751362\" role=\"graphics-symbol\" aria-roledescription=\"circle\" transform=\"translate(69.31006233004538,118.18896370207773)\" d=\"M2.7386127875258306,0A2.7386127875258306,2.7386127875258306,0,1,1,-2.7386127875258306,0A2.7386127875258306,2.7386127875258306,0,1,1,2.7386127875258306,0\" fill=\"#4c78a8\" stroke-width=\"2\" opacity=\"1\"/><path aria-label=\"x: −3.82727729957; y: 1.73869394328\" role=\"graphics-symbol\" aria-roledescription=\"circle\" transform=\"translate(65.18168101282755,161.19883100225303)\" d=\"M2.7386127875258306,0A2.7386127875258306,2.7386127875258306,0,1,1,-2.7386127875258306,0A2.7386127875258306,2.7386127875258306,0,1,1,2.7386127875258306,0\" fill=\"#4c78a8\" stroke-width=\"2\" opacity=\"1\"/><path aria-label=\"x: −4.31414444861; y: −0.0351742340564\" role=\"graphics-symbol\" aria-roledescription=\"circle\" transform=\"translate(50.57566654174118,237.22175288813315)\" d=\"M2.7386127875258306,0A2.7386127875258306,2.7386127875258306,0,1,1,-2.7386127875258306,0A2.7386127875258306,2.7386127875258306,0,1,1,2.7386127875258306,0\" fill=\"#4c78a8\" stroke-width=\"2\" opacity=\"1\"/><path aria-label=\"x: −3.51090654459; y: 2.64282087435\" role=\"graphics-symbol\" aria-roledescription=\"circle\" transform=\"translate(74.67280366221638,122.45053395642267)\" d=\"M2.7386127875258306,0A2.7386127875258306,2.7386127875258306,0,1,1,-2.7386127875258306,0A2.7386127875258306,2.7386127875258306,0,1,1,2.7386127875258306,0\" fill=\"#4c78a8\" stroke-width=\"2\" opacity=\"1\"/><path aria-label=\"x: −5.3772972859; y: −0.583264059447\" role=\"graphics-symbol\" aria-roledescription=\"circle\" transform=\"translate(18.681081422941432,260.7113168334419)\" d=\"M2.7386127875258306,0A2.7386127875258306,2.7386127875258306,0,1,1,-2.7386127875258306,0A2.7386127875258306,2.7386127875258306,0,1,1,2.7386127875258306,0\" fill=\"#4c78a8\" stroke-width=\"2\" opacity=\"1\"/><path aria-label=\"x: −3.24738945323; y: 2.51180204038\" role=\"graphics-symbol\" aria-roledescription=\"circle\" transform=\"translate(82.57831640323131,128.0656268407509)\" d=\"M2.7386127875258306,0A2.7386127875258306,2.7386127875258306,0,1,1,-2.7386127875258306,0A2.7386127875258306,2.7386127875258306,0,1,1,2.7386127875258306,0\" fill=\"#4c78a8\" stroke-width=\"2\" opacity=\"1\"/><path aria-label=\"x: −1.27025617779; y: 5.01035443597\" role=\"graphics-symbol\" aria-roledescription=\"circle\" transform=\"translate(141.89231466623127,20.98480988689596)\" d=\"M2.7386127875258306,0A2.7386127875258306,2.7386127875258306,0,1,1,-2.7386127875258306,0A2.7386127875258306,2.7386127875258306,0,1,1,2.7386127875258306,0\" fill=\"#4c78a8\" stroke-width=\"2\" opacity=\"1\"/><path aria-label=\"x: −3.87531842628; y: 1.72107113573\" role=\"graphics-symbol\" aria-roledescription=\"circle\" transform=\"translate(63.74044721158644,161.95409418283796)\" d=\"M2.7386127875258306,0A2.7386127875258306,2.7386127875258306,0,1,1,-2.7386127875258306,0A2.7386127875258306,2.7386127875258306,0,1,1,2.7386127875258306,0\" fill=\"#4c78a8\" stroke-width=\"2\" opacity=\"1\"/><path aria-label=\"x: −4.38005212175; y: −0.0532757835401\" role=\"graphics-symbol\" aria-roledescription=\"circle\" transform=\"translate(48.598436347487386,237.9975335802885)\" d=\"M2.7386127875258306,0A2.7386127875258306,2.7386127875258306,0,1,1,-2.7386127875258306,0A2.7386127875258306,2.7386127875258306,0,1,1,2.7386127875258306,0\" fill=\"#4c78a8\" stroke-width=\"2\" opacity=\"1\"/><path aria-label=\"x: −2.29359441125; y: 1.38862800518\" role=\"graphics-symbol\" aria-roledescription=\"circle\" transform=\"translate(111.19216766248556,176.2016569210611)\" d=\"M2.7386127875258306,0A2.7386127875258306,2.7386127875258306,0,1,1,-2.7386127875258306,0A2.7386127875258306,2.7386127875258306,0,1,1,2.7386127875258306,0\" fill=\"#4c78a8\" stroke-width=\"2\" opacity=\"1\"/><path aria-label=\"x: −4.79844669817; y: 0.815554318926\" role=\"graphics-symbol\" aria-roledescription=\"circle\" transform=\"translate(36.04659905490002,200.76195776031673)\" d=\"M2.7386127875258306,0A2.7386127875258306,2.7386127875258306,0,1,1,-2.7386127875258306,0A2.7386127875258306,2.7386127875258306,0,1,1,2.7386127875258306,0\" fill=\"#4c78a8\" stroke-width=\"2\" opacity=\"1\"/><path aria-label=\"x: −1.76384069998; y: 1.63417937414\" role=\"graphics-symbol\" aria-roledescription=\"circle\" transform=\"translate(127.08477900047046,165.67802682247543)\" d=\"M2.7386127875258306,0A2.7386127875258306,2.7386127875258306,0,1,1,-2.7386127875258306,0A2.7386127875258306,2.7386127875258306,0,1,1,2.7386127875258306,0\" fill=\"#4c78a8\" stroke-width=\"2\" opacity=\"1\"/><path aria-label=\"x: −4.46599063867; y: 0.0516253104246\" role=\"graphics-symbol\" aria-roledescription=\"circle\" transform=\"translate(46.020280839932795,233.5017724103734)\" d=\"M2.7386127875258306,0A2.7386127875258306,2.7386127875258306,0,1,1,-2.7386127875258306,0A2.7386127875258306,2.7386127875258306,0,1,1,2.7386127875258306,0\" fill=\"#4c78a8\" stroke-width=\"2\" opacity=\"1\"/><path aria-label=\"x: −1.67813884842; y: 1.11815339074\" role=\"graphics-symbol\" aria-roledescription=\"circle\" transform=\"translate(129.65583454733343,187.79342611094765)\" d=\"M2.7386127875258306,0A2.7386127875258306,2.7386127875258306,0,1,1,-2.7386127875258306,0A2.7386127875258306,2.7386127875258306,0,1,1,2.7386127875258306,0\" fill=\"#4c78a8\" stroke-width=\"2\" opacity=\"1\"/><path aria-label=\"x: −2.79309680613; y: 4.4654873302\" role=\"graphics-symbol\" aria-roledescription=\"circle\" transform=\"translate(96.20709581624955,44.33625727728846)\" d=\"M2.7386127875258306,0A2.7386127875258306,2.7386127875258306,0,1,1,-2.7386127875258306,0A2.7386127875258306,2.7386127875258306,0,1,1,2.7386127875258306,0\" fill=\"#4c78a8\" stroke-width=\"2\" opacity=\"1\"/><path aria-label=\"x: −4.50488365622; y: 0.0662223069547\" role=\"graphics-symbol\" aria-roledescription=\"circle\" transform=\"translate(44.85349031346262,232.876186844799)\" d=\"M2.7386127875258306,0A2.7386127875258306,2.7386127875258306,0,1,1,-2.7386127875258306,0A2.7386127875258306,2.7386127875258306,0,1,1,2.7386127875258306,0\" fill=\"#4c78a8\" stroke-width=\"2\" opacity=\"1\"/><path aria-label=\"x: −5.5211231559; y: −0.975119942063\" role=\"graphics-symbol\" aria-roledescription=\"circle\" transform=\"translate(14.366305322890893,277.5051403741168)\" d=\"M2.7386127875258306,0A2.7386127875258306,2.7386127875258306,0,1,1,-2.7386127875258306,0A2.7386127875258306,2.7386127875258306,0,1,1,2.7386127875258306,0\" fill=\"#4c78a8\" stroke-width=\"2\" opacity=\"1\"/><path aria-label=\"x: −4.90264675288; y: −0.825031370769\" role=\"graphics-symbol\" aria-roledescription=\"circle\" transform=\"translate(32.92059741357445,271.0727730329578)\" d=\"M2.7386127875258306,0A2.7386127875258306,2.7386127875258306,0,1,1,-2.7386127875258306,0A2.7386127875258306,2.7386127875258306,0,1,1,2.7386127875258306,0\" fill=\"#4c78a8\" stroke-width=\"2\" opacity=\"1\"/><path aria-label=\"x: −3.48279007725; y: 2.82137357187\" role=\"graphics-symbol\" aria-roledescription=\"circle\" transform=\"translate(75.51629768240181,114.79827549129881)\" d=\"M2.7386127875258306,0A2.7386127875258306,2.7386127875258306,0,1,1,-2.7386127875258306,0A2.7386127875258306,2.7386127875258306,0,1,1,2.7386127875258306,0\" fill=\"#4c78a8\" stroke-width=\"2\" opacity=\"1\"/><path aria-label=\"x: −2.98025787615; y: 0.821595799899\" role=\"graphics-symbol\" aria-roledescription=\"circle\" transform=\"translate(90.59226371536072,200.50303714716617)\" d=\"M2.7386127875258306,0A2.7386127875258306,2.7386127875258306,0,1,1,-2.7386127875258306,0A2.7386127875258306,2.7386127875258306,0,1,1,2.7386127875258306,0\" fill=\"#4c78a8\" stroke-width=\"2\" opacity=\"1\"/><path aria-label=\"x: −3.66432417255; y: 2.83072526216\" role=\"graphics-symbol\" aria-roledescription=\"circle\" transform=\"translate(70.07027482358271,114.39748876459953)\" d=\"M2.7386127875258306,0A2.7386127875258306,2.7386127875258306,0,1,1,-2.7386127875258306,0A2.7386127875258306,2.7386127875258306,0,1,1,2.7386127875258306,0\" fill=\"#4c78a8\" stroke-width=\"2\" opacity=\"1\"/><path aria-label=\"x: −3.21238792458; y: 0.656493023033\" role=\"graphics-symbol\" aria-roledescription=\"circle\" transform=\"translate(83.628362262502,207.57887044145545)\" d=\"M2.7386127875258306,0A2.7386127875258306,2.7386127875258306,0,1,1,-2.7386127875258306,0A2.7386127875258306,2.7386127875258306,0,1,1,2.7386127875258306,0\" fill=\"#4c78a8\" stroke-width=\"2\" opacity=\"1\"/><path aria-label=\"x: −4.80577321662; y: −0.448948798282\" role=\"graphics-symbol\" aria-roledescription=\"circle\" transform=\"translate(35.826803501439024,254.95494849778467)\" d=\"M2.7386127875258306,0A2.7386127875258306,2.7386127875258306,0,1,1,-2.7386127875258306,0A2.7386127875258306,2.7386127875258306,0,1,1,2.7386127875258306,0\" fill=\"#4c78a8\" stroke-width=\"2\" opacity=\"1\"/><path aria-label=\"x: −3.2656223178; y: 1.96865244214\" role=\"graphics-symbol\" aria-roledescription=\"circle\" transform=\"translate(82.03133046585721,151.3434667655797)\" d=\"M2.7386127875258306,0A2.7386127875258306,2.7386127875258306,0,1,1,-2.7386127875258306,0A2.7386127875258306,2.7386127875258306,0,1,1,2.7386127875258306,0\" fill=\"#4c78a8\" stroke-width=\"2\" opacity=\"1\"/><path aria-label=\"x: −4.63675098276; y: 1.04720243916\" role=\"graphics-symbol\" aria-roledescription=\"circle\" transform=\"translate(40.89747051734104,190.8341811787739)\" d=\"M2.7386127875258306,0A2.7386127875258306,2.7386127875258306,0,1,1,-2.7386127875258306,0A2.7386127875258306,2.7386127875258306,0,1,1,2.7386127875258306,0\" fill=\"#4c78a8\" stroke-width=\"2\" opacity=\"1\"/><path aria-label=\"x: −1.23666953684; y: 4.67036628609\" role=\"graphics-symbol\" aria-roledescription=\"circle\" transform=\"translate(142.8999138946506,35.55573059631782)\" d=\"M2.7386127875258306,0A2.7386127875258306,2.7386127875258306,0,1,1,-2.7386127875258306,0A2.7386127875258306,2.7386127875258306,0,1,1,2.7386127875258306,0\" fill=\"#4c78a8\" stroke-width=\"2\" opacity=\"1\"/><path aria-label=\"x: −4.51055214544; y: −0.089307647254\" role=\"graphics-symbol\" aria-roledescription=\"circle\" transform=\"translate(44.683435636678574,239.54175631088768)\" d=\"M2.7386127875258306,0A2.7386127875258306,2.7386127875258306,0,1,1,-2.7386127875258306,0A2.7386127875258306,2.7386127875258306,0,1,1,2.7386127875258306,0\" fill=\"#4c78a8\" stroke-width=\"2\" opacity=\"1\"/><path aria-label=\"x: −2.91158710403; y: 4.84180181102\" role=\"graphics-symbol\" aria-roledescription=\"circle\" transform=\"translate(92.652386879155,28.20849381360012)\" d=\"M2.7386127875258306,0A2.7386127875258306,2.7386127875258306,0,1,1,-2.7386127875258306,0A2.7386127875258306,2.7386127875258306,0,1,1,2.7386127875258306,0\" fill=\"#4c78a8\" stroke-width=\"2\" opacity=\"1\"/><path aria-label=\"x: −5.23768372386; y: −0.50208196246\" role=\"graphics-symbol\" aria-roledescription=\"circle\" transform=\"translate(22.869488284235995,257.23208410543157)\" d=\"M2.7386127875258306,0A2.7386127875258306,2.7386127875258306,0,1,1,-2.7386127875258306,0A2.7386127875258306,2.7386127875258306,0,1,1,2.7386127875258306,0\" fill=\"#4c78a8\" stroke-width=\"2\" opacity=\"1\"/><path aria-label=\"x: −1.38964847879; y: 4.64635795436\" role=\"graphics-symbol\" aria-roledescription=\"circle\" transform=\"translate(138.310545636158,36.58465909887391)\" d=\"M2.7386127875258306,0A2.7386127875258306,2.7386127875258306,0,1,1,-2.7386127875258306,0A2.7386127875258306,2.7386127875258306,0,1,1,2.7386127875258306,0\" fill=\"#4c78a8\" stroke-width=\"2\" opacity=\"1\"/><path aria-label=\"x: −2.87058650733; y: 4.83735058423\" role=\"graphics-symbol\" aria-roledescription=\"circle\" transform=\"translate(93.88240478011141,28.399260675747318)\" d=\"M2.7386127875258306,0A2.7386127875258306,2.7386127875258306,0,1,1,-2.7386127875258306,0A2.7386127875258306,2.7386127875258306,0,1,1,2.7386127875258306,0\" fill=\"#4c78a8\" stroke-width=\"2\" opacity=\"1\"/><path aria-label=\"x: −2.73186011052; y: 1.02628014405\" role=\"graphics-symbol\" aria-roledescription=\"circle\" transform=\"translate(98.04419668425383,191.73085096936606)\" d=\"M2.7386127875258306,0A2.7386127875258306,2.7386127875258306,0,1,1,-2.7386127875258306,0A2.7386127875258306,2.7386127875258306,0,1,1,2.7386127875258306,0\" fill=\"#4c78a8\" stroke-width=\"2\" opacity=\"1\"/><path aria-label=\"x: −1.42232139612; y: 4.7546461162\" role=\"graphics-symbol\" aria-roledescription=\"circle\" transform=\"translate(137.33035811633863,31.94373787718735)\" d=\"M2.7386127875258306,0A2.7386127875258306,2.7386127875258306,0,1,1,-2.7386127875258306,0A2.7386127875258306,2.7386127875258306,0,1,1,2.7386127875258306,0\" fill=\"#4c78a8\" stroke-width=\"2\" opacity=\"1\"/><path aria-label=\"x: −3.99016459458; y: 1.56759100919\" role=\"graphics-symbol\" aria-roledescription=\"circle\" transform=\"translate(60.29506216254748,168.531813891966)\" d=\"M2.7386127875258306,0A2.7386127875258306,2.7386127875258306,0,1,1,-2.7386127875258306,0A2.7386127875258306,2.7386127875258306,0,1,1,2.7386127875258306,0\" fill=\"#4c78a8\" stroke-width=\"2\" opacity=\"1\"/><path aria-label=\"x: −5.01013778186; y: 0.927465560056\" role=\"graphics-symbol\" aria-roledescription=\"circle\" transform=\"translate(29.6958665440778,195.96576171188968)\" d=\"M2.7386127875258306,0A2.7386127875258306,2.7386127875258306,0,1,1,-2.7386127875258306,0A2.7386127875258306,2.7386127875258306,0,1,1,2.7386127875258306,0\" fill=\"#4c78a8\" stroke-width=\"2\" opacity=\"1\"/><path aria-label=\"x: −3.27691927165; y: 0.850602827504\" role=\"graphics-symbol\" aria-roledescription=\"circle\" transform=\"translate(81.6924218504727,199.2598788212658)\" d=\"M2.7386127875258306,0A2.7386127875258306,2.7386127875258306,0,1,1,-2.7386127875258306,0A2.7386127875258306,2.7386127875258306,0,1,1,2.7386127875258306,0\" fill=\"#4c78a8\" stroke-width=\"2\" opacity=\"1\"/><path aria-label=\"x: −4.247121162; y: 0.31792440774\" role=\"graphics-symbol\" aria-roledescription=\"circle\" transform=\"translate(52.5863651399543,222.08895395400856)\" d=\"M2.7386127875258306,0A2.7386127875258306,2.7386127875258306,0,1,1,-2.7386127875258306,0A2.7386127875258306,2.7386127875258306,0,1,1,2.7386127875258306,0\" fill=\"#4c78a8\" stroke-width=\"2\" opacity=\"1\"/><path aria-label=\"x: −3.18395364363; y: 2.17439390316\" role=\"graphics-symbol\" aria-roledescription=\"circle\" transform=\"translate(84.4813906910586,142.52597557886568)\" d=\"M2.7386127875258306,0A2.7386127875258306,2.7386127875258306,0,1,1,-2.7386127875258306,0A2.7386127875258306,2.7386127875258306,0,1,1,2.7386127875258306,0\" fill=\"#4c78a8\" stroke-width=\"2\" opacity=\"1\"/><path aria-label=\"x: −3.73773794881; y: 0.48109375401\" role=\"graphics-symbol\" aria-roledescription=\"circle\" transform=\"translate(67.86786153564972,215.09598197099461)\" d=\"M2.7386127875258306,0A2.7386127875258306,2.7386127875258306,0,1,1,-2.7386127875258306,0A2.7386127875258306,2.7386127875258306,0,1,1,2.7386127875258306,0\" fill=\"#4c78a8\" stroke-width=\"2\" opacity=\"1\"/><path aria-label=\"x: −5.32666280576; y: −1.19571657023\" role=\"graphics-symbol\" aria-roledescription=\"circle\" transform=\"translate(20.200115827219935,286.9592815811405)\" d=\"M2.7386127875258306,0A2.7386127875258306,2.7386127875258306,0,1,1,-2.7386127875258306,0A2.7386127875258306,2.7386127875258306,0,1,1,2.7386127875258306,0\" fill=\"#4c78a8\" stroke-width=\"2\" opacity=\"1\"/><path aria-label=\"x: −5.06110061509; y: −0.445444961241\" role=\"graphics-symbol\" aria-roledescription=\"circle\" transform=\"translate(28.166981547367413,254.8047840531934)\" d=\"M2.7386127875258306,0A2.7386127875258306,2.7386127875258306,0,1,1,-2.7386127875258306,0A2.7386127875258306,2.7386127875258306,0,1,1,2.7386127875258306,0\" fill=\"#4c78a8\" stroke-width=\"2\" opacity=\"1\"/><path aria-label=\"x: −3.16451632462; y: 2.35472476177\" role=\"graphics-symbol\" aria-roledescription=\"circle\" transform=\"translate(85.06451026141384,134.79751020969218)\" d=\"M2.7386127875258306,0A2.7386127875258306,2.7386127875258306,0,1,1,-2.7386127875258306,0A2.7386127875258306,2.7386127875258306,0,1,1,2.7386127875258306,0\" fill=\"#4c78a8\" stroke-width=\"2\" opacity=\"1\"/><path aria-label=\"x: −3.6185643137; y: 2.64574939842\" role=\"graphics-symbol\" aria-roledescription=\"circle\" transform=\"translate(71.44307058908338,122.32502578189343)\" d=\"M2.7386127875258306,0A2.7386127875258306,2.7386127875258306,0,1,1,-2.7386127875258306,0A2.7386127875258306,2.7386127875258306,0,1,1,2.7386127875258306,0\" fill=\"#4c78a8\" stroke-width=\"2\" opacity=\"1\"/><path aria-label=\"x: −2.90702766567; y: 2.53346695905\" role=\"graphics-symbol\" aria-roledescription=\"circle\" transform=\"translate(92.78917002985374,127.13713032655481)\" d=\"M2.7386127875258306,0A2.7386127875258306,2.7386127875258306,0,1,1,-2.7386127875258306,0A2.7386127875258306,2.7386127875258306,0,1,1,2.7386127875258306,0\" fill=\"#4c78a8\" stroke-width=\"2\" opacity=\"1\"/><path aria-label=\"x: −2.80993441; y: 4.48797775693\" role=\"graphics-symbol\" aria-roledescription=\"circle\" transform=\"translate(95.7019677001115,43.37238184589134)\" d=\"M2.7386127875258306,0A2.7386127875258306,2.7386127875258306,0,1,1,-2.7386127875258306,0A2.7386127875258306,2.7386127875258306,0,1,1,2.7386127875258306,0\" fill=\"#4c78a8\" stroke-width=\"2\" opacity=\"1\"/><path aria-label=\"x: −3.27017983095; y: 0.644243000653\" role=\"graphics-symbol\" aria-roledescription=\"circle\" transform=\"translate(81.89460507135365,208.10387140057568)\" d=\"M2.7386127875258306,0A2.7386127875258306,2.7386127875258306,0,1,1,-2.7386127875258306,0A2.7386127875258306,2.7386127875258306,0,1,1,2.7386127875258306,0\" fill=\"#4c78a8\" stroke-width=\"2\" opacity=\"1\"/><path aria-label=\"x: −5.17154840177; y: −0.93076358309\" role=\"graphics-symbol\" aria-roledescription=\"circle\" transform=\"translate(24.853547946938317,275.6041535610108)\" d=\"M2.7386127875258306,0A2.7386127875258306,2.7386127875258306,0,1,1,-2.7386127875258306,0A2.7386127875258306,2.7386127875258306,0,1,1,2.7386127875258306,0\" fill=\"#4c78a8\" stroke-width=\"2\" opacity=\"1\"/><path aria-label=\"x: −3.4086796417; y: 0.558400790682\" role=\"graphics-symbol\" aria-roledescription=\"circle\" transform=\"translate(77.73961074891548,211.7828232565031)\" d=\"M2.7386127875258306,0A2.7386127875258306,2.7386127875258306,0,1,1,-2.7386127875258306,0A2.7386127875258306,2.7386127875258306,0,1,1,2.7386127875258306,0\" fill=\"#4c78a8\" stroke-width=\"2\" opacity=\"1\"/><path aria-label=\"x: −5.00056146594; y: 0.915174928551\" role=\"graphics-symbol\" aria-roledescription=\"circle\" transform=\"translate(29.983156021895905,196.49250306211684)\" d=\"M2.7386127875258306,0A2.7386127875258306,2.7386127875258306,0,1,1,-2.7386127875258306,0A2.7386127875258306,2.7386127875258306,0,1,1,2.7386127875258306,0\" fill=\"#4c78a8\" stroke-width=\"2\" opacity=\"1\"/><path aria-label=\"x: −2.76047083981; y: 4.29703434356\" role=\"graphics-symbol\" aria-roledescription=\"circle\" transform=\"translate(97.18587480559457,51.555670990271594)\" d=\"M2.7386127875258306,0A2.7386127875258306,2.7386127875258306,0,1,1,-2.7386127875258306,0A2.7386127875258306,2.7386127875258306,0,1,1,2.7386127875258306,0\" fill=\"#4c78a8\" stroke-width=\"2\" opacity=\"1\"/><path aria-label=\"x: −4.06246179009; y: 0.26339676613\" role=\"graphics-symbol\" aria-roledescription=\"circle\" transform=\"translate(58.126146297420796,224.42585288012395)\" d=\"M2.7386127875258306,0A2.7386127875258306,2.7386127875258306,0,1,1,-2.7386127875258306,0A2.7386127875258306,2.7386127875258306,0,1,1,2.7386127875258306,0\" fill=\"#4c78a8\" stroke-width=\"2\" opacity=\"1\"/><path aria-label=\"x: −1.87873219187; y: 1.00624737369\" role=\"graphics-symbol\" aria-roledescription=\"circle\" transform=\"translate(123.6380342440143,192.58939827026)\" d=\"M2.7386127875258306,0A2.7386127875258306,2.7386127875258306,0,1,1,-2.7386127875258306,0A2.7386127875258306,2.7386127875258306,0,1,1,2.7386127875258306,0\" fill=\"#4c78a8\" stroke-width=\"2\" opacity=\"1\"/><path aria-label=\"x: −5.52708014036; y: −0.93466321042\" role=\"graphics-symbol\" aria-roledescription=\"circle\" transform=\"translate(14.18759578907605,275.77128044659173)\" d=\"M2.7386127875258306,0A2.7386127875258306,2.7386127875258306,0,1,1,-2.7386127875258306,0A2.7386127875258306,2.7386127875258306,0,1,1,2.7386127875258306,0\" fill=\"#4c78a8\" stroke-width=\"2\" opacity=\"1\"/><path aria-label=\"x: −1.13222338826; y: 0.41936875961\" role=\"graphics-symbol\" aria-roledescription=\"circle\" transform=\"translate(146.0332983521427,217.7413388738721)\" d=\"M2.7386127875258306,0A2.7386127875258306,2.7386127875258306,0,1,1,-2.7386127875258306,0A2.7386127875258306,2.7386127875258306,0,1,1,2.7386127875258306,0\" fill=\"#4c78a8\" stroke-width=\"2\" opacity=\"1\"/><path aria-label=\"x: −5.43159467286; y: −0.930760631615\" role=\"graphics-symbol\" aria-roledescription=\"circle\" transform=\"translate(17.05215981434071,275.60402706922866)\" d=\"M2.7386127875258306,0A2.7386127875258306,2.7386127875258306,0,1,1,-2.7386127875258306,0A2.7386127875258306,2.7386127875258306,0,1,1,2.7386127875258306,0\" fill=\"#4c78a8\" stroke-width=\"2\" opacity=\"1\"/><path aria-label=\"x: −1.46307254595; y: 4.5543963319\" role=\"graphics-symbol\" aria-roledescription=\"circle\" transform=\"translate(136.10782362162928,40.52587149012889)\" d=\"M2.7386127875258306,0A2.7386127875258306,2.7386127875258306,0,1,1,-2.7386127875258306,0A2.7386127875258306,2.7386127875258306,0,1,1,2.7386127875258306,0\" fill=\"#4c78a8\" stroke-width=\"2\" opacity=\"1\"/><path aria-label=\"x: −2.95377819431; y: 4.69644874478\" role=\"graphics-symbol\" aria-roledescription=\"circle\" transform=\"translate(91.38665417058004,34.43791093810843)\" d=\"M2.7386127875258306,0A2.7386127875258306,2.7386127875258306,0,1,1,-2.7386127875258306,0A2.7386127875258306,2.7386127875258306,0,1,1,2.7386127875258306,0\" fill=\"#4c78a8\" stroke-width=\"2\" opacity=\"1\"/><path aria-label=\"x: −1.74539679811; y: 2.05753717972\" role=\"graphics-symbol\" aria-roledescription=\"circle\" transform=\"translate(127.63809605661595,147.53412086901602)\" d=\"M2.7386127875258306,0A2.7386127875258306,2.7386127875258306,0,1,1,-2.7386127875258306,0A2.7386127875258306,2.7386127875258306,0,1,1,2.7386127875258306,0\" fill=\"#4c78a8\" stroke-width=\"2\" opacity=\"1\"/><path aria-label=\"x: −5.30709713572; y: −0.613819621679\" role=\"graphics-symbol\" aria-roledescription=\"circle\" transform=\"translate(20.787085928499884,262.0208409290829)\" d=\"M2.7386127875258306,0A2.7386127875258306,2.7386127875258306,0,1,1,-2.7386127875258306,0A2.7386127875258306,2.7386127875258306,0,1,1,2.7386127875258306,0\" fill=\"#4c78a8\" stroke-width=\"2\" opacity=\"1\"/><path aria-label=\"x: −1.46453385041; y: 4.75564971827\" role=\"graphics-symbol\" aria-roledescription=\"circle\" transform=\"translate(136.063984487618,31.90072635969454)\" d=\"M2.7386127875258306,0A2.7386127875258306,2.7386127875258306,0,1,1,-2.7386127875258306,0A2.7386127875258306,2.7386127875258306,0,1,1,2.7386127875258306,0\" fill=\"#4c78a8\" stroke-width=\"2\" opacity=\"1\"/><path aria-label=\"x: −5.25865706223; y: −0.622003993075\" role=\"graphics-symbol\" aria-roledescription=\"circle\" transform=\"translate(22.24028813317511,262.3715997032165)\" d=\"M2.7386127875258306,0A2.7386127875258306,2.7386127875258306,0,1,1,-2.7386127875258306,0A2.7386127875258306,2.7386127875258306,0,1,1,2.7386127875258306,0\" fill=\"#4c78a8\" stroke-width=\"2\" opacity=\"1\"/><path aria-label=\"x: −1.57756965499; y: 2.03781839046\" role=\"graphics-symbol\" aria-roledescription=\"circle\" transform=\"translate(132.67291035023726,148.37921183750817)\" d=\"M2.7386127875258306,0A2.7386127875258306,2.7386127875258306,0,1,1,-2.7386127875258306,0A2.7386127875258306,2.7386127875258306,0,1,1,2.7386127875258306,0\" fill=\"#4c78a8\" stroke-width=\"2\" opacity=\"1\"/><path aria-label=\"x: −2.91665711172; y: 4.78448417802\" role=\"graphics-symbol\" aria-roledescription=\"circle\" transform=\"translate(92.5002866485109,30.66496379893294)\" d=\"M2.7386127875258306,0A2.7386127875258306,2.7386127875258306,0,1,1,-2.7386127875258306,0A2.7386127875258306,2.7386127875258306,0,1,1,2.7386127875258306,0\" fill=\"#4c78a8\" stroke-width=\"2\" opacity=\"1\"/><path aria-label=\"x: −3.8448654639; y: 1.76881620237\" role=\"graphics-symbol\" aria-roledescription=\"circle\" transform=\"translate(64.65403608291946,159.90787704147905)\" d=\"M2.7386127875258306,0A2.7386127875258306,2.7386127875258306,0,1,1,-2.7386127875258306,0A2.7386127875258306,2.7386127875258306,0,1,1,2.7386127875258306,0\" fill=\"#4c78a8\" stroke-width=\"2\" opacity=\"1\"/><path aria-label=\"x: −4.54013486192; y: −0.180298842528\" role=\"graphics-symbol\" aria-roledescription=\"circle\" transform=\"translate(43.79595414226514,243.44137896549023)\" d=\"M2.7386127875258306,0A2.7386127875258306,2.7386127875258306,0,1,1,-2.7386127875258306,0A2.7386127875258306,2.7386127875258306,0,1,1,2.7386127875258306,0\" fill=\"#4c78a8\" stroke-width=\"2\" opacity=\"1\"/><path aria-label=\"x: −3.89450726425; y: 1.69489979691\" role=\"graphics-symbol\" aria-roledescription=\"circle\" transform=\"translate(63.16478207257907,163.07572298964135)\" d=\"M2.7386127875258306,0A2.7386127875258306,2.7386127875258306,0,1,1,-2.7386127875258306,0A2.7386127875258306,2.7386127875258306,0,1,1,2.7386127875258306,0\" fill=\"#4c78a8\" stroke-width=\"2\" opacity=\"1\"/><path aria-label=\"x: −1.42912493829; y: 4.82031998682\" role=\"graphics-symbol\" aria-roledescription=\"circle\" transform=\"translate(137.12625185129892,29.129143421843217)\" d=\"M2.7386127875258306,0A2.7386127875258306,2.7386127875258306,0,1,1,-2.7386127875258306,0A2.7386127875258306,2.7386127875258306,0,1,1,2.7386127875258306,0\" fill=\"#4c78a8\" stroke-width=\"2\" opacity=\"1\"/><path aria-label=\"x: −3.19047849315; y: 2.46333331096\" role=\"graphics-symbol\" aria-roledescription=\"circle\" transform=\"translate(84.285645205366,130.1428581016195)\" d=\"M2.7386127875258306,0A2.7386127875258306,2.7386127875258306,0,1,1,-2.7386127875258306,0A2.7386127875258306,2.7386127875258306,0,1,1,2.7386127875258306,0\" fill=\"#4c78a8\" stroke-width=\"2\" opacity=\"1\"/><path aria-label=\"x: −2.97186940027; y: 4.83309403793\" role=\"graphics-symbol\" aria-roledescription=\"circle\" transform=\"translate(90.84391799185084,28.581684088567684)\" d=\"M2.7386127875258306,0A2.7386127875258306,2.7386127875258306,0,1,1,-2.7386127875258306,0A2.7386127875258306,2.7386127875258306,0,1,1,2.7386127875258306,0\" fill=\"#4c78a8\" stroke-width=\"2\" opacity=\"1\"/><path aria-label=\"x: −5.54397822003; y: −0.681600060852\" role=\"graphics-symbol\" aria-roledescription=\"circle\" transform=\"translate(13.680653399050637,264.92571689364706)\" d=\"M2.7386127875258306,0A2.7386127875258306,2.7386127875258306,0,1,1,-2.7386127875258306,0A2.7386127875258306,2.7386127875258306,0,1,1,2.7386127875258306,0\" fill=\"#4c78a8\" stroke-width=\"2\" opacity=\"1\"/><path aria-label=\"x: −5.39789355539; y: −0.749459187965\" role=\"graphics-symbol\" aria-roledescription=\"circle\" transform=\"translate(18.063193338291512,267.83396519849475)\" d=\"M2.7386127875258306,0A2.7386127875258306,2.7386127875258306,0,1,1,-2.7386127875258306,0A2.7386127875258306,2.7386127875258306,0,1,1,2.7386127875258306,0\" fill=\"#4c78a8\" stroke-width=\"2\" opacity=\"1\"/><path aria-label=\"x: −5.14193331731; y: −0.857524754068\" role=\"graphics-symbol\" aria-roledescription=\"circle\" transform=\"translate(25.742000480753944,272.46534660289547)\" d=\"M2.7386127875258306,0A2.7386127875258306,2.7386127875258306,0,1,1,-2.7386127875258306,0A2.7386127875258306,2.7386127875258306,0,1,1,2.7386127875258306,0\" fill=\"#4c78a8\" stroke-width=\"2\" opacity=\"1\"/><path aria-label=\"x: −4.51691342417; y: −0.277456075149\" role=\"graphics-symbol\" aria-roledescription=\"circle\" transform=\"translate(44.49259727483298,247.60526036351834)\" d=\"M2.7386127875258306,0A2.7386127875258306,2.7386127875258306,0,1,1,-2.7386127875258306,0A2.7386127875258306,2.7386127875258306,0,1,1,2.7386127875258306,0\" fill=\"#4c78a8\" stroke-width=\"2\" opacity=\"1\"/><path aria-label=\"x: −2.63219008067; y: 2.71054528271\" role=\"graphics-symbol\" aria-roledescription=\"circle\" transform=\"translate(101.03429757976191,119.54805931240257)\" d=\"M2.7386127875258306,0A2.7386127875258306,2.7386127875258306,0,1,1,-2.7386127875258306,0A2.7386127875258306,2.7386127875258306,0,1,1,2.7386127875258306,0\" fill=\"#4c78a8\" stroke-width=\"2\" opacity=\"1\"/><path aria-label=\"x: −2.89857519095; y: 4.7775462123\" role=\"graphics-symbol\" aria-roledescription=\"circle\" transform=\"translate(93.04274427146565,30.962305187258497)\" d=\"M2.7386127875258306,0A2.7386127875258306,2.7386127875258306,0,1,1,-2.7386127875258306,0A2.7386127875258306,2.7386127875258306,0,1,1,2.7386127875258306,0\" fill=\"#4c78a8\" stroke-width=\"2\" opacity=\"1\"/><path aria-label=\"x: −2.9975744932; y: 2.91310639551\" role=\"graphics-symbol\" aria-roledescription=\"circle\" transform=\"translate(90.07276520414138,110.86686876391413)\" d=\"M2.7386127875258306,0A2.7386127875258306,2.7386127875258306,0,1,1,-2.7386127875258306,0A2.7386127875258306,2.7386127875258306,0,1,1,2.7386127875258306,0\" fill=\"#4c78a8\" stroke-width=\"2\" opacity=\"1\"/><path aria-label=\"x: −1.40698869687; y: 4.86974846155\" role=\"graphics-symbol\" aria-roledescription=\"circle\" transform=\"translate(137.7903390937637,27.010780219297725)\" d=\"M2.7386127875258306,0A2.7386127875258306,2.7386127875258306,0,1,1,-2.7386127875258306,0A2.7386127875258306,2.7386127875258306,0,1,1,2.7386127875258306,0\" fill=\"#4c78a8\" stroke-width=\"2\" opacity=\"1\"/><path aria-label=\"x: −3.27603976235; y: 0.632550640713\" role=\"graphics-symbol\" aria-roledescription=\"circle\" transform=\"translate(81.7188071293895,208.60497254086275)\" d=\"M2.7386127875258306,0A2.7386127875258306,2.7386127875258306,0,1,1,-2.7386127875258306,0A2.7386127875258306,2.7386127875258306,0,1,1,2.7386127875258306,0\" fill=\"#4c78a8\" stroke-width=\"2\" opacity=\"1\"/><path aria-label=\"x: −4.98448096955; y: 0.996750689845\" role=\"graphics-symbol\" aria-roledescription=\"circle\" transform=\"translate(30.46557091346907,192.99639900662925)\" d=\"M2.7386127875258306,0A2.7386127875258306,2.7386127875258306,0,1,1,-2.7386127875258306,0A2.7386127875258306,2.7386127875258306,0,1,1,2.7386127875258306,0\" fill=\"#4c78a8\" stroke-width=\"2\" opacity=\"1\"/><path aria-label=\"x: −2.0995753149; y: 1.61183633724\" role=\"graphics-symbol\" aria-roledescription=\"circle\" transform=\"translate(117.01274055287277,166.63558554702632)\" d=\"M2.7386127875258306,0A2.7386127875258306,2.7386127875258306,0,1,1,-2.7386127875258306,0A2.7386127875258306,2.7386127875258306,0,1,1,2.7386127875258306,0\" fill=\"#4c78a8\" stroke-width=\"2\" opacity=\"1\"/><path aria-label=\"x: −4.1642519644; y: 0.1150201834\" role=\"graphics-symbol\" aria-roledescription=\"circle\" transform=\"translate(55.07244106798425,230.78484928286383)\" d=\"M2.7386127875258306,0A2.7386127875258306,2.7386127875258306,0,1,1,-2.7386127875258306,0A2.7386127875258306,2.7386127875258306,0,1,1,2.7386127875258306,0\" fill=\"#4c78a8\" stroke-width=\"2\" opacity=\"1\"/><path aria-label=\"x: −2.73812218675; y: 4.21594668014\" role=\"graphics-symbol\" aria-roledescription=\"circle\" transform=\"translate(97.85633439736966,55.03085656561304)\" d=\"M2.7386127875258306,0A2.7386127875258306,2.7386127875258306,0,1,1,-2.7386127875258306,0A2.7386127875258306,2.7386127875258306,0,1,1,2.7386127875258306,0\" fill=\"#4c78a8\" stroke-width=\"2\" opacity=\"1\"/><path aria-label=\"x: −4.00851998841; y: 0.0578823489048\" role=\"graphics-symbol\" aria-roledescription=\"circle\" transform=\"translate(59.74440034764573,233.23361361836476)\" d=\"M2.7386127875258306,0A2.7386127875258306,2.7386127875258306,0,1,1,-2.7386127875258306,0A2.7386127875258306,2.7386127875258306,0,1,1,2.7386127875258306,0\" fill=\"#4c78a8\" stroke-width=\"2\" opacity=\"1\"/><path aria-label=\"x: −1.2780445075; y: 4.95289650842\" role=\"graphics-symbol\" aria-roledescription=\"circle\" transform=\"translate(141.65866477495155,23.44729249636952)\" d=\"M2.7386127875258306,0A2.7386127875258306,2.7386127875258306,0,1,1,-2.7386127875258306,0A2.7386127875258306,2.7386127875258306,0,1,1,2.7386127875258306,0\" fill=\"#4c78a8\" stroke-width=\"2\" opacity=\"1\"/><path aria-label=\"x: −4.47324633477; y: −0.150471239136\" role=\"graphics-symbol\" aria-roledescription=\"circle\" transform=\"translate(45.80260995689596,242.16305310581794)\" d=\"M2.7386127875258306,0A2.7386127875258306,2.7386127875258306,0,1,1,-2.7386127875258306,0A2.7386127875258306,2.7386127875258306,0,1,1,2.7386127875258306,0\" fill=\"#4c78a8\" stroke-width=\"2\" opacity=\"1\"/><path aria-label=\"x: −1.89292149662; y: 1.03585477004\" role=\"graphics-symbol\" aria-roledescription=\"circle\" transform=\"translate(123.21235510137257,191.32050985533886)\" d=\"M2.7386127875258306,0A2.7386127875258306,2.7386127875258306,0,1,1,-2.7386127875258306,0A2.7386127875258306,2.7386127875258306,0,1,1,2.7386127875258306,0\" fill=\"#4c78a8\" stroke-width=\"2\" opacity=\"1\"/><path aria-label=\"x: −1.41282349356; y: 4.85194820964\" role=\"graphics-symbol\" aria-roledescription=\"circle\" transform=\"translate(137.61529519323378,27.773648158434916)\" d=\"M2.7386127875258306,0A2.7386127875258306,2.7386127875258306,0,1,1,-2.7386127875258306,0A2.7386127875258306,2.7386127875258306,0,1,1,2.7386127875258306,0\" fill=\"#4c78a8\" stroke-width=\"2\" opacity=\"1\"/><path aria-label=\"x: −5.01501225662; y: 0.925747928317\" role=\"graphics-symbol\" aria-roledescription=\"circle\" transform=\"translate(29.549632301354134,196.03937450071635)\" d=\"M2.7386127875258306,0A2.7386127875258306,2.7386127875258306,0,1,1,-2.7386127875258306,0A2.7386127875258306,2.7386127875258306,0,1,1,2.7386127875258306,0\" fill=\"#4c78a8\" stroke-width=\"2\" opacity=\"1\"/><path aria-label=\"x: −2.92831388422; y: 4.77156275423\" role=\"graphics-symbol\" aria-roledescription=\"circle\" transform=\"translate(92.15058347336145,31.21873910428895)\" d=\"M2.7386127875258306,0A2.7386127875258306,2.7386127875258306,0,1,1,-2.7386127875258306,0A2.7386127875258306,2.7386127875258306,0,1,1,2.7386127875258306,0\" fill=\"#4c78a8\" stroke-width=\"2\" opacity=\"1\"/><path aria-label=\"x: −3.78599643695; y: 0.469217723271\" role=\"graphics-symbol\" aria-roledescription=\"circle\" transform=\"translate(66.42010689163773,215.60495471697493)\" d=\"M2.7386127875258306,0A2.7386127875258306,2.7386127875258306,0,1,1,-2.7386127875258306,0A2.7386127875258306,2.7386127875258306,0,1,1,2.7386127875258306,0\" fill=\"#4c78a8\" stroke-width=\"2\" opacity=\"1\"/><path aria-label=\"x: −5.01546329077; y: 0.948221999447\" role=\"graphics-symbol\" aria-roledescription=\"circle\" transform=\"translate(29.536101276755755,195.07620002369862)\" d=\"M2.7386127875258306,0A2.7386127875258306,2.7386127875258306,0,1,1,-2.7386127875258306,0A2.7386127875258306,2.7386127875258306,0,1,1,2.7386127875258306,0\" fill=\"#4c78a8\" stroke-width=\"2\" opacity=\"1\"/><path aria-label=\"x: −3.11508401435; y: 2.41079292764\" role=\"graphics-symbol\" aria-roledescription=\"circle\" transform=\"translate(86.54747956962314,132.39458881542416)\" d=\"M2.7386127875258306,0A2.7386127875258306,2.7386127875258306,0,1,1,-2.7386127875258306,0A2.7386127875258306,2.7386127875258306,0,1,1,2.7386127875258306,0\" fill=\"#4c78a8\" stroke-width=\"2\" opacity=\"1\"/><path aria-label=\"x: −5.32327046834; y: −0.7701676191\" role=\"graphics-symbol\" aria-roledescription=\"circle\" transform=\"translate(20.301885949862548,268.721469390002)\" d=\"M2.7386127875258306,0A2.7386127875258306,2.7386127875258306,0,1,1,-2.7386127875258306,0A2.7386127875258306,2.7386127875258306,0,1,1,2.7386127875258306,0\" fill=\"#4c78a8\" stroke-width=\"2\" opacity=\"1\"/></g></g><path class=\"foreground\" aria-hidden=\"true\" d=\"\" display=\"none\"/></g></g></g></svg>\n"
      ],
      "text/plain": [
       "@vlplot(\n",
       "    view={\n",
       "        stroke=nothing\n",
       "    },\n",
       "    title={\n",
       "        text=\"\",\n",
       "        dy=-25,\n",
       "        fontSize=14\n",
       "    },\n",
       "    layer=[\n",
       "        {\n",
       "            mark={\n",
       "                type=\"line\",\n",
       "                color=\"black\",\n",
       "                clip=false\n",
       "            },\n",
       "            data={\n",
       "                values=...\n",
       "            },\n",
       "            encoding={\n",
       "                x={\n",
       "                    axis=nothing,\n",
       "                    field=\"edges_x\",\n",
       "                    type=\"quantitative\"\n",
       "                },\n",
       "                y={\n",
       "                    axis=nothing,\n",
       "                    field=\"edges_y\",\n",
       "                    type=\"quantitative\"\n",
       "                },\n",
       "                opacity={\n",
       "                    legend=nothing,\n",
       "                    field=\"ew\",\n",
       "                    type=\"quantitative\"\n",
       "                },\n",
       "                size={\n",
       "                    scale={\n",
       "                        range=[\n",
       "                            0,\n",
       "                            2\n",
       "                        ]\n",
       "                    },\n",
       "                    legend=nothing,\n",
       "                    field=\"ew\",\n",
       "                    type=\"ordinal\"\n",
       "                },\n",
       "                detail={\n",
       "                    field=\"pe\",\n",
       "                    type=\"ordinal\"\n",
       "                }\n",
       "            },\n",
       "            width=300,\n",
       "            height=300\n",
       "        },\n",
       "        {\n",
       "            mark={\n",
       "                type=\"circle\",\n",
       "                color=\"red\",\n",
       "                opacity=1\n",
       "            },\n",
       "            width=300,\n",
       "            height=300,\n",
       "            encoding={\n",
       "                x={\n",
       "                    type=\"quantitative\",\n",
       "                    axis=nothing,\n",
       "                    field=\"x\",\n",
       "                    title=nothing\n",
       "                },\n",
       "                y={\n",
       "                    type=\"quantitative\",\n",
       "                    axis=nothing,\n",
       "                    field=\"y\",\n",
       "                    title=nothing\n",
       "                }\n",
       "            },\n",
       "            data={\n",
       "                values=...\n",
       "            }\n",
       "        },\n",
       "        {\n",
       "            mark={\n",
       "                opacity=1,\n",
       "                type=\"circle\"\n",
       "            },\n",
       "            width=300,\n",
       "            height=300,\n",
       "            encoding={\n",
       "                x={\n",
       "                    type=\"quantitative\",\n",
       "                    axis=nothing,\n",
       "                    field=\"x\",\n",
       "                    title=nothing\n",
       "                },\n",
       "                y={\n",
       "                    type=\"quantitative\",\n",
       "                    axis=nothing,\n",
       "                    field=\"y\",\n",
       "                    title=nothing\n",
       "                }\n",
       "            },\n",
       "            data={\n",
       "                values=...\n",
       "            }\n",
       "        }\n",
       "    ]\n",
       ")"
      ]
     },
     "execution_count": 175,
     "metadata": {},
     "output_type": "execute_result"
    }
   ],
   "source": [
    "PlotOT(d_mnist, d_fmnist, γ, ewfilter=0.3)"
   ]
  },
  {
   "cell_type": "code",
   "execution_count": 155,
   "id": "397a7cc1-601e-479a-b421-c5149c2c3b50",
   "metadata": {},
   "outputs": [
    {
     "data": {
      "application/vnd.vegalite.v4+json": {
       "data": {
        "values": [
         {
          "dataset": "mnist",
          "label": 5,
          "x1": -2.2282553525455153,
          "x2": 2.118556566863446
         },
         {
          "dataset": "mnist",
          "label": 0,
          "x1": -1.98527961794115,
          "x2": 4.004269669821101
         },
         {
          "dataset": "mnist",
          "label": 4,
          "x1": -0.5907948394367817,
          "x2": 1.139626090433224
         },
         {
          "dataset": "mnist",
          "label": 1,
          "x1": -4.251139235042782,
          "x2": -0.362216634874711
         },
         {
          "dataset": "mnist",
          "label": 9,
          "x1": -2.07929344790325,
          "x2": -0.28489583661090073
         },
         {
          "dataset": "mnist",
          "label": 2,
          "x1": -2.75252333461377,
          "x2": -1.0194045529292932
         },
         {
          "dataset": "mnist",
          "label": 1,
          "x1": -2.9917021253202054,
          "x2": 1.2540520781234064
         },
         {
          "dataset": "mnist",
          "label": 3,
          "x1": -2.2287998087138736,
          "x2": 2.3018863928319617
         },
         {
          "dataset": "mnist",
          "label": 1,
          "x1": -3.016318796377804,
          "x2": 1.2674972293058577
         },
         {
          "dataset": "mnist",
          "label": 4,
          "x1": -3.0172043037294793,
          "x2": -1.010827188869638
         },
         {
          "dataset": "mnist",
          "label": 3,
          "x1": -2.069775750827766,
          "x2": 2.05733738718384
         },
         {
          "dataset": "mnist",
          "label": 5,
          "x1": -3.75613311768956,
          "x2": -0.07057021210244213
         },
         {
          "dataset": "mnist",
          "label": 3,
          "x1": -1.956470526528466,
          "x2": 1.7417089545943052
         },
         {
          "dataset": "mnist",
          "label": 6,
          "x1": -0.670860342904271,
          "x2": 4.673633860325447
         },
         {
          "dataset": "mnist",
          "label": 1,
          "x1": -3.0049393649697524,
          "x2": 1.2511153080800876
         },
         {
          "dataset": "mnist",
          "label": 7,
          "x1": -3.332563205031437,
          "x2": -1.228596499849567
         },
         {
          "dataset": "mnist",
          "label": 2,
          "x1": -0.7757560094857477,
          "x2": 1.7345017491204309
         },
         {
          "dataset": "mnist",
          "label": 8,
          "x1": -3.2939353784827157,
          "x2": -2.0848820161073864
         },
         {
          "dataset": "mnist",
          "label": 6,
          "x1": -0.6737305800191626,
          "x2": 1.664909814426005
         },
         {
          "dataset": "mnist",
          "label": 9,
          "x1": -2.691090894430036,
          "x2": -1.2597704376685663
         },
         {
          "dataset": "mnist",
          "label": 4,
          "x1": -0.5322835333824334,
          "x2": 0.6272852357787083
         },
         {
          "dataset": "mnist",
          "label": 0,
          "x1": -2.002706295028766,
          "x2": 3.87378420444186
         },
         {
          "dataset": "mnist",
          "label": 9,
          "x1": -2.8641110236888405,
          "x2": -1.0815015980019957
         },
         {
          "dataset": "mnist",
          "label": 1,
          "x1": -4.160041856767808,
          "x2": -0.4076000951554632
         },
         {
          "dataset": "mnist",
          "label": 1,
          "x1": -3.9885765388191103,
          "x2": -0.6276471524355218
         },
         {
          "dataset": "mnist",
          "label": 2,
          "x1": -2.115705034666352,
          "x2": 2.4350953175422982
         },
         {
          "dataset": "mnist",
          "label": 4,
          "x1": -1.427274965274428,
          "x2": 0.4741967364144636
         },
         {
          "dataset": "mnist",
          "label": 3,
          "x1": -2.213951921166525,
          "x2": 2.252005685802009
         },
         {
          "dataset": "mnist",
          "label": 2,
          "x1": -1.299965060021876,
          "x2": 0.7494314691828491
         },
         {
          "dataset": "mnist",
          "label": 7,
          "x1": -3.6881327662833487,
          "x2": -1.0032122878004321
         },
         {
          "dataset": "mnist",
          "label": 3,
          "x1": -2.625447556192542,
          "x2": 1.3462355692492602
         },
         {
          "dataset": "mnist",
          "label": 8,
          "x1": -3.3503845212580443,
          "x2": -2.0383015009518304
         },
         {
          "dataset": "mnist",
          "label": 6,
          "x1": -0.3580873263508744,
          "x2": 2.225674218025515
         },
         {
          "dataset": "mnist",
          "label": 9,
          "x1": -3.273289584537411,
          "x2": -1.2262597132018522
         },
         {
          "dataset": "mnist",
          "label": 0,
          "x1": -1.7009432315184925,
          "x2": 4.119634537105741
         },
         {
          "dataset": "mnist",
          "label": 5,
          "x1": -3.5582366756871764,
          "x2": -0.16051371652126595
         },
         {
          "dataset": "mnist",
          "label": 6,
          "x1": -0.7734159153237758,
          "x2": 4.462802005289296
         },
         {
          "dataset": "mnist",
          "label": 0,
          "x1": -1.8369090540428228,
          "x2": 4.017887013661312
         },
         {
          "dataset": "mnist",
          "label": 7,
          "x1": -1.372068033280021,
          "x2": 0.42105598732545835
         },
         {
          "dataset": "mnist",
          "label": 6,
          "x1": -0.6537055660316815,
          "x2": 4.675092769594287
         },
         {
          "dataset": "mnist",
          "label": 1,
          "x1": -2.8697596724395527,
          "x2": 1.0160607032363298
         },
         {
          "dataset": "mnist",
          "label": 8,
          "x1": -3.28818309256987,
          "x2": -2.2083345697923744
         },
         {
          "dataset": "mnist",
          "label": 7,
          "x1": -1.914379834474177,
          "x2": 0.2295445665289691
         },
         {
          "dataset": "mnist",
          "label": 9,
          "x1": -2.656440739581304,
          "x2": -1.3424749038229258
         },
         {
          "dataset": "mnist",
          "label": 3,
          "x1": -2.0297102460623853,
          "x2": 1.6256447400883383
         },
         {
          "dataset": "mnist",
          "label": 9,
          "x1": -2.0511521662539507,
          "x2": -0.264569135332193
         },
         {
          "dataset": "mnist",
          "label": 8,
          "x1": -3.1795632335135116,
          "x2": 0.0587217234015415
         },
         {
          "dataset": "mnist",
          "label": 5,
          "x1": -3.532992585039915,
          "x2": -0.2698542383226181
         },
         {
          "dataset": "mnist",
          "label": 9,
          "x1": -1.8364439168527427,
          "x2": 1.7537948485702328
         },
         {
          "dataset": "mnist",
          "label": 3,
          "x1": -2.2038738650790624,
          "x2": 2.1575498138431923
         },
         {
          "dataset": "mnist",
          "label": 3,
          "x1": -1.5949049715698114,
          "x2": 1.92069164954236
         },
         {
          "dataset": "mnist",
          "label": 0,
          "x1": -1.9609477644276716,
          "x2": 3.850267845310904
         },
         {
          "dataset": "mnist",
          "label": 7,
          "x1": -1.408915091278876,
          "x2": 0.630859634973101
         },
         {
          "dataset": "mnist",
          "label": 4,
          "x1": -4.003582610514452,
          "x2": -0.3959600661266131
         },
         {
          "dataset": "mnist",
          "label": 9,
          "x1": -1.5315894996660924,
          "x2": 0.3862503394178859
         },
         {
          "dataset": "mnist",
          "label": 8,
          "x1": -3.3149986255457518,
          "x2": -2.216983238534853
         },
         {
          "dataset": "mnist",
          "label": 0,
          "x1": -1.7819783384168937,
          "x2": 3.618672046079792
         },
         {
          "dataset": "mnist",
          "label": 9,
          "x1": -2.714472350253021,
          "x2": -0.8825789765913397
         },
         {
          "dataset": "mnist",
          "label": 4,
          "x1": -0.7125863726588979,
          "x2": 0.7142098077089869
         },
         {
          "dataset": "mnist",
          "label": 1,
          "x1": -4.235349656667246,
          "x2": -0.3496086350260045
         },
         {
          "dataset": "mnist",
          "label": 4,
          "x1": 0.35602195097518097,
          "x2": -0.14620359115274448
         },
         {
          "dataset": "mnist",
          "label": 4,
          "x1": -3.8814202612173347,
          "x2": -0.3077534939194592
         },
         {
          "dataset": "mnist",
          "label": 6,
          "x1": -0.865776030788007,
          "x2": 4.3710764336398
         },
         {
          "dataset": "mnist",
          "label": 0,
          "x1": -2.1070192063708926,
          "x2": 4.000003912585424
         },
         {
          "dataset": "mnist",
          "label": 4,
          "x1": -0.3044331183006237,
          "x2": 1.8122927216447084
         },
         {
          "dataset": "mnist",
          "label": 5,
          "x1": -3.762561034278125,
          "x2": -0.06739254505792508
         },
         {
          "dataset": "mnist",
          "label": 6,
          "x1": -0.784541098738491,
          "x2": 4.548138961422174
         },
         {
          "dataset": "mnist",
          "label": 1,
          "x1": -4.229010994557571,
          "x2": -0.2218717353597814
         },
         {
          "dataset": "mnist",
          "label": 0,
          "x1": -0.19690624006120797,
          "x2": 1.8325479544986902
         },
         {
          "dataset": "mnist",
          "label": 0,
          "x1": -1.8213238503287008,
          "x2": 3.8688644717165417
         },
         {
          "dataset": "mnist",
          "label": 1,
          "x1": -3.048149743912205,
          "x2": 1.2877841529238985
         },
         {
          "dataset": "mnist",
          "label": 7,
          "x1": -3.3896328338767354,
          "x2": -1.246057040639367
         },
         {
          "dataset": "mnist",
          "label": 1,
          "x1": -3.017140781630899,
          "x2": 1.191659011565171
         },
         {
          "dataset": "mnist",
          "label": 6,
          "x1": -0.7096720533964386,
          "x2": 4.628282562694956
         },
         {
          "dataset": "mnist",
          "label": 3,
          "x1": -1.8922979790432284,
          "x2": 1.8190643582768748
         },
         {
          "dataset": "mnist",
          "label": 0,
          "x1": -1.8997724244564953,
          "x2": 4.070291224791135
         },
         {
          "dataset": "mnist",
          "label": 2,
          "x1": -4.3064166175617595,
          "x2": -0.29527057037908894
         },
         {
          "dataset": "mnist",
          "label": 1,
          "x1": -4.1996024413575395,
          "x2": -0.303953188328615
         },
         {
          "dataset": "mnist",
          "label": 1,
          "x1": -4.189907145144989,
          "x2": -0.5805390043991588
         },
         {
          "dataset": "mnist",
          "label": 7,
          "x1": -3.5000136891483455,
          "x2": -1.1821608126206098
         },
         {
          "dataset": "mnist",
          "label": 9,
          "x1": -1.40682635939036,
          "x2": 2.260454146725502
         },
         {
          "dataset": "mnist",
          "label": 0,
          "x1": -1.851088442676902,
          "x2": 3.909010159692297
         },
         {
          "dataset": "mnist",
          "label": 2,
          "x1": -1.4240274448911714,
          "x2": 2.4159945520950825
         },
         {
          "dataset": "mnist",
          "label": 6,
          "x1": -0.6095001425596076,
          "x2": 4.738036993389938
         },
         {
          "dataset": "mnist",
          "label": 7,
          "x1": -1.3181582152337517,
          "x2": 0.7357128103968399
         },
         {
          "dataset": "mnist",
          "label": 8,
          "x1": -3.364790855964261,
          "x2": -2.2561951388938764
         },
         {
          "dataset": "mnist",
          "label": 3,
          "x1": -0.8446622810272088,
          "x2": 1.4331688154447746
         },
         {
          "dataset": "mnist",
          "label": 9,
          "x1": -3.0595710746865383,
          "x2": -1.0212170293146756
         },
         {
          "dataset": "mnist",
          "label": 0,
          "x1": -1.671962265038695,
          "x2": 3.4765331606646632
         },
         {
          "dataset": "mnist",
          "label": 4,
          "x1": -3.0663929631578806,
          "x2": -0.9920140454197223
         },
         {
          "dataset": "mnist",
          "label": 6,
          "x1": -0.6464966914906852,
          "x2": 4.690255927468641
         },
         {
          "dataset": "mnist",
          "label": 7,
          "x1": -3.41384171305296,
          "x2": -1.200384568846295
         },
         {
          "dataset": "mnist",
          "label": 4,
          "x1": -0.7452958460404399,
          "x2": 0.9001290355697994
         },
         {
          "dataset": "mnist",
          "label": 6,
          "x1": -0.6202685577884168,
          "x2": 4.726651676437098
         },
         {
          "dataset": "mnist",
          "label": 8,
          "x1": -3.3009935985369956,
          "x2": -2.208847100705656
         },
         {
          "dataset": "mnist",
          "label": 0,
          "x1": -1.7398724816154425,
          "x2": 3.949627227007385
         },
         {
          "dataset": "mnist",
          "label": 7,
          "x1": -1.9891443146870431,
          "x2": -0.1862578798236749
         },
         {
          "dataset": "mnist",
          "label": 8,
          "x1": -3.325236161857401,
          "x2": -2.2436348974267943
         },
         {
          "dataset": "mnist",
          "label": 3,
          "x1": -1.7857401845020795,
          "x2": 1.76965938004155
         },
         {
          "dataset": "mnist",
          "label": 1,
          "x1": -4.096054300547042,
          "x2": -0.44012767383279283
         },
         {
          "dataset": "fmnist",
          "label": 9,
          "x1": 2.0072253323459845,
          "x2": -0.6107211256068398
         },
         {
          "dataset": "fmnist",
          "label": 0,
          "x1": 3.0807699842927874,
          "x2": 2.5107239577577563
         },
         {
          "dataset": "fmnist",
          "label": 0,
          "x1": 0.15458502349918188,
          "x2": 2.2949149758593026
         },
         {
          "dataset": "fmnist",
          "label": 3,
          "x1": 0.7089848719973949,
          "x2": 2.4624848530431813
         },
         {
          "dataset": "fmnist",
          "label": 0,
          "x1": 3.84290039298232,
          "x2": 3.446323022515259
         },
         {
          "dataset": "fmnist",
          "label": 2,
          "x1": 4.2562071239893005,
          "x2": 0.9124947399111665
         },
         {
          "dataset": "fmnist",
          "label": 7,
          "x1": 0.8910393882006505,
          "x2": -0.9862362782268158
         },
         {
          "dataset": "fmnist",
          "label": 2,
          "x1": 4.18153411796207,
          "x2": 1.0176758152879064
         },
         {
          "dataset": "fmnist",
          "label": 5,
          "x1": -0.32459590352762735,
          "x2": 1.4170958211131999
         },
         {
          "dataset": "fmnist",
          "label": 5,
          "x1": 0.09125199337866102,
          "x2": 1.507812666117946
         },
         {
          "dataset": "fmnist",
          "label": 0,
          "x1": 3.120045044584328,
          "x2": 2.4822031901910893
         },
         {
          "dataset": "fmnist",
          "label": 9,
          "x1": 2.8380800224937626,
          "x2": 0.062176197469024974
         },
         {
          "dataset": "fmnist",
          "label": 5,
          "x1": 0.947621272599296,
          "x2": -0.7814517958056909
         },
         {
          "dataset": "fmnist",
          "label": 5,
          "x1": 0.8937390961008979,
          "x2": -0.6568224187339392
         },
         {
          "dataset": "fmnist",
          "label": 7,
          "x1": 0.8023719250226086,
          "x2": -0.8590507826041683
         },
         {
          "dataset": "fmnist",
          "label": 9,
          "x1": 1.914429937199236,
          "x2": -0.6242594693045959
         },
         {
          "dataset": "fmnist",
          "label": 1,
          "x1": 3.5104111845305535,
          "x2": 4.68188775180041
         },
         {
          "dataset": "fmnist",
          "label": 0,
          "x1": 3.0265284984371377,
          "x2": 2.6257825119047387
         },
         {
          "dataset": "fmnist",
          "label": 6,
          "x1": 3.993132288778337,
          "x2": 0.8709979948781794
         },
         {
          "dataset": "fmnist",
          "label": 4,
          "x1": -0.15316146944999093,
          "x2": 1.8111709848703994
         },
         {
          "dataset": "fmnist",
          "label": 3,
          "x1": 3.7366767525815683,
          "x2": 3.380904201139139
         },
         {
          "dataset": "fmnist",
          "label": 1,
          "x1": 3.534959446861886,
          "x2": 4.520061962923717
         },
         {
          "dataset": "fmnist",
          "label": 4,
          "x1": 1.4633573215746192,
          "x2": 2.2820842564154784
         },
         {
          "dataset": "fmnist",
          "label": 8,
          "x1": 1.8635444382426765,
          "x2": -0.5856418021512259
         },
         {
          "dataset": "fmnist",
          "label": 4,
          "x1": 4.0274285770739295,
          "x2": 1.1880635594940638
         },
         {
          "dataset": "fmnist",
          "label": 3,
          "x1": 3.7643402028361526,
          "x2": 3.243014218583869
         },
         {
          "dataset": "fmnist",
          "label": 0,
          "x1": 3.3748613138906896,
          "x2": 2.172926328123163
         },
         {
          "dataset": "fmnist",
          "label": 2,
          "x1": 4.231304823819207,
          "x2": 1.0658187463969504
         },
         {
          "dataset": "fmnist",
          "label": 4,
          "x1": 3.297104833763922,
          "x2": 0.9469841906873971
         },
         {
          "dataset": "fmnist",
          "label": 4,
          "x1": 4.082110522106986,
          "x2": 1.0831958784676945
         },
         {
          "dataset": "fmnist",
          "label": 5,
          "x1": 0.23541529377926657,
          "x2": -0.045890393921914185
         },
         {
          "dataset": "fmnist",
          "label": 3,
          "x1": 1.0349735027496392,
          "x2": 2.636846866174167
         },
         {
          "dataset": "fmnist",
          "label": 6,
          "x1": 3.71804826866851,
          "x2": 0.8543207290863141
         },
         {
          "dataset": "fmnist",
          "label": 6,
          "x1": -0.37854007437013,
          "x2": 1.479831816646775
         },
         {
          "dataset": "fmnist",
          "label": 0,
          "x1": -0.28490750881525756,
          "x2": 1.5404566360972818
         },
         {
          "dataset": "fmnist",
          "label": 8,
          "x1": 0.44647330802208024,
          "x2": 2.224712147593881
         },
         {
          "dataset": "fmnist",
          "label": 5,
          "x1": 0.5168703884742625,
          "x2": 2.282566130053158
         },
         {
          "dataset": "fmnist",
          "label": 2,
          "x1": 0.3637787675573155,
          "x2": 2.10350432141984
         },
         {
          "dataset": "fmnist",
          "label": 1,
          "x1": 3.394980342095149,
          "x2": 4.753927119773808
         },
         {
          "dataset": "fmnist",
          "label": 6,
          "x1": 4.12759732677106,
          "x2": 1.0988556835973737
         },
         {
          "dataset": "fmnist",
          "label": 6,
          "x1": 3.998347571687265,
          "x2": 0.8874692823724167
         },
         {
          "dataset": "fmnist",
          "label": 7,
          "x1": 1.119439874358361,
          "x2": -1.012989918443478
         },
         {
          "dataset": "fmnist",
          "label": 9,
          "x1": 1.606785617873894,
          "x2": -0.861611186973247
         },
         {
          "dataset": "fmnist",
          "label": 5,
          "x1": 0.7878081855959752,
          "x2": -0.6019689070895106
         },
         {
          "dataset": "fmnist",
          "label": 9,
          "x1": 2.3324559742449913,
          "x2": -0.43013313758732546
         },
         {
          "dataset": "fmnist",
          "label": 2,
          "x1": 3.836939402549178,
          "x2": 0.7957537555273472
         },
         {
          "dataset": "fmnist",
          "label": 7,
          "x1": 0.9850519502882973,
          "x2": -1.0049803095828302
         },
         {
          "dataset": "fmnist",
          "label": 3,
          "x1": 3.7198811406179617,
          "x2": 3.2446048767099303
         },
         {
          "dataset": "fmnist",
          "label": 0,
          "x1": 3.1756288226491978,
          "x2": 2.395195763682184
         },
         {
          "dataset": "fmnist",
          "label": 3,
          "x1": 3.8613035718047315,
          "x2": 3.0184888944192694
         },
         {
          "dataset": "fmnist",
          "label": 3,
          "x1": 3.822315678015567,
          "x2": 3.343236548303032
         },
         {
          "dataset": "fmnist",
          "label": 3,
          "x1": 3.815241037714779,
          "x2": 3.382158463538263
         },
         {
          "dataset": "fmnist",
          "label": 7,
          "x1": 1.1304986460972297,
          "x2": -0.9156708184669256
         },
         {
          "dataset": "fmnist",
          "label": 2,
          "x1": 4.224826815464001,
          "x2": 1.1706595736583782
         },
         {
          "dataset": "fmnist",
          "label": 2,
          "x1": 0.20031660765290069,
          "x2": 1.9628299349761928
         },
         {
          "dataset": "fmnist",
          "label": 6,
          "x1": 3.079109518053783,
          "x2": 2.5022230533754652
         },
         {
          "dataset": "fmnist",
          "label": 6,
          "x1": 3.1909723304767876,
          "x2": 3.6308895102756
         },
         {
          "dataset": "fmnist",
          "label": 8,
          "x1": 1.1373184438907482,
          "x2": 2.5285031064231944
         },
         {
          "dataset": "fmnist",
          "label": 3,
          "x1": 3.8300493868750025,
          "x2": 3.3337132369977276
         },
         {
          "dataset": "fmnist",
          "label": 3,
          "x1": 1.2545462257779423,
          "x2": 2.999674194686555
         },
         {
          "dataset": "fmnist",
          "label": 5,
          "x1": 0.2714303932841819,
          "x2": 1.520409949968255
         },
         {
          "dataset": "fmnist",
          "label": 0,
          "x1": 3.2630148519574607,
          "x2": 0.9941761220738281
         },
         {
          "dataset": "fmnist",
          "label": 5,
          "x1": 0.5980875335236278,
          "x2": -0.337948648678503
         },
         {
          "dataset": "fmnist",
          "label": 5,
          "x1": -0.812815574423071,
          "x2": 1.2747898392856503
         },
         {
          "dataset": "fmnist",
          "label": 0,
          "x1": 1.9393667394496645,
          "x2": 2.4884548812528946
         },
         {
          "dataset": "fmnist",
          "label": 2,
          "x1": 4.084070609676565,
          "x2": 0.9189286485191902
         },
         {
          "dataset": "fmnist",
          "label": 0,
          "x1": 3.0545907408094393,
          "x2": 2.52345800920641
         },
         {
          "dataset": "fmnist",
          "label": 0,
          "x1": 1.4970894353261468,
          "x2": 2.5257805199873955
         },
         {
          "dataset": "fmnist",
          "label": 4,
          "x1": 3.5745083297363975,
          "x2": 0.8492604254150316
         },
         {
          "dataset": "fmnist",
          "label": 1,
          "x1": 3.2393447889347318,
          "x2": 4.7651078214486375
         },
         {
          "dataset": "fmnist",
          "label": 3,
          "x1": 3.063875977352639,
          "x2": 2.562722695169312
         },
         {
          "dataset": "fmnist",
          "label": 1,
          "x1": 3.518145763114121,
          "x2": 4.657623930400026
         },
         {
          "dataset": "fmnist",
          "label": 6,
          "x1": 0.7998222136735992,
          "x2": 2.5356157164267694
         },
         {
          "dataset": "fmnist",
          "label": 3,
          "x1": 3.927990625685745,
          "x2": 3.460396575413069
         },
         {
          "dataset": "fmnist",
          "label": 1,
          "x1": 3.3435277391967144,
          "x2": 4.760822591449382
         },
         {
          "dataset": "fmnist",
          "label": 4,
          "x1": 3.813190551113503,
          "x2": 2.7530110451101986
         },
         {
          "dataset": "fmnist",
          "label": 4,
          "x1": 3.4884796482607197,
          "x2": 4.0898997867438265
         },
         {
          "dataset": "fmnist",
          "label": 6,
          "x1": 3.612324456360649,
          "x2": 1.8704687028787106
         },
         {
          "dataset": "fmnist",
          "label": 1,
          "x1": 3.3166972287746828,
          "x2": 4.774371507326265
         },
         {
          "dataset": "fmnist",
          "label": 9,
          "x1": 2.013915049112989,
          "x2": -0.616312845459556
         },
         {
          "dataset": "fmnist",
          "label": 1,
          "x1": 3.5734992111902977,
          "x2": 4.635978870096874
         },
         {
          "dataset": "fmnist",
          "label": 3,
          "x1": 0.576718721197599,
          "x2": 2.6009963341613176
         },
         {
          "dataset": "fmnist",
          "label": 5,
          "x1": -0.032917573367238176,
          "x2": 1.4515310736569156
         },
         {
          "dataset": "fmnist",
          "label": 7,
          "x1": 1.092866229472501,
          "x2": -0.934595813294631
         },
         {
          "dataset": "fmnist",
          "label": 9,
          "x1": 2.3928783770610687,
          "x2": -0.40196815022966353
         },
         {
          "dataset": "fmnist",
          "label": 7,
          "x1": 1.2723100230726543,
          "x2": -0.8306089087717258
         },
         {
          "dataset": "fmnist",
          "label": 1,
          "x1": 3.5192700920634876,
          "x2": 4.657851555056657
         },
         {
          "dataset": "fmnist",
          "label": 7,
          "x1": 0.8407046212416143,
          "x2": -0.979535975836599
         },
         {
          "dataset": "fmnist",
          "label": 9,
          "x1": 2.59454304269049,
          "x2": -0.2245560502960354
         },
         {
          "dataset": "fmnist",
          "label": 9,
          "x1": 1.5827097172664404,
          "x2": -0.7509704129876749
         },
         {
          "dataset": "fmnist",
          "label": 9,
          "x1": 1.4967968089641743,
          "x2": -0.3847881561042355
         },
         {
          "dataset": "fmnist",
          "label": 3,
          "x1": 1.1546163214616185,
          "x2": 2.6430975026356376
         },
         {
          "dataset": "fmnist",
          "label": 2,
          "x1": 0.2651640071959067,
          "x2": 1.928956959777906
         },
         {
          "dataset": "fmnist",
          "label": 9,
          "x1": 1.6589827874300895,
          "x2": -0.8003922081489856
         },
         {
          "dataset": "fmnist",
          "label": 3,
          "x1": 3.6674770018469562,
          "x2": 3.535523422588566
         },
         {
          "dataset": "fmnist",
          "label": 6,
          "x1": 3.3259536600650064,
          "x2": 0.9121861262524237
         },
         {
          "dataset": "fmnist",
          "label": 4,
          "x1": 0.010162819646101823,
          "x2": 2.0616790912780623
         },
         {
          "dataset": "fmnist",
          "label": 1,
          "x1": 3.23514428144158,
          "x2": 4.883860004900075
         },
         {
          "dataset": "fmnist",
          "label": 1,
          "x1": 3.631641175370091,
          "x2": 4.522712158807293
         },
         {
          "dataset": "fmnist",
          "label": 8,
          "x1": 1.812057738780125,
          "x2": -0.5808541338402388
         }
        ]
       },
       "encoding": {
        "color": {
         "field": "dataset",
         "type": "nominal"
        },
        "x": {
         "field": "x1",
         "type": "quantitative"
        },
        "y": {
         "field": "x2",
         "type": "quantitative"
        }
       },
       "height": 500,
       "mark": {
        "opacity": 0.9,
        "size": 200,
        "type": "circle"
       },
       "selection": {
        "grid": {
         "bind": "scales",
         "resolve": "global",
         "translate": "[mousedown[!event.shiftKey], window:mouseup] > window:mousemove!",
         "type": "interval",
         "zoom": "wheel![!event.shiftKey]"
        }
       },
       "width": 500
      },
      "image/png": "[encoded data removed]",
      "image/svg+xml": [
       "<?xml version=\"1.0\" encoding=\"utf-8\"?>\n",
       "<!DOCTYPE svg PUBLIC \"-//W3C//DTD SVG 1.1//EN\" \"http://www.w3.org/Graphics/SVG/1.1/DTD/svg11.dtd\">\n",
       "<svg xmlns=\"http://www.w3.org/2000/svg\" xmlns:xlink=\"http://www.w3.org/1999/xlink\" version=\"1.1\" class=\"marks\" width=\"621\" height=\"547\" viewBox=\"0 0 621 547\"><rect width=\"621\" height=\"547\" fill=\"white\"/><g fill=\"none\" stroke-miterlimit=\"10\" transform=\"translate(50,10)\"><g class=\"mark-group role-frame root\" role=\"graphics-object\" aria-roledescription=\"group mark container\"><g transform=\"translate(0,0)\"><path class=\"background\" aria-hidden=\"true\" d=\"M0.5,0.5h500v500h-500Z\" stroke=\"#ddd\"/><g><g class=\"mark-group role-axis\" aria-hidden=\"true\"><g transform=\"translate(0.5,500.5)\"><path class=\"background\" aria-hidden=\"true\" d=\"M0,0h0v0h0Z\" pointer-events=\"none\"/><g><g class=\"mark-rule role-axis-grid\" pointer-events=\"none\"><line transform=\"translate(0,-500)\" x2=\"0\" y2=\"500\" stroke=\"#ddd\" stroke-width=\"1\" opacity=\"1\"/><line transform=\"translate(50,-500)\" x2=\"0\" y2=\"500\" stroke=\"#ddd\" stroke-width=\"1\" opacity=\"1\"/><line transform=\"translate(100,-500)\" x2=\"0\" y2=\"500\" stroke=\"#ddd\" stroke-width=\"1\" opacity=\"1\"/><line transform=\"translate(150,-500)\" x2=\"0\" y2=\"500\" stroke=\"#ddd\" stroke-width=\"1\" opacity=\"1\"/><line transform=\"translate(200,-500)\" x2=\"0\" y2=\"500\" stroke=\"#ddd\" stroke-width=\"1\" opacity=\"1\"/><line transform=\"translate(250,-500)\" x2=\"0\" y2=\"500\" stroke=\"#ddd\" stroke-width=\"1\" opacity=\"1\"/><line transform=\"translate(300,-500)\" x2=\"0\" y2=\"500\" stroke=\"#ddd\" stroke-width=\"1\" opacity=\"1\"/><line transform=\"translate(350,-500)\" x2=\"0\" y2=\"500\" stroke=\"#ddd\" stroke-width=\"1\" opacity=\"1\"/><line transform=\"translate(400,-500)\" x2=\"0\" y2=\"500\" stroke=\"#ddd\" stroke-width=\"1\" opacity=\"1\"/><line transform=\"translate(450,-500)\" x2=\"0\" y2=\"500\" stroke=\"#ddd\" stroke-width=\"1\" opacity=\"1\"/><line transform=\"translate(500,-500)\" x2=\"0\" y2=\"500\" stroke=\"#ddd\" stroke-width=\"1\" opacity=\"1\"/></g></g><path class=\"foreground\" aria-hidden=\"true\" d=\"\" pointer-events=\"none\" display=\"none\"/></g></g><g class=\"mark-group role-axis\" aria-hidden=\"true\"><g transform=\"translate(0.5,0.5)\"><path class=\"background\" aria-hidden=\"true\" d=\"M0,0h0v0h0Z\" pointer-events=\"none\"/><g><g class=\"mark-rule role-axis-grid\" pointer-events=\"none\"><line transform=\"translate(0,500)\" x2=\"500\" y2=\"0\" stroke=\"#ddd\" stroke-width=\"1\" opacity=\"1\"/><line transform=\"translate(0,469)\" x2=\"500\" y2=\"0\" stroke=\"#ddd\" stroke-width=\"1\" opacity=\"1\"/><line transform=\"translate(0,438)\" x2=\"500\" y2=\"0\" stroke=\"#ddd\" stroke-width=\"1\" opacity=\"1\"/><line transform=\"translate(0,406)\" x2=\"500\" y2=\"0\" stroke=\"#ddd\" stroke-width=\"1\" opacity=\"1\"/><line transform=\"translate(0,375)\" x2=\"500\" y2=\"0\" stroke=\"#ddd\" stroke-width=\"1\" opacity=\"1\"/><line transform=\"translate(0,344)\" x2=\"500\" y2=\"0\" stroke=\"#ddd\" stroke-width=\"1\" opacity=\"1\"/><line transform=\"translate(0,313)\" x2=\"500\" y2=\"0\" stroke=\"#ddd\" stroke-width=\"1\" opacity=\"1\"/><line transform=\"translate(0,281)\" x2=\"500\" y2=\"0\" stroke=\"#ddd\" stroke-width=\"1\" opacity=\"1\"/><line transform=\"translate(0,250)\" x2=\"500\" y2=\"0\" stroke=\"#ddd\" stroke-width=\"1\" opacity=\"1\"/><line transform=\"translate(0,219)\" x2=\"500\" y2=\"0\" stroke=\"#ddd\" stroke-width=\"1\" opacity=\"1\"/><line transform=\"translate(0,188)\" x2=\"500\" y2=\"0\" stroke=\"#ddd\" stroke-width=\"1\" opacity=\"1\"/><line transform=\"translate(0,156)\" x2=\"500\" y2=\"0\" stroke=\"#ddd\" stroke-width=\"1\" opacity=\"1\"/><line transform=\"translate(0,125)\" x2=\"500\" y2=\"0\" stroke=\"#ddd\" stroke-width=\"1\" opacity=\"1\"/><line transform=\"translate(0,94)\" x2=\"500\" y2=\"0\" stroke=\"#ddd\" stroke-width=\"1\" opacity=\"1\"/><line transform=\"translate(0,63)\" x2=\"500\" y2=\"0\" stroke=\"#ddd\" stroke-width=\"1\" opacity=\"1\"/><line transform=\"translate(0,31)\" x2=\"500\" y2=\"0\" stroke=\"#ddd\" stroke-width=\"1\" opacity=\"1\"/><line transform=\"translate(0,0)\" x2=\"500\" y2=\"0\" stroke=\"#ddd\" stroke-width=\"1\" opacity=\"1\"/></g></g><path class=\"foreground\" aria-hidden=\"true\" d=\"\" pointer-events=\"none\" display=\"none\"/></g></g><g class=\"mark-group role-axis\" role=\"graphics-symbol\" aria-roledescription=\"axis\" aria-label=\"X-axis titled 'x1' for a linear scale with values from −5 to 5\"><g transform=\"translate(0.5,500.5)\"><path class=\"background\" aria-hidden=\"true\" d=\"M0,0h0v0h0Z\" pointer-events=\"none\"/><g><g class=\"mark-rule role-axis-tick\" pointer-events=\"none\"><line transform=\"translate(0,0)\" x2=\"0\" y2=\"5\" stroke=\"#888\" stroke-width=\"1\" opacity=\"1\"/><line transform=\"translate(50,0)\" x2=\"0\" y2=\"5\" stroke=\"#888\" stroke-width=\"1\" opacity=\"1\"/><line transform=\"translate(100,0)\" x2=\"0\" y2=\"5\" stroke=\"#888\" stroke-width=\"1\" opacity=\"1\"/><line transform=\"translate(150,0)\" x2=\"0\" y2=\"5\" stroke=\"#888\" stroke-width=\"1\" opacity=\"1\"/><line transform=\"translate(200,0)\" x2=\"0\" y2=\"5\" stroke=\"#888\" stroke-width=\"1\" opacity=\"1\"/><line transform=\"translate(250,0)\" x2=\"0\" y2=\"5\" stroke=\"#888\" stroke-width=\"1\" opacity=\"1\"/><line transform=\"translate(300,0)\" x2=\"0\" y2=\"5\" stroke=\"#888\" stroke-width=\"1\" opacity=\"1\"/><line transform=\"translate(350,0)\" x2=\"0\" y2=\"5\" stroke=\"#888\" stroke-width=\"1\" opacity=\"1\"/><line transform=\"translate(400,0)\" x2=\"0\" y2=\"5\" stroke=\"#888\" stroke-width=\"1\" opacity=\"1\"/><line transform=\"translate(450,0)\" x2=\"0\" y2=\"5\" stroke=\"#888\" stroke-width=\"1\" opacity=\"1\"/><line transform=\"translate(500,0)\" x2=\"0\" y2=\"5\" stroke=\"#888\" stroke-width=\"1\" opacity=\"1\"/></g><g class=\"mark-text role-axis-label\" pointer-events=\"none\"><text text-anchor=\"start\" transform=\"translate(0,15)\" font-family=\"sans-serif\" font-size=\"10px\" fill=\"#000\" opacity=\"1\">−5</text><text text-anchor=\"middle\" transform=\"translate(50,15)\" font-family=\"sans-serif\" font-size=\"10px\" fill=\"#000\" opacity=\"1\">−4</text><text text-anchor=\"middle\" transform=\"translate(100,15)\" font-family=\"sans-serif\" font-size=\"10px\" fill=\"#000\" opacity=\"1\">−3</text><text text-anchor=\"middle\" transform=\"translate(150,15)\" font-family=\"sans-serif\" font-size=\"10px\" fill=\"#000\" opacity=\"1\">−2</text><text text-anchor=\"middle\" transform=\"translate(200,15)\" font-family=\"sans-serif\" font-size=\"10px\" fill=\"#000\" opacity=\"1\">−1</text><text text-anchor=\"middle\" transform=\"translate(250,15)\" font-family=\"sans-serif\" font-size=\"10px\" fill=\"#000\" opacity=\"1\">0</text><text text-anchor=\"middle\" transform=\"translate(300,15)\" font-family=\"sans-serif\" font-size=\"10px\" fill=\"#000\" opacity=\"1\">1</text><text text-anchor=\"middle\" transform=\"translate(350,15)\" font-family=\"sans-serif\" font-size=\"10px\" fill=\"#000\" opacity=\"1\">2</text><text text-anchor=\"middle\" transform=\"translate(400,15)\" font-family=\"sans-serif\" font-size=\"10px\" fill=\"#000\" opacity=\"1\">3</text><text text-anchor=\"middle\" transform=\"translate(450,15)\" font-family=\"sans-serif\" font-size=\"10px\" fill=\"#000\" opacity=\"1\">4</text><text text-anchor=\"end\" transform=\"translate(500,15)\" font-family=\"sans-serif\" font-size=\"10px\" fill=\"#000\" opacity=\"1\">5</text></g><g class=\"mark-rule role-axis-domain\" pointer-events=\"none\"><line transform=\"translate(0,0)\" x2=\"500\" y2=\"0\" stroke=\"#888\" stroke-width=\"1\" opacity=\"1\"/></g><g class=\"mark-text role-axis-title\" pointer-events=\"none\"><text text-anchor=\"middle\" transform=\"translate(250,30)\" font-family=\"sans-serif\" font-size=\"11px\" font-weight=\"bold\" fill=\"#000\" opacity=\"1\">x1</text></g></g><path class=\"foreground\" aria-hidden=\"true\" d=\"\" pointer-events=\"none\" display=\"none\"/></g></g><g class=\"mark-group role-axis\" role=\"graphics-symbol\" aria-roledescription=\"axis\" aria-label=\"Y-axis titled 'x2' for a linear scale with values from −3 to 5\"><g transform=\"translate(0.5,0.5)\"><path class=\"background\" aria-hidden=\"true\" d=\"M0,0h0v0h0Z\" pointer-events=\"none\"/><g><g class=\"mark-rule role-axis-tick\" pointer-events=\"none\"><line transform=\"translate(0,500)\" x2=\"-5\" y2=\"0\" stroke=\"#888\" stroke-width=\"1\" opacity=\"1\"/><line transform=\"translate(0,469)\" x2=\"-5\" y2=\"0\" stroke=\"#888\" stroke-width=\"1\" opacity=\"1\"/><line transform=\"translate(0,438)\" x2=\"-5\" y2=\"0\" stroke=\"#888\" stroke-width=\"1\" opacity=\"1\"/><line transform=\"translate(0,406)\" x2=\"-5\" y2=\"0\" stroke=\"#888\" stroke-width=\"1\" opacity=\"1\"/><line transform=\"translate(0,375)\" x2=\"-5\" y2=\"0\" stroke=\"#888\" stroke-width=\"1\" opacity=\"1\"/><line transform=\"translate(0,344)\" x2=\"-5\" y2=\"0\" stroke=\"#888\" stroke-width=\"1\" opacity=\"1\"/><line transform=\"translate(0,313)\" x2=\"-5\" y2=\"0\" stroke=\"#888\" stroke-width=\"1\" opacity=\"1\"/><line transform=\"translate(0,281)\" x2=\"-5\" y2=\"0\" stroke=\"#888\" stroke-width=\"1\" opacity=\"1\"/><line transform=\"translate(0,250)\" x2=\"-5\" y2=\"0\" stroke=\"#888\" stroke-width=\"1\" opacity=\"1\"/><line transform=\"translate(0,219)\" x2=\"-5\" y2=\"0\" stroke=\"#888\" stroke-width=\"1\" opacity=\"1\"/><line transform=\"translate(0,188)\" x2=\"-5\" y2=\"0\" stroke=\"#888\" stroke-width=\"1\" opacity=\"1\"/><line transform=\"translate(0,156)\" x2=\"-5\" y2=\"0\" stroke=\"#888\" stroke-width=\"1\" opacity=\"1\"/><line transform=\"translate(0,125)\" x2=\"-5\" y2=\"0\" stroke=\"#888\" stroke-width=\"1\" opacity=\"1\"/><line transform=\"translate(0,94)\" x2=\"-5\" y2=\"0\" stroke=\"#888\" stroke-width=\"1\" opacity=\"1\"/><line transform=\"translate(0,63)\" x2=\"-5\" y2=\"0\" stroke=\"#888\" stroke-width=\"1\" opacity=\"1\"/><line transform=\"translate(0,31)\" x2=\"-5\" y2=\"0\" stroke=\"#888\" stroke-width=\"1\" opacity=\"1\"/><line transform=\"translate(0,0)\" x2=\"-5\" y2=\"0\" stroke=\"#888\" stroke-width=\"1\" opacity=\"1\"/></g><g class=\"mark-text role-axis-label\" pointer-events=\"none\"><text text-anchor=\"end\" transform=\"translate(-7,503)\" font-family=\"sans-serif\" font-size=\"10px\" fill=\"#000\" opacity=\"1\">−3.0</text><text text-anchor=\"end\" transform=\"translate(-7,471.75)\" font-family=\"sans-serif\" font-size=\"10px\" fill=\"#000\" opacity=\"1\">−2.5</text><text text-anchor=\"end\" transform=\"translate(-7,440.5)\" font-family=\"sans-serif\" font-size=\"10px\" fill=\"#000\" opacity=\"1\">−2.0</text><text text-anchor=\"end\" transform=\"translate(-7,409.25)\" font-family=\"sans-serif\" font-size=\"10px\" fill=\"#000\" opacity=\"1\">−1.5</text><text text-anchor=\"end\" transform=\"translate(-7,378)\" font-family=\"sans-serif\" font-size=\"10px\" fill=\"#000\" opacity=\"1\">−1.0</text><text text-anchor=\"end\" transform=\"translate(-7,346.75)\" font-family=\"sans-serif\" font-size=\"10px\" fill=\"#000\" opacity=\"1\">−0.5</text><text text-anchor=\"end\" transform=\"translate(-7,315.5)\" font-family=\"sans-serif\" font-size=\"10px\" fill=\"#000\" opacity=\"1\">0.0</text><text text-anchor=\"end\" transform=\"translate(-7,284.25)\" font-family=\"sans-serif\" font-size=\"10px\" fill=\"#000\" opacity=\"1\">0.5</text><text text-anchor=\"end\" transform=\"translate(-7,253)\" font-family=\"sans-serif\" font-size=\"10px\" fill=\"#000\" opacity=\"1\">1.0</text><text text-anchor=\"end\" transform=\"translate(-7,221.75)\" font-family=\"sans-serif\" font-size=\"10px\" fill=\"#000\" opacity=\"1\">1.5</text><text text-anchor=\"end\" transform=\"translate(-7,190.5)\" font-family=\"sans-serif\" font-size=\"10px\" fill=\"#000\" opacity=\"1\">2.0</text><text text-anchor=\"end\" transform=\"translate(-7,159.25)\" font-family=\"sans-serif\" font-size=\"10px\" fill=\"#000\" opacity=\"1\">2.5</text><text text-anchor=\"end\" transform=\"translate(-7,128)\" font-family=\"sans-serif\" font-size=\"10px\" fill=\"#000\" opacity=\"1\">3.0</text><text text-anchor=\"end\" transform=\"translate(-7,96.75)\" font-family=\"sans-serif\" font-size=\"10px\" fill=\"#000\" opacity=\"1\">3.5</text><text text-anchor=\"end\" transform=\"translate(-7,65.5)\" font-family=\"sans-serif\" font-size=\"10px\" fill=\"#000\" opacity=\"1\">4.0</text><text text-anchor=\"end\" transform=\"translate(-7,34.25)\" font-family=\"sans-serif\" font-size=\"10px\" fill=\"#000\" opacity=\"1\">4.5</text><text text-anchor=\"end\" transform=\"translate(-7,3)\" font-family=\"sans-serif\" font-size=\"10px\" fill=\"#000\" opacity=\"1\">5.0</text></g><g class=\"mark-rule role-axis-domain\" pointer-events=\"none\"><line transform=\"translate(0,500)\" x2=\"0\" y2=\"-500\" stroke=\"#888\" stroke-width=\"1\" opacity=\"1\"/></g><g class=\"mark-text role-axis-title\" pointer-events=\"none\"><text text-anchor=\"middle\" transform=\"translate(-34,250) rotate(-90) translate(0,-2)\" font-family=\"sans-serif\" font-size=\"11px\" font-weight=\"bold\" fill=\"#000\" opacity=\"1\">x2</text></g></g><path class=\"foreground\" aria-hidden=\"true\" d=\"\" pointer-events=\"none\" display=\"none\"/></g></g><g class=\"mark-symbol role-mark marks\" clip-path=\"url(#clip1)\" role=\"graphics-object\" aria-roledescription=\"symbol mark container\"><path aria-label=\"x1: −2.22825535255; x2: 2.11855656686; dataset: mnist\" role=\"graphics-symbol\" aria-roledescription=\"circle\" transform=\"translate(138.58723237272426,180.09021457103464)\" d=\"M7.0710678118654755,0A7.0710678118654755,7.0710678118654755,0,1,1,-7.0710678118654755,0A7.0710678118654755,7.0710678118654755,0,1,1,7.0710678118654755,0\" fill=\"#f58518\" stroke-width=\"2\" opacity=\"0.9\"/><path aria-label=\"x1: −1.98527961794; x2: 4.00426966982; dataset: mnist\" role=\"graphics-symbol\" aria-roledescription=\"circle\" transform=\"translate(150.7360191029425,62.233145636181206)\" d=\"M7.0710678118654755,0A7.0710678118654755,7.0710678118654755,0,1,1,-7.0710678118654755,0A7.0710678118654755,7.0710678118654755,0,1,1,7.0710678118654755,0\" fill=\"#f58518\" stroke-width=\"2\" opacity=\"0.9\"/><path aria-label=\"x1: −0.590794839437; x2: 1.13962609043; dataset: mnist\" role=\"graphics-symbol\" aria-roledescription=\"circle\" transform=\"translate(220.4602580281609,241.27336934792348)\" d=\"M7.0710678118654755,0A7.0710678118654755,7.0710678118654755,0,1,1,-7.0710678118654755,0A7.0710678118654755,7.0710678118654755,0,1,1,7.0710678118654755,0\" fill=\"#f58518\" stroke-width=\"2\" opacity=\"0.9\"/><path aria-label=\"x1: −4.25113923504; x2: −0.362216634875; dataset: mnist\" role=\"graphics-symbol\" aria-roledescription=\"circle\" transform=\"translate(37.443038247860905,335.13853967966946)\" d=\"M7.0710678118654755,0A7.0710678118654755,7.0710678118654755,0,1,1,-7.0710678118654755,0A7.0710678118654755,7.0710678118654755,0,1,1,7.0710678118654755,0\" fill=\"#f58518\" stroke-width=\"2\" opacity=\"0.9\"/><path aria-label=\"x1: −2.0792934479; x2: −0.284895836611; dataset: mnist\" role=\"graphics-symbol\" aria-roledescription=\"circle\" transform=\"translate(146.0353276048375,330.30598978818125)\" d=\"M7.0710678118654755,0A7.0710678118654755,7.0710678118654755,0,1,1,-7.0710678118654755,0A7.0710678118654755,7.0710678118654755,0,1,1,7.0710678118654755,0\" fill=\"#f58518\" stroke-width=\"2\" opacity=\"0.9\"/><path aria-label=\"x1: −2.75252333461; x2: −1.01940455293; dataset: mnist\" role=\"graphics-symbol\" aria-roledescription=\"circle\" transform=\"translate(112.37383326931149,376.21278455808084)\" d=\"M7.0710678118654755,0A7.0710678118654755,7.0710678118654755,0,1,1,-7.0710678118654755,0A7.0710678118654755,7.0710678118654755,0,1,1,7.0710678118654755,0\" fill=\"#f58518\" stroke-width=\"2\" opacity=\"0.9\"/><path aria-label=\"x1: −2.99170212532; x2: 1.25405207812; dataset: mnist\" role=\"graphics-symbol\" aria-roledescription=\"circle\" transform=\"translate(100.41489373398973,234.1217451172871)\" d=\"M7.0710678118654755,0A7.0710678118654755,7.0710678118654755,0,1,1,-7.0710678118654755,0A7.0710678118654755,7.0710678118654755,0,1,1,7.0710678118654755,0\" fill=\"#f58518\" stroke-width=\"2\" opacity=\"0.9\"/><path aria-label=\"x1: −2.22879980871; x2: 2.30188639283; dataset: mnist\" role=\"graphics-symbol\" aria-roledescription=\"circle\" transform=\"translate(138.5600095643063,168.63210044800238)\" d=\"M7.0710678118654755,0A7.0710678118654755,7.0710678118654755,0,1,1,-7.0710678118654755,0A7.0710678118654755,7.0710678118654755,0,1,1,7.0710678118654755,0\" fill=\"#f58518\" stroke-width=\"2\" opacity=\"0.9\"/><path aria-label=\"x1: −3.01631879638; x2: 1.26749722931; dataset: mnist\" role=\"graphics-symbol\" aria-roledescription=\"circle\" transform=\"translate(99.18406018110979,233.2814231683839)\" d=\"M7.0710678118654755,0A7.0710678118654755,7.0710678118654755,0,1,1,-7.0710678118654755,0A7.0710678118654755,7.0710678118654755,0,1,1,7.0710678118654755,0\" fill=\"#f58518\" stroke-width=\"2\" opacity=\"0.9\"/><path aria-label=\"x1: −3.01720430373; x2: −1.01082718887; dataset: mnist\" role=\"graphics-symbol\" aria-roledescription=\"circle\" transform=\"translate(99.13978481352603,375.6766993043524)\" d=\"M7.0710678118654755,0A7.0710678118654755,7.0710678118654755,0,1,1,-7.0710678118654755,0A7.0710678118654755,7.0710678118654755,0,1,1,7.0710678118654755,0\" fill=\"#f58518\" stroke-width=\"2\" opacity=\"0.9\"/><path aria-label=\"x1: −2.06977575083; x2: 2.05733738718; dataset: mnist\" role=\"graphics-symbol\" aria-roledescription=\"circle\" transform=\"translate(146.5112124586117,183.91641330100998)\" d=\"M7.0710678118654755,0A7.0710678118654755,7.0710678118654755,0,1,1,-7.0710678118654755,0A7.0710678118654755,7.0710678118654755,0,1,1,7.0710678118654755,0\" fill=\"#f58518\" stroke-width=\"2\" opacity=\"0.9\"/><path aria-label=\"x1: −3.75613311769; x2: −0.0705702121024; dataset: mnist\" role=\"graphics-symbol\" aria-roledescription=\"circle\" transform=\"translate(62.193344115522,316.91063825640265)\" d=\"M7.0710678118654755,0A7.0710678118654755,7.0710678118654755,0,1,1,-7.0710678118654755,0A7.0710678118654755,7.0710678118654755,0,1,1,7.0710678118654755,0\" fill=\"#f58518\" stroke-width=\"2\" opacity=\"0.9\"/><path aria-label=\"x1: −1.95647052653; x2: 1.74170895459; dataset: mnist\" role=\"graphics-symbol\" aria-roledescription=\"circle\" transform=\"translate(152.1764736735767,203.64319033785594)\" d=\"M7.0710678118654755,0A7.0710678118654755,7.0710678118654755,0,1,1,-7.0710678118654755,0A7.0710678118654755,7.0710678118654755,0,1,1,7.0710678118654755,0\" fill=\"#f58518\" stroke-width=\"2\" opacity=\"0.9\"/><path aria-label=\"x1: −0.670860342904; x2: 4.67363386033; dataset: mnist\" role=\"graphics-symbol\" aria-roledescription=\"circle\" transform=\"translate(216.45698285478642,20.39788372965956)\" d=\"M7.0710678118654755,0A7.0710678118654755,7.0710678118654755,0,1,1,-7.0710678118654755,0A7.0710678118654755,7.0710678118654755,0,1,1,7.0710678118654755,0\" fill=\"#f58518\" stroke-width=\"2\" opacity=\"0.9\"/><path aria-label=\"x1: −3.00493936497; x2: 1.25111530808; dataset: mnist\" role=\"graphics-symbol\" aria-roledescription=\"circle\" transform=\"translate(99.75303175151237,234.3052932449945)\" d=\"M7.0710678118654755,0A7.0710678118654755,7.0710678118654755,0,1,1,-7.0710678118654755,0A7.0710678118654755,7.0710678118654755,0,1,1,7.0710678118654755,0\" fill=\"#f58518\" stroke-width=\"2\" opacity=\"0.9\"/><path aria-label=\"x1: −3.33256320503; x2: −1.22859649985; dataset: mnist\" role=\"graphics-symbol\" aria-roledescription=\"circle\" transform=\"translate(83.37183974842814,389.28728124059796)\" d=\"M7.0710678118654755,0A7.0710678118654755,7.0710678118654755,0,1,1,-7.0710678118654755,0A7.0710678118654755,7.0710678118654755,0,1,1,7.0710678118654755,0\" fill=\"#f58518\" stroke-width=\"2\" opacity=\"0.9\"/><path aria-label=\"x1: −0.775756009486; x2: 1.73450174912; dataset: mnist\" role=\"graphics-symbol\" aria-roledescription=\"circle\" transform=\"translate(211.21219952571263,204.09364067997305)\" d=\"M7.0710678118654755,0A7.0710678118654755,7.0710678118654755,0,1,1,-7.0710678118654755,0A7.0710678118654755,7.0710678118654755,0,1,1,7.0710678118654755,0\" fill=\"#f58518\" stroke-width=\"2\" opacity=\"0.9\"/><path aria-label=\"x1: −3.29393537848; x2: −2.08488201611; dataset: mnist\" role=\"graphics-symbol\" aria-roledescription=\"circle\" transform=\"translate(85.3032310758642,442.80512600671165)\" d=\"M7.0710678118654755,0A7.0710678118654755,7.0710678118654755,0,1,1,-7.0710678118654755,0A7.0710678118654755,7.0710678118654755,0,1,1,7.0710678118654755,0\" fill=\"#f58518\" stroke-width=\"2\" opacity=\"0.9\"/><path aria-label=\"x1: −0.673730580019; x2: 1.66490981443; dataset: mnist\" role=\"graphics-symbol\" aria-roledescription=\"circle\" transform=\"translate(216.3134709990419,208.44313659837465)\" d=\"M7.0710678118654755,0A7.0710678118654755,7.0710678118654755,0,1,1,-7.0710678118654755,0A7.0710678118654755,7.0710678118654755,0,1,1,7.0710678118654755,0\" fill=\"#f58518\" stroke-width=\"2\" opacity=\"0.9\"/><path aria-label=\"x1: −2.69109089443; x2: −1.25977043767; dataset: mnist\" role=\"graphics-symbol\" aria-roledescription=\"circle\" transform=\"translate(115.44545527849822,391.2356523542854)\" d=\"M7.0710678118654755,0A7.0710678118654755,7.0710678118654755,0,1,1,-7.0710678118654755,0A7.0710678118654755,7.0710678118654755,0,1,1,7.0710678118654755,0\" fill=\"#f58518\" stroke-width=\"2\" opacity=\"0.9\"/><path aria-label=\"x1: −0.532283533382; x2: 0.627285235779; dataset: mnist\" role=\"graphics-symbol\" aria-roledescription=\"circle\" transform=\"translate(223.38582333087837,273.29467276383076)\" d=\"M7.0710678118654755,0A7.0710678118654755,7.0710678118654755,0,1,1,-7.0710678118654755,0A7.0710678118654755,7.0710678118654755,0,1,1,7.0710678118654755,0\" fill=\"#f58518\" stroke-width=\"2\" opacity=\"0.9\"/><path aria-label=\"x1: −2.00270629503; x2: 3.87378420444; dataset: mnist\" role=\"graphics-symbol\" aria-roledescription=\"circle\" transform=\"translate(149.8646852485617,70.38848722238377)\" d=\"M7.0710678118654755,0A7.0710678118654755,7.0710678118654755,0,1,1,-7.0710678118654755,0A7.0710678118654755,7.0710678118654755,0,1,1,7.0710678118654755,0\" fill=\"#f58518\" stroke-width=\"2\" opacity=\"0.9\"/><path aria-label=\"x1: −2.86411102369; x2: −1.081501598; dataset: mnist\" role=\"graphics-symbol\" aria-roledescription=\"circle\" transform=\"translate(106.79444881555797,380.09384987512476)\" d=\"M7.0710678118654755,0A7.0710678118654755,7.0710678118654755,0,1,1,-7.0710678118654755,0A7.0710678118654755,7.0710678118654755,0,1,1,7.0710678118654755,0\" fill=\"#f58518\" stroke-width=\"2\" opacity=\"0.9\"/><path aria-label=\"x1: −4.16004185677; x2: −0.407600095155; dataset: mnist\" role=\"graphics-symbol\" aria-roledescription=\"circle\" transform=\"translate(41.99790716160958,337.9750059472164)\" d=\"M7.0710678118654755,0A7.0710678118654755,7.0710678118654755,0,1,1,-7.0710678118654755,0A7.0710678118654755,7.0710678118654755,0,1,1,7.0710678118654755,0\" fill=\"#f58518\" stroke-width=\"2\" opacity=\"0.9\"/><path aria-label=\"x1: −3.98857653882; x2: −0.627647152436; dataset: mnist\" role=\"graphics-symbol\" aria-roledescription=\"circle\" transform=\"translate(50.57117305904448,351.7279470272201)\" d=\"M7.0710678118654755,0A7.0710678118654755,7.0710678118654755,0,1,1,-7.0710678118654755,0A7.0710678118654755,7.0710678118654755,0,1,1,7.0710678118654755,0\" fill=\"#f58518\" stroke-width=\"2\" opacity=\"0.9\"/><path aria-label=\"x1: −2.11570503467; x2: 2.43509531754; dataset: mnist\" role=\"graphics-symbol\" aria-roledescription=\"circle\" transform=\"translate(144.2147482666824,160.30654265360633)\" d=\"M7.0710678118654755,0A7.0710678118654755,7.0710678118654755,0,1,1,-7.0710678118654755,0A7.0710678118654755,7.0710678118654755,0,1,1,7.0710678118654755,0\" fill=\"#f58518\" stroke-width=\"2\" opacity=\"0.9\"/><path aria-label=\"x1: −1.42727496527; x2: 0.474196736414; dataset: mnist\" role=\"graphics-symbol\" aria-roledescription=\"circle\" transform=\"translate(178.63625173627858,282.862703974096)\" d=\"M7.0710678118654755,0A7.0710678118654755,7.0710678118654755,0,1,1,-7.0710678118654755,0A7.0710678118654755,7.0710678118654755,0,1,1,7.0710678118654755,0\" fill=\"#f58518\" stroke-width=\"2\" opacity=\"0.9\"/><path aria-label=\"x1: −2.21395192117; x2: 2.2520056858; dataset: mnist\" role=\"graphics-symbol\" aria-roledescription=\"circle\" transform=\"translate(139.30240394167376,171.74964463737442)\" d=\"M7.0710678118654755,0A7.0710678118654755,7.0710678118654755,0,1,1,-7.0710678118654755,0A7.0710678118654755,7.0710678118654755,0,1,1,7.0710678118654755,0\" fill=\"#f58518\" stroke-width=\"2\" opacity=\"0.9\"/><path aria-label=\"x1: −1.29996506002; x2: 0.749431469183; dataset: mnist\" role=\"graphics-symbol\" aria-roledescription=\"circle\" transform=\"translate(185.0017469989062,265.66053317607197)\" d=\"M7.0710678118654755,0A7.0710678118654755,7.0710678118654755,0,1,1,-7.0710678118654755,0A7.0710678118654755,7.0710678118654755,0,1,1,7.0710678118654755,0\" fill=\"#f58518\" stroke-width=\"2\" opacity=\"0.9\"/><path aria-label=\"x1: −3.68813276628; x2: −1.0032122878; dataset: mnist\" role=\"graphics-symbol\" aria-roledescription=\"circle\" transform=\"translate(65.59336168583256,375.200767987527)\" d=\"M7.0710678118654755,0A7.0710678118654755,7.0710678118654755,0,1,1,-7.0710678118654755,0A7.0710678118654755,7.0710678118654755,0,1,1,7.0710678118654755,0\" fill=\"#f58518\" stroke-width=\"2\" opacity=\"0.9\"/><path aria-label=\"x1: −2.62544755619; x2: 1.34623556925; dataset: mnist\" role=\"graphics-symbol\" aria-roledescription=\"circle\" transform=\"translate(118.72762219037288,228.36027692192124)\" d=\"M7.0710678118654755,0A7.0710678118654755,7.0710678118654755,0,1,1,-7.0710678118654755,0A7.0710678118654755,7.0710678118654755,0,1,1,7.0710678118654755,0\" fill=\"#f58518\" stroke-width=\"2\" opacity=\"0.9\"/><path aria-label=\"x1: −3.35038452126; x2: −2.03830150095; dataset: mnist\" role=\"graphics-symbol\" aria-roledescription=\"circle\" transform=\"translate(82.48077393709778,439.8938438094894)\" d=\"M7.0710678118654755,0A7.0710678118654755,7.0710678118654755,0,1,1,-7.0710678118654755,0A7.0710678118654755,7.0710678118654755,0,1,1,7.0710678118654755,0\" fill=\"#f58518\" stroke-width=\"2\" opacity=\"0.9\"/><path aria-label=\"x1: −0.358087326351; x2: 2.22567421803; dataset: mnist\" role=\"graphics-symbol\" aria-roledescription=\"circle\" transform=\"translate(232.09563368245628,173.39536137340528)\" d=\"M7.0710678118654755,0A7.0710678118654755,7.0710678118654755,0,1,1,-7.0710678118654755,0A7.0710678118654755,7.0710678118654755,0,1,1,7.0710678118654755,0\" fill=\"#f58518\" stroke-width=\"2\" opacity=\"0.9\"/><path aria-label=\"x1: −3.27328958454; x2: −1.2262597132; dataset: mnist\" role=\"graphics-symbol\" aria-roledescription=\"circle\" transform=\"translate(86.33552077312945,389.14123207511574)\" d=\"M7.0710678118654755,0A7.0710678118654755,7.0710678118654755,0,1,1,-7.0710678118654755,0A7.0710678118654755,7.0710678118654755,0,1,1,7.0710678118654755,0\" fill=\"#f58518\" stroke-width=\"2\" opacity=\"0.9\"/><path aria-label=\"x1: −1.70094323152; x2: 4.11963453711; dataset: mnist\" role=\"graphics-symbol\" aria-roledescription=\"circle\" transform=\"translate(164.95283842407537,55.0228414308912)\" d=\"M7.0710678118654755,0A7.0710678118654755,7.0710678118654755,0,1,1,-7.0710678118654755,0A7.0710678118654755,7.0710678118654755,0,1,1,7.0710678118654755,0\" fill=\"#f58518\" stroke-width=\"2\" opacity=\"0.9\"/><path aria-label=\"x1: −3.55823667569; x2: −0.160513716521; dataset: mnist\" role=\"graphics-symbol\" aria-roledescription=\"circle\" transform=\"translate(72.08816621564118,322.5321072825791)\" d=\"M7.0710678118654755,0A7.0710678118654755,7.0710678118654755,0,1,1,-7.0710678118654755,0A7.0710678118654755,7.0710678118654755,0,1,1,7.0710678118654755,0\" fill=\"#f58518\" stroke-width=\"2\" opacity=\"0.9\"/><path aria-label=\"x1: −0.773415915324; x2: 4.46280200529; dataset: mnist\" role=\"graphics-symbol\" aria-roledescription=\"circle\" transform=\"translate(211.32920423381123,33.574874669418996)\" d=\"M7.0710678118654755,0A7.0710678118654755,7.0710678118654755,0,1,1,-7.0710678118654755,0A7.0710678118654755,7.0710678118654755,0,1,1,7.0710678118654755,0\" fill=\"#f58518\" stroke-width=\"2\" opacity=\"0.9\"/><path aria-label=\"x1: −1.83690905404; x2: 4.01788701366; dataset: mnist\" role=\"graphics-symbol\" aria-roledescription=\"circle\" transform=\"translate(158.15454729785887,61.382061646168)\" d=\"M7.0710678118654755,0A7.0710678118654755,7.0710678118654755,0,1,1,-7.0710678118654755,0A7.0710678118654755,7.0710678118654755,0,1,1,7.0710678118654755,0\" fill=\"#f58518\" stroke-width=\"2\" opacity=\"0.9\"/><path aria-label=\"x1: −1.37206803328; x2: 0.421055987325; dataset: mnist\" role=\"graphics-symbol\" aria-roledescription=\"circle\" transform=\"translate(181.39659833599893,286.1840007921589)\" d=\"M7.0710678118654755,0A7.0710678118654755,7.0710678118654755,0,1,1,-7.0710678118654755,0A7.0710678118654755,7.0710678118654755,0,1,1,7.0710678118654755,0\" fill=\"#f58518\" stroke-width=\"2\" opacity=\"0.9\"/><path aria-label=\"x1: −0.653705566032; x2: 4.67509276959; dataset: mnist\" role=\"graphics-symbol\" aria-roledescription=\"circle\" transform=\"translate(217.31472169841592,20.306701900357048)\" d=\"M7.0710678118654755,0A7.0710678118654755,7.0710678118654755,0,1,1,-7.0710678118654755,0A7.0710678118654755,7.0710678118654755,0,1,1,7.0710678118654755,0\" fill=\"#f58518\" stroke-width=\"2\" opacity=\"0.9\"/><path aria-label=\"x1: −2.86975967244; x2: 1.01606070324; dataset: mnist\" role=\"graphics-symbol\" aria-roledescription=\"circle\" transform=\"translate(106.51201637802237,248.99620604772937)\" d=\"M7.0710678118654755,0A7.0710678118654755,7.0710678118654755,0,1,1,-7.0710678118654755,0A7.0710678118654755,7.0710678118654755,0,1,1,7.0710678118654755,0\" fill=\"#f58518\" stroke-width=\"2\" opacity=\"0.9\"/><path aria-label=\"x1: −3.28818309257; x2: −2.20833456979; dataset: mnist\" role=\"graphics-symbol\" aria-roledescription=\"circle\" transform=\"translate(85.59084537150649,450.5209106120234)\" d=\"M7.0710678118654755,0A7.0710678118654755,7.0710678118654755,0,1,1,-7.0710678118654755,0A7.0710678118654755,7.0710678118654755,0,1,1,7.0710678118654755,0\" fill=\"#f58518\" stroke-width=\"2\" opacity=\"0.9\"/><path aria-label=\"x1: −1.91437983447; x2: 0.229544566529; dataset: mnist\" role=\"graphics-symbol\" aria-roledescription=\"circle\" transform=\"translate(154.28100827629115,298.15346459193944)\" d=\"M7.0710678118654755,0A7.0710678118654755,7.0710678118654755,0,1,1,-7.0710678118654755,0A7.0710678118654755,7.0710678118654755,0,1,1,7.0710678118654755,0\" fill=\"#f58518\" stroke-width=\"2\" opacity=\"0.9\"/><path aria-label=\"x1: −2.65644073958; x2: −1.34247490382; dataset: mnist\" role=\"graphics-symbol\" aria-roledescription=\"circle\" transform=\"translate(117.1779630209348,396.40468148893285)\" d=\"M7.0710678118654755,0A7.0710678118654755,7.0710678118654755,0,1,1,-7.0710678118654755,0A7.0710678118654755,7.0710678118654755,0,1,1,7.0710678118654755,0\" fill=\"#f58518\" stroke-width=\"2\" opacity=\"0.9\"/><path aria-label=\"x1: −2.02971024606; x2: 1.62564474009; dataset: mnist\" role=\"graphics-symbol\" aria-roledescription=\"circle\" transform=\"translate(148.51448769688074,210.89720374447884)\" d=\"M7.0710678118654755,0A7.0710678118654755,7.0710678118654755,0,1,1,-7.0710678118654755,0A7.0710678118654755,7.0710678118654755,0,1,1,7.0710678118654755,0\" fill=\"#f58518\" stroke-width=\"2\" opacity=\"0.9\"/><path aria-label=\"x1: −2.05115216625; x2: −0.264569135332; dataset: mnist\" role=\"graphics-symbol\" aria-roledescription=\"circle\" transform=\"translate(147.44239168730246,329.0355709582621)\" d=\"M7.0710678118654755,0A7.0710678118654755,7.0710678118654755,0,1,1,-7.0710678118654755,0A7.0710678118654755,7.0710678118654755,0,1,1,7.0710678118654755,0\" fill=\"#f58518\" stroke-width=\"2\" opacity=\"0.9\"/><path aria-label=\"x1: −3.17956323351; x2: 0.0587217234015; dataset: mnist\" role=\"graphics-symbol\" aria-roledescription=\"circle\" transform=\"translate(91.02183832432442,308.82989228740365)\" d=\"M7.0710678118654755,0A7.0710678118654755,7.0710678118654755,0,1,1,-7.0710678118654755,0A7.0710678118654755,7.0710678118654755,0,1,1,7.0710678118654755,0\" fill=\"#f58518\" stroke-width=\"2\" opacity=\"0.9\"/><path aria-label=\"x1: −3.53299258504; x2: −0.269854238323; dataset: mnist\" role=\"graphics-symbol\" aria-roledescription=\"circle\" transform=\"translate(73.35037074800425,329.3658898951636)\" d=\"M7.0710678118654755,0A7.0710678118654755,7.0710678118654755,0,1,1,-7.0710678118654755,0A7.0710678118654755,7.0710678118654755,0,1,1,7.0710678118654755,0\" fill=\"#f58518\" stroke-width=\"2\" opacity=\"0.9\"/><path aria-label=\"x1: −1.83644391685; x2: 1.75379484857; dataset: mnist\" role=\"graphics-symbol\" aria-roledescription=\"circle\" transform=\"translate(158.17780415736289,202.88782196436046)\" d=\"M7.0710678118654755,0A7.0710678118654755,7.0710678118654755,0,1,1,-7.0710678118654755,0A7.0710678118654755,7.0710678118654755,0,1,1,7.0710678118654755,0\" fill=\"#f58518\" stroke-width=\"2\" opacity=\"0.9\"/><path aria-label=\"x1: −2.20387386508; x2: 2.15754981384; dataset: mnist\" role=\"graphics-symbol\" aria-roledescription=\"circle\" transform=\"translate(139.8063067460469,177.6531366348005)\" d=\"M7.0710678118654755,0A7.0710678118654755,7.0710678118654755,0,1,1,-7.0710678118654755,0A7.0710678118654755,7.0710678118654755,0,1,1,7.0710678118654755,0\" fill=\"#f58518\" stroke-width=\"2\" opacity=\"0.9\"/><path aria-label=\"x1: −1.59490497157; x2: 1.92069164954; dataset: mnist\" role=\"graphics-symbol\" aria-roledescription=\"circle\" transform=\"translate(170.2547514215094,192.4567719036025)\" d=\"M7.0710678118654755,0A7.0710678118654755,7.0710678118654755,0,1,1,-7.0710678118654755,0A7.0710678118654755,7.0710678118654755,0,1,1,7.0710678118654755,0\" fill=\"#f58518\" stroke-width=\"2\" opacity=\"0.9\"/><path aria-label=\"x1: −1.96094776443; x2: 3.85026784531; dataset: mnist\" role=\"graphics-symbol\" aria-roledescription=\"circle\" transform=\"translate(151.95261177861644,71.85825966806847)\" d=\"M7.0710678118654755,0A7.0710678118654755,7.0710678118654755,0,1,1,-7.0710678118654755,0A7.0710678118654755,7.0710678118654755,0,1,1,7.0710678118654755,0\" fill=\"#f58518\" stroke-width=\"2\" opacity=\"0.9\"/><path aria-label=\"x1: −1.40891509128; x2: 0.630859634973; dataset: mnist\" role=\"graphics-symbol\" aria-roledescription=\"circle\" transform=\"translate(179.5542454360562,273.0712728141812)\" d=\"M7.0710678118654755,0A7.0710678118654755,7.0710678118654755,0,1,1,-7.0710678118654755,0A7.0710678118654755,7.0710678118654755,0,1,1,7.0710678118654755,0\" fill=\"#f58518\" stroke-width=\"2\" opacity=\"0.9\"/><path aria-label=\"x1: −4.00358261051; x2: −0.395960066127; dataset: mnist\" role=\"graphics-symbol\" aria-roledescription=\"circle\" transform=\"translate(49.8208694742774,337.2475041329133)\" d=\"M7.0710678118654755,0A7.0710678118654755,7.0710678118654755,0,1,1,-7.0710678118654755,0A7.0710678118654755,7.0710678118654755,0,1,1,7.0710678118654755,0\" fill=\"#f58518\" stroke-width=\"2\" opacity=\"0.9\"/><path aria-label=\"x1: −1.53158949967; x2: 0.386250339418; dataset: mnist\" role=\"graphics-symbol\" aria-roledescription=\"circle\" transform=\"translate(173.4205250166954,288.3593537863821)\" d=\"M7.0710678118654755,0A7.0710678118654755,7.0710678118654755,0,1,1,-7.0710678118654755,0A7.0710678118654755,7.0710678118654755,0,1,1,7.0710678118654755,0\" fill=\"#f58518\" stroke-width=\"2\" opacity=\"0.9\"/><path aria-label=\"x1: −3.31499862555; x2: −2.21698323853; dataset: mnist\" role=\"graphics-symbol\" aria-roledescription=\"circle\" transform=\"translate(84.25006872271241,451.0614524084283)\" d=\"M7.0710678118654755,0A7.0710678118654755,7.0710678118654755,0,1,1,-7.0710678118654755,0A7.0710678118654755,7.0710678118654755,0,1,1,7.0710678118654755,0\" fill=\"#f58518\" stroke-width=\"2\" opacity=\"0.9\"/><path aria-label=\"x1: −1.78197833842; x2: 3.61867204608; dataset: mnist\" role=\"graphics-symbol\" aria-roledescription=\"circle\" transform=\"translate(160.9010830791553,86.33299712001296)\" d=\"M7.0710678118654755,0A7.0710678118654755,7.0710678118654755,0,1,1,-7.0710678118654755,0A7.0710678118654755,7.0710678118654755,0,1,1,7.0710678118654755,0\" fill=\"#f58518\" stroke-width=\"2\" opacity=\"0.9\"/><path aria-label=\"x1: −2.71447235025; x2: −0.882578976591; dataset: mnist\" role=\"graphics-symbol\" aria-roledescription=\"circle\" transform=\"translate(114.27638248734895,367.6611860369587)\" d=\"M7.0710678118654755,0A7.0710678118654755,7.0710678118654755,0,1,1,-7.0710678118654755,0A7.0710678118654755,7.0710678118654755,0,1,1,7.0710678118654755,0\" fill=\"#f58518\" stroke-width=\"2\" opacity=\"0.9\"/><path aria-label=\"x1: −0.712586372659; x2: 0.714209807709; dataset: mnist\" role=\"graphics-symbol\" aria-roledescription=\"circle\" transform=\"translate(214.3706813670551,267.8618870181883)\" d=\"M7.0710678118654755,0A7.0710678118654755,7.0710678118654755,0,1,1,-7.0710678118654755,0A7.0710678118654755,7.0710678118654755,0,1,1,7.0710678118654755,0\" fill=\"#f58518\" stroke-width=\"2\" opacity=\"0.9\"/><path aria-label=\"x1: −4.23534965667; x2: −0.349608635026; dataset: mnist\" role=\"graphics-symbol\" aria-roledescription=\"circle\" transform=\"translate(38.23251716663769,334.3505396891253)\" d=\"M7.0710678118654755,0A7.0710678118654755,7.0710678118654755,0,1,1,-7.0710678118654755,0A7.0710678118654755,7.0710678118654755,0,1,1,7.0710678118654755,0\" fill=\"#f58518\" stroke-width=\"2\" opacity=\"0.9\"/><path aria-label=\"x1: 0.356021950975; x2: −0.146203591153; dataset: mnist\" role=\"graphics-symbol\" aria-roledescription=\"circle\" transform=\"translate(267.80109754875906,321.63772444704654)\" d=\"M7.0710678118654755,0A7.0710678118654755,7.0710678118654755,0,1,1,-7.0710678118654755,0A7.0710678118654755,7.0710678118654755,0,1,1,7.0710678118654755,0\" fill=\"#f58518\" stroke-width=\"2\" opacity=\"0.9\"/><path aria-label=\"x1: −3.88142026122; x2: −0.307753493919; dataset: mnist\" role=\"graphics-symbol\" aria-roledescription=\"circle\" transform=\"translate(55.92898693913327,331.7345933699662)\" d=\"M7.0710678118654755,0A7.0710678118654755,7.0710678118654755,0,1,1,-7.0710678118654755,0A7.0710678118654755,7.0710678118654755,0,1,1,7.0710678118654755,0\" fill=\"#f58518\" stroke-width=\"2\" opacity=\"0.9\"/><path aria-label=\"x1: −0.865776030788; x2: 4.37107643364; dataset: mnist\" role=\"graphics-symbol\" aria-roledescription=\"circle\" transform=\"translate(206.71119846059966,39.3077228975125)\" d=\"M7.0710678118654755,0A7.0710678118654755,7.0710678118654755,0,1,1,-7.0710678118654755,0A7.0710678118654755,7.0710678118654755,0,1,1,7.0710678118654755,0\" fill=\"#f58518\" stroke-width=\"2\" opacity=\"0.9\"/><path aria-label=\"x1: −2.10701920637; x2: 4.00000391259; dataset: mnist\" role=\"graphics-symbol\" aria-roledescription=\"circle\" transform=\"translate(144.64903968145538,62.49975546341102)\" d=\"M7.0710678118654755,0A7.0710678118654755,7.0710678118654755,0,1,1,-7.0710678118654755,0A7.0710678118654755,7.0710678118654755,0,1,1,7.0710678118654755,0\" fill=\"#f58518\" stroke-width=\"2\" opacity=\"0.9\"/><path aria-label=\"x1: −0.304433118301; x2: 1.81229272164; dataset: mnist\" role=\"graphics-symbol\" aria-roledescription=\"circle\" transform=\"translate(234.7783440849688,199.2317048972057)\" d=\"M7.0710678118654755,0A7.0710678118654755,7.0710678118654755,0,1,1,-7.0710678118654755,0A7.0710678118654755,7.0710678118654755,0,1,1,7.0710678118654755,0\" fill=\"#f58518\" stroke-width=\"2\" opacity=\"0.9\"/><path aria-label=\"x1: −3.76256103428; x2: −0.0673925450579; dataset: mnist\" role=\"graphics-symbol\" aria-roledescription=\"circle\" transform=\"translate(61.87194828609375,316.7120340661203)\" d=\"M7.0710678118654755,0A7.0710678118654755,7.0710678118654755,0,1,1,-7.0710678118654755,0A7.0710678118654755,7.0710678118654755,0,1,1,7.0710678118654755,0\" fill=\"#f58518\" stroke-width=\"2\" opacity=\"0.9\"/><path aria-label=\"x1: −0.784541098738; x2: 4.54813896142; dataset: mnist\" role=\"graphics-symbol\" aria-roledescription=\"circle\" transform=\"translate(210.77294506307544,28.241314911114145)\" d=\"M7.0710678118654755,0A7.0710678118654755,7.0710678118654755,0,1,1,-7.0710678118654755,0A7.0710678118654755,7.0710678118654755,0,1,1,7.0710678118654755,0\" fill=\"#f58518\" stroke-width=\"2\" opacity=\"0.9\"/><path aria-label=\"x1: −4.22901099456; x2: −0.22187173536; dataset: mnist\" role=\"graphics-symbol\" aria-roledescription=\"circle\" transform=\"translate(38.54945027212144,326.36698345998633)\" d=\"M7.0710678118654755,0A7.0710678118654755,7.0710678118654755,0,1,1,-7.0710678118654755,0A7.0710678118654755,7.0710678118654755,0,1,1,7.0710678118654755,0\" fill=\"#f58518\" stroke-width=\"2\" opacity=\"0.9\"/><path aria-label=\"x1: −0.196906240061; x2: 1.8325479545; dataset: mnist\" role=\"graphics-symbol\" aria-roledescription=\"circle\" transform=\"translate(240.15468799693963,197.9657528438319)\" d=\"M7.0710678118654755,0A7.0710678118654755,7.0710678118654755,0,1,1,-7.0710678118654755,0A7.0710678118654755,7.0710678118654755,0,1,1,7.0710678118654755,0\" fill=\"#f58518\" stroke-width=\"2\" opacity=\"0.9\"/><path aria-label=\"x1: −1.82132385033; x2: 3.86886447172; dataset: mnist\" role=\"graphics-symbol\" aria-roledescription=\"circle\" transform=\"translate(158.93380748356495,70.69597051771615)\" d=\"M7.0710678118654755,0A7.0710678118654755,7.0710678118654755,0,1,1,-7.0710678118654755,0A7.0710678118654755,7.0710678118654755,0,1,1,7.0710678118654755,0\" fill=\"#f58518\" stroke-width=\"2\" opacity=\"0.9\"/><path aria-label=\"x1: −3.04814974391; x2: 1.28778415292; dataset: mnist\" role=\"graphics-symbol\" aria-roledescription=\"circle\" transform=\"translate(97.59251280438974,232.01349044225634)\" d=\"M7.0710678118654755,0A7.0710678118654755,7.0710678118654755,0,1,1,-7.0710678118654755,0A7.0710678118654755,7.0710678118654755,0,1,1,7.0710678118654755,0\" fill=\"#f58518\" stroke-width=\"2\" opacity=\"0.9\"/><path aria-label=\"x1: −3.38963283388; x2: −1.24605704064; dataset: mnist\" role=\"graphics-symbol\" aria-roledescription=\"circle\" transform=\"translate(80.51835830616324,390.37856503996045)\" d=\"M7.0710678118654755,0A7.0710678118654755,7.0710678118654755,0,1,1,-7.0710678118654755,0A7.0710678118654755,7.0710678118654755,0,1,1,7.0710678118654755,0\" fill=\"#f58518\" stroke-width=\"2\" opacity=\"0.9\"/><path aria-label=\"x1: −3.01714078163; x2: 1.19165901157; dataset: mnist\" role=\"graphics-symbol\" aria-roledescription=\"circle\" transform=\"translate(99.14296091845505,238.02131177717678)\" d=\"M7.0710678118654755,0A7.0710678118654755,7.0710678118654755,0,1,1,-7.0710678118654755,0A7.0710678118654755,7.0710678118654755,0,1,1,7.0710678118654755,0\" fill=\"#f58518\" stroke-width=\"2\" opacity=\"0.9\"/><path aria-label=\"x1: −0.709672053396; x2: 4.62828256269; dataset: mnist\" role=\"graphics-symbol\" aria-roledescription=\"circle\" transform=\"translate(214.51639733017808,23.232339831565252)\" d=\"M7.0710678118654755,0A7.0710678118654755,7.0710678118654755,0,1,1,-7.0710678118654755,0A7.0710678118654755,7.0710678118654755,0,1,1,7.0710678118654755,0\" fill=\"#f58518\" stroke-width=\"2\" opacity=\"0.9\"/><path aria-label=\"x1: −1.89229797904; x2: 1.81906435828; dataset: mnist\" role=\"graphics-symbol\" aria-roledescription=\"circle\" transform=\"translate(155.3851010478386,198.80847760769532)\" d=\"M7.0710678118654755,0A7.0710678118654755,7.0710678118654755,0,1,1,-7.0710678118654755,0A7.0710678118654755,7.0710678118654755,0,1,1,7.0710678118654755,0\" fill=\"#f58518\" stroke-width=\"2\" opacity=\"0.9\"/><path aria-label=\"x1: −1.89977242446; x2: 4.07029122479; dataset: mnist\" role=\"graphics-symbol\" aria-roledescription=\"circle\" transform=\"translate(155.01137877717525,58.10679845055405)\" d=\"M7.0710678118654755,0A7.0710678118654755,7.0710678118654755,0,1,1,-7.0710678118654755,0A7.0710678118654755,7.0710678118654755,0,1,1,7.0710678118654755,0\" fill=\"#f58518\" stroke-width=\"2\" opacity=\"0.9\"/><path aria-label=\"x1: −4.30641661756; x2: −0.295270570379; dataset: mnist\" role=\"graphics-symbol\" aria-roledescription=\"circle\" transform=\"translate(34.679169121912025,330.954410648693)\" d=\"M7.0710678118654755,0A7.0710678118654755,7.0710678118654755,0,1,1,-7.0710678118654755,0A7.0710678118654755,7.0710678118654755,0,1,1,7.0710678118654755,0\" fill=\"#f58518\" stroke-width=\"2\" opacity=\"0.9\"/><path aria-label=\"x1: −4.19960244136; x2: −0.303953188329; dataset: mnist\" role=\"graphics-symbol\" aria-roledescription=\"circle\" transform=\"translate(40.01987793212302,331.4970742705384)\" d=\"M7.0710678118654755,0A7.0710678118654755,7.0710678118654755,0,1,1,-7.0710678118654755,0A7.0710678118654755,7.0710678118654755,0,1,1,7.0710678118654755,0\" fill=\"#f58518\" stroke-width=\"2\" opacity=\"0.9\"/><path aria-label=\"x1: −4.18990714514; x2: −0.580539004399; dataset: mnist\" role=\"graphics-symbol\" aria-roledescription=\"circle\" transform=\"translate(40.50464274275054,348.7836877749474)\" d=\"M7.0710678118654755,0A7.0710678118654755,7.0710678118654755,0,1,1,-7.0710678118654755,0A7.0710678118654755,7.0710678118654755,0,1,1,7.0710678118654755,0\" fill=\"#f58518\" stroke-width=\"2\" opacity=\"0.9\"/><path aria-label=\"x1: −3.50001368915; x2: −1.18216081262; dataset: mnist\" role=\"graphics-symbol\" aria-roledescription=\"circle\" transform=\"translate(74.99931554258272,386.3850507887881)\" d=\"M7.0710678118654755,0A7.0710678118654755,7.0710678118654755,0,1,1,-7.0710678118654755,0A7.0710678118654755,7.0710678118654755,0,1,1,7.0710678118654755,0\" fill=\"#f58518\" stroke-width=\"2\" opacity=\"0.9\"/><path aria-label=\"x1: −1.40682635939; x2: 2.26045414673; dataset: mnist\" role=\"graphics-symbol\" aria-roledescription=\"circle\" transform=\"translate(179.65868203048203,171.22161582965612)\" d=\"M7.0710678118654755,0A7.0710678118654755,7.0710678118654755,0,1,1,-7.0710678118654755,0A7.0710678118654755,7.0710678118654755,0,1,1,7.0710678118654755,0\" fill=\"#f58518\" stroke-width=\"2\" opacity=\"0.9\"/><path aria-label=\"x1: −1.85108844268; x2: 3.90901015969; dataset: mnist\" role=\"graphics-symbol\" aria-roledescription=\"circle\" transform=\"translate(157.4455778661549,68.18686501923143)\" d=\"M7.0710678118654755,0A7.0710678118654755,7.0710678118654755,0,1,1,-7.0710678118654755,0A7.0710678118654755,7.0710678118654755,0,1,1,7.0710678118654755,0\" fill=\"#f58518\" stroke-width=\"2\" opacity=\"0.9\"/><path aria-label=\"x1: −1.42402744489; x2: 2.4159945521; dataset: mnist\" role=\"graphics-symbol\" aria-roledescription=\"circle\" transform=\"translate(178.79862775544143,161.50034049405738)\" d=\"M7.0710678118654755,0A7.0710678118654755,7.0710678118654755,0,1,1,-7.0710678118654755,0A7.0710678118654755,7.0710678118654755,0,1,1,7.0710678118654755,0\" fill=\"#f58518\" stroke-width=\"2\" opacity=\"0.9\"/><path aria-label=\"x1: −0.60950014256; x2: 4.73803699339; dataset: mnist\" role=\"graphics-symbol\" aria-roledescription=\"circle\" transform=\"translate(219.52499287201962,16.372687913128903)\" d=\"M7.0710678118654755,0A7.0710678118654755,7.0710678118654755,0,1,1,-7.0710678118654755,0A7.0710678118654755,7.0710678118654755,0,1,1,7.0710678118654755,0\" fill=\"#f58518\" stroke-width=\"2\" opacity=\"0.9\"/><path aria-label=\"x1: −1.31815821523; x2: 0.735712810397; dataset: mnist\" role=\"graphics-symbol\" aria-roledescription=\"circle\" transform=\"translate(184.0920892383124,266.5179493501975)\" d=\"M7.0710678118654755,0A7.0710678118654755,7.0710678118654755,0,1,1,-7.0710678118654755,0A7.0710678118654755,7.0710678118654755,0,1,1,7.0710678118654755,0\" fill=\"#f58518\" stroke-width=\"2\" opacity=\"0.9\"/><path aria-label=\"x1: −3.36479085596; x2: −2.25619513889; dataset: mnist\" role=\"graphics-symbol\" aria-roledescription=\"circle\" transform=\"translate(81.76045720178696,453.51219618086725)\" d=\"M7.0710678118654755,0A7.0710678118654755,7.0710678118654755,0,1,1,-7.0710678118654755,0A7.0710678118654755,7.0710678118654755,0,1,1,7.0710678118654755,0\" fill=\"#f58518\" stroke-width=\"2\" opacity=\"0.9\"/><path aria-label=\"x1: −0.844662281027; x2: 1.43316881544; dataset: mnist\" role=\"graphics-symbol\" aria-roledescription=\"circle\" transform=\"translate(207.76688594863953,222.92694903470155)\" d=\"M7.0710678118654755,0A7.0710678118654755,7.0710678118654755,0,1,1,-7.0710678118654755,0A7.0710678118654755,7.0710678118654755,0,1,1,7.0710678118654755,0\" fill=\"#f58518\" stroke-width=\"2\" opacity=\"0.9\"/><path aria-label=\"x1: −3.05957107469; x2: −1.02121702931; dataset: mnist\" role=\"graphics-symbol\" aria-roledescription=\"circle\" transform=\"translate(97.02144626567308,376.3260643321672)\" d=\"M7.0710678118654755,0A7.0710678118654755,7.0710678118654755,0,1,1,-7.0710678118654755,0A7.0710678118654755,7.0710678118654755,0,1,1,7.0710678118654755,0\" fill=\"#f58518\" stroke-width=\"2\" opacity=\"0.9\"/><path aria-label=\"x1: −1.67196226504; x2: 3.47653316066; dataset: mnist\" role=\"graphics-symbol\" aria-roledescription=\"circle\" transform=\"translate(166.40188674806527,95.21667745845852)\" d=\"M7.0710678118654755,0A7.0710678118654755,7.0710678118654755,0,1,1,-7.0710678118654755,0A7.0710678118654755,7.0710678118654755,0,1,1,7.0710678118654755,0\" fill=\"#f58518\" stroke-width=\"2\" opacity=\"0.9\"/><path aria-label=\"x1: −3.06639296316; x2: −0.99201404542; dataset: mnist\" role=\"graphics-symbol\" aria-roledescription=\"circle\" transform=\"translate(96.68035184210596,374.50087783873266)\" d=\"M7.0710678118654755,0A7.0710678118654755,7.0710678118654755,0,1,1,-7.0710678118654755,0A7.0710678118654755,7.0710678118654755,0,1,1,7.0710678118654755,0\" fill=\"#f58518\" stroke-width=\"2\" opacity=\"0.9\"/><path aria-label=\"x1: −0.646496691491; x2: 4.69025592747; dataset: mnist\" role=\"graphics-symbol\" aria-roledescription=\"circle\" transform=\"translate(217.67516542546576,19.359004533209934)\" d=\"M7.0710678118654755,0A7.0710678118654755,7.0710678118654755,0,1,1,-7.0710678118654755,0A7.0710678118654755,7.0710678118654755,0,1,1,7.0710678118654755,0\" fill=\"#f58518\" stroke-width=\"2\" opacity=\"0.9\"/><path aria-label=\"x1: −3.41384171305; x2: −1.20038456885; dataset: mnist\" role=\"graphics-symbol\" aria-roledescription=\"circle\" transform=\"translate(79.307914347352,387.52403555289345)\" d=\"M7.0710678118654755,0A7.0710678118654755,7.0710678118654755,0,1,1,-7.0710678118654755,0A7.0710678118654755,7.0710678118654755,0,1,1,7.0710678118654755,0\" fill=\"#f58518\" stroke-width=\"2\" opacity=\"0.9\"/><path aria-label=\"x1: −0.74529584604; x2: 0.90012903557; dataset: mnist\" role=\"graphics-symbol\" aria-roledescription=\"circle\" transform=\"translate(212.73520769797798,256.24193527688755)\" d=\"M7.0710678118654755,0A7.0710678118654755,7.0710678118654755,0,1,1,-7.0710678118654755,0A7.0710678118654755,7.0710678118654755,0,1,1,7.0710678118654755,0\" fill=\"#f58518\" stroke-width=\"2\" opacity=\"0.9\"/><path aria-label=\"x1: −0.620268557788; x2: 4.72665167644; dataset: mnist\" role=\"graphics-symbol\" aria-roledescription=\"circle\" transform=\"translate(218.98657211057917,17.084270222681386)\" d=\"M7.0710678118654755,0A7.0710678118654755,7.0710678118654755,0,1,1,-7.0710678118654755,0A7.0710678118654755,7.0710678118654755,0,1,1,7.0710678118654755,0\" fill=\"#f58518\" stroke-width=\"2\" opacity=\"0.9\"/><path aria-label=\"x1: −3.30099359854; x2: −2.20884710071; dataset: mnist\" role=\"graphics-symbol\" aria-roledescription=\"circle\" transform=\"translate(84.95032007315022,450.5529437941035)\" d=\"M7.0710678118654755,0A7.0710678118654755,7.0710678118654755,0,1,1,-7.0710678118654755,0A7.0710678118654755,7.0710678118654755,0,1,1,7.0710678118654755,0\" fill=\"#f58518\" stroke-width=\"2\" opacity=\"0.9\"/><path aria-label=\"x1: −1.73987248162; x2: 3.94962722701; dataset: mnist\" role=\"graphics-symbol\" aria-roledescription=\"circle\" transform=\"translate(163.00637591922788,65.64829831203845)\" d=\"M7.0710678118654755,0A7.0710678118654755,7.0710678118654755,0,1,1,-7.0710678118654755,0A7.0710678118654755,7.0710678118654755,0,1,1,7.0710678118654755,0\" fill=\"#f58518\" stroke-width=\"2\" opacity=\"0.9\"/><path aria-label=\"x1: −1.98914431469; x2: −0.186257879824; dataset: mnist\" role=\"graphics-symbol\" aria-roledescription=\"circle\" transform=\"translate(150.54278426564784,324.14111748897966)\" d=\"M7.0710678118654755,0A7.0710678118654755,7.0710678118654755,0,1,1,-7.0710678118654755,0A7.0710678118654755,7.0710678118654755,0,1,1,7.0710678118654755,0\" fill=\"#f58518\" stroke-width=\"2\" opacity=\"0.9\"/><path aria-label=\"x1: −3.32523616186; x2: −2.24363489743; dataset: mnist\" role=\"graphics-symbol\" aria-roledescription=\"circle\" transform=\"translate(83.73819190712994,452.7271810891746)\" d=\"M7.0710678118654755,0A7.0710678118654755,7.0710678118654755,0,1,1,-7.0710678118654755,0A7.0710678118654755,7.0710678118654755,0,1,1,7.0710678118654755,0\" fill=\"#f58518\" stroke-width=\"2\" opacity=\"0.9\"/><path aria-label=\"x1: −1.7857401845; x2: 1.76965938004; dataset: mnist\" role=\"graphics-symbol\" aria-roledescription=\"circle\" transform=\"translate(160.71299077489604,201.8962887474031)\" d=\"M7.0710678118654755,0A7.0710678118654755,7.0710678118654755,0,1,1,-7.0710678118654755,0A7.0710678118654755,7.0710678118654755,0,1,1,7.0710678118654755,0\" fill=\"#f58518\" stroke-width=\"2\" opacity=\"0.9\"/><path aria-label=\"x1: −4.09605430055; x2: −0.440127673833; dataset: mnist\" role=\"graphics-symbol\" aria-roledescription=\"circle\" transform=\"translate(45.1972849726479,340.0079796145495)\" d=\"M7.0710678118654755,0A7.0710678118654755,7.0710678118654755,0,1,1,-7.0710678118654755,0A7.0710678118654755,7.0710678118654755,0,1,1,7.0710678118654755,0\" fill=\"#f58518\" stroke-width=\"2\" opacity=\"0.9\"/><path aria-label=\"x1: 2.00722533235; x2: −0.610721125607; dataset: fmnist\" role=\"graphics-symbol\" aria-roledescription=\"circle\" transform=\"translate(350.36126661729924,350.6700703504275)\" d=\"M7.0710678118654755,0A7.0710678118654755,7.0710678118654755,0,1,1,-7.0710678118654755,0A7.0710678118654755,7.0710678118654755,0,1,1,7.0710678118654755,0\" fill=\"#4c78a8\" stroke-width=\"2\" opacity=\"0.9\"/><path aria-label=\"x1: 3.08076998429; x2: 2.51072395776; dataset: fmnist\" role=\"graphics-symbol\" aria-roledescription=\"circle\" transform=\"translate(404.0384992146394,155.57975264014024)\" d=\"M7.0710678118654755,0A7.0710678118654755,7.0710678118654755,0,1,1,-7.0710678118654755,0A7.0710678118654755,7.0710678118654755,0,1,1,7.0710678118654755,0\" fill=\"#4c78a8\" stroke-width=\"2\" opacity=\"0.9\"/><path aria-label=\"x1: 0.154585023499; x2: 2.29491497586; dataset: fmnist\" role=\"graphics-symbol\" aria-roledescription=\"circle\" transform=\"translate(257.7292511749591,169.06781400879356)\" d=\"M7.0710678118654755,0A7.0710678118654755,7.0710678118654755,0,1,1,-7.0710678118654755,0A7.0710678118654755,7.0710678118654755,0,1,1,7.0710678118654755,0\" fill=\"#4c78a8\" stroke-width=\"2\" opacity=\"0.9\"/><path aria-label=\"x1: 0.708984871997; x2: 2.46248485304; dataset: fmnist\" role=\"graphics-symbol\" aria-roledescription=\"circle\" transform=\"translate(285.44924359986976,158.5946966848012)\" d=\"M7.0710678118654755,0A7.0710678118654755,7.0710678118654755,0,1,1,-7.0710678118654755,0A7.0710678118654755,7.0710678118654755,0,1,1,7.0710678118654755,0\" fill=\"#4c78a8\" stroke-width=\"2\" opacity=\"0.9\"/><path aria-label=\"x1: 3.84290039298; x2: 3.44632302252; dataset: fmnist\" role=\"graphics-symbol\" aria-roledescription=\"circle\" transform=\"translate(442.14501964911597,97.10481109279634)\" d=\"M7.0710678118654755,0A7.0710678118654755,7.0710678118654755,0,1,1,-7.0710678118654755,0A7.0710678118654755,7.0710678118654755,0,1,1,7.0710678118654755,0\" fill=\"#4c78a8\" stroke-width=\"2\" opacity=\"0.9\"/><path aria-label=\"x1: 4.25620712399; x2: 0.912494739911; dataset: fmnist\" role=\"graphics-symbol\" aria-roledescription=\"circle\" transform=\"translate(462.81035619946505,255.4690787555521)\" d=\"M7.0710678118654755,0A7.0710678118654755,7.0710678118654755,0,1,1,-7.0710678118654755,0A7.0710678118654755,7.0710678118654755,0,1,1,7.0710678118654755,0\" fill=\"#4c78a8\" stroke-width=\"2\" opacity=\"0.9\"/><path aria-label=\"x1: 0.891039388201; x2: −0.986236278227; dataset: fmnist\" role=\"graphics-symbol\" aria-roledescription=\"circle\" transform=\"translate(294.55196941003254,374.139767389176)\" d=\"M7.0710678118654755,0A7.0710678118654755,7.0710678118654755,0,1,1,-7.0710678118654755,0A7.0710678118654755,7.0710678118654755,0,1,1,7.0710678118654755,0\" fill=\"#4c78a8\" stroke-width=\"2\" opacity=\"0.9\"/><path aria-label=\"x1: 4.18153411796; x2: 1.01767581529; dataset: fmnist\" role=\"graphics-symbol\" aria-roledescription=\"circle\" transform=\"translate(459.07670589810346,248.89526154450587)\" d=\"M7.0710678118654755,0A7.0710678118654755,7.0710678118654755,0,1,1,-7.0710678118654755,0A7.0710678118654755,7.0710678118654755,0,1,1,7.0710678118654755,0\" fill=\"#4c78a8\" stroke-width=\"2\" opacity=\"0.9\"/><path aria-label=\"x1: −0.324595903528; x2: 1.41709582111; dataset: fmnist\" role=\"graphics-symbol\" aria-roledescription=\"circle\" transform=\"translate(233.77020482361863,223.931511180425)\" d=\"M7.0710678118654755,0A7.0710678118654755,7.0710678118654755,0,1,1,-7.0710678118654755,0A7.0710678118654755,7.0710678118654755,0,1,1,7.0710678118654755,0\" fill=\"#4c78a8\" stroke-width=\"2\" opacity=\"0.9\"/><path aria-label=\"x1: 0.0912519933787; x2: 1.50781266612; dataset: fmnist\" role=\"graphics-symbol\" aria-roledescription=\"circle\" transform=\"translate(254.56259966893302,218.26170836762836)\" d=\"M7.0710678118654755,0A7.0710678118654755,7.0710678118654755,0,1,1,-7.0710678118654755,0A7.0710678118654755,7.0710678118654755,0,1,1,7.0710678118654755,0\" fill=\"#4c78a8\" stroke-width=\"2\" opacity=\"0.9\"/><path aria-label=\"x1: 3.12004504458; x2: 2.48220319019; dataset: fmnist\" role=\"graphics-symbol\" aria-roledescription=\"circle\" transform=\"translate(406.0022522292164,157.3623006130569)\" d=\"M7.0710678118654755,0A7.0710678118654755,7.0710678118654755,0,1,1,-7.0710678118654755,0A7.0710678118654755,7.0710678118654755,0,1,1,7.0710678118654755,0\" fill=\"#4c78a8\" stroke-width=\"2\" opacity=\"0.9\"/><path aria-label=\"x1: 2.83808002249; x2: 0.062176197469; dataset: fmnist\" role=\"graphics-symbol\" aria-roledescription=\"circle\" transform=\"translate(391.90400112468814,308.6139876581859)\" d=\"M7.0710678118654755,0A7.0710678118654755,7.0710678118654755,0,1,1,-7.0710678118654755,0A7.0710678118654755,7.0710678118654755,0,1,1,7.0710678118654755,0\" fill=\"#4c78a8\" stroke-width=\"2\" opacity=\"0.9\"/><path aria-label=\"x1: 0.947621272599; x2: −0.781451795806; dataset: fmnist\" role=\"graphics-symbol\" aria-roledescription=\"circle\" transform=\"translate(297.3810636299648,361.34073723785565)\" d=\"M7.0710678118654755,0A7.0710678118654755,7.0710678118654755,0,1,1,-7.0710678118654755,0A7.0710678118654755,7.0710678118654755,0,1,1,7.0710678118654755,0\" fill=\"#4c78a8\" stroke-width=\"2\" opacity=\"0.9\"/><path aria-label=\"x1: 0.893739096101; x2: −0.656822418734; dataset: fmnist\" role=\"graphics-symbol\" aria-roledescription=\"circle\" transform=\"translate(294.68695480504493,353.5514011708712)\" d=\"M7.0710678118654755,0A7.0710678118654755,7.0710678118654755,0,1,1,-7.0710678118654755,0A7.0710678118654755,7.0710678118654755,0,1,1,7.0710678118654755,0\" fill=\"#4c78a8\" stroke-width=\"2\" opacity=\"0.9\"/><path aria-label=\"x1: 0.802371925023; x2: −0.859050782604; dataset: fmnist\" role=\"graphics-symbol\" aria-roledescription=\"circle\" transform=\"translate(290.11859625113044,366.1906739127605)\" d=\"M7.0710678118654755,0A7.0710678118654755,7.0710678118654755,0,1,1,-7.0710678118654755,0A7.0710678118654755,7.0710678118654755,0,1,1,7.0710678118654755,0\" fill=\"#4c78a8\" stroke-width=\"2\" opacity=\"0.9\"/><path aria-label=\"x1: 1.9144299372; x2: −0.624259469305; dataset: fmnist\" role=\"graphics-symbol\" aria-roledescription=\"circle\" transform=\"translate(345.7214968599618,351.51621683153724)\" d=\"M7.0710678118654755,0A7.0710678118654755,7.0710678118654755,0,1,1,-7.0710678118654755,0A7.0710678118654755,7.0710678118654755,0,1,1,7.0710678118654755,0\" fill=\"#4c78a8\" stroke-width=\"2\" opacity=\"0.9\"/><path aria-label=\"x1: 3.51041118453; x2: 4.6818877518; dataset: fmnist\" role=\"graphics-symbol\" aria-roledescription=\"circle\" transform=\"translate(425.5205592265277,19.88201551247437)\" d=\"M7.0710678118654755,0A7.0710678118654755,7.0710678118654755,0,1,1,-7.0710678118654755,0A7.0710678118654755,7.0710678118654755,0,1,1,7.0710678118654755,0\" fill=\"#4c78a8\" stroke-width=\"2\" opacity=\"0.9\"/><path aria-label=\"x1: 3.02652849844; x2: 2.6257825119; dataset: fmnist\" role=\"graphics-symbol\" aria-roledescription=\"circle\" transform=\"translate(401.32642492185687,148.38859300595385)\" d=\"M7.0710678118654755,0A7.0710678118654755,7.0710678118654755,0,1,1,-7.0710678118654755,0A7.0710678118654755,7.0710678118654755,0,1,1,7.0710678118654755,0\" fill=\"#4c78a8\" stroke-width=\"2\" opacity=\"0.9\"/><path aria-label=\"x1: 3.99313228878; x2: 0.870997994878; dataset: fmnist\" role=\"graphics-symbol\" aria-roledescription=\"circle\" transform=\"translate(449.65661443891685,258.0626253201138)\" d=\"M7.0710678118654755,0A7.0710678118654755,7.0710678118654755,0,1,1,-7.0710678118654755,0A7.0710678118654755,7.0710678118654755,0,1,1,7.0710678118654755,0\" fill=\"#4c78a8\" stroke-width=\"2\" opacity=\"0.9\"/><path aria-label=\"x1: −0.15316146945; x2: 1.81117098487; dataset: fmnist\" role=\"graphics-symbol\" aria-roledescription=\"circle\" transform=\"translate(242.34192652750048,199.30181344560006)\" d=\"M7.0710678118654755,0A7.0710678118654755,7.0710678118654755,0,1,1,-7.0710678118654755,0A7.0710678118654755,7.0710678118654755,0,1,1,7.0710678118654755,0\" fill=\"#4c78a8\" stroke-width=\"2\" opacity=\"0.9\"/><path aria-label=\"x1: 3.73667675258; x2: 3.38090420114; dataset: fmnist\" role=\"graphics-symbol\" aria-roledescription=\"circle\" transform=\"translate(436.8338376290784,101.19348742880385)\" d=\"M7.0710678118654755,0A7.0710678118654755,7.0710678118654755,0,1,1,-7.0710678118654755,0A7.0710678118654755,7.0710678118654755,0,1,1,7.0710678118654755,0\" fill=\"#4c78a8\" stroke-width=\"2\" opacity=\"0.9\"/><path aria-label=\"x1: 3.53495944686; x2: 4.52006196292; dataset: fmnist\" role=\"graphics-symbol\" aria-roledescription=\"circle\" transform=\"translate(426.7479723430944,29.996127317267696)\" d=\"M7.0710678118654755,0A7.0710678118654755,7.0710678118654755,0,1,1,-7.0710678118654755,0A7.0710678118654755,7.0710678118654755,0,1,1,7.0710678118654755,0\" fill=\"#4c78a8\" stroke-width=\"2\" opacity=\"0.9\"/><path aria-label=\"x1: 1.46335732157; x2: 2.28208425642; dataset: fmnist\" role=\"graphics-symbol\" aria-roledescription=\"circle\" transform=\"translate(323.167866078731,169.8697339740326)\" d=\"M7.0710678118654755,0A7.0710678118654755,7.0710678118654755,0,1,1,-7.0710678118654755,0A7.0710678118654755,7.0710678118654755,0,1,1,7.0710678118654755,0\" fill=\"#4c78a8\" stroke-width=\"2\" opacity=\"0.9\"/><path aria-label=\"x1: 1.86354443824; x2: −0.585641802151; dataset: fmnist\" role=\"graphics-symbol\" aria-roledescription=\"circle\" transform=\"translate(343.17722191213386,349.10261263445165)\" d=\"M7.0710678118654755,0A7.0710678118654755,7.0710678118654755,0,1,1,-7.0710678118654755,0A7.0710678118654755,7.0710678118654755,0,1,1,7.0710678118654755,0\" fill=\"#4c78a8\" stroke-width=\"2\" opacity=\"0.9\"/><path aria-label=\"x1: 4.02742857707; x2: 1.18806355949; dataset: fmnist\" role=\"graphics-symbol\" aria-roledescription=\"circle\" transform=\"translate(451.3714288536965,238.246027531621)\" d=\"M7.0710678118654755,0A7.0710678118654755,7.0710678118654755,0,1,1,-7.0710678118654755,0A7.0710678118654755,7.0710678118654755,0,1,1,7.0710678118654755,0\" fill=\"#4c78a8\" stroke-width=\"2\" opacity=\"0.9\"/><path aria-label=\"x1: 3.76434020284; x2: 3.24301421858; dataset: fmnist\" role=\"graphics-symbol\" aria-roledescription=\"circle\" transform=\"translate(438.2170101418076,109.8116113385082)\" d=\"M7.0710678118654755,0A7.0710678118654755,7.0710678118654755,0,1,1,-7.0710678118654755,0A7.0710678118654755,7.0710678118654755,0,1,1,7.0710678118654755,0\" fill=\"#4c78a8\" stroke-width=\"2\" opacity=\"0.9\"/><path aria-label=\"x1: 3.37486131389; x2: 2.17292632812; dataset: fmnist\" role=\"graphics-symbol\" aria-roledescription=\"circle\" transform=\"translate(418.7430656945345,176.69210449230232)\" d=\"M7.0710678118654755,0A7.0710678118654755,7.0710678118654755,0,1,1,-7.0710678118654755,0A7.0710678118654755,7.0710678118654755,0,1,1,7.0710678118654755,0\" fill=\"#4c78a8\" stroke-width=\"2\" opacity=\"0.9\"/><path aria-label=\"x1: 4.23130482382; x2: 1.0658187464; dataset: fmnist\" role=\"graphics-symbol\" aria-roledescription=\"circle\" transform=\"translate(461.5652411909604,245.88632835019058)\" d=\"M7.0710678118654755,0A7.0710678118654755,7.0710678118654755,0,1,1,-7.0710678118654755,0A7.0710678118654755,7.0710678118654755,0,1,1,7.0710678118654755,0\" fill=\"#4c78a8\" stroke-width=\"2\" opacity=\"0.9\"/><path aria-label=\"x1: 3.29710483376; x2: 0.946984190687; dataset: fmnist\" role=\"graphics-symbol\" aria-roledescription=\"circle\" transform=\"translate(414.85524168819603,253.31348808203768)\" d=\"M7.0710678118654755,0A7.0710678118654755,7.0710678118654755,0,1,1,-7.0710678118654755,0A7.0710678118654755,7.0710678118654755,0,1,1,7.0710678118654755,0\" fill=\"#4c78a8\" stroke-width=\"2\" opacity=\"0.9\"/><path aria-label=\"x1: 4.08211052211; x2: 1.08319587847; dataset: fmnist\" role=\"graphics-symbol\" aria-roledescription=\"circle\" transform=\"translate(454.1055261053494,244.80025759576907)\" d=\"M7.0710678118654755,0A7.0710678118654755,7.0710678118654755,0,1,1,-7.0710678118654755,0A7.0710678118654755,7.0710678118654755,0,1,1,7.0710678118654755,0\" fill=\"#4c78a8\" stroke-width=\"2\" opacity=\"0.9\"/><path aria-label=\"x1: 0.235415293779; x2: −0.0458903939219; dataset: fmnist\" role=\"graphics-symbol\" aria-roledescription=\"circle\" transform=\"translate(261.7707646889633,315.3681496201196)\" d=\"M7.0710678118654755,0A7.0710678118654755,7.0710678118654755,0,1,1,-7.0710678118654755,0A7.0710678118654755,7.0710678118654755,0,1,1,7.0710678118654755,0\" fill=\"#4c78a8\" stroke-width=\"2\" opacity=\"0.9\"/><path aria-label=\"x1: 1.03497350275; x2: 2.63684686617; dataset: fmnist\" role=\"graphics-symbol\" aria-roledescription=\"circle\" transform=\"translate(301.74867513748194,147.69707086411455)\" d=\"M7.0710678118654755,0A7.0710678118654755,7.0710678118654755,0,1,1,-7.0710678118654755,0A7.0710678118654755,7.0710678118654755,0,1,1,7.0710678118654755,0\" fill=\"#4c78a8\" stroke-width=\"2\" opacity=\"0.9\"/><path aria-label=\"x1: 3.71804826867; x2: 0.854320729086; dataset: fmnist\" role=\"graphics-symbol\" aria-roledescription=\"circle\" transform=\"translate(435.9024134334256,259.10495443210533)\" d=\"M7.0710678118654755,0A7.0710678118654755,7.0710678118654755,0,1,1,-7.0710678118654755,0A7.0710678118654755,7.0710678118654755,0,1,1,7.0710678118654755,0\" fill=\"#4c78a8\" stroke-width=\"2\" opacity=\"0.9\"/><path aria-label=\"x1: −0.37854007437; x2: 1.47983181665; dataset: fmnist\" role=\"graphics-symbol\" aria-roledescription=\"circle\" transform=\"translate(231.07299628149352,220.01051145957658)\" d=\"M7.0710678118654755,0A7.0710678118654755,7.0710678118654755,0,1,1,-7.0710678118654755,0A7.0710678118654755,7.0710678118654755,0,1,1,7.0710678118654755,0\" fill=\"#4c78a8\" stroke-width=\"2\" opacity=\"0.9\"/><path aria-label=\"x1: −0.284907508815; x2: 1.5404566361; dataset: fmnist\" role=\"graphics-symbol\" aria-roledescription=\"circle\" transform=\"translate(235.7546245592371,216.22146024391986)\" d=\"M7.0710678118654755,0A7.0710678118654755,7.0710678118654755,0,1,1,-7.0710678118654755,0A7.0710678118654755,7.0710678118654755,0,1,1,7.0710678118654755,0\" fill=\"#4c78a8\" stroke-width=\"2\" opacity=\"0.9\"/><path aria-label=\"x1: 0.446473308022; x2: 2.22471214759; dataset: fmnist\" role=\"graphics-symbol\" aria-roledescription=\"circle\" transform=\"translate(272.323665401104,173.45549077538246)\" d=\"M7.0710678118654755,0A7.0710678118654755,7.0710678118654755,0,1,1,-7.0710678118654755,0A7.0710678118654755,7.0710678118654755,0,1,1,7.0710678118654755,0\" fill=\"#4c78a8\" stroke-width=\"2\" opacity=\"0.9\"/><path aria-label=\"x1: 0.516870388474; x2: 2.28256613005; dataset: fmnist\" role=\"graphics-symbol\" aria-roledescription=\"circle\" transform=\"translate(275.8435194237131,169.83961687167758)\" d=\"M7.0710678118654755,0A7.0710678118654755,7.0710678118654755,0,1,1,-7.0710678118654755,0A7.0710678118654755,7.0710678118654755,0,1,1,7.0710678118654755,0\" fill=\"#4c78a8\" stroke-width=\"2\" opacity=\"0.9\"/><path aria-label=\"x1: 0.363778767557; x2: 2.10350432142; dataset: fmnist\" role=\"graphics-symbol\" aria-roledescription=\"circle\" transform=\"translate(268.1889383778658,181.03097991126)\" d=\"M7.0710678118654755,0A7.0710678118654755,7.0710678118654755,0,1,1,-7.0710678118654755,0A7.0710678118654755,7.0710678118654755,0,1,1,7.0710678118654755,0\" fill=\"#4c78a8\" stroke-width=\"2\" opacity=\"0.9\"/><path aria-label=\"x1: 3.3949803421; x2: 4.75392711977; dataset: fmnist\" role=\"graphics-symbol\" aria-roledescription=\"circle\" transform=\"translate(419.7490171047574,15.379555014137015)\" d=\"M7.0710678118654755,0A7.0710678118654755,7.0710678118654755,0,1,1,-7.0710678118654755,0A7.0710678118654755,7.0710678118654755,0,1,1,7.0710678118654755,0\" fill=\"#4c78a8\" stroke-width=\"2\" opacity=\"0.9\"/><path aria-label=\"x1: 4.12759732677; x2: 1.0988556836; dataset: fmnist\" role=\"graphics-symbol\" aria-roledescription=\"circle\" transform=\"translate(456.379866338553,243.82151977516415)\" d=\"M7.0710678118654755,0A7.0710678118654755,7.0710678118654755,0,1,1,-7.0710678118654755,0A7.0710678118654755,7.0710678118654755,0,1,1,7.0710678118654755,0\" fill=\"#4c78a8\" stroke-width=\"2\" opacity=\"0.9\"/><path aria-label=\"x1: 3.99834757169; x2: 0.887469282372; dataset: fmnist\" role=\"graphics-symbol\" aria-roledescription=\"circle\" transform=\"translate(449.91737858436323,257.033169851724)\" d=\"M7.0710678118654755,0A7.0710678118654755,7.0710678118654755,0,1,1,-7.0710678118654755,0A7.0710678118654755,7.0710678118654755,0,1,1,7.0710678118654755,0\" fill=\"#4c78a8\" stroke-width=\"2\" opacity=\"0.9\"/><path aria-label=\"x1: 1.11943987436; x2: −1.01298991844; dataset: fmnist\" role=\"graphics-symbol\" aria-roledescription=\"circle\" transform=\"translate(305.97199371791805,375.8118699027174)\" d=\"M7.0710678118654755,0A7.0710678118654755,7.0710678118654755,0,1,1,-7.0710678118654755,0A7.0710678118654755,7.0710678118654755,0,1,1,7.0710678118654755,0\" fill=\"#4c78a8\" stroke-width=\"2\" opacity=\"0.9\"/><path aria-label=\"x1: 1.60678561787; x2: −0.861611186973; dataset: fmnist\" role=\"graphics-symbol\" aria-roledescription=\"circle\" transform=\"translate(330.3392808936947,366.350699185828)\" d=\"M7.0710678118654755,0A7.0710678118654755,7.0710678118654755,0,1,1,-7.0710678118654755,0A7.0710678118654755,7.0710678118654755,0,1,1,7.0710678118654755,0\" fill=\"#4c78a8\" stroke-width=\"2\" opacity=\"0.9\"/><path aria-label=\"x1: 0.787808185596; x2: −0.60196890709; dataset: fmnist\" role=\"graphics-symbol\" aria-roledescription=\"circle\" transform=\"translate(289.39040927979875,350.1230566930944)\" d=\"M7.0710678118654755,0A7.0710678118654755,7.0710678118654755,0,1,1,-7.0710678118654755,0A7.0710678118654755,7.0710678118654755,0,1,1,7.0710678118654755,0\" fill=\"#4c78a8\" stroke-width=\"2\" opacity=\"0.9\"/><path aria-label=\"x1: 2.33245597424; x2: −0.430133137587; dataset: fmnist\" role=\"graphics-symbol\" aria-roledescription=\"circle\" transform=\"translate(366.62279871224956,339.3833210992079)\" d=\"M7.0710678118654755,0A7.0710678118654755,7.0710678118654755,0,1,1,-7.0710678118654755,0A7.0710678118654755,7.0710678118654755,0,1,1,7.0710678118654755,0\" fill=\"#4c78a8\" stroke-width=\"2\" opacity=\"0.9\"/><path aria-label=\"x1: 3.83693940255; x2: 0.795753755527; dataset: fmnist\" role=\"graphics-symbol\" aria-roledescription=\"circle\" transform=\"translate(441.84697012745886,262.76539027954084)\" d=\"M7.0710678118654755,0A7.0710678118654755,7.0710678118654755,0,1,1,-7.0710678118654755,0A7.0710678118654755,7.0710678118654755,0,1,1,7.0710678118654755,0\" fill=\"#4c78a8\" stroke-width=\"2\" opacity=\"0.9\"/><path aria-label=\"x1: 0.985051950288; x2: −1.00498030958; dataset: fmnist\" role=\"graphics-symbol\" aria-roledescription=\"circle\" transform=\"translate(299.25259751441484,375.3112693489269)\" d=\"M7.0710678118654755,0A7.0710678118654755,7.0710678118654755,0,1,1,-7.0710678118654755,0A7.0710678118654755,7.0710678118654755,0,1,1,7.0710678118654755,0\" fill=\"#4c78a8\" stroke-width=\"2\" opacity=\"0.9\"/><path aria-label=\"x1: 3.71988114062; x2: 3.24460487671; dataset: fmnist\" role=\"graphics-symbol\" aria-roledescription=\"circle\" transform=\"translate(435.99405703089803,109.71219520562936)\" d=\"M7.0710678118654755,0A7.0710678118654755,7.0710678118654755,0,1,1,-7.0710678118654755,0A7.0710678118654755,7.0710678118654755,0,1,1,7.0710678118654755,0\" fill=\"#4c78a8\" stroke-width=\"2\" opacity=\"0.9\"/><path aria-label=\"x1: 3.17562882265; x2: 2.39519576368; dataset: fmnist\" role=\"graphics-symbol\" aria-roledescription=\"circle\" transform=\"translate(408.7814411324599,162.80026476986353)\" d=\"M7.0710678118654755,0A7.0710678118654755,7.0710678118654755,0,1,1,-7.0710678118654755,0A7.0710678118654755,7.0710678118654755,0,1,1,7.0710678118654755,0\" fill=\"#4c78a8\" stroke-width=\"2\" opacity=\"0.9\"/><path aria-label=\"x1: 3.8613035718; x2: 3.01848889442; dataset: fmnist\" role=\"graphics-symbol\" aria-roledescription=\"circle\" transform=\"translate(443.06517859023654,123.84444409879569)\" d=\"M7.0710678118654755,0A7.0710678118654755,7.0710678118654755,0,1,1,-7.0710678118654755,0A7.0710678118654755,7.0710678118654755,0,1,1,7.0710678118654755,0\" fill=\"#4c78a8\" stroke-width=\"2\" opacity=\"0.9\"/><path aria-label=\"x1: 3.82231567802; x2: 3.3432365483; dataset: fmnist\" role=\"graphics-symbol\" aria-roledescription=\"circle\" transform=\"translate(441.1157839007783,103.54771573106048)\" d=\"M7.0710678118654755,0A7.0710678118654755,7.0710678118654755,0,1,1,-7.0710678118654755,0A7.0710678118654755,7.0710678118654755,0,1,1,7.0710678118654755,0\" fill=\"#4c78a8\" stroke-width=\"2\" opacity=\"0.9\"/><path aria-label=\"x1: 3.81524103771; x2: 3.38215846354; dataset: fmnist\" role=\"graphics-symbol\" aria-roledescription=\"circle\" transform=\"translate(440.76205188573897,101.1150960288586)\" d=\"M7.0710678118654755,0A7.0710678118654755,7.0710678118654755,0,1,1,-7.0710678118654755,0A7.0710678118654755,7.0710678118654755,0,1,1,7.0710678118654755,0\" fill=\"#4c78a8\" stroke-width=\"2\" opacity=\"0.9\"/><path aria-label=\"x1: 1.1304986461; x2: −0.915670818467; dataset: fmnist\" role=\"graphics-symbol\" aria-roledescription=\"circle\" transform=\"translate(306.5249323048615,369.7294261541829)\" d=\"M7.0710678118654755,0A7.0710678118654755,7.0710678118654755,0,1,1,-7.0710678118654755,0A7.0710678118654755,7.0710678118654755,0,1,1,7.0710678118654755,0\" fill=\"#4c78a8\" stroke-width=\"2\" opacity=\"0.9\"/><path aria-label=\"x1: 4.22482681546; x2: 1.17065957366; dataset: fmnist\" role=\"graphics-symbol\" aria-roledescription=\"circle\" transform=\"translate(461.24134077320014,239.33377664635137)\" d=\"M7.0710678118654755,0A7.0710678118654755,7.0710678118654755,0,1,1,-7.0710678118654755,0A7.0710678118654755,7.0710678118654755,0,1,1,7.0710678118654755,0\" fill=\"#4c78a8\" stroke-width=\"2\" opacity=\"0.9\"/><path aria-label=\"x1: 0.200316607653; x2: 1.96282993498; dataset: fmnist\" role=\"graphics-symbol\" aria-roledescription=\"circle\" transform=\"translate(260.01583038264505,189.82312906398795)\" d=\"M7.0710678118654755,0A7.0710678118654755,7.0710678118654755,0,1,1,-7.0710678118654755,0A7.0710678118654755,7.0710678118654755,0,1,1,7.0710678118654755,0\" fill=\"#4c78a8\" stroke-width=\"2\" opacity=\"0.9\"/><path aria-label=\"x1: 3.07910951805; x2: 2.50222305338; dataset: fmnist\" role=\"graphics-symbol\" aria-roledescription=\"circle\" transform=\"translate(403.9554759026892,156.11105916403346)\" d=\"M7.0710678118654755,0A7.0710678118654755,7.0710678118654755,0,1,1,-7.0710678118654755,0A7.0710678118654755,7.0710678118654755,0,1,1,7.0710678118654755,0\" fill=\"#4c78a8\" stroke-width=\"2\" opacity=\"0.9\"/><path aria-label=\"x1: 3.19097233048; x2: 3.63088951028; dataset: fmnist\" role=\"graphics-symbol\" aria-roledescription=\"circle\" transform=\"translate(409.54861652383937,85.56940560777504)\" d=\"M7.0710678118654755,0A7.0710678118654755,7.0710678118654755,0,1,1,-7.0710678118654755,0A7.0710678118654755,7.0710678118654755,0,1,1,7.0710678118654755,0\" fill=\"#4c78a8\" stroke-width=\"2\" opacity=\"0.9\"/><path aria-label=\"x1: 1.13731844389; x2: 2.52850310642; dataset: fmnist\" role=\"graphics-symbol\" aria-roledescription=\"circle\" transform=\"translate(306.86592219453746,154.46855584855035)\" d=\"M7.0710678118654755,0A7.0710678118654755,7.0710678118654755,0,1,1,-7.0710678118654755,0A7.0710678118654755,7.0710678118654755,0,1,1,7.0710678118654755,0\" fill=\"#4c78a8\" stroke-width=\"2\" opacity=\"0.9\"/><path aria-label=\"x1: 3.83004938688; x2: 3.333713237; dataset: fmnist\" role=\"graphics-symbol\" aria-roledescription=\"circle\" transform=\"translate(441.5024693437501,104.14292268764203)\" d=\"M7.0710678118654755,0A7.0710678118654755,7.0710678118654755,0,1,1,-7.0710678118654755,0A7.0710678118654755,7.0710678118654755,0,1,1,7.0710678118654755,0\" fill=\"#4c78a8\" stroke-width=\"2\" opacity=\"0.9\"/><path aria-label=\"x1: 1.25454622578; x2: 2.99967419469; dataset: fmnist\" role=\"graphics-symbol\" aria-roledescription=\"circle\" transform=\"translate(312.7273112888971,125.02036283209029)\" d=\"M7.0710678118654755,0A7.0710678118654755,7.0710678118654755,0,1,1,-7.0710678118654755,0A7.0710678118654755,7.0710678118654755,0,1,1,7.0710678118654755,0\" fill=\"#4c78a8\" stroke-width=\"2\" opacity=\"0.9\"/><path aria-label=\"x1: 0.271430393284; x2: 1.52040994997; dataset: fmnist\" role=\"graphics-symbol\" aria-roledescription=\"circle\" transform=\"translate(263.5715196642091,217.47437812698405)\" d=\"M7.0710678118654755,0A7.0710678118654755,7.0710678118654755,0,1,1,-7.0710678118654755,0A7.0710678118654755,7.0710678118654755,0,1,1,7.0710678118654755,0\" fill=\"#4c78a8\" stroke-width=\"2\" opacity=\"0.9\"/><path aria-label=\"x1: 3.26301485196; x2: 0.994176122074; dataset: fmnist\" role=\"graphics-symbol\" aria-roledescription=\"circle\" transform=\"translate(413.15074259787303,250.36399237038574)\" d=\"M7.0710678118654755,0A7.0710678118654755,7.0710678118654755,0,1,1,-7.0710678118654755,0A7.0710678118654755,7.0710678118654755,0,1,1,7.0710678118654755,0\" fill=\"#4c78a8\" stroke-width=\"2\" opacity=\"0.9\"/><path aria-label=\"x1: 0.598087533524; x2: −0.337948648679; dataset: fmnist\" role=\"graphics-symbol\" aria-roledescription=\"circle\" transform=\"translate(279.9043766761814,333.6217905424064)\" d=\"M7.0710678118654755,0A7.0710678118654755,7.0710678118654755,0,1,1,-7.0710678118654755,0A7.0710678118654755,7.0710678118654755,0,1,1,7.0710678118654755,0\" fill=\"#4c78a8\" stroke-width=\"2\" opacity=\"0.9\"/><path aria-label=\"x1: −0.812815574423; x2: 1.27478983929; dataset: fmnist\" role=\"graphics-symbol\" aria-roledescription=\"circle\" transform=\"translate(209.35922127884643,232.82563504464687)\" d=\"M7.0710678118654755,0A7.0710678118654755,7.0710678118654755,0,1,1,-7.0710678118654755,0A7.0710678118654755,7.0710678118654755,0,1,1,7.0710678118654755,0\" fill=\"#4c78a8\" stroke-width=\"2\" opacity=\"0.9\"/><path aria-label=\"x1: 1.93936673945; x2: 2.48845488125; dataset: fmnist\" role=\"graphics-symbol\" aria-roledescription=\"circle\" transform=\"translate(346.96833697248326,156.97156992169408)\" d=\"M7.0710678118654755,0A7.0710678118654755,7.0710678118654755,0,1,1,-7.0710678118654755,0A7.0710678118654755,7.0710678118654755,0,1,1,7.0710678118654755,0\" fill=\"#4c78a8\" stroke-width=\"2\" opacity=\"0.9\"/><path aria-label=\"x1: 4.08407060968; x2: 0.918928648519; dataset: fmnist\" role=\"graphics-symbol\" aria-roledescription=\"circle\" transform=\"translate(454.2035304838283,255.06695946755065)\" d=\"M7.0710678118654755,0A7.0710678118654755,7.0710678118654755,0,1,1,-7.0710678118654755,0A7.0710678118654755,7.0710678118654755,0,1,1,7.0710678118654755,0\" fill=\"#4c78a8\" stroke-width=\"2\" opacity=\"0.9\"/><path aria-label=\"x1: 3.05459074081; x2: 2.52345800921; dataset: fmnist\" role=\"graphics-symbol\" aria-roledescription=\"circle\" transform=\"translate(402.729537040472,154.7838744245994)\" d=\"M7.0710678118654755,0A7.0710678118654755,7.0710678118654755,0,1,1,-7.0710678118654755,0A7.0710678118654755,7.0710678118654755,0,1,1,7.0710678118654755,0\" fill=\"#4c78a8\" stroke-width=\"2\" opacity=\"0.9\"/><path aria-label=\"x1: 1.49708943533; x2: 2.52578051999; dataset: fmnist\" role=\"graphics-symbol\" aria-roledescription=\"circle\" transform=\"translate(324.8544717663073,154.63871750078778)\" d=\"M7.0710678118654755,0A7.0710678118654755,7.0710678118654755,0,1,1,-7.0710678118654755,0A7.0710678118654755,7.0710678118654755,0,1,1,7.0710678118654755,0\" fill=\"#4c78a8\" stroke-width=\"2\" opacity=\"0.9\"/><path aria-label=\"x1: 3.57450832974; x2: 0.849260425415; dataset: fmnist\" role=\"graphics-symbol\" aria-roledescription=\"circle\" transform=\"translate(428.7254164868199,259.42122341156056)\" d=\"M7.0710678118654755,0A7.0710678118654755,7.0710678118654755,0,1,1,-7.0710678118654755,0A7.0710678118654755,7.0710678118654755,0,1,1,7.0710678118654755,0\" fill=\"#4c78a8\" stroke-width=\"2\" opacity=\"0.9\"/><path aria-label=\"x1: 3.23934478893; x2: 4.76510782145; dataset: fmnist\" role=\"graphics-symbol\" aria-roledescription=\"circle\" transform=\"translate(411.9672394467366,14.680761159460154)\" d=\"M7.0710678118654755,0A7.0710678118654755,7.0710678118654755,0,1,1,-7.0710678118654755,0A7.0710678118654755,7.0710678118654755,0,1,1,7.0710678118654755,0\" fill=\"#4c78a8\" stroke-width=\"2\" opacity=\"0.9\"/><path aria-label=\"x1: 3.06387597735; x2: 2.56272269517; dataset: fmnist\" role=\"graphics-symbol\" aria-roledescription=\"circle\" transform=\"translate(403.193798867632,152.32983155191803)\" d=\"M7.0710678118654755,0A7.0710678118654755,7.0710678118654755,0,1,1,-7.0710678118654755,0A7.0710678118654755,7.0710678118654755,0,1,1,7.0710678118654755,0\" fill=\"#4c78a8\" stroke-width=\"2\" opacity=\"0.9\"/><path aria-label=\"x1: 3.51814576311; x2: 4.6576239304; dataset: fmnist\" role=\"graphics-symbol\" aria-roledescription=\"circle\" transform=\"translate(425.907288155706,21.398504349998348)\" d=\"M7.0710678118654755,0A7.0710678118654755,7.0710678118654755,0,1,1,-7.0710678118654755,0A7.0710678118654755,7.0710678118654755,0,1,1,7.0710678118654755,0\" fill=\"#4c78a8\" stroke-width=\"2\" opacity=\"0.9\"/><path aria-label=\"x1: 0.799822213674; x2: 2.53561571643; dataset: fmnist\" role=\"graphics-symbol\" aria-roledescription=\"circle\" transform=\"translate(289.99111068368,154.02401772332692)\" d=\"M7.0710678118654755,0A7.0710678118654755,7.0710678118654755,0,1,1,-7.0710678118654755,0A7.0710678118654755,7.0710678118654755,0,1,1,7.0710678118654755,0\" fill=\"#4c78a8\" stroke-width=\"2\" opacity=\"0.9\"/><path aria-label=\"x1: 3.92799062569; x2: 3.46039657541; dataset: fmnist\" role=\"graphics-symbol\" aria-roledescription=\"circle\" transform=\"translate(446.3995312842872,96.22521403668316)\" d=\"M7.0710678118654755,0A7.0710678118654755,7.0710678118654755,0,1,1,-7.0710678118654755,0A7.0710678118654755,7.0710678118654755,0,1,1,7.0710678118654755,0\" fill=\"#4c78a8\" stroke-width=\"2\" opacity=\"0.9\"/><path aria-label=\"x1: 3.3435277392; x2: 4.76082259145; dataset: fmnist\" role=\"graphics-symbol\" aria-roledescription=\"circle\" transform=\"translate(417.1763869598357,14.948588034413623)\" d=\"M7.0710678118654755,0A7.0710678118654755,7.0710678118654755,0,1,1,-7.0710678118654755,0A7.0710678118654755,7.0710678118654755,0,1,1,7.0710678118654755,0\" fill=\"#4c78a8\" stroke-width=\"2\" opacity=\"0.9\"/><path aria-label=\"x1: 3.81319055111; x2: 2.75301104511; dataset: fmnist\" role=\"graphics-symbol\" aria-roledescription=\"circle\" transform=\"translate(440.65952755567514,140.43680968061255)\" d=\"M7.0710678118654755,0A7.0710678118654755,7.0710678118654755,0,1,1,-7.0710678118654755,0A7.0710678118654755,7.0710678118654755,0,1,1,7.0710678118654755,0\" fill=\"#4c78a8\" stroke-width=\"2\" opacity=\"0.9\"/><path aria-label=\"x1: 3.48847964826; x2: 4.08989978674; dataset: fmnist\" role=\"graphics-symbol\" aria-roledescription=\"circle\" transform=\"translate(424.42398241303596,56.88126332851085)\" d=\"M7.0710678118654755,0A7.0710678118654755,7.0710678118654755,0,1,1,-7.0710678118654755,0A7.0710678118654755,7.0710678118654755,0,1,1,7.0710678118654755,0\" fill=\"#4c78a8\" stroke-width=\"2\" opacity=\"0.9\"/><path aria-label=\"x1: 3.61232445636; x2: 1.87046870288; dataset: fmnist\" role=\"graphics-symbol\" aria-roledescription=\"circle\" transform=\"translate(430.61622281803244,195.59570607008058)\" d=\"M7.0710678118654755,0A7.0710678118654755,7.0710678118654755,0,1,1,-7.0710678118654755,0A7.0710678118654755,7.0710678118654755,0,1,1,7.0710678118654755,0\" fill=\"#4c78a8\" stroke-width=\"2\" opacity=\"0.9\"/><path aria-label=\"x1: 3.31669722877; x2: 4.77437150733; dataset: fmnist\" role=\"graphics-symbol\" aria-roledescription=\"circle\" transform=\"translate(415.8348614387341,14.101780792108443)\" d=\"M7.0710678118654755,0A7.0710678118654755,7.0710678118654755,0,1,1,-7.0710678118654755,0A7.0710678118654755,7.0710678118654755,0,1,1,7.0710678118654755,0\" fill=\"#4c78a8\" stroke-width=\"2\" opacity=\"0.9\"/><path aria-label=\"x1: 2.01391504911; x2: −0.61631284546; dataset: fmnist\" role=\"graphics-symbol\" aria-roledescription=\"circle\" transform=\"translate(350.6957524556494,351.0195528412222)\" d=\"M7.0710678118654755,0A7.0710678118654755,7.0710678118654755,0,1,1,-7.0710678118654755,0A7.0710678118654755,7.0710678118654755,0,1,1,7.0710678118654755,0\" fill=\"#4c78a8\" stroke-width=\"2\" opacity=\"0.9\"/><path aria-label=\"x1: 3.57349921119; x2: 4.6359788701; dataset: fmnist\" role=\"graphics-symbol\" aria-roledescription=\"circle\" transform=\"translate(428.6749605595149,22.751320618945357)\" d=\"M7.0710678118654755,0A7.0710678118654755,7.0710678118654755,0,1,1,-7.0710678118654755,0A7.0710678118654755,7.0710678118654755,0,1,1,7.0710678118654755,0\" fill=\"#4c78a8\" stroke-width=\"2\" opacity=\"0.9\"/><path aria-label=\"x1: 0.576718721198; x2: 2.60099633416; dataset: fmnist\" role=\"graphics-symbol\" aria-roledescription=\"circle\" transform=\"translate(278.83593605987994,149.93772911491766)\" d=\"M7.0710678118654755,0A7.0710678118654755,7.0710678118654755,0,1,1,-7.0710678118654755,0A7.0710678118654755,7.0710678118654755,0,1,1,7.0710678118654755,0\" fill=\"#4c78a8\" stroke-width=\"2\" opacity=\"0.9\"/><path aria-label=\"x1: −0.0329175733672; x2: 1.45153107366; dataset: fmnist\" role=\"graphics-symbol\" aria-roledescription=\"circle\" transform=\"translate(248.35412133163808,221.7793078964428)\" d=\"M7.0710678118654755,0A7.0710678118654755,7.0710678118654755,0,1,1,-7.0710678118654755,0A7.0710678118654755,7.0710678118654755,0,1,1,7.0710678118654755,0\" fill=\"#4c78a8\" stroke-width=\"2\" opacity=\"0.9\"/><path aria-label=\"x1: 1.09286622947; x2: −0.934595813295; dataset: fmnist\" role=\"graphics-symbol\" aria-roledescription=\"circle\" transform=\"translate(304.643311473625,370.9122383309145)\" d=\"M7.0710678118654755,0A7.0710678118654755,7.0710678118654755,0,1,1,-7.0710678118654755,0A7.0710678118654755,7.0710678118654755,0,1,1,7.0710678118654755,0\" fill=\"#4c78a8\" stroke-width=\"2\" opacity=\"0.9\"/><path aria-label=\"x1: 2.39287837706; x2: −0.40196815023; dataset: fmnist\" role=\"graphics-symbol\" aria-roledescription=\"circle\" transform=\"translate(369.64391885305344,337.62300938935397)\" d=\"M7.0710678118654755,0A7.0710678118654755,7.0710678118654755,0,1,1,-7.0710678118654755,0A7.0710678118654755,7.0710678118654755,0,1,1,7.0710678118654755,0\" fill=\"#4c78a8\" stroke-width=\"2\" opacity=\"0.9\"/><path aria-label=\"x1: 1.27231002307; x2: −0.830608908772; dataset: fmnist\" role=\"graphics-symbol\" aria-roledescription=\"circle\" transform=\"translate(313.6155011536327,364.4130567982329)\" d=\"M7.0710678118654755,0A7.0710678118654755,7.0710678118654755,0,1,1,-7.0710678118654755,0A7.0710678118654755,7.0710678118654755,0,1,1,7.0710678118654755,0\" fill=\"#4c78a8\" stroke-width=\"2\" opacity=\"0.9\"/><path aria-label=\"x1: 3.51927009206; x2: 4.65785155506; dataset: fmnist\" role=\"graphics-symbol\" aria-roledescription=\"circle\" transform=\"translate(425.9635046031744,21.384277808958963)\" d=\"M7.0710678118654755,0A7.0710678118654755,7.0710678118654755,0,1,1,-7.0710678118654755,0A7.0710678118654755,7.0710678118654755,0,1,1,7.0710678118654755,0\" fill=\"#4c78a8\" stroke-width=\"2\" opacity=\"0.9\"/><path aria-label=\"x1: 0.840704621242; x2: −0.979535975837; dataset: fmnist\" role=\"graphics-symbol\" aria-roledescription=\"circle\" transform=\"translate(292.03523106208075,373.72099848978746)\" d=\"M7.0710678118654755,0A7.0710678118654755,7.0710678118654755,0,1,1,-7.0710678118654755,0A7.0710678118654755,7.0710678118654755,0,1,1,7.0710678118654755,0\" fill=\"#4c78a8\" stroke-width=\"2\" opacity=\"0.9\"/><path aria-label=\"x1: 2.59454304269; x2: −0.224556050296; dataset: fmnist\" role=\"graphics-symbol\" aria-roledescription=\"circle\" transform=\"translate(379.7271521345245,326.5347531435022)\" d=\"M7.0710678118654755,0A7.0710678118654755,7.0710678118654755,0,1,1,-7.0710678118654755,0A7.0710678118654755,7.0710678118654755,0,1,1,7.0710678118654755,0\" fill=\"#4c78a8\" stroke-width=\"2\" opacity=\"0.9\"/><path aria-label=\"x1: 1.58270971727; x2: −0.750970412988; dataset: fmnist\" role=\"graphics-symbol\" aria-roledescription=\"circle\" transform=\"translate(329.135485863322,359.43565081172966)\" d=\"M7.0710678118654755,0A7.0710678118654755,7.0710678118654755,0,1,1,-7.0710678118654755,0A7.0710678118654755,7.0710678118654755,0,1,1,7.0710678118654755,0\" fill=\"#4c78a8\" stroke-width=\"2\" opacity=\"0.9\"/><path aria-label=\"x1: 1.49679680896; x2: −0.384788156104; dataset: fmnist\" role=\"graphics-symbol\" aria-roledescription=\"circle\" transform=\"translate(324.83984044820875,336.54925975651474)\" d=\"M7.0710678118654755,0A7.0710678118654755,7.0710678118654755,0,1,1,-7.0710678118654755,0A7.0710678118654755,7.0710678118654755,0,1,1,7.0710678118654755,0\" fill=\"#4c78a8\" stroke-width=\"2\" opacity=\"0.9\"/><path aria-label=\"x1: 1.15461632146; x2: 2.64309750264; dataset: fmnist\" role=\"graphics-symbol\" aria-roledescription=\"circle\" transform=\"translate(307.730816073081,147.30640608527267)\" d=\"M7.0710678118654755,0A7.0710678118654755,7.0710678118654755,0,1,1,-7.0710678118654755,0A7.0710678118654755,7.0710678118654755,0,1,1,7.0710678118654755,0\" fill=\"#4c78a8\" stroke-width=\"2\" opacity=\"0.9\"/><path aria-label=\"x1: 0.265164007196; x2: 1.92895695978; dataset: fmnist\" role=\"graphics-symbol\" aria-roledescription=\"circle\" transform=\"translate(263.2582003597953,191.94019001388085)\" d=\"M7.0710678118654755,0A7.0710678118654755,7.0710678118654755,0,1,1,-7.0710678118654755,0A7.0710678118654755,7.0710678118654755,0,1,1,7.0710678118654755,0\" fill=\"#4c78a8\" stroke-width=\"2\" opacity=\"0.9\"/><path aria-label=\"x1: 1.65898278743; x2: −0.800392208149; dataset: fmnist\" role=\"graphics-symbol\" aria-roledescription=\"circle\" transform=\"translate(332.94913937150443,362.5245130093116)\" d=\"M7.0710678118654755,0A7.0710678118654755,7.0710678118654755,0,1,1,-7.0710678118654755,0A7.0710678118654755,7.0710678118654755,0,1,1,7.0710678118654755,0\" fill=\"#4c78a8\" stroke-width=\"2\" opacity=\"0.9\"/><path aria-label=\"x1: 3.66747700185; x2: 3.53552342259; dataset: fmnist\" role=\"graphics-symbol\" aria-roledescription=\"circle\" transform=\"translate(433.3738500923478,91.5297860882146)\" d=\"M7.0710678118654755,0A7.0710678118654755,7.0710678118654755,0,1,1,-7.0710678118654755,0A7.0710678118654755,7.0710678118654755,0,1,1,7.0710678118654755,0\" fill=\"#4c78a8\" stroke-width=\"2\" opacity=\"0.9\"/><path aria-label=\"x1: 3.32595366007; x2: 0.912186126252; dataset: fmnist\" role=\"graphics-symbol\" aria-roledescription=\"circle\" transform=\"translate(416.29768300325037,255.4883671092235)\" d=\"M7.0710678118654755,0A7.0710678118654755,7.0710678118654755,0,1,1,-7.0710678118654755,0A7.0710678118654755,7.0710678118654755,0,1,1,7.0710678118654755,0\" fill=\"#4c78a8\" stroke-width=\"2\" opacity=\"0.9\"/><path aria-label=\"x1: 0.0101628196461; x2: 2.06167909128; dataset: fmnist\" role=\"graphics-symbol\" aria-roledescription=\"circle\" transform=\"translate(250.50814098230506,183.64505679512112)\" d=\"M7.0710678118654755,0A7.0710678118654755,7.0710678118654755,0,1,1,-7.0710678118654755,0A7.0710678118654755,7.0710678118654755,0,1,1,7.0710678118654755,0\" fill=\"#4c78a8\" stroke-width=\"2\" opacity=\"0.9\"/><path aria-label=\"x1: 3.23514428144; x2: 4.8838600049; dataset: fmnist\" role=\"graphics-symbol\" aria-roledescription=\"circle\" transform=\"translate(411.75721407207897,7.258749693745292)\" d=\"M7.0710678118654755,0A7.0710678118654755,7.0710678118654755,0,1,1,-7.0710678118654755,0A7.0710678118654755,7.0710678118654755,0,1,1,7.0710678118654755,0\" fill=\"#4c78a8\" stroke-width=\"2\" opacity=\"0.9\"/><path aria-label=\"x1: 3.63164117537; x2: 4.52271215881; dataset: fmnist\" role=\"graphics-symbol\" aria-roledescription=\"circle\" transform=\"translate(431.58205876850457,29.83049007454419)\" d=\"M7.0710678118654755,0A7.0710678118654755,7.0710678118654755,0,1,1,-7.0710678118654755,0A7.0710678118654755,7.0710678118654755,0,1,1,7.0710678118654755,0\" fill=\"#4c78a8\" stroke-width=\"2\" opacity=\"0.9\"/><path aria-label=\"x1: 1.81205773878; x2: −0.58085413384; dataset: fmnist\" role=\"graphics-symbol\" aria-roledescription=\"circle\" transform=\"translate(340.6028869390063,348.80338336501495)\" d=\"M7.0710678118654755,0A7.0710678118654755,7.0710678118654755,0,1,1,-7.0710678118654755,0A7.0710678118654755,7.0710678118654755,0,1,1,7.0710678118654755,0\" fill=\"#4c78a8\" stroke-width=\"2\" opacity=\"0.9\"/></g><g class=\"mark-group role-legend\" role=\"graphics-symbol\" aria-roledescription=\"legend\" aria-label=\"Symbol legend titled 'dataset' for fill color with 2 values: fmnist, mnist\"><g transform=\"translate(518,0)\"><path class=\"background\" aria-hidden=\"true\" d=\"M0,0h48v40h-48Z\" pointer-events=\"none\"/><g><g class=\"mark-group role-legend-entry\"><g transform=\"translate(0,16)\"><path class=\"background\" aria-hidden=\"true\" d=\"M0,0h0v0h0Z\" pointer-events=\"none\"/><g><g class=\"mark-group role-scope\" role=\"graphics-object\" aria-roledescription=\"group mark container\"><g transform=\"translate(0,0)\"><path class=\"background\" aria-hidden=\"true\" d=\"M0,0h48v11h-48Z\" pointer-events=\"none\" opacity=\"1\"/><g><g class=\"mark-symbol role-legend-symbol\" pointer-events=\"none\"><path transform=\"translate(6,6)\" d=\"M5,0A5,5,0,1,1,-5,0A5,5,0,1,1,5,0\" fill=\"#4c78a8\" stroke-width=\"1.5\" opacity=\"0.9\"/></g><g class=\"mark-text role-legend-label\" pointer-events=\"none\"><text text-anchor=\"start\" transform=\"translate(16,9)\" font-family=\"sans-serif\" font-size=\"10px\" fill=\"#000\" opacity=\"1\">fmnist</text></g></g><path class=\"foreground\" aria-hidden=\"true\" d=\"\" pointer-events=\"none\" display=\"none\"/></g><g transform=\"translate(0,13)\"><path class=\"background\" aria-hidden=\"true\" d=\"M0,0h48v11h-48Z\" pointer-events=\"none\" opacity=\"1\"/><g><g class=\"mark-symbol role-legend-symbol\" pointer-events=\"none\"><path transform=\"translate(6,6)\" d=\"M5,0A5,5,0,1,1,-5,0A5,5,0,1,1,5,0\" fill=\"#f58518\" stroke-width=\"1.5\" opacity=\"0.9\"/></g><g class=\"mark-text role-legend-label\" pointer-events=\"none\"><text text-anchor=\"start\" transform=\"translate(16,9)\" font-family=\"sans-serif\" font-size=\"10px\" fill=\"#000\" opacity=\"1\">mnist</text></g></g><path class=\"foreground\" aria-hidden=\"true\" d=\"\" pointer-events=\"none\" display=\"none\"/></g></g></g><path class=\"foreground\" aria-hidden=\"true\" d=\"\" pointer-events=\"none\" display=\"none\"/></g></g><g class=\"mark-text role-legend-title\" pointer-events=\"none\"><text text-anchor=\"start\" transform=\"translate(0,9)\" font-family=\"sans-serif\" font-size=\"11px\" font-weight=\"bold\" fill=\"#000\" opacity=\"1\">dataset</text></g></g><path class=\"foreground\" aria-hidden=\"true\" d=\"\" pointer-events=\"none\" display=\"none\"/></g></g></g><path class=\"foreground\" aria-hidden=\"true\" d=\"\" display=\"none\"/></g></g></g><defs><clipPath id=\"clip1\"><rect x=\"0\" y=\"0\" width=\"500\" height=\"500\"/></clipPath></defs></svg>\n"
      ],
      "text/plain": [
       "@vlplot(\n",
       "    data={\n",
       "        values=...\n",
       "    },\n",
       "    mark={\n",
       "        type=\"circle\",\n",
       "        size=200,\n",
       "        opacity=0.9\n",
       "    },\n",
       "    selection={\n",
       "        grid={\n",
       "            type=\"interval\",\n",
       "            resolve=\"global\",\n",
       "            bind=\"scales\",\n",
       "            translate=\"[mousedown[!event.shiftKey], window:mouseup] > window:mousemove!\",\n",
       "            zoom=\"wheel![!event.shiftKey]\"\n",
       "        }\n",
       "    },\n",
       "    height=500,\n",
       "    width=500,\n",
       "    encoding={\n",
       "        x={\n",
       "            type=\"quantitative\",\n",
       "            field=\"x1\"\n",
       "        },\n",
       "        y={\n",
       "            type=\"quantitative\",\n",
       "            field=\"x2\"\n",
       "        },\n",
       "        color={\n",
       "            type=\"nominal\",\n",
       "            field=\"dataset\"\n",
       "        }\n",
       "    }\n",
       ")"
      ]
     },
     "execution_count": 155,
     "metadata": {},
     "output_type": "execute_result"
    }
   ],
   "source": [
    "p1 =@vlplot(\"data\"=df,\n",
    "    mark={\"type\"=:circle,\"size\"=200,\"opacity\"=0.9},\n",
    "    selection={\"grid\"={\n",
    "    \"type\"=:interval,\n",
    "    \"resolve\"=:global,\n",
    "    \"bind\"=:scales,\n",
    "    \"translate\"=\"[mousedown[!event.shiftKey], window:mouseup] > window:mousemove!\",\n",
    "                \"zoom\"=\"wheel![!event.shiftKey]\"}},\n",
    "    x={:x1,\"type\"=\"quantitative\"},\n",
    "    y={:x2,\"type\"=\"quantitative\"},\n",
    "    color={:dataset, \"type\"=\"nominal\"},\"height\"=500,\"width\"=500)"
   ]
  },
  {
   "cell_type": "code",
   "execution_count": 157,
   "id": "78280266-3d53-4d21-aecd-841f107bbcaf",
   "metadata": {},
   "outputs": [
    {
     "data": {
      "text/plain": [
       "10-element Vector{SubArray{Float64, 1, Matrix{Float64}, Tuple{Int64, Base.Slice{Base.OneTo{Int64}}}, true}}:\n",
       " [0.6827453269502339, 0.30044693416501245]\n",
       " [0.5411373879331725, 0.6621796092143386]\n",
       " [0.853051618621113, 0.3927735249026938]\n",
       " [0.5855385319140629, 0.9801872397764568]\n",
       " [0.013691345508560993, 0.7690254471818665]\n",
       " [0.23472942213126524, 0.04020567112145401]\n",
       " [0.32449291577996076, 0.9661838344933849]\n",
       " [0.9062969635145599, 0.33608351612003773]\n",
       " [0.40366629582647584, 0.8985391837277745]\n",
       " [0.6264944162321717, 0.9480799746309285]"
      ]
     },
     "execution_count": 157,
     "metadata": {},
     "output_type": "execute_result"
    }
   ],
   "source": [
    "m = [i for i in eachrow(rand(10,2))]"
   ]
  },
  {
   "cell_type": "code",
   "execution_count": 164,
   "id": "1ae39570-78f2-4d16-a70f-4e68150907ab",
   "metadata": {},
   "outputs": [
    {
     "data": {
      "text/plain": [
       "10×2 Matrix{Float64}:\n",
       " 0.682745   0.300447\n",
       " 0.541137   0.66218\n",
       " 0.853052   0.392774\n",
       " 0.585539   0.980187\n",
       " 0.0136913  0.769025\n",
       " 0.234729   0.0402057\n",
       " 0.324493   0.966184\n",
       " 0.906297   0.336084\n",
       " 0.403666   0.898539\n",
       " 0.626494   0.94808"
      ]
     },
     "execution_count": 164,
     "metadata": {},
     "output_type": "execute_result"
    }
   ],
   "source": [
    "vcat(m'...)"
   ]
  }
 ],
 "metadata": {
  "kernelspec": {
   "display_name": "Julia 1.6.1",
   "language": "julia",
   "name": "julia-1.6"
  },
  "language_info": {
   "file_extension": ".jl",
   "mimetype": "application/julia",
   "name": "julia",
   "version": "1.6.1"
  }
 },
 "nbformat": 4,
 "nbformat_minor": 5
}
