{
 "cells": [
  {
   "cell_type": "code",
   "execution_count": 2,
   "id": "1eae6090-caa2-45ef-818d-f211378973c4",
   "metadata": {},
   "outputs": [],
   "source": [
    "using OptimalTransport\n",
    "using VegaLite\n",
    "using MLDatasets\n",
    "using Distances\n",
    "using Distributions\n",
    "using Images\n",
    "using DataFrames\n",
    "using LinearAlgebra\n",
    "using SparseArrays\n",
    "using Tulip\n",
    "using UMAP"
   ]
  },
  {
   "cell_type": "code",
   "execution_count": 3,
   "id": "4496f0dc-09d0-4718-b221-62a07700350b",
   "metadata": {},
   "outputs": [],
   "source": [
    "# EMNIST.Digits.traindata()"
   ]
  },
  {
   "cell_type": "markdown",
   "id": "4881ca93-6bdd-473a-88d0-7a138564053d",
   "metadata": {},
   "source": [
    "## Importing and reshaping datasets"
   ]
  },
  {
   "cell_type": "code",
   "execution_count": 13,
   "id": "326d2d9e-4828-4609-926f-157f3187e09d",
   "metadata": {},
   "outputs": [],
   "source": [
    "mnist_x = reshape(MNIST.traintensor(Float64),28*28,:);\n",
    "mnist_y = MNIST.trainlabels(1:size(mnist_x, 2));\n",
    "fmnist_x = reshape(FashionMNIST.traintensor(Float64),28*28,:);\n",
    "fmnist_y = FashionMNIST.trainlabels(1:size(fmnist_x, 2));\n",
    "\n",
    "N = 1000\n",
    "mnist_x  = mnist_x'[1:N,:]\n",
    "mnist_y  = mnist_y[1:N]\n",
    "fmnist_x = fmnist_x'[1:N,:]\n",
    "fmnist_y = fmnist_y[1:N];"
   ]
  },
  {
   "cell_type": "code",
   "execution_count": 10,
   "id": "f1b08c39-acc2-4ec8-a64a-bf48a27c8321",
   "metadata": {},
   "outputs": [
    {
     "data": {
      "text/plain": [
       "otdd"
      ]
     },
     "execution_count": 10,
     "metadata": {},
     "output_type": "execute_result"
    }
   ],
   "source": [
    "\"\"\"\n",
    "    _fit_MvNormals(X,y)\n",
    "`X` is the feature dataset, where rows are the samples and the columns\n",
    "are feateus. Vector `y` is the label vector.\n",
    "\"\"\"\n",
    "function _fit_MvNormals(X,y)\n",
    "    labels = sort(unique(y))\n",
    "    α = []\n",
    "    for i in labels\n",
    "        Σ = cov(X[y .== i,:]);\n",
    "        Σ += max(0,-2*eigmin(Σ))*I\n",
    "        m = vec(mean(X[y .== i, :],dims=1))\n",
    "        push!(α, MvNormal(m,Σ))\n",
    "    end\n",
    "    return α\n",
    "end\n",
    "\n",
    "function _getW(X1, y1, X2, y2)\n",
    "    α1 = _fit_MvNormals(X1, y1)\n",
    "    α2 = _fit_MvNormals(X2, y2)\n",
    "    \n",
    "    Wα = zeros(length(α1),length(α2))\n",
    "    for (i,j) in Iterators.product(1:length(α1),1:length(α2))\n",
    "        Wα[i,j] = ot_cost(SqEuclidean(), α1[i],α2[j])\n",
    "    end\n",
    "    return Wα\n",
    "end\n",
    "\n",
    "\"\"\"\n",
    "    otdd(dx, D1, D2, ε = 0.1)\n",
    "Calculates the Optimal Transport Dataset Distance between\n",
    "datasets D1 and D2, using metric dx between features\n",
    "distance. Note that `dx` must be a `PreMetric` from `Distances.jl`.\n",
    "\"\"\"\n",
    "function otdd(X1, y1, X2, y2; ε = 1, dx=SqEuclidean(), W = nothing)\n",
    "    if W == nothing\n",
    "        α1 = _fit_MvNormals(X1, y1)\n",
    "        α2 = _fit_MvNormals(X2, y2)\n",
    "\n",
    "        # store the 2-Wasserstein distance\n",
    "        # between P(X1 | y1 = i) and P(X2 | y2 = j)\n",
    "        W = zeros(length(α1),length(α2))\n",
    "        for (i,j) in Iterators.product(1:length(α1),1:length(α2))\n",
    "            W[i,j] = ot_cost(SqEuclidean(), α1[i],α2[j])\n",
    "        end\n",
    "    end\n",
    "    \n",
    "    C = pairwise(dx, X1, X2, dims=1);\n",
    "    for (i,j) in Iterators.product(1:N,1:N)\n",
    "        C[i,j] = sqrt(C[i,j] + W[y1[i]+1,y2[j]+1])\n",
    "    end\n",
    "    \n",
    "    n1 = length(y1)\n",
    "    n2 = length(y2)\n",
    "    γ = sinkhorn(ones(n1)./n1, ones(n2)./n2, C, ε);\n",
    "    \n",
    "    return C, γ, dot(C,γ)\n",
    "end"
   ]
  },
  {
   "cell_type": "code",
   "execution_count": 7,
   "id": "4ba3c5d6-0292-4d3e-89da-11bea6fd98bd",
   "metadata": {},
   "outputs": [],
   "source": [
    "Wα = _getW(mnist_x, mnist_y, fmnist_x, fmnist_y);"
   ]
  },
  {
   "cell_type": "code",
   "execution_count": 14,
   "id": "2fff9a21-379b-48f4-a93d-3fa3a16a8f4f",
   "metadata": {},
   "outputs": [],
   "source": [
    "C, γ, cost = otdd(mnist_x, mnist_y, fmnist_x, fmnist_y, W = Wα);"
   ]
  },
  {
   "cell_type": "code",
   "execution_count": 8,
   "id": "c020fdeb-43ce-4919-bc51-e473c5da69e1",
   "metadata": {},
   "outputs": [],
   "source": [
    "N = 100\n",
    "res_jl = umap(hcat(mnist_x[:,1:N],fmnist_x[:,1:N]); n_neighbors=10, min_dist=0.001, n_epochs=200);"
   ]
  },
  {
   "cell_type": "code",
   "execution_count": 9,
   "id": "58041a27-04f6-441a-8cb9-71ef99172b8a",
   "metadata": {},
   "outputs": [],
   "source": [
    "df = DataFrame(\n",
    "    x1     = res_jl'[:,1],\n",
    "    x2     = res_jl'[:,2],\n",
    "    label  = vcat(mnist_y[1:N],fmnist_y[1:N]),\n",
    "    dataset= vcat([\"mnist\" for i in 1:N],[\"fmnist\" for i in 1:N]));"
   ]
  },
  {
   "cell_type": "code",
   "execution_count": 10,
   "id": "397a7cc1-601e-479a-b421-c5149c2c3b50",
   "metadata": {},
   "outputs": [
    {
     "data": {
      "application/vnd.vegalite.v4+json": {
       "data": {
        "values": [
         {
          "dataset": "mnist",
          "label": 5,
          "x1": -2.5471283383984282,
          "x2": 0.08662981395776984
         },
         {
          "dataset": "mnist",
          "label": 0,
          "x1": -2.7751775866448103,
          "x2": 2.384948728129068
         },
         {
          "dataset": "mnist",
          "label": 4,
          "x1": -1.2482872881367912,
          "x2": -1.0307532329860543
         },
         {
          "dataset": "mnist",
          "label": 1,
          "x1": -5.412760137342999,
          "x2": -1.372362859630201
         },
         {
          "dataset": "mnist",
          "label": 9,
          "x1": -3.671916172793586,
          "x2": -2.316226973852801
         },
         {
          "dataset": "mnist",
          "label": 2,
          "x1": -3.9695676376252518,
          "x2": -2.0115985065754365
         },
         {
          "dataset": "mnist",
          "label": 1,
          "x1": -2.6829925879659466,
          "x2": -0.8210241155664617
         },
         {
          "dataset": "mnist",
          "label": 3,
          "x1": -2.7323906155092264,
          "x2": 0.290542075620825
         },
         {
          "dataset": "mnist",
          "label": 1,
          "x1": -2.626523067728577,
          "x2": -0.7757603468583354
         },
         {
          "dataset": "mnist",
          "label": 4,
          "x1": -4.411759968161608,
          "x2": -2.1677593915424103
         },
         {
          "dataset": "mnist",
          "label": 3,
          "x1": -2.2482458589210954,
          "x2": 0.1525829096733233
         },
         {
          "dataset": "mnist",
          "label": 5,
          "x1": -5.2445119627214885,
          "x2": -1.2300305374626068
         },
         {
          "dataset": "mnist",
          "label": 3,
          "x1": -2.095340708163073,
          "x2": 0.09380886223973035
         },
         {
          "dataset": "mnist",
          "label": 6,
          "x1": -0.9485592444361269,
          "x2": 2.22330426100325
         },
         {
          "dataset": "mnist",
          "label": 1,
          "x1": -2.7254042574231274,
          "x2": -0.8449767734918872
         },
         {
          "dataset": "mnist",
          "label": 7,
          "x1": -4.29873924443895,
          "x2": -2.3409149393427544
         },
         {
          "dataset": "mnist",
          "label": 2,
          "x1": -2.2272056831230413,
          "x2": -1.7691386418173405
         },
         {
          "dataset": "mnist",
          "label": 8,
          "x1": -4.126871084680537,
          "x2": -1.2513229994706256
         },
         {
          "dataset": "mnist",
          "label": 6,
          "x1": -1.124583713704793,
          "x2": 0.28859111787928143
         },
         {
          "dataset": "mnist",
          "label": 9,
          "x1": -4.213493746602913,
          "x2": -1.9458691870953664
         },
         {
          "dataset": "mnist",
          "label": 4,
          "x1": -1.3959642202817553,
          "x2": -1.407629536338603
         },
         {
          "dataset": "mnist",
          "label": 0,
          "x1": -2.7848052709266273,
          "x2": 2.3793195428842266
         },
         {
          "dataset": "mnist",
          "label": 9,
          "x1": -4.10428356454789,
          "x2": -1.9059534919132421
         },
         {
          "dataset": "mnist",
          "label": 1,
          "x1": -5.478503842588896,
          "x2": -1.5094113363072
         },
         {
          "dataset": "mnist",
          "label": 1,
          "x1": -4.954036214543691,
          "x2": -1.7216237657078852
         },
         {
          "dataset": "mnist",
          "label": 2,
          "x1": -2.7150875664085543,
          "x2": 0.46481202717724646
         },
         {
          "dataset": "mnist",
          "label": 4,
          "x1": -2.9169872740433984,
          "x2": -1.953964492118022
         },
         {
          "dataset": "mnist",
          "label": 3,
          "x1": -2.649110736549584,
          "x2": 0.25865650443130916
         },
         {
          "dataset": "mnist",
          "label": 2,
          "x1": -2.4874252095116236,
          "x2": -2.3785096020846446
         },
         {
          "dataset": "mnist",
          "label": 7,
          "x1": -4.757576616074296,
          "x2": -2.029710070719333
         },
         {
          "dataset": "mnist",
          "label": 3,
          "x1": -2.276127885136936,
          "x2": -0.6468927083014748
         },
         {
          "dataset": "mnist",
          "label": 8,
          "x1": -4.162945169908217,
          "x2": -1.245831528504183
         },
         {
          "dataset": "mnist",
          "label": 6,
          "x1": -0.9677636588853247,
          "x2": 0.5684621842566958
         },
         {
          "dataset": "mnist",
          "label": 9,
          "x1": -4.411835165472841,
          "x2": -2.1392391895810823
         },
         {
          "dataset": "mnist",
          "label": 0,
          "x1": -2.4399652551292554,
          "x2": 2.3901210143591847
         },
         {
          "dataset": "mnist",
          "label": 5,
          "x1": -5.109699804948507,
          "x2": -1.2569666320965736
         },
         {
          "dataset": "mnist",
          "label": 6,
          "x1": -1.16707308451482,
          "x2": 1.998258865851921
         },
         {
          "dataset": "mnist",
          "label": 0,
          "x1": -2.464391793003353,
          "x2": 2.4311360650325726
         },
         {
          "dataset": "mnist",
          "label": 7,
          "x1": -2.492341614543925,
          "x2": -1.8492735786991967
         },
         {
          "dataset": "mnist",
          "label": 6,
          "x1": -1.03998928846743,
          "x2": 2.0667833081813876
         },
         {
          "dataset": "mnist",
          "label": 1,
          "x1": -2.815296108363623,
          "x2": -0.9208109073660491
         },
         {
          "dataset": "mnist",
          "label": 8,
          "x1": -4.037948319778413,
          "x2": -1.1004182277235008
         },
         {
          "dataset": "mnist",
          "label": 7,
          "x1": -3.160124648700099,
          "x2": -2.0381766081761996
         },
         {
          "dataset": "mnist",
          "label": 9,
          "x1": -3.999975754644807,
          "x2": -1.759087539185788
         },
         {
          "dataset": "mnist",
          "label": 3,
          "x1": -2.081984523559149,
          "x2": -0.13064965914400833
         },
         {
          "dataset": "mnist",
          "label": 9,
          "x1": -3.4698490105591224,
          "x2": -2.1770630845971732
         },
         {
          "dataset": "mnist",
          "label": 8,
          "x1": -5.127834909731989,
          "x2": -0.943119477011474
         },
         {
          "dataset": "mnist",
          "label": 5,
          "x1": -4.789972174405647,
          "x2": -1.5612651580293604
         },
         {
          "dataset": "mnist",
          "label": 9,
          "x1": -1.9659446837717895,
          "x2": -0.07683929698988944
         },
         {
          "dataset": "mnist",
          "label": 3,
          "x1": -2.562387960219293,
          "x2": 0.2328037756426504
         },
         {
          "dataset": "mnist",
          "label": 3,
          "x1": -1.8954650762188605,
          "x2": 0.21217401725838975
         },
         {
          "dataset": "mnist",
          "label": 0,
          "x1": -2.8207760318574255,
          "x2": 2.308670261629885
         },
         {
          "dataset": "mnist",
          "label": 7,
          "x1": -2.6886311309616095,
          "x2": -2.249769604032774
         },
         {
          "dataset": "mnist",
          "label": 4,
          "x1": -4.984671362818534,
          "x2": -1.5329013832433416
         },
         {
          "dataset": "mnist",
          "label": 9,
          "x1": -2.752538650066622,
          "x2": -2.2032237388274294
         },
         {
          "dataset": "mnist",
          "label": 8,
          "x1": -3.9290582747712484,
          "x2": -1.1501656952662904
         },
         {
          "dataset": "mnist",
          "label": 0,
          "x1": -2.896410470887125,
          "x2": 2.160164821620328
         },
         {
          "dataset": "mnist",
          "label": 9,
          "x1": -3.8651446459994014,
          "x2": -2.146470217435249
         },
         {
          "dataset": "mnist",
          "label": 4,
          "x1": -1.457200489306742,
          "x2": -1.3776345142926834
         },
         {
          "dataset": "mnist",
          "label": 1,
          "x1": -5.459429817954894,
          "x2": -1.3393311079760999
         },
         {
          "dataset": "mnist",
          "label": 4,
          "x1": -0.8258017921904217,
          "x2": -1.8417895332875038
         },
         {
          "dataset": "mnist",
          "label": 4,
          "x1": -4.993033820859562,
          "x2": -1.5298318697179052
         },
         {
          "dataset": "mnist",
          "label": 6,
          "x1": -1.1652441677275416,
          "x2": 2.0216382980563834
         },
         {
          "dataset": "mnist",
          "label": 0,
          "x1": -2.7993842645874962,
          "x2": 2.3809897312379404
         },
         {
          "dataset": "mnist",
          "label": 4,
          "x1": -0.9662416067633038,
          "x2": -0.34259607247464474
         },
         {
          "dataset": "mnist",
          "label": 5,
          "x1": -5.4161174851113705,
          "x2": -1.2120775101712
         },
         {
          "dataset": "mnist",
          "label": 6,
          "x1": -1.0960373447685479,
          "x2": 2.081025001030898
         },
         {
          "dataset": "mnist",
          "label": 1,
          "x1": -5.357040884795944,
          "x2": -1.3580304644064762
         },
         {
          "dataset": "mnist",
          "label": 0,
          "x1": -0.795133044705396,
          "x2": -0.49124494502280774
         },
         {
          "dataset": "mnist",
          "label": 0,
          "x1": -2.5390880794255692,
          "x2": 2.45889111760836
         },
         {
          "dataset": "mnist",
          "label": 1,
          "x1": -2.7315805907447053,
          "x2": -0.8459976220307676
         },
         {
          "dataset": "mnist",
          "label": 7,
          "x1": -4.567345354926699,
          "x2": -2.2869066944636476
         },
         {
          "dataset": "mnist",
          "label": 1,
          "x1": -2.7283434076194206,
          "x2": -0.8328213008297123
         },
         {
          "dataset": "mnist",
          "label": 6,
          "x1": -1.0384896589665906,
          "x2": 2.1320094174987347
         },
         {
          "dataset": "mnist",
          "label": 3,
          "x1": -2.0333436924912114,
          "x2": 0.10109092139213816
         },
         {
          "dataset": "mnist",
          "label": 0,
          "x1": -2.5704855940007088,
          "x2": 2.4409979263968586
         },
         {
          "dataset": "mnist",
          "label": 2,
          "x1": -5.5068451615778535,
          "x2": -1.2964425112707114
         },
         {
          "dataset": "mnist",
          "label": 1,
          "x1": -5.457756103955949,
          "x2": -1.3661979351025813
         },
         {
          "dataset": "mnist",
          "label": 1,
          "x1": -5.169355471584417,
          "x2": -1.534083470174771
         },
         {
          "dataset": "mnist",
          "label": 7,
          "x1": -4.660008568441951,
          "x2": -2.1666867240358685
         },
         {
          "dataset": "mnist",
          "label": 9,
          "x1": -1.8168668276117739,
          "x2": 0.5366830530899612
         },
         {
          "dataset": "mnist",
          "label": 0,
          "x1": -2.54190076851245,
          "x2": 2.4246135111562133
         },
         {
          "dataset": "mnist",
          "label": 2,
          "x1": -2.597948533770403,
          "x2": 0.7142508379950742
         },
         {
          "dataset": "mnist",
          "label": 6,
          "x1": -1.0286781266894984,
          "x2": 2.1509345561796516
         },
         {
          "dataset": "mnist",
          "label": 7,
          "x1": -2.6587331891615547,
          "x2": -2.2504996877816112
         },
         {
          "dataset": "mnist",
          "label": 8,
          "x1": -4.047178359091792,
          "x2": -1.0108710243435337
         },
         {
          "dataset": "mnist",
          "label": 3,
          "x1": -1.3402500543988145,
          "x2": -0.4479876619903934
         },
         {
          "dataset": "mnist",
          "label": 9,
          "x1": -4.062914210520056,
          "x2": -2.3511511049384604
         },
         {
          "dataset": "mnist",
          "label": 0,
          "x1": -3.0002999369138563,
          "x2": 1.9912490855885938
         },
         {
          "dataset": "mnist",
          "label": 4,
          "x1": -4.172398966070277,
          "x2": -2.3996580330303705
         },
         {
          "dataset": "mnist",
          "label": 6,
          "x1": -0.9446355742885875,
          "x2": 2.2180194507387556
         },
         {
          "dataset": "mnist",
          "label": 7,
          "x1": -4.516407964680059,
          "x2": -2.3319943391263984
         },
         {
          "dataset": "mnist",
          "label": 4,
          "x1": -1.555417887429004,
          "x2": -1.2575996025748872
         },
         {
          "dataset": "mnist",
          "label": 6,
          "x1": -1.0314612901036286,
          "x2": 2.1549196880336643
         },
         {
          "dataset": "mnist",
          "label": 8,
          "x1": -3.9841630803888948,
          "x2": -1.0841371249231417
         },
         {
          "dataset": "mnist",
          "label": 0,
          "x1": -2.524357761898617,
          "x2": 2.4583081172316654
         },
         {
          "dataset": "mnist",
          "label": 7,
          "x1": -3.4133516959311705,
          "x2": -2.103060636365667
         },
         {
          "dataset": "mnist",
          "label": 8,
          "x1": -4.003496500392892,
          "x2": -1.0836580871719257
         },
         {
          "dataset": "mnist",
          "label": 3,
          "x1": -2.1047909739976407,
          "x2": 0.04830505592451331
         },
         {
          "dataset": "mnist",
          "label": 1,
          "x1": -5.143844668853208,
          "x2": -1.5993706750384908
         },
         {
          "dataset": "fmnist",
          "label": 9,
          "x1": 0.5228408585224241,
          "x2": -3.4114109718374195
         },
         {
          "dataset": "fmnist",
          "label": 0,
          "x1": 2.7125709398799156,
          "x2": -0.010162864824952364
         },
         {
          "dataset": "fmnist",
          "label": 0,
          "x1": -0.13516635159662396,
          "x2": 0.05304188287510053
         },
         {
          "dataset": "fmnist",
          "label": 3,
          "x1": 0.22762944864141232,
          "x2": 0.14694044307543772
         },
         {
          "dataset": "fmnist",
          "label": 0,
          "x1": 2.7991390027267107,
          "x2": 1.5264162341664618
         },
         {
          "dataset": "fmnist",
          "label": 2,
          "x1": 2.948003185421825,
          "x2": -2.1254460252404854
         },
         {
          "dataset": "fmnist",
          "label": 7,
          "x1": -0.7331794965113468,
          "x2": -2.6986471642700973
         },
         {
          "dataset": "fmnist",
          "label": 2,
          "x1": 2.810111938746608,
          "x2": -2.0916446035027323
         },
         {
          "dataset": "fmnist",
          "label": 5,
          "x1": -0.9665055409304092,
          "x2": -0.6640875952768022
         },
         {
          "dataset": "fmnist",
          "label": 5,
          "x1": -0.7672251847914826,
          "x2": -0.8280040313867882
         },
         {
          "dataset": "fmnist",
          "label": 0,
          "x1": 2.719451025057102,
          "x2": 0.0404578271089722
         },
         {
          "dataset": "fmnist",
          "label": 9,
          "x1": 2.1422888313250485,
          "x2": -2.307528548962241
         },
         {
          "dataset": "fmnist",
          "label": 5,
          "x1": -0.355154043930102,
          "x2": -2.5543688458523377
         },
         {
          "dataset": "fmnist",
          "label": 5,
          "x1": -0.4655861564996,
          "x2": -2.483571019208256
         },
         {
          "dataset": "fmnist",
          "label": 7,
          "x1": -0.6744103523137416,
          "x2": -2.481813880531116
         },
         {
          "dataset": "fmnist",
          "label": 9,
          "x1": 0.4688785283442684,
          "x2": -3.4021764304403477
         },
         {
          "dataset": "fmnist",
          "label": 1,
          "x1": 1.782756859228162,
          "x2": 2.0498911951130525
         },
         {
          "dataset": "fmnist",
          "label": 0,
          "x1": 2.7912935933245238,
          "x2": 0.2603642285003859
         },
         {
          "dataset": "fmnist",
          "label": 6,
          "x1": 2.7766377515679235,
          "x2": -2.1815751367735876
         },
         {
          "dataset": "fmnist",
          "label": 4,
          "x1": -0.7338861245271996,
          "x2": -0.49418208083975323
         },
         {
          "dataset": "fmnist",
          "label": 3,
          "x1": 3.0171834391529826,
          "x2": 1.4605200037347335
         },
         {
          "dataset": "fmnist",
          "label": 1,
          "x1": 2.004276725491709,
          "x2": 1.8904219966471916
         },
         {
          "dataset": "fmnist",
          "label": 4,
          "x1": 1.3428199863815695,
          "x2": -0.2524883822175482
         },
         {
          "dataset": "fmnist",
          "label": 8,
          "x1": 0.3323185355205866,
          "x2": -3.3068676876163923
         },
         {
          "dataset": "fmnist",
          "label": 4,
          "x1": 2.6477412732981143,
          "x2": -2.077438700051477
         },
         {
          "dataset": "fmnist",
          "label": 3,
          "x1": 2.7412786404610805,
          "x2": 1.2445139112677666
         },
         {
          "dataset": "fmnist",
          "label": 0,
          "x1": 2.594525004854797,
          "x2": -0.2989302520551668
         },
         {
          "dataset": "fmnist",
          "label": 2,
          "x1": 2.9725656795308484,
          "x2": -2.1615854041645024
         },
         {
          "dataset": "fmnist",
          "label": 4,
          "x1": 2.3582332899595375,
          "x2": -1.5498084313582472
         },
         {
          "dataset": "fmnist",
          "label": 4,
          "x1": 2.6590888565156665,
          "x2": -2.0363955929156505
         },
         {
          "dataset": "fmnist",
          "label": 5,
          "x1": -0.902173661482896,
          "x2": -1.7108765991706187
         },
         {
          "dataset": "fmnist",
          "label": 3,
          "x1": 0.23925511393187088,
          "x2": 0.24544555229424064
         },
         {
          "dataset": "fmnist",
          "label": 6,
          "x1": 2.490540594589077,
          "x2": -1.7851729154584115
         },
         {
          "dataset": "fmnist",
          "label": 6,
          "x1": -1.043504662204293,
          "x2": -0.5961985168156106
         },
         {
          "dataset": "fmnist",
          "label": 0,
          "x1": -1.1020809924470931,
          "x2": -0.4594578972916636
         },
         {
          "dataset": "fmnist",
          "label": 8,
          "x1": -0.18631214166332025,
          "x2": -0.2765709308608574
         },
         {
          "dataset": "fmnist",
          "label": 5,
          "x1": -0.12735878442647286,
          "x2": -0.28868768829686725
         },
         {
          "dataset": "fmnist",
          "label": 2,
          "x1": -0.3739202608752513,
          "x2": -0.4602945350323935
         },
         {
          "dataset": "fmnist",
          "label": 1,
          "x1": 1.7871077847730563,
          "x2": 1.9940465306711643
         },
         {
          "dataset": "fmnist",
          "label": 6,
          "x1": 2.7096587965384757,
          "x2": -2.1263625964235353
         },
         {
          "dataset": "fmnist",
          "label": 6,
          "x1": 2.5769170030010473,
          "x2": -1.9504095542806807
         },
         {
          "dataset": "fmnist",
          "label": 7,
          "x1": -0.7058840853830484,
          "x2": -2.7474449086877026
         },
         {
          "dataset": "fmnist",
          "label": 9,
          "x1": 0.4100188934733245,
          "x2": -3.3642298487323283
         },
         {
          "dataset": "fmnist",
          "label": 5,
          "x1": -0.3617520390616684,
          "x2": -2.6292336410586405
         },
         {
          "dataset": "fmnist",
          "label": 9,
          "x1": 0.9338360726506209,
          "x2": -3.3292568771966478
         },
         {
          "dataset": "fmnist",
          "label": 2,
          "x1": 2.6980563110328566,
          "x2": -1.962716902660725
         },
         {
          "dataset": "fmnist",
          "label": 7,
          "x1": -0.6947296467527021,
          "x2": -2.72013772772266
         },
         {
          "dataset": "fmnist",
          "label": 3,
          "x1": 2.866973134784314,
          "x2": 1.108045010719575
         },
         {
          "dataset": "fmnist",
          "label": 0,
          "x1": 2.622864277956917,
          "x2": -0.14474542436530916
         },
         {
          "dataset": "fmnist",
          "label": 3,
          "x1": 2.821981156972633,
          "x2": 0.9826448609856323
         },
         {
          "dataset": "fmnist",
          "label": 3,
          "x1": 2.8976976045772247,
          "x2": 1.3920807602575465
         },
         {
          "dataset": "fmnist",
          "label": 3,
          "x1": 2.859414902310602,
          "x2": 1.3781289885825811
         },
         {
          "dataset": "fmnist",
          "label": 7,
          "x1": -0.47557892164521653,
          "x2": -2.848983701253058
         },
         {
          "dataset": "fmnist",
          "label": 2,
          "x1": 2.756267323226913,
          "x2": -2.1326326206949853
         },
         {
          "dataset": "fmnist",
          "label": 2,
          "x1": -0.2818402091986637,
          "x2": -0.28144581775919864
         },
         {
          "dataset": "fmnist",
          "label": 6,
          "x1": 2.7420992110613263,
          "x2": 0.02493257549133704
         },
         {
          "dataset": "fmnist",
          "label": 6,
          "x1": 2.0875139973566657,
          "x2": 1.1385626539901263
         },
         {
          "dataset": "fmnist",
          "label": 8,
          "x1": 0.38515664658666565,
          "x2": 0.14062353734565514
         },
         {
          "dataset": "fmnist",
          "label": 3,
          "x1": 2.9045844065629343,
          "x2": 1.4257598677742371
         },
         {
          "dataset": "fmnist",
          "label": 3,
          "x1": 1.2234991374300703,
          "x2": 1.364249286199319
         },
         {
          "dataset": "fmnist",
          "label": 5,
          "x1": -0.6300089961298779,
          "x2": -0.8809565884285296
         },
         {
          "dataset": "fmnist",
          "label": 0,
          "x1": 2.236098048967819,
          "x2": -1.1445057848152231
         },
         {
          "dataset": "fmnist",
          "label": 5,
          "x1": -0.6071253973191744,
          "x2": -2.0872207003577805
         },
         {
          "dataset": "fmnist",
          "label": 5,
          "x1": -1.386401678999479,
          "x2": -0.6346768829119911
         },
         {
          "dataset": "fmnist",
          "label": 0,
          "x1": 2.019992942387961,
          "x2": 0.2672041540513145
         },
         {
          "dataset": "fmnist",
          "label": 2,
          "x1": 2.962910532091981,
          "x2": -1.96663380938998
         },
         {
          "dataset": "fmnist",
          "label": 0,
          "x1": 2.761750432011684,
          "x2": 0.08169480849782937
         },
         {
          "dataset": "fmnist",
          "label": 0,
          "x1": 0.857493579776109,
          "x2": 0.17816050424461619
         },
         {
          "dataset": "fmnist",
          "label": 4,
          "x1": 2.419034886449202,
          "x2": -1.6429527186936865
         },
         {
          "dataset": "fmnist",
          "label": 1,
          "x1": 1.496920277985631,
          "x2": 1.7821241363606637
         },
         {
          "dataset": "fmnist",
          "label": 3,
          "x1": 2.8407240909718814,
          "x2": -0.07472191052032692
         },
         {
          "dataset": "fmnist",
          "label": 1,
          "x1": 1.820151669384254,
          "x2": 2.0319013885183232
         },
         {
          "dataset": "fmnist",
          "label": 6,
          "x1": 0.1464664245679055,
          "x2": 0.09117212448675828
         },
         {
          "dataset": "fmnist",
          "label": 3,
          "x1": 2.9709853654326297,
          "x2": 1.4808766099592807
         },
         {
          "dataset": "fmnist",
          "label": 1,
          "x1": 1.5962611519881291,
          "x2": 1.8837287074270463
         },
         {
          "dataset": "fmnist",
          "label": 4,
          "x1": 2.8245486819659544,
          "x2": 0.8030447528878224
         },
         {
          "dataset": "fmnist",
          "label": 4,
          "x1": 2.1510326856889828,
          "x2": 1.562089273775642
         },
         {
          "dataset": "fmnist",
          "label": 6,
          "x1": 2.6073308100288335,
          "x2": -0.337924101782486
         },
         {
          "dataset": "fmnist",
          "label": 1,
          "x1": 1.6612552732865344,
          "x2": 1.925180870558265
         },
         {
          "dataset": "fmnist",
          "label": 9,
          "x1": 0.6124093904287107,
          "x2": -3.3869194283502133
         },
         {
          "dataset": "fmnist",
          "label": 1,
          "x1": 1.904400221928612,
          "x2": 1.9380164741327894
         },
         {
          "dataset": "fmnist",
          "label": 3,
          "x1": -0.008072897793237931,
          "x2": 0.30411432194183835
         },
         {
          "dataset": "fmnist",
          "label": 5,
          "x1": -0.8497015105576358,
          "x2": -0.7721189429548736
         },
         {
          "dataset": "fmnist",
          "label": 7,
          "x1": -0.5266152405214455,
          "x2": -2.865388042900199
         },
         {
          "dataset": "fmnist",
          "label": 9,
          "x1": 0.8935748939458026,
          "x2": -3.348130979635018
         },
         {
          "dataset": "fmnist",
          "label": 7,
          "x1": -0.2810246665743284,
          "x2": -2.7398911216966573
         },
         {
          "dataset": "fmnist",
          "label": 1,
          "x1": 1.9241688442816463,
          "x2": 2.1019163997272123
         },
         {
          "dataset": "fmnist",
          "label": 7,
          "x1": -0.7833924810566344,
          "x2": -2.674401823239852
         },
         {
          "dataset": "fmnist",
          "label": 9,
          "x1": 0.9543512920252403,
          "x2": -3.3301148508351908
         },
         {
          "dataset": "fmnist",
          "label": 9,
          "x1": 0.16946747589541317,
          "x2": -3.10760096786455
         },
         {
          "dataset": "fmnist",
          "label": 9,
          "x1": 0.1982722749358504,
          "x2": -2.980220688422333
         },
         {
          "dataset": "fmnist",
          "label": 3,
          "x1": 0.44103731220028275,
          "x2": 0.28611052105640106
         },
         {
          "dataset": "fmnist",
          "label": 2,
          "x1": -0.43494900889817545,
          "x2": -0.41584064582778096
         },
         {
          "dataset": "fmnist",
          "label": 9,
          "x1": 0.30215523533322486,
          "x2": -3.283135827455876
         },
         {
          "dataset": "fmnist",
          "label": 3,
          "x1": 2.7843983330334954,
          "x2": 1.2456426611452491
         },
         {
          "dataset": "fmnist",
          "label": 6,
          "x1": 2.3148334390481917,
          "x2": -1.5688533754196214
         },
         {
          "dataset": "fmnist",
          "label": 4,
          "x1": -0.459856862405935,
          "x2": -0.23163103741401428
         },
         {
          "dataset": "fmnist",
          "label": 1,
          "x1": 1.7921672342981643,
          "x2": 2.0064159945438336
         },
         {
          "dataset": "fmnist",
          "label": 1,
          "x1": 1.9721211819274755,
          "x2": 1.9486529690044996
         },
         {
          "dataset": "fmnist",
          "label": 8,
          "x1": 0.3093793249323516,
          "x2": -3.288760303735889
         }
        ]
       },
       "encoding": {
        "color": {
         "field": "dataset",
         "type": "nominal"
        },
        "x": {
         "field": "x1",
         "type": "quantitative"
        },
        "y": {
         "field": "x2",
         "type": "quantitative"
        }
       },
       "height": 500,
       "mark": {
        "opacity": 1,
        "size": 200,
        "type": "circle"
       },
       "selection": {
        "grid": {
         "bind": "scales",
         "resolve": "global",
         "translate": "[mousedown[!event.shiftKey], window:mouseup] > window:mousemove!",
         "type": "interval",
         "zoom": "wheel![!event.shiftKey]"
        }
       },
       "width": 500
      },
      "image/png": "[encoded data removed]",
      "image/svg+xml": [
       "<?xml version=\"1.0\" encoding=\"utf-8\"?>\n",
       "<!DOCTYPE svg PUBLIC \"-//W3C//DTD SVG 1.1//EN\" \"http://www.w3.org/Graphics/SVG/1.1/DTD/svg11.dtd\">\n",
       "<svg xmlns=\"http://www.w3.org/2000/svg\" xmlns:xlink=\"http://www.w3.org/1999/xlink\" version=\"1.1\" class=\"marks\" width=\"621\" height=\"547\" viewBox=\"0 0 621 547\"><rect width=\"621\" height=\"547\" fill=\"white\"/><g fill=\"none\" stroke-miterlimit=\"10\" transform=\"translate(50,10)\"><g class=\"mark-group role-frame root\" role=\"graphics-object\" aria-roledescription=\"group mark container\"><g transform=\"translate(0,0)\"><path class=\"background\" aria-hidden=\"true\" d=\"M0.5,0.5h500v500h-500Z\" stroke=\"#ddd\"/><g><g class=\"mark-group role-axis\" aria-hidden=\"true\"><g transform=\"translate(0.5,500.5)\"><path class=\"background\" aria-hidden=\"true\" d=\"M0,0h0v0h0Z\" pointer-events=\"none\"/><g><g class=\"mark-rule role-axis-grid\" pointer-events=\"none\"><line transform=\"translate(0,-500)\" x2=\"0\" y2=\"500\" stroke=\"#ddd\" stroke-width=\"1\" opacity=\"1\"/><line transform=\"translate(50,-500)\" x2=\"0\" y2=\"500\" stroke=\"#ddd\" stroke-width=\"1\" opacity=\"1\"/><line transform=\"translate(100,-500)\" x2=\"0\" y2=\"500\" stroke=\"#ddd\" stroke-width=\"1\" opacity=\"1\"/><line transform=\"translate(150,-500)\" x2=\"0\" y2=\"500\" stroke=\"#ddd\" stroke-width=\"1\" opacity=\"1\"/><line transform=\"translate(200,-500)\" x2=\"0\" y2=\"500\" stroke=\"#ddd\" stroke-width=\"1\" opacity=\"1\"/><line transform=\"translate(250,-500)\" x2=\"0\" y2=\"500\" stroke=\"#ddd\" stroke-width=\"1\" opacity=\"1\"/><line transform=\"translate(300,-500)\" x2=\"0\" y2=\"500\" stroke=\"#ddd\" stroke-width=\"1\" opacity=\"1\"/><line transform=\"translate(350,-500)\" x2=\"0\" y2=\"500\" stroke=\"#ddd\" stroke-width=\"1\" opacity=\"1\"/><line transform=\"translate(400,-500)\" x2=\"0\" y2=\"500\" stroke=\"#ddd\" stroke-width=\"1\" opacity=\"1\"/><line transform=\"translate(450,-500)\" x2=\"0\" y2=\"500\" stroke=\"#ddd\" stroke-width=\"1\" opacity=\"1\"/><line transform=\"translate(500,-500)\" x2=\"0\" y2=\"500\" stroke=\"#ddd\" stroke-width=\"1\" opacity=\"1\"/></g></g><path class=\"foreground\" aria-hidden=\"true\" d=\"\" pointer-events=\"none\" display=\"none\"/></g></g><g class=\"mark-group role-axis\" aria-hidden=\"true\"><g transform=\"translate(0.5,0.5)\"><path class=\"background\" aria-hidden=\"true\" d=\"M0,0h0v0h0Z\" pointer-events=\"none\"/><g><g class=\"mark-rule role-axis-grid\" pointer-events=\"none\"><line transform=\"translate(0,500)\" x2=\"500\" y2=\"0\" stroke=\"#ddd\" stroke-width=\"1\" opacity=\"1\"/><line transform=\"translate(0,458)\" x2=\"500\" y2=\"0\" stroke=\"#ddd\" stroke-width=\"1\" opacity=\"1\"/><line transform=\"translate(0,417)\" x2=\"500\" y2=\"0\" stroke=\"#ddd\" stroke-width=\"1\" opacity=\"1\"/><line transform=\"translate(0,375)\" x2=\"500\" y2=\"0\" stroke=\"#ddd\" stroke-width=\"1\" opacity=\"1\"/><line transform=\"translate(0,333)\" x2=\"500\" y2=\"0\" stroke=\"#ddd\" stroke-width=\"1\" opacity=\"1\"/><line transform=\"translate(0,292)\" x2=\"500\" y2=\"0\" stroke=\"#ddd\" stroke-width=\"1\" opacity=\"1\"/><line transform=\"translate(0,250)\" x2=\"500\" y2=\"0\" stroke=\"#ddd\" stroke-width=\"1\" opacity=\"1\"/><line transform=\"translate(0,208)\" x2=\"500\" y2=\"0\" stroke=\"#ddd\" stroke-width=\"1\" opacity=\"1\"/><line transform=\"translate(0,167)\" x2=\"500\" y2=\"0\" stroke=\"#ddd\" stroke-width=\"1\" opacity=\"1\"/><line transform=\"translate(0,125)\" x2=\"500\" y2=\"0\" stroke=\"#ddd\" stroke-width=\"1\" opacity=\"1\"/><line transform=\"translate(0,83)\" x2=\"500\" y2=\"0\" stroke=\"#ddd\" stroke-width=\"1\" opacity=\"1\"/><line transform=\"translate(0,42)\" x2=\"500\" y2=\"0\" stroke=\"#ddd\" stroke-width=\"1\" opacity=\"1\"/><line transform=\"translate(0,0)\" x2=\"500\" y2=\"0\" stroke=\"#ddd\" stroke-width=\"1\" opacity=\"1\"/></g></g><path class=\"foreground\" aria-hidden=\"true\" d=\"\" pointer-events=\"none\" display=\"none\"/></g></g><g class=\"mark-group role-axis\" role=\"graphics-symbol\" aria-roledescription=\"axis\" aria-label=\"X-axis titled 'x1' for a linear scale with values from −6 to 4\"><g transform=\"translate(0.5,500.5)\"><path class=\"background\" aria-hidden=\"true\" d=\"M0,0h0v0h0Z\" pointer-events=\"none\"/><g><g class=\"mark-rule role-axis-tick\" pointer-events=\"none\"><line transform=\"translate(0,0)\" x2=\"0\" y2=\"5\" stroke=\"#888\" stroke-width=\"1\" opacity=\"1\"/><line transform=\"translate(50,0)\" x2=\"0\" y2=\"5\" stroke=\"#888\" stroke-width=\"1\" opacity=\"1\"/><line transform=\"translate(100,0)\" x2=\"0\" y2=\"5\" stroke=\"#888\" stroke-width=\"1\" opacity=\"1\"/><line transform=\"translate(150,0)\" x2=\"0\" y2=\"5\" stroke=\"#888\" stroke-width=\"1\" opacity=\"1\"/><line transform=\"translate(200,0)\" x2=\"0\" y2=\"5\" stroke=\"#888\" stroke-width=\"1\" opacity=\"1\"/><line transform=\"translate(250,0)\" x2=\"0\" y2=\"5\" stroke=\"#888\" stroke-width=\"1\" opacity=\"1\"/><line transform=\"translate(300,0)\" x2=\"0\" y2=\"5\" stroke=\"#888\" stroke-width=\"1\" opacity=\"1\"/><line transform=\"translate(350,0)\" x2=\"0\" y2=\"5\" stroke=\"#888\" stroke-width=\"1\" opacity=\"1\"/><line transform=\"translate(400,0)\" x2=\"0\" y2=\"5\" stroke=\"#888\" stroke-width=\"1\" opacity=\"1\"/><line transform=\"translate(450,0)\" x2=\"0\" y2=\"5\" stroke=\"#888\" stroke-width=\"1\" opacity=\"1\"/><line transform=\"translate(500,0)\" x2=\"0\" y2=\"5\" stroke=\"#888\" stroke-width=\"1\" opacity=\"1\"/></g><g class=\"mark-text role-axis-label\" pointer-events=\"none\"><text text-anchor=\"start\" transform=\"translate(0,15)\" font-family=\"sans-serif\" font-size=\"10px\" fill=\"#000\" opacity=\"1\">−6</text><text text-anchor=\"middle\" transform=\"translate(50,15)\" font-family=\"sans-serif\" font-size=\"10px\" fill=\"#000\" opacity=\"1\">−5</text><text text-anchor=\"middle\" transform=\"translate(100,15)\" font-family=\"sans-serif\" font-size=\"10px\" fill=\"#000\" opacity=\"1\">−4</text><text text-anchor=\"middle\" transform=\"translate(150,15)\" font-family=\"sans-serif\" font-size=\"10px\" fill=\"#000\" opacity=\"1\">−3</text><text text-anchor=\"middle\" transform=\"translate(200,15)\" font-family=\"sans-serif\" font-size=\"10px\" fill=\"#000\" opacity=\"1\">−2</text><text text-anchor=\"middle\" transform=\"translate(250,15)\" font-family=\"sans-serif\" font-size=\"10px\" fill=\"#000\" opacity=\"1\">−1</text><text text-anchor=\"middle\" transform=\"translate(300,15)\" font-family=\"sans-serif\" font-size=\"10px\" fill=\"#000\" opacity=\"1\">0</text><text text-anchor=\"middle\" transform=\"translate(350,15)\" font-family=\"sans-serif\" font-size=\"10px\" fill=\"#000\" opacity=\"1\">1</text><text text-anchor=\"middle\" transform=\"translate(400,15)\" font-family=\"sans-serif\" font-size=\"10px\" fill=\"#000\" opacity=\"1\">2</text><text text-anchor=\"middle\" transform=\"translate(450,15)\" font-family=\"sans-serif\" font-size=\"10px\" fill=\"#000\" opacity=\"1\">3</text><text text-anchor=\"end\" transform=\"translate(500,15)\" font-family=\"sans-serif\" font-size=\"10px\" fill=\"#000\" opacity=\"1\">4</text></g><g class=\"mark-rule role-axis-domain\" pointer-events=\"none\"><line transform=\"translate(0,0)\" x2=\"500\" y2=\"0\" stroke=\"#888\" stroke-width=\"1\" opacity=\"1\"/></g><g class=\"mark-text role-axis-title\" pointer-events=\"none\"><text text-anchor=\"middle\" transform=\"translate(250,30)\" font-family=\"sans-serif\" font-size=\"11px\" font-weight=\"bold\" fill=\"#000\" opacity=\"1\">x1</text></g></g><path class=\"foreground\" aria-hidden=\"true\" d=\"\" pointer-events=\"none\" display=\"none\"/></g></g><g class=\"mark-group role-axis\" role=\"graphics-symbol\" aria-roledescription=\"axis\" aria-label=\"Y-axis titled 'x2' for a linear scale with values from −4 to 3\"><g transform=\"translate(0.5,0.5)\"><path class=\"background\" aria-hidden=\"true\" d=\"M0,0h0v0h0Z\" pointer-events=\"none\"/><g><g class=\"mark-rule role-axis-tick\" pointer-events=\"none\"><line transform=\"translate(0,500)\" x2=\"-5\" y2=\"0\" stroke=\"#888\" stroke-width=\"1\" opacity=\"1\"/><line transform=\"translate(0,458)\" x2=\"-5\" y2=\"0\" stroke=\"#888\" stroke-width=\"1\" opacity=\"1\"/><line transform=\"translate(0,417)\" x2=\"-5\" y2=\"0\" stroke=\"#888\" stroke-width=\"1\" opacity=\"1\"/><line transform=\"translate(0,375)\" x2=\"-5\" y2=\"0\" stroke=\"#888\" stroke-width=\"1\" opacity=\"1\"/><line transform=\"translate(0,333)\" x2=\"-5\" y2=\"0\" stroke=\"#888\" stroke-width=\"1\" opacity=\"1\"/><line transform=\"translate(0,292)\" x2=\"-5\" y2=\"0\" stroke=\"#888\" stroke-width=\"1\" opacity=\"1\"/><line transform=\"translate(0,250)\" x2=\"-5\" y2=\"0\" stroke=\"#888\" stroke-width=\"1\" opacity=\"1\"/><line transform=\"translate(0,208)\" x2=\"-5\" y2=\"0\" stroke=\"#888\" stroke-width=\"1\" opacity=\"1\"/><line transform=\"translate(0,167)\" x2=\"-5\" y2=\"0\" stroke=\"#888\" stroke-width=\"1\" opacity=\"1\"/><line transform=\"translate(0,125)\" x2=\"-5\" y2=\"0\" stroke=\"#888\" stroke-width=\"1\" opacity=\"1\"/><line transform=\"translate(0,83)\" x2=\"-5\" y2=\"0\" stroke=\"#888\" stroke-width=\"1\" opacity=\"1\"/><line transform=\"translate(0,42)\" x2=\"-5\" y2=\"0\" stroke=\"#888\" stroke-width=\"1\" opacity=\"1\"/><line transform=\"translate(0,0)\" x2=\"-5\" y2=\"0\" stroke=\"#888\" stroke-width=\"1\" opacity=\"1\"/></g><g class=\"mark-text role-axis-label\" pointer-events=\"none\"><text text-anchor=\"end\" transform=\"translate(-7,503)\" font-family=\"sans-serif\" font-size=\"10px\" fill=\"#000\" opacity=\"1\">−3.5</text><text text-anchor=\"end\" transform=\"translate(-7,461.3333333333333)\" font-family=\"sans-serif\" font-size=\"10px\" fill=\"#000\" opacity=\"1\">−3.0</text><text text-anchor=\"end\" transform=\"translate(-7,419.6666666666667)\" font-family=\"sans-serif\" font-size=\"10px\" fill=\"#000\" opacity=\"1\">−2.5</text><text text-anchor=\"end\" transform=\"translate(-7,378)\" font-family=\"sans-serif\" font-size=\"10px\" fill=\"#000\" opacity=\"1\">−2.0</text><text text-anchor=\"end\" transform=\"translate(-7,336.33333333333337)\" font-family=\"sans-serif\" font-size=\"10px\" fill=\"#000\" opacity=\"1\">−1.5</text><text text-anchor=\"end\" transform=\"translate(-7,294.66666666666663)\" font-family=\"sans-serif\" font-size=\"10px\" fill=\"#000\" opacity=\"1\">−1.0</text><text text-anchor=\"end\" transform=\"translate(-7,253)\" font-family=\"sans-serif\" font-size=\"10px\" fill=\"#000\" opacity=\"1\">−0.5</text><text text-anchor=\"end\" transform=\"translate(-7,211.33333333333331)\" font-family=\"sans-serif\" font-size=\"10px\" fill=\"#000\" opacity=\"1\">0.0</text><text text-anchor=\"end\" transform=\"translate(-7,169.66666666666669)\" font-family=\"sans-serif\" font-size=\"10px\" fill=\"#000\" opacity=\"1\">0.5</text><text text-anchor=\"end\" transform=\"translate(-7,128)\" font-family=\"sans-serif\" font-size=\"10px\" fill=\"#000\" opacity=\"1\">1.0</text><text text-anchor=\"end\" transform=\"translate(-7,86.33333333333331)\" font-family=\"sans-serif\" font-size=\"10px\" fill=\"#000\" opacity=\"1\">1.5</text><text text-anchor=\"end\" transform=\"translate(-7,44.666666666666686)\" font-family=\"sans-serif\" font-size=\"10px\" fill=\"#000\" opacity=\"1\">2.0</text><text text-anchor=\"end\" transform=\"translate(-7,3)\" font-family=\"sans-serif\" font-size=\"10px\" fill=\"#000\" opacity=\"1\">2.5</text></g><g class=\"mark-rule role-axis-domain\" pointer-events=\"none\"><line transform=\"translate(0,500)\" x2=\"0\" y2=\"-500\" stroke=\"#888\" stroke-width=\"1\" opacity=\"1\"/></g><g class=\"mark-text role-axis-title\" pointer-events=\"none\"><text text-anchor=\"middle\" transform=\"translate(-34,250) rotate(-90) translate(0,-2)\" font-family=\"sans-serif\" font-size=\"11px\" font-weight=\"bold\" fill=\"#000\" opacity=\"1\">x2</text></g></g><path class=\"foreground\" aria-hidden=\"true\" d=\"\" pointer-events=\"none\" display=\"none\"/></g></g><g class=\"mark-symbol role-mark marks\" clip-path=\"url(#clip1)\" role=\"graphics-object\" aria-roledescription=\"symbol mark container\"><path aria-label=\"x1: −2.5471283384; x2: 0.0866298139578; dataset: mnist\" role=\"graphics-symbol\" aria-roledescription=\"circle\" transform=\"translate(172.6435830800786,201.11418217018584)\" d=\"M7.0710678118654755,0A7.0710678118654755,7.0710678118654755,0,1,1,-7.0710678118654755,0A7.0710678118654755,7.0710678118654755,0,1,1,7.0710678118654755,0\" fill=\"#f58518\" stroke-width=\"2\" opacity=\"1\"/><path aria-label=\"x1: −2.77517758664; x2: 2.38494872813; dataset: mnist\" role=\"graphics-symbol\" aria-roledescription=\"circle\" transform=\"translate(161.24112066775947,9.587605989244352)\" d=\"M7.0710678118654755,0A7.0710678118654755,7.0710678118654755,0,1,1,-7.0710678118654755,0A7.0710678118654755,7.0710678118654755,0,1,1,7.0710678118654755,0\" fill=\"#f58518\" stroke-width=\"2\" opacity=\"1\"/><path aria-label=\"x1: −1.24828728814; x2: −1.03075323299; dataset: mnist\" role=\"graphics-symbol\" aria-roledescription=\"circle\" transform=\"translate(237.58563559316042,294.2294360821712)\" d=\"M7.0710678118654755,0A7.0710678118654755,7.0710678118654755,0,1,1,-7.0710678118654755,0A7.0710678118654755,7.0710678118654755,0,1,1,7.0710678118654755,0\" fill=\"#f58518\" stroke-width=\"2\" opacity=\"1\"/><path aria-label=\"x1: −5.41276013734; x2: −1.37236285963; dataset: mnist\" role=\"graphics-symbol\" aria-roledescription=\"circle\" transform=\"translate(29.36199313285006,322.69690496918344)\" d=\"M7.0710678118654755,0A7.0710678118654755,7.0710678118654755,0,1,1,-7.0710678118654755,0A7.0710678118654755,7.0710678118654755,0,1,1,7.0710678118654755,0\" fill=\"#f58518\" stroke-width=\"2\" opacity=\"1\"/><path aria-label=\"x1: −3.67191617279; x2: −2.31622697385; dataset: mnist\" role=\"graphics-symbol\" aria-roledescription=\"circle\" transform=\"translate(116.4041913603207,401.3522478210668)\" d=\"M7.0710678118654755,0A7.0710678118654755,7.0710678118654755,0,1,1,-7.0710678118654755,0A7.0710678118654755,7.0710678118654755,0,1,1,7.0710678118654755,0\" fill=\"#f58518\" stroke-width=\"2\" opacity=\"1\"/><path aria-label=\"x1: −3.96956763763; x2: −2.01159850658; dataset: mnist\" role=\"graphics-symbol\" aria-roledescription=\"circle\" transform=\"translate(101.52161811873742,375.9665422146197)\" d=\"M7.0710678118654755,0A7.0710678118654755,7.0710678118654755,0,1,1,-7.0710678118654755,0A7.0710678118654755,7.0710678118654755,0,1,1,7.0710678118654755,0\" fill=\"#f58518\" stroke-width=\"2\" opacity=\"1\"/><path aria-label=\"x1: −2.68299258797; x2: −0.821024115566; dataset: mnist\" role=\"graphics-symbol\" aria-roledescription=\"circle\" transform=\"translate(165.85037060170265,276.75200963053845)\" d=\"M7.0710678118654755,0A7.0710678118654755,7.0710678118654755,0,1,1,-7.0710678118654755,0A7.0710678118654755,7.0710678118654755,0,1,1,7.0710678118654755,0\" fill=\"#f58518\" stroke-width=\"2\" opacity=\"1\"/><path aria-label=\"x1: −2.73239061551; x2: 0.290542075621; dataset: mnist\" role=\"graphics-symbol\" aria-roledescription=\"circle\" transform=\"translate(163.3804692245387,184.12149369826457)\" d=\"M7.0710678118654755,0A7.0710678118654755,7.0710678118654755,0,1,1,-7.0710678118654755,0A7.0710678118654755,7.0710678118654755,0,1,1,7.0710678118654755,0\" fill=\"#f58518\" stroke-width=\"2\" opacity=\"1\"/><path aria-label=\"x1: −2.62652306773; x2: −0.775760346858; dataset: mnist\" role=\"graphics-symbol\" aria-roledescription=\"circle\" transform=\"translate(168.67384661357116,272.9800289048613)\" d=\"M7.0710678118654755,0A7.0710678118654755,7.0710678118654755,0,1,1,-7.0710678118654755,0A7.0710678118654755,7.0710678118654755,0,1,1,7.0710678118654755,0\" fill=\"#f58518\" stroke-width=\"2\" opacity=\"1\"/><path aria-label=\"x1: −4.41175996816; x2: −2.16775939154; dataset: mnist\" role=\"graphics-symbol\" aria-roledescription=\"circle\" transform=\"translate(79.4120015919196,388.97994929520087)\" d=\"M7.0710678118654755,0A7.0710678118654755,7.0710678118654755,0,1,1,-7.0710678118654755,0A7.0710678118654755,7.0710678118654755,0,1,1,7.0710678118654755,0\" fill=\"#f58518\" stroke-width=\"2\" opacity=\"1\"/><path aria-label=\"x1: −2.24824585892; x2: 0.152582909673; dataset: mnist\" role=\"graphics-symbol\" aria-roledescription=\"circle\" transform=\"translate(187.58770705394522,195.61809086055644)\" d=\"M7.0710678118654755,0A7.0710678118654755,7.0710678118654755,0,1,1,-7.0710678118654755,0A7.0710678118654755,7.0710678118654755,0,1,1,7.0710678118654755,0\" fill=\"#f58518\" stroke-width=\"2\" opacity=\"1\"/><path aria-label=\"x1: −5.24451196272; x2: −1.23003053746; dataset: mnist\" role=\"graphics-symbol\" aria-roledescription=\"circle\" transform=\"translate(37.774401863925576,310.835878121884)\" d=\"M7.0710678118654755,0A7.0710678118654755,7.0710678118654755,0,1,1,-7.0710678118654755,0A7.0710678118654755,7.0710678118654755,0,1,1,7.0710678118654755,0\" fill=\"#f58518\" stroke-width=\"2\" opacity=\"1\"/><path aria-label=\"x1: −2.09534070816; x2: 0.0938088622397; dataset: mnist\" role=\"graphics-symbol\" aria-roledescription=\"circle\" transform=\"translate(195.23296459184635,200.5159281466891)\" d=\"M7.0710678118654755,0A7.0710678118654755,7.0710678118654755,0,1,1,-7.0710678118654755,0A7.0710678118654755,7.0710678118654755,0,1,1,7.0710678118654755,0\" fill=\"#f58518\" stroke-width=\"2\" opacity=\"1\"/><path aria-label=\"x1: −0.948559244436; x2: 2.223304261; dataset: mnist\" role=\"graphics-symbol\" aria-roledescription=\"circle\" transform=\"translate(252.57203777819365,23.05797824972916)\" d=\"M7.0710678118654755,0A7.0710678118654755,7.0710678118654755,0,1,1,-7.0710678118654755,0A7.0710678118654755,7.0710678118654755,0,1,1,7.0710678118654755,0\" fill=\"#f58518\" stroke-width=\"2\" opacity=\"1\"/><path aria-label=\"x1: −2.72540425742; x2: −0.844976773492; dataset: mnist\" role=\"graphics-symbol\" aria-roledescription=\"circle\" transform=\"translate(163.7297871288436,278.74806445765734)\" d=\"M7.0710678118654755,0A7.0710678118654755,7.0710678118654755,0,1,1,-7.0710678118654755,0A7.0710678118654755,7.0710678118654755,0,1,1,7.0710678118654755,0\" fill=\"#f58518\" stroke-width=\"2\" opacity=\"1\"/><path aria-label=\"x1: −4.29873924444; x2: −2.34091493934; dataset: mnist\" role=\"graphics-symbol\" aria-roledescription=\"circle\" transform=\"translate(85.06303777805249,403.4095782785629)\" d=\"M7.0710678118654755,0A7.0710678118654755,7.0710678118654755,0,1,1,-7.0710678118654755,0A7.0710678118654755,7.0710678118654755,0,1,1,7.0710678118654755,0\" fill=\"#f58518\" stroke-width=\"2\" opacity=\"1\"/><path aria-label=\"x1: −2.22720568312; x2: −1.76913864182; dataset: mnist\" role=\"graphics-symbol\" aria-roledescription=\"circle\" transform=\"translate(188.6397158438479,355.76155348477835)\" d=\"M7.0710678118654755,0A7.0710678118654755,7.0710678118654755,0,1,1,-7.0710678118654755,0A7.0710678118654755,7.0710678118654755,0,1,1,7.0710678118654755,0\" fill=\"#f58518\" stroke-width=\"2\" opacity=\"1\"/><path aria-label=\"x1: −4.12687108468; x2: −1.25132299947; dataset: mnist\" role=\"graphics-symbol\" aria-roledescription=\"circle\" transform=\"translate(93.65644576597316,312.6102499558855)\" d=\"M7.0710678118654755,0A7.0710678118654755,7.0710678118654755,0,1,1,-7.0710678118654755,0A7.0710678118654755,7.0710678118654755,0,1,1,7.0710678118654755,0\" fill=\"#f58518\" stroke-width=\"2\" opacity=\"1\"/><path aria-label=\"x1: −1.1245837137; x2: 0.288591117879; dataset: mnist\" role=\"graphics-symbol\" aria-roledescription=\"circle\" transform=\"translate(243.7708143147604,184.28407351005987)\" d=\"M7.0710678118654755,0A7.0710678118654755,7.0710678118654755,0,1,1,-7.0710678118654755,0A7.0710678118654755,7.0710678118654755,0,1,1,7.0710678118654755,0\" fill=\"#f58518\" stroke-width=\"2\" opacity=\"1\"/><path aria-label=\"x1: −4.2134937466; x2: −1.9458691871; dataset: mnist\" role=\"graphics-symbol\" aria-roledescription=\"circle\" transform=\"translate(89.32531266985433,370.4890989246139)\" d=\"M7.0710678118654755,0A7.0710678118654755,7.0710678118654755,0,1,1,-7.0710678118654755,0A7.0710678118654755,7.0710678118654755,0,1,1,7.0710678118654755,0\" fill=\"#f58518\" stroke-width=\"2\" opacity=\"1\"/><path aria-label=\"x1: −1.39596422028; x2: −1.40762953634; dataset: mnist\" role=\"graphics-symbol\" aria-roledescription=\"circle\" transform=\"translate(230.20178898591226,325.6357946948836)\" d=\"M7.0710678118654755,0A7.0710678118654755,7.0710678118654755,0,1,1,-7.0710678118654755,0A7.0710678118654755,7.0710678118654755,0,1,1,7.0710678118654755,0\" fill=\"#f58518\" stroke-width=\"2\" opacity=\"1\"/><path aria-label=\"x1: −2.78480527093; x2: 2.37931954288; dataset: mnist\" role=\"graphics-symbol\" aria-roledescription=\"circle\" transform=\"translate(160.75973645366864,10.056704759647761)\" d=\"M7.0710678118654755,0A7.0710678118654755,7.0710678118654755,0,1,1,-7.0710678118654755,0A7.0710678118654755,7.0710678118654755,0,1,1,7.0710678118654755,0\" fill=\"#f58518\" stroke-width=\"2\" opacity=\"1\"/><path aria-label=\"x1: −4.10428356455; x2: −1.90595349191; dataset: mnist\" role=\"graphics-symbol\" aria-roledescription=\"circle\" transform=\"translate(94.7858217726055,367.16279099277017)\" d=\"M7.0710678118654755,0A7.0710678118654755,7.0710678118654755,0,1,1,-7.0710678118654755,0A7.0710678118654755,7.0710678118654755,0,1,1,7.0710678118654755,0\" fill=\"#f58518\" stroke-width=\"2\" opacity=\"1\"/><path aria-label=\"x1: −5.47850384259; x2: −1.50941133631; dataset: mnist\" role=\"graphics-symbol\" aria-roledescription=\"circle\" transform=\"translate(26.074807870555183,334.11761135893335)\" d=\"M7.0710678118654755,0A7.0710678118654755,7.0710678118654755,0,1,1,-7.0710678118654755,0A7.0710678118654755,7.0710678118654755,0,1,1,7.0710678118654755,0\" fill=\"#f58518\" stroke-width=\"2\" opacity=\"1\"/><path aria-label=\"x1: −4.95403621454; x2: −1.72162376571; dataset: mnist\" role=\"graphics-symbol\" aria-roledescription=\"circle\" transform=\"translate(52.29818927281546,351.80198047565716)\" d=\"M7.0710678118654755,0A7.0710678118654755,7.0710678118654755,0,1,1,-7.0710678118654755,0A7.0710678118654755,7.0710678118654755,0,1,1,7.0710678118654755,0\" fill=\"#f58518\" stroke-width=\"2\" opacity=\"1\"/><path aria-label=\"x1: −2.71508756641; x2: 0.464812027177; dataset: mnist\" role=\"graphics-symbol\" aria-roledescription=\"circle\" transform=\"translate(164.2456216795723,169.59899773522946)\" d=\"M7.0710678118654755,0A7.0710678118654755,7.0710678118654755,0,1,1,-7.0710678118654755,0A7.0710678118654755,7.0710678118654755,0,1,1,7.0710678118654755,0\" fill=\"#f58518\" stroke-width=\"2\" opacity=\"1\"/><path aria-label=\"x1: −2.91698727404; x2: −1.95396449212; dataset: mnist\" role=\"graphics-symbol\" aria-roledescription=\"circle\" transform=\"translate(154.15063629783006,371.1637076765019)\" d=\"M7.0710678118654755,0A7.0710678118654755,7.0710678118654755,0,1,1,-7.0710678118654755,0A7.0710678118654755,7.0710678118654755,0,1,1,7.0710678118654755,0\" fill=\"#f58518\" stroke-width=\"2\" opacity=\"1\"/><path aria-label=\"x1: −2.64911073655; x2: 0.258656504431; dataset: mnist\" role=\"graphics-symbol\" aria-roledescription=\"circle\" transform=\"translate(167.5444631725208,186.7786246307242)\" d=\"M7.0710678118654755,0A7.0710678118654755,7.0710678118654755,0,1,1,-7.0710678118654755,0A7.0710678118654755,7.0710678118654755,0,1,1,7.0710678118654755,0\" fill=\"#f58518\" stroke-width=\"2\" opacity=\"1\"/><path aria-label=\"x1: −2.48742520951; x2: −2.37850960208; dataset: mnist\" role=\"graphics-symbol\" aria-roledescription=\"circle\" transform=\"translate(175.62873952441882,406.542466840387)\" d=\"M7.0710678118654755,0A7.0710678118654755,7.0710678118654755,0,1,1,-7.0710678118654755,0A7.0710678118654755,7.0710678118654755,0,1,1,7.0710678118654755,0\" fill=\"#f58518\" stroke-width=\"2\" opacity=\"1\"/><path aria-label=\"x1: −4.75757661607; x2: −2.02971007072; dataset: mnist\" role=\"graphics-symbol\" aria-roledescription=\"circle\" transform=\"translate(62.12116919628521,377.4758392266111)\" d=\"M7.0710678118654755,0A7.0710678118654755,7.0710678118654755,0,1,1,-7.0710678118654755,0A7.0710678118654755,7.0710678118654755,0,1,1,7.0710678118654755,0\" fill=\"#f58518\" stroke-width=\"2\" opacity=\"1\"/><path aria-label=\"x1: −2.27612788514; x2: −0.646892708301; dataset: mnist\" role=\"graphics-symbol\" aria-roledescription=\"circle\" transform=\"translate(186.1936057431532,262.24105902512287)\" d=\"M7.0710678118654755,0A7.0710678118654755,7.0710678118654755,0,1,1,-7.0710678118654755,0A7.0710678118654755,7.0710678118654755,0,1,1,7.0710678118654755,0\" fill=\"#f58518\" stroke-width=\"2\" opacity=\"1\"/><path aria-label=\"x1: −4.16294516991; x2: −1.2458315285; dataset: mnist\" role=\"graphics-symbol\" aria-roledescription=\"circle\" transform=\"translate(91.85274150458915,312.1526273753486)\" d=\"M7.0710678118654755,0A7.0710678118654755,7.0710678118654755,0,1,1,-7.0710678118654755,0A7.0710678118654755,7.0710678118654755,0,1,1,7.0710678118654755,0\" fill=\"#f58518\" stroke-width=\"2\" opacity=\"1\"/><path aria-label=\"x1: −0.967763658885; x2: 0.568462184257; dataset: mnist\" role=\"graphics-symbol\" aria-roledescription=\"circle\" transform=\"translate(251.61181705573375,160.9614846452754)\" d=\"M7.0710678118654755,0A7.0710678118654755,7.0710678118654755,0,1,1,-7.0710678118654755,0A7.0710678118654755,7.0710678118654755,0,1,1,7.0710678118654755,0\" fill=\"#f58518\" stroke-width=\"2\" opacity=\"1\"/><path aria-label=\"x1: −4.41183516547; x2: −2.13923918958; dataset: mnist\" role=\"graphics-symbol\" aria-roledescription=\"circle\" transform=\"translate(79.40824172635797,386.60326579842354)\" d=\"M7.0710678118654755,0A7.0710678118654755,7.0710678118654755,0,1,1,-7.0710678118654755,0A7.0710678118654755,7.0710678118654755,0,1,1,7.0710678118654755,0\" fill=\"#f58518\" stroke-width=\"2\" opacity=\"1\"/><path aria-label=\"x1: −2.43996525513; x2: 2.39012101436; dataset: mnist\" role=\"graphics-symbol\" aria-roledescription=\"circle\" transform=\"translate(178.00173724353724,9.156582136734592)\" d=\"M7.0710678118654755,0A7.0710678118654755,7.0710678118654755,0,1,1,-7.0710678118654755,0A7.0710678118654755,7.0710678118654755,0,1,1,7.0710678118654755,0\" fill=\"#f58518\" stroke-width=\"2\" opacity=\"1\"/><path aria-label=\"x1: −5.10969980495; x2: −1.2569666321; dataset: mnist\" role=\"graphics-symbol\" aria-roledescription=\"circle\" transform=\"translate(44.51500975257465,313.08055267471445)\" d=\"M7.0710678118654755,0A7.0710678118654755,7.0710678118654755,0,1,1,-7.0710678118654755,0A7.0710678118654755,7.0710678118654755,0,1,1,7.0710678118654755,0\" fill=\"#f58518\" stroke-width=\"2\" opacity=\"1\"/><path aria-label=\"x1: −1.16707308451; x2: 1.99825886585; dataset: mnist\" role=\"graphics-symbol\" aria-roledescription=\"circle\" transform=\"translate(241.64634577425898,41.81176117900659)\" d=\"M7.0710678118654755,0A7.0710678118654755,7.0710678118654755,0,1,1,-7.0710678118654755,0A7.0710678118654755,7.0710678118654755,0,1,1,7.0710678118654755,0\" fill=\"#f58518\" stroke-width=\"2\" opacity=\"1\"/><path aria-label=\"x1: −2.464391793; x2: 2.43113606503; dataset: mnist\" role=\"graphics-symbol\" aria-roledescription=\"circle\" transform=\"translate(176.78041034983232,5.738661247285615)\" d=\"M7.0710678118654755,0A7.0710678118654755,7.0710678118654755,0,1,1,-7.0710678118654755,0A7.0710678118654755,7.0710678118654755,0,1,1,7.0710678118654755,0\" fill=\"#f58518\" stroke-width=\"2\" opacity=\"1\"/><path aria-label=\"x1: −2.49234161454; x2: −1.8492735787; dataset: mnist\" role=\"graphics-symbol\" aria-roledescription=\"circle\" transform=\"translate(175.38291927280375,362.43946489159975)\" d=\"M7.0710678118654755,0A7.0710678118654755,7.0710678118654755,0,1,1,-7.0710678118654755,0A7.0710678118654755,7.0710678118654755,0,1,1,7.0710678118654755,0\" fill=\"#f58518\" stroke-width=\"2\" opacity=\"1\"/><path aria-label=\"x1: −1.03998928847; x2: 2.06678330818; dataset: mnist\" role=\"graphics-symbol\" aria-roledescription=\"circle\" transform=\"translate(248.00053557662852,36.101390984884404)\" d=\"M7.0710678118654755,0A7.0710678118654755,7.0710678118654755,0,1,1,-7.0710678118654755,0A7.0710678118654755,7.0710678118654755,0,1,1,7.0710678118654755,0\" fill=\"#f58518\" stroke-width=\"2\" opacity=\"1\"/><path aria-label=\"x1: −2.81529610836; x2: −0.920810907366; dataset: mnist\" role=\"graphics-symbol\" aria-roledescription=\"circle\" transform=\"translate(159.23519458181883,285.06757561383745)\" d=\"M7.0710678118654755,0A7.0710678118654755,7.0710678118654755,0,1,1,-7.0710678118654755,0A7.0710678118654755,7.0710678118654755,0,1,1,7.0710678118654755,0\" fill=\"#f58518\" stroke-width=\"2\" opacity=\"1\"/><path aria-label=\"x1: −4.03794831978; x2: −1.10041822772; dataset: mnist\" role=\"graphics-symbol\" aria-roledescription=\"circle\" transform=\"translate(98.10258401107937,300.0348523102917)\" d=\"M7.0710678118654755,0A7.0710678118654755,7.0710678118654755,0,1,1,-7.0710678118654755,0A7.0710678118654755,7.0710678118654755,0,1,1,7.0710678118654755,0\" fill=\"#f58518\" stroke-width=\"2\" opacity=\"1\"/><path aria-label=\"x1: −3.1601246487; x2: −2.03817660818; dataset: mnist\" role=\"graphics-symbol\" aria-roledescription=\"circle\" transform=\"translate(141.99376756499504,378.1813840146833)\" d=\"M7.0710678118654755,0A7.0710678118654755,7.0710678118654755,0,1,1,-7.0710678118654755,0A7.0710678118654755,7.0710678118654755,0,1,1,7.0710678118654755,0\" fill=\"#f58518\" stroke-width=\"2\" opacity=\"1\"/><path aria-label=\"x1: −3.99997575464; x2: −1.75908753919; dataset: mnist\" role=\"graphics-symbol\" aria-roledescription=\"circle\" transform=\"translate(100.00121226775964,354.92396159881565)\" d=\"M7.0710678118654755,0A7.0710678118654755,7.0710678118654755,0,1,1,-7.0710678118654755,0A7.0710678118654755,7.0710678118654755,0,1,1,7.0710678118654755,0\" fill=\"#f58518\" stroke-width=\"2\" opacity=\"1\"/><path aria-label=\"x1: −2.08198452356; x2: −0.130649659144; dataset: mnist\" role=\"graphics-symbol\" aria-roledescription=\"circle\" transform=\"translate(195.90077382204254,219.22080492866735)\" d=\"M7.0710678118654755,0A7.0710678118654755,7.0710678118654755,0,1,1,-7.0710678118654755,0A7.0710678118654755,7.0710678118654755,0,1,1,7.0710678118654755,0\" fill=\"#f58518\" stroke-width=\"2\" opacity=\"1\"/><path aria-label=\"x1: −3.46984901056; x2: −2.1770630846; dataset: mnist\" role=\"graphics-symbol\" aria-roledescription=\"circle\" transform=\"translate(126.50754947204388,389.75525704976445)\" d=\"M7.0710678118654755,0A7.0710678118654755,7.0710678118654755,0,1,1,-7.0710678118654755,0A7.0710678118654755,7.0710678118654755,0,1,1,7.0710678118654755,0\" fill=\"#f58518\" stroke-width=\"2\" opacity=\"1\"/><path aria-label=\"x1: −5.12783490973; x2: −0.943119477011; dataset: mnist\" role=\"graphics-symbol\" aria-roledescription=\"circle\" transform=\"translate(43.60825451340054,286.92662308428953)\" d=\"M7.0710678118654755,0A7.0710678118654755,7.0710678118654755,0,1,1,-7.0710678118654755,0A7.0710678118654755,7.0710678118654755,0,1,1,7.0710678118654755,0\" fill=\"#f58518\" stroke-width=\"2\" opacity=\"1\"/><path aria-label=\"x1: −4.78997217441; x2: −1.56126515803; dataset: mnist\" role=\"graphics-symbol\" aria-roledescription=\"circle\" transform=\"translate(60.50139127971765,338.4387631691134)\" d=\"M7.0710678118654755,0A7.0710678118654755,7.0710678118654755,0,1,1,-7.0710678118654755,0A7.0710678118654755,7.0710678118654755,0,1,1,7.0710678118654755,0\" fill=\"#f58518\" stroke-width=\"2\" opacity=\"1\"/><path aria-label=\"x1: −1.96594468377; x2: −0.0768392969899; dataset: mnist\" role=\"graphics-symbol\" aria-roledescription=\"circle\" transform=\"translate(201.7027658114105,214.7366080824908)\" d=\"M7.0710678118654755,0A7.0710678118654755,7.0710678118654755,0,1,1,-7.0710678118654755,0A7.0710678118654755,7.0710678118654755,0,1,1,7.0710678118654755,0\" fill=\"#f58518\" stroke-width=\"2\" opacity=\"1\"/><path aria-label=\"x1: −2.56238796022; x2: 0.232803775643; dataset: mnist\" role=\"graphics-symbol\" aria-roledescription=\"circle\" transform=\"translate(171.88060198903534,188.9330186964458)\" d=\"M7.0710678118654755,0A7.0710678118654755,7.0710678118654755,0,1,1,-7.0710678118654755,0A7.0710678118654755,7.0710678118654755,0,1,1,7.0710678118654755,0\" fill=\"#f58518\" stroke-width=\"2\" opacity=\"1\"/><path aria-label=\"x1: −1.89546507622; x2: 0.212174017258; dataset: mnist\" role=\"graphics-symbol\" aria-roledescription=\"circle\" transform=\"translate(205.22674618905697,190.6521652284675)\" d=\"M7.0710678118654755,0A7.0710678118654755,7.0710678118654755,0,1,1,-7.0710678118654755,0A7.0710678118654755,7.0710678118654755,0,1,1,7.0710678118654755,0\" fill=\"#f58518\" stroke-width=\"2\" opacity=\"1\"/><path aria-label=\"x1: −2.82077603186; x2: 2.30867026163; dataset: mnist\" role=\"graphics-symbol\" aria-roledescription=\"circle\" transform=\"translate(158.9611984071287,15.944144864176224)\" d=\"M7.0710678118654755,0A7.0710678118654755,7.0710678118654755,0,1,1,-7.0710678118654755,0A7.0710678118654755,7.0710678118654755,0,1,1,7.0710678118654755,0\" fill=\"#f58518\" stroke-width=\"2\" opacity=\"1\"/><path aria-label=\"x1: −2.68863113096; x2: −2.24976960403; dataset: mnist\" role=\"graphics-symbol\" aria-roledescription=\"circle\" transform=\"translate(165.5684434519195,395.81413366939785)\" d=\"M7.0710678118654755,0A7.0710678118654755,7.0710678118654755,0,1,1,-7.0710678118654755,0A7.0710678118654755,7.0710678118654755,0,1,1,7.0710678118654755,0\" fill=\"#f58518\" stroke-width=\"2\" opacity=\"1\"/><path aria-label=\"x1: −4.98467136282; x2: −1.53290138324; dataset: mnist\" role=\"graphics-symbol\" aria-roledescription=\"circle\" transform=\"translate(50.7664318590733,336.07511527027845)\" d=\"M7.0710678118654755,0A7.0710678118654755,7.0710678118654755,0,1,1,-7.0710678118654755,0A7.0710678118654755,7.0710678118654755,0,1,1,7.0710678118654755,0\" fill=\"#f58518\" stroke-width=\"2\" opacity=\"1\"/><path aria-label=\"x1: −2.75253865007; x2: −2.20322373883; dataset: mnist\" role=\"graphics-symbol\" aria-roledescription=\"circle\" transform=\"translate(162.3730674966689,391.93531156895244)\" d=\"M7.0710678118654755,0A7.0710678118654755,7.0710678118654755,0,1,1,-7.0710678118654755,0A7.0710678118654755,7.0710678118654755,0,1,1,7.0710678118654755,0\" fill=\"#f58518\" stroke-width=\"2\" opacity=\"1\"/><path aria-label=\"x1: −3.92905827477; x2: −1.15016569527; dataset: mnist\" role=\"graphics-symbol\" aria-roledescription=\"circle\" transform=\"translate(103.54708626143757,304.18047460552424)\" d=\"M7.0710678118654755,0A7.0710678118654755,7.0710678118654755,0,1,1,-7.0710678118654755,0A7.0710678118654755,7.0710678118654755,0,1,1,7.0710678118654755,0\" fill=\"#f58518\" stroke-width=\"2\" opacity=\"1\"/><path aria-label=\"x1: −2.89641047089; x2: 2.16016482162; dataset: mnist\" role=\"graphics-symbol\" aria-roledescription=\"circle\" transform=\"translate(155.17947645564374,28.319598198305982)\" d=\"M7.0710678118654755,0A7.0710678118654755,7.0710678118654755,0,1,1,-7.0710678118654755,0A7.0710678118654755,7.0710678118654755,0,1,1,7.0710678118654755,0\" fill=\"#f58518\" stroke-width=\"2\" opacity=\"1\"/><path aria-label=\"x1: −3.865144646; x2: −2.14647021744; dataset: mnist\" role=\"graphics-symbol\" aria-roledescription=\"circle\" transform=\"translate(106.74276770002993,387.2058514529374)\" d=\"M7.0710678118654755,0A7.0710678118654755,7.0710678118654755,0,1,1,-7.0710678118654755,0A7.0710678118654755,7.0710678118654755,0,1,1,7.0710678118654755,0\" fill=\"#f58518\" stroke-width=\"2\" opacity=\"1\"/><path aria-label=\"x1: −1.45720048931; x2: −1.37763451429; dataset: mnist\" role=\"graphics-symbol\" aria-roledescription=\"circle\" transform=\"translate(227.13997553466288,323.13620952439027)\" d=\"M7.0710678118654755,0A7.0710678118654755,7.0710678118654755,0,1,1,-7.0710678118654755,0A7.0710678118654755,7.0710678118654755,0,1,1,7.0710678118654755,0\" fill=\"#f58518\" stroke-width=\"2\" opacity=\"1\"/><path aria-label=\"x1: −5.45942981795; x2: −1.33933110798; dataset: mnist\" role=\"graphics-symbol\" aria-roledescription=\"circle\" transform=\"translate(27.028509102255292,319.94425899800825)\" d=\"M7.0710678118654755,0A7.0710678118654755,7.0710678118654755,0,1,1,-7.0710678118654755,0A7.0710678118654755,7.0710678118654755,0,1,1,7.0710678118654755,0\" fill=\"#f58518\" stroke-width=\"2\" opacity=\"1\"/><path aria-label=\"x1: −0.82580179219; x2: −1.84178953329; dataset: mnist\" role=\"graphics-symbol\" aria-roledescription=\"circle\" transform=\"translate(258.7099103904789,361.81579444062527)\" d=\"M7.0710678118654755,0A7.0710678118654755,7.0710678118654755,0,1,1,-7.0710678118654755,0A7.0710678118654755,7.0710678118654755,0,1,1,7.0710678118654755,0\" fill=\"#f58518\" stroke-width=\"2\" opacity=\"1\"/><path aria-label=\"x1: −4.99303382086; x2: −1.52983186972; dataset: mnist\" role=\"graphics-symbol\" aria-roledescription=\"circle\" transform=\"translate(50.34830895702189,335.8193224764921)\" d=\"M7.0710678118654755,0A7.0710678118654755,7.0710678118654755,0,1,1,-7.0710678118654755,0A7.0710678118654755,7.0710678118654755,0,1,1,7.0710678118654755,0\" fill=\"#f58518\" stroke-width=\"2\" opacity=\"1\"/><path aria-label=\"x1: −1.16524416773; x2: 2.02163829806; dataset: mnist\" role=\"graphics-symbol\" aria-roledescription=\"circle\" transform=\"translate(241.7377916136229,39.86347516196803)\" d=\"M7.0710678118654755,0A7.0710678118654755,7.0710678118654755,0,1,1,-7.0710678118654755,0A7.0710678118654755,7.0710678118654755,0,1,1,7.0710678118654755,0\" fill=\"#f58518\" stroke-width=\"2\" opacity=\"1\"/><path aria-label=\"x1: −2.79938426459; x2: 2.38098973124; dataset: mnist\" role=\"graphics-symbol\" aria-roledescription=\"circle\" transform=\"translate(160.03078677062518,9.91752239683824)\" d=\"M7.0710678118654755,0A7.0710678118654755,7.0710678118654755,0,1,1,-7.0710678118654755,0A7.0710678118654755,7.0710678118654755,0,1,1,7.0710678118654755,0\" fill=\"#f58518\" stroke-width=\"2\" opacity=\"1\"/><path aria-label=\"x1: −0.966241606763; x2: −0.342596072475; dataset: mnist\" role=\"graphics-symbol\" aria-roledescription=\"circle\" transform=\"translate(251.6879196618348,236.88300603955375)\" d=\"M7.0710678118654755,0A7.0710678118654755,7.0710678118654755,0,1,1,-7.0710678118654755,0A7.0710678118654755,7.0710678118654755,0,1,1,7.0710678118654755,0\" fill=\"#f58518\" stroke-width=\"2\" opacity=\"1\"/><path aria-label=\"x1: −5.41611748511; x2: −1.21207751017; dataset: mnist\" role=\"graphics-symbol\" aria-roledescription=\"circle\" transform=\"translate(29.194125744431474,309.33979251426666)\" d=\"M7.0710678118654755,0A7.0710678118654755,7.0710678118654755,0,1,1,-7.0710678118654755,0A7.0710678118654755,7.0710678118654755,0,1,1,7.0710678118654755,0\" fill=\"#f58518\" stroke-width=\"2\" opacity=\"1\"/><path aria-label=\"x1: −1.09603734477; x2: 2.08102500103; dataset: mnist\" role=\"graphics-symbol\" aria-roledescription=\"circle\" transform=\"translate(245.1981327615726,34.914583247425135)\" d=\"M7.0710678118654755,0A7.0710678118654755,7.0710678118654755,0,1,1,-7.0710678118654755,0A7.0710678118654755,7.0710678118654755,0,1,1,7.0710678118654755,0\" fill=\"#f58518\" stroke-width=\"2\" opacity=\"1\"/><path aria-label=\"x1: −5.3570408848; x2: −1.35803046441; dataset: mnist\" role=\"graphics-symbol\" aria-roledescription=\"circle\" transform=\"translate(32.14795576020282,321.5025387005397)\" d=\"M7.0710678118654755,0A7.0710678118654755,7.0710678118654755,0,1,1,-7.0710678118654755,0A7.0710678118654755,7.0710678118654755,0,1,1,7.0710678118654755,0\" fill=\"#f58518\" stroke-width=\"2\" opacity=\"1\"/><path aria-label=\"x1: −0.795133044705; x2: −0.491244945023; dataset: mnist\" role=\"graphics-symbol\" aria-roledescription=\"circle\" transform=\"translate(260.24334776473023,249.27041208523397)\" d=\"M7.0710678118654755,0A7.0710678118654755,7.0710678118654755,0,1,1,-7.0710678118654755,0A7.0710678118654755,7.0710678118654755,0,1,1,7.0710678118654755,0\" fill=\"#f58518\" stroke-width=\"2\" opacity=\"1\"/><path aria-label=\"x1: −2.53908807943; x2: 2.45889111761; dataset: mnist\" role=\"graphics-symbol\" aria-roledescription=\"circle\" transform=\"translate(173.04559602872155,3.425740199303362)\" d=\"M7.0710678118654755,0A7.0710678118654755,7.0710678118654755,0,1,1,-7.0710678118654755,0A7.0710678118654755,7.0710678118654755,0,1,1,7.0710678118654755,0\" fill=\"#f58518\" stroke-width=\"2\" opacity=\"1\"/><path aria-label=\"x1: −2.73158059074; x2: −0.845997622031; dataset: mnist\" role=\"graphics-symbol\" aria-roledescription=\"circle\" transform=\"translate(163.42097046276473,278.83313516923056)\" d=\"M7.0710678118654755,0A7.0710678118654755,7.0710678118654755,0,1,1,-7.0710678118654755,0A7.0710678118654755,7.0710678118654755,0,1,1,7.0710678118654755,0\" fill=\"#f58518\" stroke-width=\"2\" opacity=\"1\"/><path aria-label=\"x1: −4.56734535493; x2: −2.28690669446; dataset: mnist\" role=\"graphics-symbol\" aria-roledescription=\"circle\" transform=\"translate(71.63273225366504,398.908891205304)\" d=\"M7.0710678118654755,0A7.0710678118654755,7.0710678118654755,0,1,1,-7.0710678118654755,0A7.0710678118654755,7.0710678118654755,0,1,1,7.0710678118654755,0\" fill=\"#f58518\" stroke-width=\"2\" opacity=\"1\"/><path aria-label=\"x1: −2.72834340762; x2: −0.83282130083; dataset: mnist\" role=\"graphics-symbol\" aria-roledescription=\"circle\" transform=\"translate(163.58282961902898,277.73510840247604)\" d=\"M7.0710678118654755,0A7.0710678118654755,7.0710678118654755,0,1,1,-7.0710678118654755,0A7.0710678118654755,7.0710678118654755,0,1,1,7.0710678118654755,0\" fill=\"#f58518\" stroke-width=\"2\" opacity=\"1\"/><path aria-label=\"x1: −1.03848965897; x2: 2.1320094175; dataset: mnist\" role=\"graphics-symbol\" aria-roledescription=\"circle\" transform=\"translate(248.07551705167046,30.665881875105494)\" d=\"M7.0710678118654755,0A7.0710678118654755,7.0710678118654755,0,1,1,-7.0710678118654755,0A7.0710678118654755,7.0710678118654755,0,1,1,7.0710678118654755,0\" fill=\"#f58518\" stroke-width=\"2\" opacity=\"1\"/><path aria-label=\"x1: −2.03334369249; x2: 0.101090921392; dataset: mnist\" role=\"graphics-symbol\" aria-roledescription=\"circle\" transform=\"translate(198.33281537543942,199.90908988398849)\" d=\"M7.0710678118654755,0A7.0710678118654755,7.0710678118654755,0,1,1,-7.0710678118654755,0A7.0710678118654755,7.0710678118654755,0,1,1,7.0710678118654755,0\" fill=\"#f58518\" stroke-width=\"2\" opacity=\"1\"/><path aria-label=\"x1: −2.570485594; x2: 2.4409979264; dataset: mnist\" role=\"graphics-symbol\" aria-roledescription=\"circle\" transform=\"translate(171.47572029996456,4.916839466928391)\" d=\"M7.0710678118654755,0A7.0710678118654755,7.0710678118654755,0,1,1,-7.0710678118654755,0A7.0710678118654755,7.0710678118654755,0,1,1,7.0710678118654755,0\" fill=\"#f58518\" stroke-width=\"2\" opacity=\"1\"/><path aria-label=\"x1: −5.50684516158; x2: −1.29644251127; dataset: mnist\" role=\"graphics-symbol\" aria-roledescription=\"circle\" transform=\"translate(24.657741921107323,316.37020927255935)\" d=\"M7.0710678118654755,0A7.0710678118654755,7.0710678118654755,0,1,1,-7.0710678118654755,0A7.0710678118654755,7.0710678118654755,0,1,1,7.0710678118654755,0\" fill=\"#f58518\" stroke-width=\"2\" opacity=\"1\"/><path aria-label=\"x1: −5.45775610396; x2: −1.3661979351; dataset: mnist\" role=\"graphics-symbol\" aria-roledescription=\"circle\" transform=\"translate(27.11219480220257,322.1831612585484)\" d=\"M7.0710678118654755,0A7.0710678118654755,7.0710678118654755,0,1,1,-7.0710678118654755,0A7.0710678118654755,7.0710678118654755,0,1,1,7.0710678118654755,0\" fill=\"#f58518\" stroke-width=\"2\" opacity=\"1\"/><path aria-label=\"x1: −5.16935547158; x2: −1.53408347017; dataset: mnist\" role=\"graphics-symbol\" aria-roledescription=\"circle\" transform=\"translate(41.53222642077914,336.1736225145643)\" d=\"M7.0710678118654755,0A7.0710678118654755,7.0710678118654755,0,1,1,-7.0710678118654755,0A7.0710678118654755,7.0710678118654755,0,1,1,7.0710678118654755,0\" fill=\"#f58518\" stroke-width=\"2\" opacity=\"1\"/><path aria-label=\"x1: −4.66000856844; x2: −2.16668672404; dataset: mnist\" role=\"graphics-symbol\" aria-roledescription=\"circle\" transform=\"translate(66.99957157790246,388.8905603363224)\" d=\"M7.0710678118654755,0A7.0710678118654755,7.0710678118654755,0,1,1,-7.0710678118654755,0A7.0710678118654755,7.0710678118654755,0,1,1,7.0710678118654755,0\" fill=\"#f58518\" stroke-width=\"2\" opacity=\"1\"/><path aria-label=\"x1: −1.81686682761; x2: 0.53668305309; dataset: mnist\" role=\"graphics-symbol\" aria-roledescription=\"circle\" transform=\"translate(209.1566586194113,163.60974557583657)\" d=\"M7.0710678118654755,0A7.0710678118654755,7.0710678118654755,0,1,1,-7.0710678118654755,0A7.0710678118654755,7.0710678118654755,0,1,1,7.0710678118654755,0\" fill=\"#f58518\" stroke-width=\"2\" opacity=\"1\"/><path aria-label=\"x1: −2.54190076851; x2: 2.42461351116; dataset: mnist\" role=\"graphics-symbol\" aria-roledescription=\"circle\" transform=\"translate(172.9049615743775,6.282207403648876)\" d=\"M7.0710678118654755,0A7.0710678118654755,7.0710678118654755,0,1,1,-7.0710678118654755,0A7.0710678118654755,7.0710678118654755,0,1,1,7.0710678118654755,0\" fill=\"#f58518\" stroke-width=\"2\" opacity=\"1\"/><path aria-label=\"x1: −2.59794853377; x2: 0.714250837995; dataset: mnist\" role=\"graphics-symbol\" aria-roledescription=\"circle\" transform=\"translate(170.10257331147986,148.81243016707717)\" d=\"M7.0710678118654755,0A7.0710678118654755,7.0710678118654755,0,1,1,-7.0710678118654755,0A7.0710678118654755,7.0710678118654755,0,1,1,7.0710678118654755,0\" fill=\"#f58518\" stroke-width=\"2\" opacity=\"1\"/><path aria-label=\"x1: −1.02867812669; x2: 2.15093455618; dataset: mnist\" role=\"graphics-symbol\" aria-roledescription=\"circle\" transform=\"translate(248.5660936655251,29.088786985029092)\" d=\"M7.0710678118654755,0A7.0710678118654755,7.0710678118654755,0,1,1,-7.0710678118654755,0A7.0710678118654755,7.0710678118654755,0,1,1,7.0710678118654755,0\" fill=\"#f58518\" stroke-width=\"2\" opacity=\"1\"/><path aria-label=\"x1: −2.65873318916; x2: −2.25049968778; dataset: mnist\" role=\"graphics-symbol\" aria-roledescription=\"circle\" transform=\"translate(167.06334054192226,395.87497398180096)\" d=\"M7.0710678118654755,0A7.0710678118654755,7.0710678118654755,0,1,1,-7.0710678118654755,0A7.0710678118654755,7.0710678118654755,0,1,1,7.0710678118654755,0\" fill=\"#f58518\" stroke-width=\"2\" opacity=\"1\"/><path aria-label=\"x1: −4.04717835909; x2: −1.01087102434; dataset: mnist\" role=\"graphics-symbol\" aria-roledescription=\"circle\" transform=\"translate(97.64108204541041,292.57258536196116)\" d=\"M7.0710678118654755,0A7.0710678118654755,7.0710678118654755,0,1,1,-7.0710678118654755,0A7.0710678118654755,7.0710678118654755,0,1,1,7.0710678118654755,0\" fill=\"#f58518\" stroke-width=\"2\" opacity=\"1\"/><path aria-label=\"x1: −1.3402500544; x2: −0.44798766199; dataset: mnist\" role=\"graphics-symbol\" aria-roledescription=\"circle\" transform=\"translate(232.98749728005927,245.66563849919947)\" d=\"M7.0710678118654755,0A7.0710678118654755,7.0710678118654755,0,1,1,-7.0710678118654755,0A7.0710678118654755,7.0710678118654755,0,1,1,7.0710678118654755,0\" fill=\"#f58518\" stroke-width=\"2\" opacity=\"1\"/><path aria-label=\"x1: −4.06291421052; x2: −2.35115110494; dataset: mnist\" role=\"graphics-symbol\" aria-roledescription=\"circle\" transform=\"translate(96.85428947399721,404.26259207820505)\" d=\"M7.0710678118654755,0A7.0710678118654755,7.0710678118654755,0,1,1,-7.0710678118654755,0A7.0710678118654755,7.0710678118654755,0,1,1,7.0710678118654755,0\" fill=\"#f58518\" stroke-width=\"2\" opacity=\"1\"/><path aria-label=\"x1: −3.00029993691; x2: 1.99124908559; dataset: mnist\" role=\"graphics-symbol\" aria-roledescription=\"circle\" transform=\"translate(149.98500315430718,42.395909534283845)\" d=\"M7.0710678118654755,0A7.0710678118654755,7.0710678118654755,0,1,1,-7.0710678118654755,0A7.0710678118654755,7.0710678118654755,0,1,1,7.0710678118654755,0\" fill=\"#f58518\" stroke-width=\"2\" opacity=\"1\"/><path aria-label=\"x1: −4.17239896607; x2: −2.39965803303; dataset: mnist\" role=\"graphics-symbol\" aria-roledescription=\"circle\" transform=\"translate(91.38005169648613,408.3048360858642)\" d=\"M7.0710678118654755,0A7.0710678118654755,7.0710678118654755,0,1,1,-7.0710678118654755,0A7.0710678118654755,7.0710678118654755,0,1,1,7.0710678118654755,0\" fill=\"#f58518\" stroke-width=\"2\" opacity=\"1\"/><path aria-label=\"x1: −0.944635574289; x2: 2.21801945074; dataset: mnist\" role=\"graphics-symbol\" aria-roledescription=\"circle\" transform=\"translate(252.76822128557063,23.498379105103716)\" d=\"M7.0710678118654755,0A7.0710678118654755,7.0710678118654755,0,1,1,-7.0710678118654755,0A7.0710678118654755,7.0710678118654755,0,1,1,7.0710678118654755,0\" fill=\"#f58518\" stroke-width=\"2\" opacity=\"1\"/><path aria-label=\"x1: −4.51640796468; x2: −2.33199433913; dataset: mnist\" role=\"graphics-symbol\" aria-roledescription=\"circle\" transform=\"translate(74.17960176599706,402.66619492719985)\" d=\"M7.0710678118654755,0A7.0710678118654755,7.0710678118654755,0,1,1,-7.0710678118654755,0A7.0710678118654755,7.0710678118654755,0,1,1,7.0710678118654755,0\" fill=\"#f58518\" stroke-width=\"2\" opacity=\"1\"/><path aria-label=\"x1: −1.55541788743; x2: −1.25759960257; dataset: mnist\" role=\"graphics-symbol\" aria-roledescription=\"circle\" transform=\"translate(222.22910562854977,313.133300214574)\" d=\"M7.0710678118654755,0A7.0710678118654755,7.0710678118654755,0,1,1,-7.0710678118654755,0A7.0710678118654755,7.0710678118654755,0,1,1,7.0710678118654755,0\" fill=\"#f58518\" stroke-width=\"2\" opacity=\"1\"/><path aria-label=\"x1: −1.0314612901; x2: 2.15491968803; dataset: mnist\" role=\"graphics-symbol\" aria-roledescription=\"circle\" transform=\"translate(248.4269354948186,28.756692663861326)\" d=\"M7.0710678118654755,0A7.0710678118654755,7.0710678118654755,0,1,1,-7.0710678118654755,0A7.0710678118654755,7.0710678118654755,0,1,1,7.0710678118654755,0\" fill=\"#f58518\" stroke-width=\"2\" opacity=\"1\"/><path aria-label=\"x1: −3.98416308039; x2: −1.08413712492; dataset: mnist\" role=\"graphics-symbol\" aria-roledescription=\"circle\" transform=\"translate(100.79184598055527,298.6780937435951)\" d=\"M7.0710678118654755,0A7.0710678118654755,7.0710678118654755,0,1,1,-7.0710678118654755,0A7.0710678118654755,7.0710678118654755,0,1,1,7.0710678118654755,0\" fill=\"#f58518\" stroke-width=\"2\" opacity=\"1\"/><path aria-label=\"x1: −2.5243577619; x2: 2.45830811723; dataset: mnist\" role=\"graphics-symbol\" aria-roledescription=\"circle\" transform=\"translate(173.78211190506914,3.474323564027937)\" d=\"M7.0710678118654755,0A7.0710678118654755,7.0710678118654755,0,1,1,-7.0710678118654755,0A7.0710678118654755,7.0710678118654755,0,1,1,7.0710678118654755,0\" fill=\"#f58518\" stroke-width=\"2\" opacity=\"1\"/><path aria-label=\"x1: −3.41335169593; x2: −2.10306063637; dataset: mnist\" role=\"graphics-symbol\" aria-roledescription=\"circle\" transform=\"translate(129.33241520344146,383.5883863638056)\" d=\"M7.0710678118654755,0A7.0710678118654755,7.0710678118654755,0,1,1,-7.0710678118654755,0A7.0710678118654755,7.0710678118654755,0,1,1,7.0710678118654755,0\" fill=\"#f58518\" stroke-width=\"2\" opacity=\"1\"/><path aria-label=\"x1: −4.00349650039; x2: −1.08365808717; dataset: mnist\" role=\"graphics-symbol\" aria-roledescription=\"circle\" transform=\"translate(99.82517498035541,298.6381739309938)\" d=\"M7.0710678118654755,0A7.0710678118654755,7.0710678118654755,0,1,1,-7.0710678118654755,0A7.0710678118654755,7.0710678118654755,0,1,1,7.0710678118654755,0\" fill=\"#f58518\" stroke-width=\"2\" opacity=\"1\"/><path aria-label=\"x1: −2.104790974; x2: 0.0483050559245; dataset: mnist\" role=\"graphics-symbol\" aria-roledescription=\"circle\" transform=\"translate(194.76045130011795,204.30791200629056)\" d=\"M7.0710678118654755,0A7.0710678118654755,7.0710678118654755,0,1,1,-7.0710678118654755,0A7.0710678118654755,7.0710678118654755,0,1,1,7.0710678118654755,0\" fill=\"#f58518\" stroke-width=\"2\" opacity=\"1\"/><path aria-label=\"x1: −5.14384466885; x2: −1.59937067504; dataset: mnist\" role=\"graphics-symbol\" aria-roledescription=\"circle\" transform=\"translate(42.807766557339605,341.6142229198742)\" d=\"M7.0710678118654755,0A7.0710678118654755,7.0710678118654755,0,1,1,-7.0710678118654755,0A7.0710678118654755,7.0710678118654755,0,1,1,7.0710678118654755,0\" fill=\"#f58518\" stroke-width=\"2\" opacity=\"1\"/><path aria-label=\"x1: 0.522840858522; x2: −3.41141097184; dataset: fmnist\" role=\"graphics-symbol\" aria-roledescription=\"circle\" transform=\"translate(326.1420429261212,492.6175809864516)\" d=\"M7.0710678118654755,0A7.0710678118654755,7.0710678118654755,0,1,1,-7.0710678118654755,0A7.0710678118654755,7.0710678118654755,0,1,1,7.0710678118654755,0\" fill=\"#4c78a8\" stroke-width=\"2\" opacity=\"1\"/><path aria-label=\"x1: 2.71257093988; x2: −0.010162864825; dataset: fmnist\" role=\"graphics-symbol\" aria-roledescription=\"circle\" transform=\"translate(435.62854699399577,209.1802387354127)\" d=\"M7.0710678118654755,0A7.0710678118654755,7.0710678118654755,0,1,1,-7.0710678118654755,0A7.0710678118654755,7.0710678118654755,0,1,1,7.0710678118654755,0\" fill=\"#4c78a8\" stroke-width=\"2\" opacity=\"1\"/><path aria-label=\"x1: −0.135166351597; x2: 0.0530418828751; dataset: fmnist\" role=\"graphics-symbol\" aria-roledescription=\"circle\" transform=\"translate(293.2416824201688,203.91317642707497)\" d=\"M7.0710678118654755,0A7.0710678118654755,7.0710678118654755,0,1,1,-7.0710678118654755,0A7.0710678118654755,7.0710678118654755,0,1,1,7.0710678118654755,0\" fill=\"#4c78a8\" stroke-width=\"2\" opacity=\"1\"/><path aria-label=\"x1: 0.227629448641; x2: 0.146940443075; dataset: fmnist\" role=\"graphics-symbol\" aria-roledescription=\"circle\" transform=\"translate(311.3814724320706,196.08829641038022)\" d=\"M7.0710678118654755,0A7.0710678118654755,7.0710678118654755,0,1,1,-7.0710678118654755,0A7.0710678118654755,7.0710678118654755,0,1,1,7.0710678118654755,0\" fill=\"#4c78a8\" stroke-width=\"2\" opacity=\"1\"/><path aria-label=\"x1: 2.79913900273; x2: 1.52641623417; dataset: fmnist\" role=\"graphics-symbol\" aria-roledescription=\"circle\" transform=\"translate(439.9569501363356,81.13198048612819)\" d=\"M7.0710678118654755,0A7.0710678118654755,7.0710678118654755,0,1,1,-7.0710678118654755,0A7.0710678118654755,7.0710678118654755,0,1,1,7.0710678118654755,0\" fill=\"#4c78a8\" stroke-width=\"2\" opacity=\"1\"/><path aria-label=\"x1: 2.94800318542; x2: −2.12544602524; dataset: fmnist\" role=\"graphics-symbol\" aria-roledescription=\"circle\" transform=\"translate(447.4001592710913,385.45383543670715)\" d=\"M7.0710678118654755,0A7.0710678118654755,7.0710678118654755,0,1,1,-7.0710678118654755,0A7.0710678118654755,7.0710678118654755,0,1,1,7.0710678118654755,0\" fill=\"#4c78a8\" stroke-width=\"2\" opacity=\"1\"/><path aria-label=\"x1: −0.733179496511; x2: −2.69864716427; dataset: fmnist\" role=\"graphics-symbol\" aria-roledescription=\"circle\" transform=\"translate(263.3410251744327,433.2205970225081)\" d=\"M7.0710678118654755,0A7.0710678118654755,7.0710678118654755,0,1,1,-7.0710678118654755,0A7.0710678118654755,7.0710678118654755,0,1,1,7.0710678118654755,0\" fill=\"#4c78a8\" stroke-width=\"2\" opacity=\"1\"/><path aria-label=\"x1: 2.81011193875; x2: −2.0916446035; dataset: fmnist\" role=\"graphics-symbol\" aria-roledescription=\"circle\" transform=\"translate(440.50559693733044,382.63705029189435)\" d=\"M7.0710678118654755,0A7.0710678118654755,7.0710678118654755,0,1,1,-7.0710678118654755,0A7.0710678118654755,7.0710678118654755,0,1,1,7.0710678118654755,0\" fill=\"#4c78a8\" stroke-width=\"2\" opacity=\"1\"/><path aria-label=\"x1: −0.96650554093; x2: −0.664087595277; dataset: fmnist\" role=\"graphics-symbol\" aria-roledescription=\"circle\" transform=\"translate(251.67472295347955,263.6739662730668)\" d=\"M7.0710678118654755,0A7.0710678118654755,7.0710678118654755,0,1,1,-7.0710678118654755,0A7.0710678118654755,7.0710678118654755,0,1,1,7.0710678118654755,0\" fill=\"#4c78a8\" stroke-width=\"2\" opacity=\"1\"/><path aria-label=\"x1: −0.767225184791; x2: −0.828004031387; dataset: fmnist\" role=\"graphics-symbol\" aria-roledescription=\"circle\" transform=\"translate(261.6387407604259,277.33366928223234)\" d=\"M7.0710678118654755,0A7.0710678118654755,7.0710678118654755,0,1,1,-7.0710678118654755,0A7.0710678118654755,7.0710678118654755,0,1,1,7.0710678118654755,0\" fill=\"#4c78a8\" stroke-width=\"2\" opacity=\"1\"/><path aria-label=\"x1: 2.71945102506; x2: 0.040457827109; dataset: fmnist\" role=\"graphics-symbol\" aria-roledescription=\"circle\" transform=\"translate(435.9725512528551,204.96184774091896)\" d=\"M7.0710678118654755,0A7.0710678118654755,7.0710678118654755,0,1,1,-7.0710678118654755,0A7.0710678118654755,7.0710678118654755,0,1,1,7.0710678118654755,0\" fill=\"#4c78a8\" stroke-width=\"2\" opacity=\"1\"/><path aria-label=\"x1: 2.14228883133; x2: −2.30752854896; dataset: fmnist\" role=\"graphics-symbol\" aria-roledescription=\"circle\" transform=\"translate(407.1144415662524,400.62737908018676)\" d=\"M7.0710678118654755,0A7.0710678118654755,7.0710678118654755,0,1,1,-7.0710678118654755,0A7.0710678118654755,7.0710678118654755,0,1,1,7.0710678118654755,0\" fill=\"#4c78a8\" stroke-width=\"2\" opacity=\"1\"/><path aria-label=\"x1: −0.35515404393; x2: −2.55436884585; dataset: fmnist\" role=\"graphics-symbol\" aria-roledescription=\"circle\" transform=\"translate(282.2422978034949,421.19740382102816)\" d=\"M7.0710678118654755,0A7.0710678118654755,7.0710678118654755,0,1,1,-7.0710678118654755,0A7.0710678118654755,7.0710678118654755,0,1,1,7.0710678118654755,0\" fill=\"#4c78a8\" stroke-width=\"2\" opacity=\"1\"/><path aria-label=\"x1: −0.4655861565; x2: −2.48357101921; dataset: fmnist\" role=\"graphics-symbol\" aria-roledescription=\"circle\" transform=\"translate(276.72069217501996,415.2975849340213)\" d=\"M7.0710678118654755,0A7.0710678118654755,7.0710678118654755,0,1,1,-7.0710678118654755,0A7.0710678118654755,7.0710678118654755,0,1,1,7.0710678118654755,0\" fill=\"#4c78a8\" stroke-width=\"2\" opacity=\"1\"/><path aria-label=\"x1: −0.674410352314; x2: −2.48181388053; dataset: fmnist\" role=\"graphics-symbol\" aria-roledescription=\"circle\" transform=\"translate(266.2794823843129,415.15115671092633)\" d=\"M7.0710678118654755,0A7.0710678118654755,7.0710678118654755,0,1,1,-7.0710678118654755,0A7.0710678118654755,7.0710678118654755,0,1,1,7.0710678118654755,0\" fill=\"#4c78a8\" stroke-width=\"2\" opacity=\"1\"/><path aria-label=\"x1: 0.468878528344; x2: −3.40217643044; dataset: fmnist\" role=\"graphics-symbol\" aria-roledescription=\"circle\" transform=\"translate(323.44392641721345,491.848035870029)\" d=\"M7.0710678118654755,0A7.0710678118654755,7.0710678118654755,0,1,1,-7.0710678118654755,0A7.0710678118654755,7.0710678118654755,0,1,1,7.0710678118654755,0\" fill=\"#4c78a8\" stroke-width=\"2\" opacity=\"1\"/><path aria-label=\"x1: 1.78275685923; x2: 2.04989119511; dataset: fmnist\" role=\"graphics-symbol\" aria-roledescription=\"circle\" transform=\"translate(389.13784296140807,37.50906707391227)\" d=\"M7.0710678118654755,0A7.0710678118654755,7.0710678118654755,0,1,1,-7.0710678118654755,0A7.0710678118654755,7.0710678118654755,0,1,1,7.0710678118654755,0\" fill=\"#4c78a8\" stroke-width=\"2\" opacity=\"1\"/><path aria-label=\"x1: 2.79129359332; x2: 0.2603642285; dataset: fmnist\" role=\"graphics-symbol\" aria-roledescription=\"circle\" transform=\"translate(439.56467966622614,186.6363142916345)\" d=\"M7.0710678118654755,0A7.0710678118654755,7.0710678118654755,0,1,1,-7.0710678118654755,0A7.0710678118654755,7.0710678118654755,0,1,1,7.0710678118654755,0\" fill=\"#4c78a8\" stroke-width=\"2\" opacity=\"1\"/><path aria-label=\"x1: 2.77663775157; x2: −2.18157513677; dataset: fmnist\" role=\"graphics-symbol\" aria-roledescription=\"circle\" transform=\"translate(438.8318875783962,390.131261397799)\" d=\"M7.0710678118654755,0A7.0710678118654755,7.0710678118654755,0,1,1,-7.0710678118654755,0A7.0710678118654755,7.0710678118654755,0,1,1,7.0710678118654755,0\" fill=\"#4c78a8\" stroke-width=\"2\" opacity=\"1\"/><path aria-label=\"x1: −0.733886124527; x2: −0.49418208084; dataset: fmnist\" role=\"graphics-symbol\" aria-roledescription=\"circle\" transform=\"translate(263.30569377364003,249.51517340331276)\" d=\"M7.0710678118654755,0A7.0710678118654755,7.0710678118654755,0,1,1,-7.0710678118654755,0A7.0710678118654755,7.0710678118654755,0,1,1,7.0710678118654755,0\" fill=\"#4c78a8\" stroke-width=\"2\" opacity=\"1\"/><path aria-label=\"x1: 3.01718343915; x2: 1.46052000373; dataset: fmnist\" role=\"graphics-symbol\" aria-roledescription=\"circle\" transform=\"translate(450.8591719576492,86.62333302210557)\" d=\"M7.0710678118654755,0A7.0710678118654755,7.0710678118654755,0,1,1,-7.0710678118654755,0A7.0710678118654755,7.0710678118654755,0,1,1,7.0710678118654755,0\" fill=\"#4c78a8\" stroke-width=\"2\" opacity=\"1\"/><path aria-label=\"x1: 2.00427672549; x2: 1.89042199665; dataset: fmnist\" role=\"graphics-symbol\" aria-roledescription=\"circle\" transform=\"translate(400.2138362745854,50.79816694606737)\" d=\"M7.0710678118654755,0A7.0710678118654755,7.0710678118654755,0,1,1,-7.0710678118654755,0A7.0710678118654755,7.0710678118654755,0,1,1,7.0710678118654755,0\" fill=\"#4c78a8\" stroke-width=\"2\" opacity=\"1\"/><path aria-label=\"x1: 1.34281998638; x2: −0.252488382218; dataset: fmnist\" role=\"graphics-symbol\" aria-roledescription=\"circle\" transform=\"translate(367.1409993190785,229.37403185146238)\" d=\"M7.0710678118654755,0A7.0710678118654755,7.0710678118654755,0,1,1,-7.0710678118654755,0A7.0710678118654755,7.0710678118654755,0,1,1,7.0710678118654755,0\" fill=\"#4c78a8\" stroke-width=\"2\" opacity=\"1\"/><path aria-label=\"x1: 0.332318535521; x2: −3.30686768762; dataset: fmnist\" role=\"graphics-symbol\" aria-roledescription=\"circle\" transform=\"translate(316.61592677602937,483.90564063469935)\" d=\"M7.0710678118654755,0A7.0710678118654755,7.0710678118654755,0,1,1,-7.0710678118654755,0A7.0710678118654755,7.0710678118654755,0,1,1,7.0710678118654755,0\" fill=\"#4c78a8\" stroke-width=\"2\" opacity=\"1\"/><path aria-label=\"x1: 2.6477412733; x2: −2.07743870005; dataset: fmnist\" role=\"graphics-symbol\" aria-roledescription=\"circle\" transform=\"translate(432.3870636649058,381.4532250042897)\" d=\"M7.0710678118654755,0A7.0710678118654755,7.0710678118654755,0,1,1,-7.0710678118654755,0A7.0710678118654755,7.0710678118654755,0,1,1,7.0710678118654755,0\" fill=\"#4c78a8\" stroke-width=\"2\" opacity=\"1\"/><path aria-label=\"x1: 2.74127864046; x2: 1.24451391127; dataset: fmnist\" role=\"graphics-symbol\" aria-roledescription=\"circle\" transform=\"translate(437.06393202305406,104.6238407276861)\" d=\"M7.0710678118654755,0A7.0710678118654755,7.0710678118654755,0,1,1,-7.0710678118654755,0A7.0710678118654755,7.0710678118654755,0,1,1,7.0710678118654755,0\" fill=\"#4c78a8\" stroke-width=\"2\" opacity=\"1\"/><path aria-label=\"x1: 2.59452500485; x2: −0.298930252055; dataset: fmnist\" role=\"graphics-symbol\" aria-roledescription=\"circle\" transform=\"translate(429.7262502427398,233.24418767126392)\" d=\"M7.0710678118654755,0A7.0710678118654755,7.0710678118654755,0,1,1,-7.0710678118654755,0A7.0710678118654755,7.0710678118654755,0,1,1,7.0710678118654755,0\" fill=\"#4c78a8\" stroke-width=\"2\" opacity=\"1\"/><path aria-label=\"x1: 2.97256567953; x2: −2.16158540416; dataset: fmnist\" role=\"graphics-symbol\" aria-roledescription=\"circle\" transform=\"translate(448.62828397654243,388.4654503470419)\" d=\"M7.0710678118654755,0A7.0710678118654755,7.0710678118654755,0,1,1,-7.0710678118654755,0A7.0710678118654755,7.0710678118654755,0,1,1,7.0710678118654755,0\" fill=\"#4c78a8\" stroke-width=\"2\" opacity=\"1\"/><path aria-label=\"x1: 2.35823328996; x2: −1.54980843136; dataset: fmnist\" role=\"graphics-symbol\" aria-roledescription=\"circle\" transform=\"translate(417.9116644979769,337.4840359465206)\" d=\"M7.0710678118654755,0A7.0710678118654755,7.0710678118654755,0,1,1,-7.0710678118654755,0A7.0710678118654755,7.0710678118654755,0,1,1,7.0710678118654755,0\" fill=\"#4c78a8\" stroke-width=\"2\" opacity=\"1\"/><path aria-label=\"x1: 2.65908885652; x2: −2.03639559292; dataset: fmnist\" role=\"graphics-symbol\" aria-roledescription=\"circle\" transform=\"translate(432.9544428257833,378.0329660763042)\" d=\"M7.0710678118654755,0A7.0710678118654755,7.0710678118654755,0,1,1,-7.0710678118654755,0A7.0710678118654755,7.0710678118654755,0,1,1,7.0710678118654755,0\" fill=\"#4c78a8\" stroke-width=\"2\" opacity=\"1\"/><path aria-label=\"x1: −0.902173661483; x2: −1.71087659917; dataset: fmnist\" role=\"graphics-symbol\" aria-roledescription=\"circle\" transform=\"translate(254.8913169258552,350.90638326421816)\" d=\"M7.0710678118654755,0A7.0710678118654755,7.0710678118654755,0,1,1,-7.0710678118654755,0A7.0710678118654755,7.0710678118654755,0,1,1,7.0710678118654755,0\" fill=\"#4c78a8\" stroke-width=\"2\" opacity=\"1\"/><path aria-label=\"x1: 0.239255113932; x2: 0.245445552294; dataset: fmnist\" role=\"graphics-symbol\" aria-roledescription=\"circle\" transform=\"translate(311.96275569659355,187.8795373088133)\" d=\"M7.0710678118654755,0A7.0710678118654755,7.0710678118654755,0,1,1,-7.0710678118654755,0A7.0710678118654755,7.0710678118654755,0,1,1,7.0710678118654755,0\" fill=\"#4c78a8\" stroke-width=\"2\" opacity=\"1\"/><path aria-label=\"x1: 2.49054059459; x2: −1.78517291546; dataset: fmnist\" role=\"graphics-symbol\" aria-roledescription=\"circle\" transform=\"translate(424.5270297294539,357.0977429548676)\" d=\"M7.0710678118654755,0A7.0710678118654755,7.0710678118654755,0,1,1,-7.0710678118654755,0A7.0710678118654755,7.0710678118654755,0,1,1,7.0710678118654755,0\" fill=\"#4c78a8\" stroke-width=\"2\" opacity=\"1\"/><path aria-label=\"x1: −1.0435046622; x2: −0.596198516816; dataset: fmnist\" role=\"graphics-symbol\" aria-roledescription=\"circle\" transform=\"translate(247.82476688978537,258.0165430679675)\" d=\"M7.0710678118654755,0A7.0710678118654755,7.0710678118654755,0,1,1,-7.0710678118654755,0A7.0710678118654755,7.0710678118654755,0,1,1,7.0710678118654755,0\" fill=\"#4c78a8\" stroke-width=\"2\" opacity=\"1\"/><path aria-label=\"x1: −1.10208099245; x2: −0.459457897292; dataset: fmnist\" role=\"graphics-symbol\" aria-roledescription=\"circle\" transform=\"translate(244.89595037764533,246.62149144097197)\" d=\"M7.0710678118654755,0A7.0710678118654755,7.0710678118654755,0,1,1,-7.0710678118654755,0A7.0710678118654755,7.0710678118654755,0,1,1,7.0710678118654755,0\" fill=\"#4c78a8\" stroke-width=\"2\" opacity=\"1\"/><path aria-label=\"x1: −0.186312141663; x2: −0.276570930861; dataset: fmnist\" role=\"graphics-symbol\" aria-roledescription=\"circle\" transform=\"translate(290.684392916834,231.38091090507146)\" d=\"M7.0710678118654755,0A7.0710678118654755,7.0710678118654755,0,1,1,-7.0710678118654755,0A7.0710678118654755,7.0710678118654755,0,1,1,7.0710678118654755,0\" fill=\"#4c78a8\" stroke-width=\"2\" opacity=\"1\"/><path aria-label=\"x1: −0.127358784426; x2: −0.288687688297; dataset: fmnist\" role=\"graphics-symbol\" aria-roledescription=\"circle\" transform=\"translate(293.6320607786763,232.39064069140565)\" d=\"M7.0710678118654755,0A7.0710678118654755,7.0710678118654755,0,1,1,-7.0710678118654755,0A7.0710678118654755,7.0710678118654755,0,1,1,7.0710678118654755,0\" fill=\"#4c78a8\" stroke-width=\"2\" opacity=\"1\"/><path aria-label=\"x1: −0.373920260875; x2: −0.460294535032; dataset: fmnist\" role=\"graphics-symbol\" aria-roledescription=\"circle\" transform=\"translate(281.30398695623745,246.6912112526995)\" d=\"M7.0710678118654755,0A7.0710678118654755,7.0710678118654755,0,1,1,-7.0710678118654755,0A7.0710678118654755,7.0710678118654755,0,1,1,7.0710678118654755,0\" fill=\"#4c78a8\" stroke-width=\"2\" opacity=\"1\"/><path aria-label=\"x1: 1.78710778477; x2: 1.99404653067; dataset: fmnist\" role=\"graphics-symbol\" aria-roledescription=\"circle\" transform=\"translate(389.35538923865283,42.162789110736284)\" d=\"M7.0710678118654755,0A7.0710678118654755,7.0710678118654755,0,1,1,-7.0710678118654755,0A7.0710678118654755,7.0710678118654755,0,1,1,7.0710678118654755,0\" fill=\"#4c78a8\" stroke-width=\"2\" opacity=\"1\"/><path aria-label=\"x1: 2.70965879654; x2: −2.12636259642; dataset: fmnist\" role=\"graphics-symbol\" aria-roledescription=\"circle\" transform=\"translate(435.48293982692377,385.5302163686279)\" d=\"M7.0710678118654755,0A7.0710678118654755,7.0710678118654755,0,1,1,-7.0710678118654755,0A7.0710678118654755,7.0710678118654755,0,1,1,7.0710678118654755,0\" fill=\"#4c78a8\" stroke-width=\"2\" opacity=\"1\"/><path aria-label=\"x1: 2.576917003; x2: −1.95040955428; dataset: fmnist\" role=\"graphics-symbol\" aria-roledescription=\"circle\" transform=\"translate(428.84585015005234,370.8674628567234)\" d=\"M7.0710678118654755,0A7.0710678118654755,7.0710678118654755,0,1,1,-7.0710678118654755,0A7.0710678118654755,7.0710678118654755,0,1,1,7.0710678118654755,0\" fill=\"#4c78a8\" stroke-width=\"2\" opacity=\"1\"/><path aria-label=\"x1: −0.705884085383; x2: −2.74744490869; dataset: fmnist\" role=\"graphics-symbol\" aria-roledescription=\"circle\" transform=\"translate(264.70579573084757,437.28707572397525)\" d=\"M7.0710678118654755,0A7.0710678118654755,7.0710678118654755,0,1,1,-7.0710678118654755,0A7.0710678118654755,7.0710678118654755,0,1,1,7.0710678118654755,0\" fill=\"#4c78a8\" stroke-width=\"2\" opacity=\"1\"/><path aria-label=\"x1: 0.410018893473; x2: −3.36422984873; dataset: fmnist\" role=\"graphics-symbol\" aria-roledescription=\"circle\" transform=\"translate(320.50094467366625,488.685820727694)\" d=\"M7.0710678118654755,0A7.0710678118654755,7.0710678118654755,0,1,1,-7.0710678118654755,0A7.0710678118654755,7.0710678118654755,0,1,1,7.0710678118654755,0\" fill=\"#4c78a8\" stroke-width=\"2\" opacity=\"1\"/><path aria-label=\"x1: −0.361752039062; x2: −2.62923364106; dataset: fmnist\" role=\"graphics-symbol\" aria-roledescription=\"circle\" transform=\"translate(281.91239804691656,427.4361367548867)\" d=\"M7.0710678118654755,0A7.0710678118654755,7.0710678118654755,0,1,1,-7.0710678118654755,0A7.0710678118654755,7.0710678118654755,0,1,1,7.0710678118654755,0\" fill=\"#4c78a8\" stroke-width=\"2\" opacity=\"1\"/><path aria-label=\"x1: 0.933836072651; x2: −3.3292568772; dataset: fmnist\" role=\"graphics-symbol\" aria-roledescription=\"circle\" transform=\"translate(346.69180363253105,485.771406433054)\" d=\"M7.0710678118654755,0A7.0710678118654755,7.0710678118654755,0,1,1,-7.0710678118654755,0A7.0710678118654755,7.0710678118654755,0,1,1,7.0710678118654755,0\" fill=\"#4c78a8\" stroke-width=\"2\" opacity=\"1\"/><path aria-label=\"x1: 2.69805631103; x2: −1.96271690266; dataset: fmnist\" role=\"graphics-symbol\" aria-roledescription=\"circle\" transform=\"translate(434.9028155516429,371.8930752217271)\" d=\"M7.0710678118654755,0A7.0710678118654755,7.0710678118654755,0,1,1,-7.0710678118654755,0A7.0710678118654755,7.0710678118654755,0,1,1,7.0710678118654755,0\" fill=\"#4c78a8\" stroke-width=\"2\" opacity=\"1\"/><path aria-label=\"x1: −0.694729646753; x2: −2.72013772772; dataset: fmnist\" role=\"graphics-symbol\" aria-roledescription=\"circle\" transform=\"translate(265.2635176623649,435.01147731022166)\" d=\"M7.0710678118654755,0A7.0710678118654755,7.0710678118654755,0,1,1,-7.0710678118654755,0A7.0710678118654755,7.0710678118654755,0,1,1,7.0710678118654755,0\" fill=\"#4c78a8\" stroke-width=\"2\" opacity=\"1\"/><path aria-label=\"x1: 2.86697313478; x2: 1.10804501072; dataset: fmnist\" role=\"graphics-symbol\" aria-roledescription=\"circle\" transform=\"translate(443.34865673921564,115.99624910670208)\" d=\"M7.0710678118654755,0A7.0710678118654755,7.0710678118654755,0,1,1,-7.0710678118654755,0A7.0710678118654755,7.0710678118654755,0,1,1,7.0710678118654755,0\" fill=\"#4c78a8\" stroke-width=\"2\" opacity=\"1\"/><path aria-label=\"x1: 2.62286427796; x2: −0.144745424365; dataset: fmnist\" role=\"graphics-symbol\" aria-roledescription=\"circle\" transform=\"translate(431.1432138978459,220.3954520304424)\" d=\"M7.0710678118654755,0A7.0710678118654755,7.0710678118654755,0,1,1,-7.0710678118654755,0A7.0710678118654755,7.0710678118654755,0,1,1,7.0710678118654755,0\" fill=\"#4c78a8\" stroke-width=\"2\" opacity=\"1\"/><path aria-label=\"x1: 2.82198115697; x2: 0.982644860986; dataset: fmnist\" role=\"graphics-symbol\" aria-roledescription=\"circle\" transform=\"translate(441.0990578486317,126.44626158453059)\" d=\"M7.0710678118654755,0A7.0710678118654755,7.0710678118654755,0,1,1,-7.0710678118654755,0A7.0710678118654755,7.0710678118654755,0,1,1,7.0710678118654755,0\" fill=\"#4c78a8\" stroke-width=\"2\" opacity=\"1\"/><path aria-label=\"x1: 2.89769760458; x2: 1.39208076026; dataset: fmnist\" role=\"graphics-symbol\" aria-roledescription=\"circle\" transform=\"translate(444.8848802288612,92.3266033118711)\" d=\"M7.0710678118654755,0A7.0710678118654755,7.0710678118654755,0,1,1,-7.0710678118654755,0A7.0710678118654755,7.0710678118654755,0,1,1,7.0710678118654755,0\" fill=\"#4c78a8\" stroke-width=\"2\" opacity=\"1\"/><path aria-label=\"x1: 2.85941490231; x2: 1.37812898858; dataset: fmnist\" role=\"graphics-symbol\" aria-roledescription=\"circle\" transform=\"translate(442.9707451155301,93.48925095145155)\" d=\"M7.0710678118654755,0A7.0710678118654755,7.0710678118654755,0,1,1,-7.0710678118654755,0A7.0710678118654755,7.0710678118654755,0,1,1,7.0710678118654755,0\" fill=\"#4c78a8\" stroke-width=\"2\" opacity=\"1\"/><path aria-label=\"x1: −0.475578921645; x2: −2.84898370125; dataset: fmnist\" role=\"graphics-symbol\" aria-roledescription=\"circle\" transform=\"translate(276.22105391773914,445.74864177108816)\" d=\"M7.0710678118654755,0A7.0710678118654755,7.0710678118654755,0,1,1,-7.0710678118654755,0A7.0710678118654755,7.0710678118654755,0,1,1,7.0710678118654755,0\" fill=\"#4c78a8\" stroke-width=\"2\" opacity=\"1\"/><path aria-label=\"x1: 2.75626732323; x2: −2.13263262069; dataset: fmnist\" role=\"graphics-symbol\" aria-roledescription=\"circle\" transform=\"translate(437.81336616134564,386.0527183912488)\" d=\"M7.0710678118654755,0A7.0710678118654755,7.0710678118654755,0,1,1,-7.0710678118654755,0A7.0710678118654755,7.0710678118654755,0,1,1,7.0710678118654755,0\" fill=\"#4c78a8\" stroke-width=\"2\" opacity=\"1\"/><path aria-label=\"x1: −0.281840209199; x2: −0.281445817759; dataset: fmnist\" role=\"graphics-symbol\" aria-roledescription=\"circle\" transform=\"translate(285.9079895400668,231.78715147993324)\" d=\"M7.0710678118654755,0A7.0710678118654755,7.0710678118654755,0,1,1,-7.0710678118654755,0A7.0710678118654755,7.0710678118654755,0,1,1,7.0710678118654755,0\" fill=\"#4c78a8\" stroke-width=\"2\" opacity=\"1\"/><path aria-label=\"x1: 2.74209921106; x2: 0.0249325754913; dataset: fmnist\" role=\"graphics-symbol\" aria-roledescription=\"circle\" transform=\"translate(437.1049605530663,206.25561870905523)\" d=\"M7.0710678118654755,0A7.0710678118654755,7.0710678118654755,0,1,1,-7.0710678118654755,0A7.0710678118654755,7.0710678118654755,0,1,1,7.0710678118654755,0\" fill=\"#4c78a8\" stroke-width=\"2\" opacity=\"1\"/><path aria-label=\"x1: 2.08751399736; x2: 1.13856265399; dataset: fmnist\" role=\"graphics-symbol\" aria-roledescription=\"circle\" transform=\"translate(404.3756998678333,113.4531121674895)\" d=\"M7.0710678118654755,0A7.0710678118654755,7.0710678118654755,0,1,1,-7.0710678118654755,0A7.0710678118654755,7.0710678118654755,0,1,1,7.0710678118654755,0\" fill=\"#4c78a8\" stroke-width=\"2\" opacity=\"1\"/><path aria-label=\"x1: 0.385156646587; x2: 0.140623537346; dataset: fmnist\" role=\"graphics-symbol\" aria-roledescription=\"circle\" transform=\"translate(319.25783232933327,196.6147052211954)\" d=\"M7.0710678118654755,0A7.0710678118654755,7.0710678118654755,0,1,1,-7.0710678118654755,0A7.0710678118654755,7.0710678118654755,0,1,1,7.0710678118654755,0\" fill=\"#4c78a8\" stroke-width=\"2\" opacity=\"1\"/><path aria-label=\"x1: 2.90458440656; x2: 1.42575986777; dataset: fmnist\" role=\"graphics-symbol\" aria-roledescription=\"circle\" transform=\"translate(445.2292203281467,89.52001101881352)\" d=\"M7.0710678118654755,0A7.0710678118654755,7.0710678118654755,0,1,1,-7.0710678118654755,0A7.0710678118654755,7.0710678118654755,0,1,1,7.0710678118654755,0\" fill=\"#4c78a8\" stroke-width=\"2\" opacity=\"1\"/><path aria-label=\"x1: 1.22349913743; x2: 1.3642492862; dataset: fmnist\" role=\"graphics-symbol\" aria-roledescription=\"circle\" transform=\"translate(361.1749568715035,94.64589281672336)\" d=\"M7.0710678118654755,0A7.0710678118654755,7.0710678118654755,0,1,1,-7.0710678118654755,0A7.0710678118654755,7.0710678118654755,0,1,1,7.0710678118654755,0\" fill=\"#4c78a8\" stroke-width=\"2\" opacity=\"1\"/><path aria-label=\"x1: −0.63000899613; x2: −0.880956588429; dataset: fmnist\" role=\"graphics-symbol\" aria-roledescription=\"circle\" transform=\"translate(268.4995501935061,281.74638236904417)\" d=\"M7.0710678118654755,0A7.0710678118654755,7.0710678118654755,0,1,1,-7.0710678118654755,0A7.0710678118654755,7.0710678118654755,0,1,1,7.0710678118654755,0\" fill=\"#4c78a8\" stroke-width=\"2\" opacity=\"1\"/><path aria-label=\"x1: 2.23609804897; x2: −1.14450578482; dataset: fmnist\" role=\"graphics-symbol\" aria-roledescription=\"circle\" transform=\"translate(411.8049024483909,303.70881540126857)\" d=\"M7.0710678118654755,0A7.0710678118654755,7.0710678118654755,0,1,1,-7.0710678118654755,0A7.0710678118654755,7.0710678118654755,0,1,1,7.0710678118654755,0\" fill=\"#4c78a8\" stroke-width=\"2\" opacity=\"1\"/><path aria-label=\"x1: −0.607125397319; x2: −2.08722070036; dataset: fmnist\" role=\"graphics-symbol\" aria-roledescription=\"circle\" transform=\"translate(269.6437301340412,382.2683916964817)\" d=\"M7.0710678118654755,0A7.0710678118654755,7.0710678118654755,0,1,1,-7.0710678118654755,0A7.0710678118654755,7.0710678118654755,0,1,1,7.0710678118654755,0\" fill=\"#4c78a8\" stroke-width=\"2\" opacity=\"1\"/><path aria-label=\"x1: −1.386401679; x2: −0.634676882912; dataset: fmnist\" role=\"graphics-symbol\" aria-roledescription=\"circle\" transform=\"translate(230.67991605002607,261.22307357599925)\" d=\"M7.0710678118654755,0A7.0710678118654755,7.0710678118654755,0,1,1,-7.0710678118654755,0A7.0710678118654755,7.0710678118654755,0,1,1,7.0710678118654755,0\" fill=\"#4c78a8\" stroke-width=\"2\" opacity=\"1\"/><path aria-label=\"x1: 2.01999294239; x2: 0.267204154051; dataset: fmnist\" role=\"graphics-symbol\" aria-roledescription=\"circle\" transform=\"translate(400.99964711939805,186.0663204957238)\" d=\"M7.0710678118654755,0A7.0710678118654755,7.0710678118654755,0,1,1,-7.0710678118654755,0A7.0710678118654755,7.0710678118654755,0,1,1,7.0710678118654755,0\" fill=\"#4c78a8\" stroke-width=\"2\" opacity=\"1\"/><path aria-label=\"x1: 2.96291053209; x2: −1.96663380939; dataset: fmnist\" role=\"graphics-symbol\" aria-roledescription=\"circle\" transform=\"translate(448.1455266045991,372.2194841158317)\" d=\"M7.0710678118654755,0A7.0710678118654755,7.0710678118654755,0,1,1,-7.0710678118654755,0A7.0710678118654755,7.0710678118654755,0,1,1,7.0710678118654755,0\" fill=\"#4c78a8\" stroke-width=\"2\" opacity=\"1\"/><path aria-label=\"x1: 2.76175043201; x2: 0.0816948084978; dataset: fmnist\" role=\"graphics-symbol\" aria-roledescription=\"circle\" transform=\"translate(438.08752160058424,201.5254326251809)\" d=\"M7.0710678118654755,0A7.0710678118654755,7.0710678118654755,0,1,1,-7.0710678118654755,0A7.0710678118654755,7.0710678118654755,0,1,1,7.0710678118654755,0\" fill=\"#4c78a8\" stroke-width=\"2\" opacity=\"1\"/><path aria-label=\"x1: 0.857493579776; x2: 0.178160504245; dataset: fmnist\" role=\"graphics-symbol\" aria-roledescription=\"circle\" transform=\"translate(342.87467898880544,193.48662464628197)\" d=\"M7.0710678118654755,0A7.0710678118654755,7.0710678118654755,0,1,1,-7.0710678118654755,0A7.0710678118654755,7.0710678118654755,0,1,1,7.0710678118654755,0\" fill=\"#4c78a8\" stroke-width=\"2\" opacity=\"1\"/><path aria-label=\"x1: 2.41903488645; x2: −1.64295271869; dataset: fmnist\" role=\"graphics-symbol\" aria-roledescription=\"circle\" transform=\"translate(420.95174432246006,345.24605989114053)\" d=\"M7.0710678118654755,0A7.0710678118654755,7.0710678118654755,0,1,1,-7.0710678118654755,0A7.0710678118654755,7.0710678118654755,0,1,1,7.0710678118654755,0\" fill=\"#4c78a8\" stroke-width=\"2\" opacity=\"1\"/><path aria-label=\"x1: 1.49692027799; x2: 1.78212413636; dataset: fmnist\" role=\"graphics-symbol\" aria-roledescription=\"circle\" transform=\"translate(374.84601389928156,59.82298863661134)\" d=\"M7.0710678118654755,0A7.0710678118654755,7.0710678118654755,0,1,1,-7.0710678118654755,0A7.0710678118654755,7.0710678118654755,0,1,1,7.0710678118654755,0\" fill=\"#4c78a8\" stroke-width=\"2\" opacity=\"1\"/><path aria-label=\"x1: 2.84072409097; x2: −0.0747219105203; dataset: fmnist\" role=\"graphics-symbol\" aria-roledescription=\"circle\" transform=\"translate(442.0362045485941,214.56015921002725)\" d=\"M7.0710678118654755,0A7.0710678118654755,7.0710678118654755,0,1,1,-7.0710678118654755,0A7.0710678118654755,7.0710678118654755,0,1,1,7.0710678118654755,0\" fill=\"#4c78a8\" stroke-width=\"2\" opacity=\"1\"/><path aria-label=\"x1: 1.82015166938; x2: 2.03190138852; dataset: fmnist\" role=\"graphics-symbol\" aria-roledescription=\"circle\" transform=\"translate(391.0075834692127,39.008217623473115)\" d=\"M7.0710678118654755,0A7.0710678118654755,7.0710678118654755,0,1,1,-7.0710678118654755,0A7.0710678118654755,7.0710678118654755,0,1,1,7.0710678118654755,0\" fill=\"#4c78a8\" stroke-width=\"2\" opacity=\"1\"/><path aria-label=\"x1: 0.146466424568; x2: 0.0911721244868; dataset: fmnist\" role=\"graphics-symbol\" aria-roledescription=\"circle\" transform=\"translate(307.3233212283953,200.73565629277013)\" d=\"M7.0710678118654755,0A7.0710678118654755,7.0710678118654755,0,1,1,-7.0710678118654755,0A7.0710678118654755,7.0710678118654755,0,1,1,7.0710678118654755,0\" fill=\"#4c78a8\" stroke-width=\"2\" opacity=\"1\"/><path aria-label=\"x1: 2.97098536543; x2: 1.48087660996; dataset: fmnist\" role=\"graphics-symbol\" aria-roledescription=\"circle\" transform=\"translate(448.54926827163143,84.92694917005994)\" d=\"M7.0710678118654755,0A7.0710678118654755,7.0710678118654755,0,1,1,-7.0710678118654755,0A7.0710678118654755,7.0710678118654755,0,1,1,7.0710678118654755,0\" fill=\"#4c78a8\" stroke-width=\"2\" opacity=\"1\"/><path aria-label=\"x1: 1.59626115199; x2: 1.88372870743; dataset: fmnist\" role=\"graphics-symbol\" aria-roledescription=\"circle\" transform=\"translate(379.8130575994064,51.35594104774616)\" d=\"M7.0710678118654755,0A7.0710678118654755,7.0710678118654755,0,1,1,-7.0710678118654755,0A7.0710678118654755,7.0710678118654755,0,1,1,7.0710678118654755,0\" fill=\"#4c78a8\" stroke-width=\"2\" opacity=\"1\"/><path aria-label=\"x1: 2.82454868197; x2: 0.803044752888; dataset: fmnist\" role=\"graphics-symbol\" aria-roledescription=\"circle\" transform=\"translate(441.2274340982977,141.41293725934818)\" d=\"M7.0710678118654755,0A7.0710678118654755,7.0710678118654755,0,1,1,-7.0710678118654755,0A7.0710678118654755,7.0710678118654755,0,1,1,7.0710678118654755,0\" fill=\"#4c78a8\" stroke-width=\"2\" opacity=\"1\"/><path aria-label=\"x1: 2.15103268569; x2: 1.56208927378; dataset: fmnist\" role=\"graphics-symbol\" aria-roledescription=\"circle\" transform=\"translate(407.55163428444905,78.15922718536311)\" d=\"M7.0710678118654755,0A7.0710678118654755,7.0710678118654755,0,1,1,-7.0710678118654755,0A7.0710678118654755,7.0710678118654755,0,1,1,7.0710678118654755,0\" fill=\"#4c78a8\" stroke-width=\"2\" opacity=\"1\"/><path aria-label=\"x1: 2.60733081003; x2: −0.337924101782; dataset: fmnist\" role=\"graphics-symbol\" aria-roledescription=\"circle\" transform=\"translate(430.36654050144176,236.49367514854052)\" d=\"M7.0710678118654755,0A7.0710678118654755,7.0710678118654755,0,1,1,-7.0710678118654755,0A7.0710678118654755,7.0710678118654755,0,1,1,7.0710678118654755,0\" fill=\"#4c78a8\" stroke-width=\"2\" opacity=\"1\"/><path aria-label=\"x1: 1.66125527329; x2: 1.92518087056; dataset: fmnist\" role=\"graphics-symbol\" aria-roledescription=\"circle\" transform=\"translate(383.0627636643267,47.90159412014461)\" d=\"M7.0710678118654755,0A7.0710678118654755,7.0710678118654755,0,1,1,-7.0710678118654755,0A7.0710678118654755,7.0710678118654755,0,1,1,7.0710678118654755,0\" fill=\"#4c78a8\" stroke-width=\"2\" opacity=\"1\"/><path aria-label=\"x1: 0.612409390429; x2: −3.38691942835; dataset: fmnist\" role=\"graphics-symbol\" aria-roledescription=\"circle\" transform=\"translate(330.62046952143555,490.5766190291844)\" d=\"M7.0710678118654755,0A7.0710678118654755,7.0710678118654755,0,1,1,-7.0710678118654755,0A7.0710678118654755,7.0710678118654755,0,1,1,7.0710678118654755,0\" fill=\"#4c78a8\" stroke-width=\"2\" opacity=\"1\"/><path aria-label=\"x1: 1.90440022193; x2: 1.93801647413; dataset: fmnist\" role=\"graphics-symbol\" aria-roledescription=\"circle\" transform=\"translate(395.2200110964306,46.83196048893423)\" d=\"M7.0710678118654755,0A7.0710678118654755,7.0710678118654755,0,1,1,-7.0710678118654755,0A7.0710678118654755,7.0710678118654755,0,1,1,7.0710678118654755,0\" fill=\"#4c78a8\" stroke-width=\"2\" opacity=\"1\"/><path aria-label=\"x1: −0.00807289779324; x2: 0.304114321942; dataset: fmnist\" role=\"graphics-symbol\" aria-roledescription=\"circle\" transform=\"translate(299.5963551103381,182.99047317151346)\" d=\"M7.0710678118654755,0A7.0710678118654755,7.0710678118654755,0,1,1,-7.0710678118654755,0A7.0710678118654755,7.0710678118654755,0,1,1,7.0710678118654755,0\" fill=\"#4c78a8\" stroke-width=\"2\" opacity=\"1\"/><path aria-label=\"x1: −0.849701510558; x2: −0.772118942955; dataset: fmnist\" role=\"graphics-symbol\" aria-roledescription=\"circle\" transform=\"translate(257.5149244721182,272.67657857957283)\" d=\"M7.0710678118654755,0A7.0710678118654755,7.0710678118654755,0,1,1,-7.0710678118654755,0A7.0710678118654755,7.0710678118654755,0,1,1,7.0710678118654755,0\" fill=\"#4c78a8\" stroke-width=\"2\" opacity=\"1\"/><path aria-label=\"x1: −0.526615240521; x2: −2.8653880429; dataset: fmnist\" role=\"graphics-symbol\" aria-roledescription=\"circle\" transform=\"translate(273.66923797392775,447.11567024168323)\" d=\"M7.0710678118654755,0A7.0710678118654755,7.0710678118654755,0,1,1,-7.0710678118654755,0A7.0710678118654755,7.0710678118654755,0,1,1,7.0710678118654755,0\" fill=\"#4c78a8\" stroke-width=\"2\" opacity=\"1\"/><path aria-label=\"x1: 0.893574893946; x2: −3.34813097964; dataset: fmnist\" role=\"graphics-symbol\" aria-roledescription=\"circle\" transform=\"translate(344.67874469729014,487.3442483029182)\" d=\"M7.0710678118654755,0A7.0710678118654755,7.0710678118654755,0,1,1,-7.0710678118654755,0A7.0710678118654755,7.0710678118654755,0,1,1,7.0710678118654755,0\" fill=\"#4c78a8\" stroke-width=\"2\" opacity=\"1\"/><path aria-label=\"x1: −0.281024666574; x2: −2.7398911217; dataset: fmnist\" role=\"graphics-symbol\" aria-roledescription=\"circle\" transform=\"translate(285.9487666712835,436.65759347472147)\" d=\"M7.0710678118654755,0A7.0710678118654755,7.0710678118654755,0,1,1,-7.0710678118654755,0A7.0710678118654755,7.0710678118654755,0,1,1,7.0710678118654755,0\" fill=\"#4c78a8\" stroke-width=\"2\" opacity=\"1\"/><path aria-label=\"x1: 1.92416884428; x2: 2.10191639973; dataset: fmnist\" role=\"graphics-symbol\" aria-roledescription=\"circle\" transform=\"translate(396.2084422140823,33.17363335606566)\" d=\"M7.0710678118654755,0A7.0710678118654755,7.0710678118654755,0,1,1,-7.0710678118654755,0A7.0710678118654755,7.0710678118654755,0,1,1,7.0710678118654755,0\" fill=\"#4c78a8\" stroke-width=\"2\" opacity=\"1\"/><path aria-label=\"x1: −0.783392481057; x2: −2.67440182324; dataset: fmnist\" role=\"graphics-symbol\" aria-roledescription=\"circle\" transform=\"translate(260.8303759471683,431.2001519366543)\" d=\"M7.0710678118654755,0A7.0710678118654755,7.0710678118654755,0,1,1,-7.0710678118654755,0A7.0710678118654755,7.0710678118654755,0,1,1,7.0710678118654755,0\" fill=\"#4c78a8\" stroke-width=\"2\" opacity=\"1\"/><path aria-label=\"x1: 0.954351292025; x2: −3.33011485084; dataset: fmnist\" role=\"graphics-symbol\" aria-roledescription=\"circle\" transform=\"translate(347.71756460126204,485.8429042362659)\" d=\"M7.0710678118654755,0A7.0710678118654755,7.0710678118654755,0,1,1,-7.0710678118654755,0A7.0710678118654755,7.0710678118654755,0,1,1,7.0710678118654755,0\" fill=\"#4c78a8\" stroke-width=\"2\" opacity=\"1\"/><path aria-label=\"x1: 0.169467475895; x2: −3.10760096786; dataset: fmnist\" role=\"graphics-symbol\" aria-roledescription=\"circle\" transform=\"translate(308.4733737947706,467.30008065537913)\" d=\"M7.0710678118654755,0A7.0710678118654755,7.0710678118654755,0,1,1,-7.0710678118654755,0A7.0710678118654755,7.0710678118654755,0,1,1,7.0710678118654755,0\" fill=\"#4c78a8\" stroke-width=\"2\" opacity=\"1\"/><path aria-label=\"x1: 0.198272274936; x2: −2.98022068842; dataset: fmnist\" role=\"graphics-symbol\" aria-roledescription=\"circle\" transform=\"translate(309.9136137467925,456.6850573685278)\" d=\"M7.0710678118654755,0A7.0710678118654755,7.0710678118654755,0,1,1,-7.0710678118654755,0A7.0710678118654755,7.0710678118654755,0,1,1,7.0710678118654755,0\" fill=\"#4c78a8\" stroke-width=\"2\" opacity=\"1\"/><path aria-label=\"x1: 0.4410373122; x2: 0.286110521056; dataset: fmnist\" role=\"graphics-symbol\" aria-roledescription=\"circle\" transform=\"translate(322.05186561001415,184.4907899119666)\" d=\"M7.0710678118654755,0A7.0710678118654755,7.0710678118654755,0,1,1,-7.0710678118654755,0A7.0710678118654755,7.0710678118654755,0,1,1,7.0710678118654755,0\" fill=\"#4c78a8\" stroke-width=\"2\" opacity=\"1\"/><path aria-label=\"x1: −0.434949008898; x2: −0.415840645828; dataset: fmnist\" role=\"graphics-symbol\" aria-roledescription=\"circle\" transform=\"translate(278.25254955509126,242.9867204856484)\" d=\"M7.0710678118654755,0A7.0710678118654755,7.0710678118654755,0,1,1,-7.0710678118654755,0A7.0710678118654755,7.0710678118654755,0,1,1,7.0710678118654755,0\" fill=\"#4c78a8\" stroke-width=\"2\" opacity=\"1\"/><path aria-label=\"x1: 0.302155235333; x2: −3.28313582746; dataset: fmnist\" role=\"graphics-symbol\" aria-roledescription=\"circle\" transform=\"translate(315.1077617666612,481.927985621323)\" d=\"M7.0710678118654755,0A7.0710678118654755,7.0710678118654755,0,1,1,-7.0710678118654755,0A7.0710678118654755,7.0710678118654755,0,1,1,7.0710678118654755,0\" fill=\"#4c78a8\" stroke-width=\"2\" opacity=\"1\"/><path aria-label=\"x1: 2.78439833303; x2: 1.24564266115; dataset: fmnist\" role=\"graphics-symbol\" aria-roledescription=\"circle\" transform=\"translate(439.21991665167474,104.52977823789594)\" d=\"M7.0710678118654755,0A7.0710678118654755,7.0710678118654755,0,1,1,-7.0710678118654755,0A7.0710678118654755,7.0710678118654755,0,1,1,7.0710678118654755,0\" fill=\"#4c78a8\" stroke-width=\"2\" opacity=\"1\"/><path aria-label=\"x1: 2.31483343905; x2: −1.56885337542; dataset: fmnist\" role=\"graphics-symbol\" aria-roledescription=\"circle\" transform=\"translate(415.74167195240955,339.07111461830175)\" d=\"M7.0710678118654755,0A7.0710678118654755,7.0710678118654755,0,1,1,-7.0710678118654755,0A7.0710678118654755,7.0710678118654755,0,1,1,7.0710678118654755,0\" fill=\"#4c78a8\" stroke-width=\"2\" opacity=\"1\"/><path aria-label=\"x1: −0.459856862406; x2: −0.231631037414; dataset: fmnist\" role=\"graphics-symbol\" aria-roledescription=\"circle\" transform=\"translate(277.00715687970325,227.6359197845012)\" d=\"M7.0710678118654755,0A7.0710678118654755,7.0710678118654755,0,1,1,-7.0710678118654755,0A7.0710678118654755,7.0710678118654755,0,1,1,7.0710678118654755,0\" fill=\"#4c78a8\" stroke-width=\"2\" opacity=\"1\"/><path aria-label=\"x1: 1.7921672343; x2: 2.00641599454; dataset: fmnist\" role=\"graphics-symbol\" aria-roledescription=\"circle\" transform=\"translate(389.6083617149082,41.132000454680515)\" d=\"M7.0710678118654755,0A7.0710678118654755,7.0710678118654755,0,1,1,-7.0710678118654755,0A7.0710678118654755,7.0710678118654755,0,1,1,7.0710678118654755,0\" fill=\"#4c78a8\" stroke-width=\"2\" opacity=\"1\"/><path aria-label=\"x1: 1.97212118193; x2: 1.948652969; dataset: fmnist\" role=\"graphics-symbol\" aria-roledescription=\"circle\" transform=\"translate(398.60605909637377,45.94558591629166)\" d=\"M7.0710678118654755,0A7.0710678118654755,7.0710678118654755,0,1,1,-7.0710678118654755,0A7.0710678118654755,7.0710678118654755,0,1,1,7.0710678118654755,0\" fill=\"#4c78a8\" stroke-width=\"2\" opacity=\"1\"/><path aria-label=\"x1: 0.309379324932; x2: −3.28876030374; dataset: fmnist\" role=\"graphics-symbol\" aria-roledescription=\"circle\" transform=\"translate(315.4689662466176,482.3966919779907)\" d=\"M7.0710678118654755,0A7.0710678118654755,7.0710678118654755,0,1,1,-7.0710678118654755,0A7.0710678118654755,7.0710678118654755,0,1,1,7.0710678118654755,0\" fill=\"#4c78a8\" stroke-width=\"2\" opacity=\"1\"/></g><g class=\"mark-group role-legend\" role=\"graphics-symbol\" aria-roledescription=\"legend\" aria-label=\"Symbol legend titled 'dataset' for fill color with 2 values: fmnist, mnist\"><g transform=\"translate(518,0)\"><path class=\"background\" aria-hidden=\"true\" d=\"M0,0h48v40h-48Z\" pointer-events=\"none\"/><g><g class=\"mark-group role-legend-entry\"><g transform=\"translate(0,16)\"><path class=\"background\" aria-hidden=\"true\" d=\"M0,0h0v0h0Z\" pointer-events=\"none\"/><g><g class=\"mark-group role-scope\" role=\"graphics-object\" aria-roledescription=\"group mark container\"><g transform=\"translate(0,0)\"><path class=\"background\" aria-hidden=\"true\" d=\"M0,0h48v11h-48Z\" pointer-events=\"none\" opacity=\"1\"/><g><g class=\"mark-symbol role-legend-symbol\" pointer-events=\"none\"><path transform=\"translate(6,6)\" d=\"M5,0A5,5,0,1,1,-5,0A5,5,0,1,1,5,0\" fill=\"#4c78a8\" stroke-width=\"1.5\" opacity=\"1\"/></g><g class=\"mark-text role-legend-label\" pointer-events=\"none\"><text text-anchor=\"start\" transform=\"translate(16,9)\" font-family=\"sans-serif\" font-size=\"10px\" fill=\"#000\" opacity=\"1\">fmnist</text></g></g><path class=\"foreground\" aria-hidden=\"true\" d=\"\" pointer-events=\"none\" display=\"none\"/></g><g transform=\"translate(0,13)\"><path class=\"background\" aria-hidden=\"true\" d=\"M0,0h48v11h-48Z\" pointer-events=\"none\" opacity=\"1\"/><g><g class=\"mark-symbol role-legend-symbol\" pointer-events=\"none\"><path transform=\"translate(6,6)\" d=\"M5,0A5,5,0,1,1,-5,0A5,5,0,1,1,5,0\" fill=\"#f58518\" stroke-width=\"1.5\" opacity=\"1\"/></g><g class=\"mark-text role-legend-label\" pointer-events=\"none\"><text text-anchor=\"start\" transform=\"translate(16,9)\" font-family=\"sans-serif\" font-size=\"10px\" fill=\"#000\" opacity=\"1\">mnist</text></g></g><path class=\"foreground\" aria-hidden=\"true\" d=\"\" pointer-events=\"none\" display=\"none\"/></g></g></g><path class=\"foreground\" aria-hidden=\"true\" d=\"\" pointer-events=\"none\" display=\"none\"/></g></g><g class=\"mark-text role-legend-title\" pointer-events=\"none\"><text text-anchor=\"start\" transform=\"translate(0,9)\" font-family=\"sans-serif\" font-size=\"11px\" font-weight=\"bold\" fill=\"#000\" opacity=\"1\">dataset</text></g></g><path class=\"foreground\" aria-hidden=\"true\" d=\"\" pointer-events=\"none\" display=\"none\"/></g></g></g><path class=\"foreground\" aria-hidden=\"true\" d=\"\" display=\"none\"/></g></g></g><defs><clipPath id=\"clip1\"><rect x=\"0\" y=\"0\" width=\"500\" height=\"500\"/></clipPath></defs></svg>\n"
      ],
      "text/plain": [
       "@vlplot(\n",
       "    data={\n",
       "        values=...\n",
       "    },\n",
       "    mark={\n",
       "        type=\"circle\",\n",
       "        size=200,\n",
       "        opacity=1\n",
       "    },\n",
       "    selection={\n",
       "        grid={\n",
       "            type=\"interval\",\n",
       "            resolve=\"global\",\n",
       "            bind=\"scales\",\n",
       "            translate=\"[mousedown[!event.shiftKey], window:mouseup] > window:mousemove!\",\n",
       "            zoom=\"wheel![!event.shiftKey]\"\n",
       "        }\n",
       "    },\n",
       "    height=500,\n",
       "    width=500,\n",
       "    encoding={\n",
       "        x={\n",
       "            type=\"quantitative\",\n",
       "            field=\"x1\"\n",
       "        },\n",
       "        y={\n",
       "            type=\"quantitative\",\n",
       "            field=\"x2\"\n",
       "        },\n",
       "        color={\n",
       "            type=\"nominal\",\n",
       "            field=\"dataset\"\n",
       "        }\n",
       "    }\n",
       ")"
      ]
     },
     "execution_count": 10,
     "metadata": {},
     "output_type": "execute_result"
    }
   ],
   "source": [
    "p1 =@vlplot(\"data\"=df,\n",
    "    mark={\"type\"=:circle,\"size\"=200,\"opacity\"=1},\n",
    "    selection={\"grid\"={\n",
    "    \"type\"=:interval,\n",
    "    \"resolve\"=:global,\n",
    "    \"bind\"=:scales,\n",
    "    \"translate\"=\"[mousedown[!event.shiftKey], window:mouseup] > window:mousemove!\",\n",
    "                \"zoom\"=\"wheel![!event.shiftKey]\"}},\n",
    "    x={:x1,\"type\"=\"quantitative\"},\n",
    "    y={:x2,\"type\"=\"quantitative\"},\n",
    "    color={:dataset, \"type\"=\"nominal\"},\"height\"=500,\"width\"=500)"
   ]
  },
  {
   "cell_type": "code",
   "execution_count": null,
   "id": "78280266-3d53-4d21-aecd-841f107bbcaf",
   "metadata": {},
   "outputs": [],
   "source": []
  }
 ],
 "metadata": {
  "kernelspec": {
   "display_name": "Julia 1.6.1",
   "language": "julia",
   "name": "julia-1.6"
  },
  "language_info": {
   "file_extension": ".jl",
   "mimetype": "application/julia",
   "name": "julia",
   "version": "1.6.1"
  }
 },
 "nbformat": 4,
 "nbformat_minor": 5
}
